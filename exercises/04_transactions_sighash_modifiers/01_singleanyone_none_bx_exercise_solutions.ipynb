{
 "cells": [
  {
   "cell_type": "markdown",
   "metadata": {},
   "source": [
    "# Sighash modifiers - BX Exercise\n",
    "In this exercise, we spend two p2pkh inputs to two p2pkh outputs.\n",
    "<br>The two inputs are signed with sighash modifiers `single|anyonecanpay` and `none`.\n",
    "<br>The second output is not endorsed by any of the two signers and can be added after signing.\n",
    "\n",
    "<br>\n",
    "<img src=\"images/transaction_singleany_none.jpg\" alt=\"drawing\" style=\"\" width=\"800px\"/>\n"
   ]
  },
  {
   "cell_type": "markdown",
   "metadata": {},
   "source": [
    "<hr style=\"border: 0.5px dashed #000;\">\n",
    "\n",
    "## 1. Restore wallet and generate spending key pairs.\n",
    "\n"
   ]
  },
  {
   "cell_type": "code",
   "execution_count": 1,
   "metadata": {},
   "outputs": [],
   "source": [
    "# my_mnemonic =\"word0 word1 word2 ...\"\n",
    "# hd_master_private=$( )\n",
    "# hd_master_public=$( )\n",
    "\n",
    "my_mnemonic=\"seven mail crash you unit small assume express wedding cloud work potato\"\n",
    "hd_master_private=$(bx mnemonic-to-seed $my_mnemonic | bx hd-new)\n",
    "hd_master_public=$(bx hd-to-public $hd_master_private)"
   ]
  },
  {
   "cell_type": "markdown",
   "metadata": {},
   "source": [
    "### Restore your spending keys.\n",
    "\n",
    "We will be spending the funds controlled by these keys from account 1. \n",
    "* `m/44'/1'/1'/0/1`\n",
    "* `m/44'/1'/1'/0/2`.\n"
   ]
  },
  {
   "cell_type": "code",
   "execution_count": 2,
   "metadata": {},
   "outputs": [
    {
     "name": "stdout",
     "output_type": "stream",
     "text": [
      "muBPAwp88gMt2SYL3bGH4iGMZEVJnCSSCt\n",
      "95de3558931973d6b1de16bd40603b7a1dce333a\n"
     ]
    }
   ],
   "source": [
    "# hd_m_44h_1h_1h_0_1=\n",
    "\n",
    "# privatekey_44h_1h_1h_0_1=\n",
    "# publickey_44h_1h_1h_0_1=\n",
    "# publickeyhash_44h_1h_1h_0_1=\n",
    "# address_44h_1h_1h_0_1=\n",
    "\n",
    "hd_m_44h_1h_1h_0_1=$(bx hd-private --hard --index 44 $hd_master_private \\\n",
    "| bx hd-private --hard --index 1  \\\n",
    "| bx hd-private --hard --index 1  \\\n",
    "| bx hd-private --index 0 \\\n",
    "| bx hd-private --index 1)\n",
    "\n",
    "privatekey_44h_1h_1h_0_1=$(bx hd-to-ec $hd_m_44h_1h_1h_0_1)\n",
    "publickey_44h_1h_1h_0_1=$(bx hd-to-public $hd_m_44h_1h_1h_0_1 | bx hd-to-ec)\n",
    "publickeyhash_44h_1h_1h_0_1=$(bx sha256 $publickey_44h_1h_1h_0_1 | bx ripemd160)\n",
    "address_44h_1h_1h_0_1=$(bx hd-to-public $hd_m_44h_1h_1h_0_1 | bx hd-to-ec | bx ec-to-address --version 111)\n",
    "\n",
    "echo $address_44h_1h_1h_0_1\n",
    "echo $publickeyhash_44h_1h_1h_0_1"
   ]
  },
  {
   "cell_type": "code",
   "execution_count": 3,
   "metadata": {},
   "outputs": [
    {
     "name": "stdout",
     "output_type": "stream",
     "text": [
      "mmBrsVffRJRyhRAFsR98j9eq6Ho9F1orhx\n",
      "3e3452fd45710186b8d5347dde09d1ae14e8d773\n"
     ]
    }
   ],
   "source": [
    "# hd_m_44h_1h_1h_0_2=\n",
    "\n",
    "# privatekey_44h_1h_1h_0_2=\n",
    "# publickey_44h_1h_1h_0_2=\n",
    "# publickeyhash_44h_1h_1h_0_2=\n",
    "# address_44h_1h_1h_0_2=\n",
    "\n",
    "hd_m_44h_1h_1h_0_2=$(bx hd-private --hard --index 44 $hd_master_private \\\n",
    "| bx hd-private --hard --index 1  \\\n",
    "| bx hd-private --hard --index 1  \\\n",
    "| bx hd-private --index 0 \\\n",
    "| bx hd-private --index 2)\n",
    "\n",
    "privatekey_44h_1h_1h_0_2=$(bx hd-to-ec $hd_m_44h_1h_1h_0_2)\n",
    "publickey_44h_1h_1h_0_2=$(bx hd-to-public $hd_m_44h_1h_1h_0_2 | bx hd-to-ec)\n",
    "publickeyhash_44h_1h_1h_0_2=$(bx sha256 $publickey_44h_1h_1h_0_2 | bx ripemd160)\n",
    "address_44h_1h_1h_0_2=$(bx hd-to-public $hd_m_44h_1h_1h_0_2 | bx hd-to-ec | bx ec-to-address --version 111)\n",
    "\n",
    "echo $address_44h_1h_1h_0_2\n",
    "echo $publickeyhash_44h_1h_1h_0_2"
   ]
  },
  {
   "cell_type": "markdown",
   "metadata": {},
   "source": [
    "### Fetch previous UTXO's you are spending."
   ]
  },
  {
   "cell_type": "code",
   "execution_count": 4,
   "metadata": {},
   "outputs": [
    {
     "name": "stdout",
     "output_type": "stream",
     "text": [
      "\u001b[1;39m{\n",
      "  \u001b[0m\u001b[34;1m\"address_hash\"\u001b[0m\u001b[1;39m: \u001b[0m\u001b[0;32m\"95de3558931973d6b1de16bd40603b7a1dce333a\"\u001b[0m\u001b[1;39m,\n",
      "  \u001b[0m\u001b[34;1m\"script\"\u001b[0m\u001b[1;39m: \u001b[0m\u001b[0;32m\"dup hash160 [95de3558931973d6b1de16bd40603b7a1dce333a] equalverify checksig\"\u001b[0m\u001b[1;39m,\n",
      "  \u001b[0m\u001b[34;1m\"value\"\u001b[0m\u001b[1;39m: \u001b[0m\u001b[0;32m\"499550\"\u001b[0m\u001b[1;39m\n",
      "\u001b[1;39m}\u001b[0m\n",
      "\u001b[1;39m{\n",
      "  \u001b[0m\u001b[34;1m\"address_hash\"\u001b[0m\u001b[1;39m: \u001b[0m\u001b[0;32m\"3e3452fd45710186b8d5347dde09d1ae14e8d773\"\u001b[0m\u001b[1;39m,\n",
      "  \u001b[0m\u001b[34;1m\"script\"\u001b[0m\u001b[1;39m: \u001b[0m\u001b[0;32m\"dup hash160 [3e3452fd45710186b8d5347dde09d1ae14e8d773] equalverify checksig\"\u001b[0m\u001b[1;39m,\n",
      "  \u001b[0m\u001b[34;1m\"value\"\u001b[0m\u001b[1;39m: \u001b[0m\u001b[0;32m\"499550\"\u001b[0m\u001b[1;39m\n",
      "\u001b[1;39m}\u001b[0m\n"
     ]
    }
   ],
   "source": [
    "# bx fetch-tx [transaction_hash] -f json | jq \".transaction.outputs[output_index_0]\"\n",
    "# bx fetch-tx [transaction_hash] -f json | jq \".transaction.outputs[output_index_1]\"\n",
    "\n",
    "bx fetch-tx 11a8587f5077fc7f69e3349797fd74f99864d27716d6b48ac51734cb3bec03ea -f json | jq \".transaction.outputs[1]\"\n",
    "bx fetch-tx 11a8587f5077fc7f69e3349797fd74f99864d27716d6b48ac51734cb3bec03ea -f json | jq \".transaction.outputs[2]\""
   ]
  },
  {
   "cell_type": "code",
   "execution_count": 5,
   "metadata": {},
   "outputs": [],
   "source": [
    "# previous_txid0=\n",
    "# previous_output_index0=\n",
    "# previous_output_amount0=\n",
    "\n",
    "# previous_txid1=\n",
    "# previous_output_index1=\n",
    "# previous_output_amount1=\n",
    "\n",
    "previous_txid0=11a8587f5077fc7f69e3349797fd74f99864d27716d6b48ac51734cb3bec03ea\n",
    "previous_output_index0=1\n",
    "previous_output_amount0=499550\n",
    "\n",
    "previous_txid1=11a8587f5077fc7f69e3349797fd74f99864d27716d6b48ac51734cb3bec03ea\n",
    "previous_output_index1=2\n",
    "previous_output_amount1=499550"
   ]
  },
  {
   "cell_type": "markdown",
   "metadata": {},
   "source": [
    "## 2. Sign first input and output with `single|anyonecanpay`"
   ]
  },
  {
   "cell_type": "markdown",
   "metadata": {},
   "source": [
    "### A. Create first  P2PKH output script.\n",
    "\n",
    "* Please send testnet coins to the following address: `n2MBcctgzBt1h8Nvfu3XAEPJLrmWET7emw`"
   ]
  },
  {
   "cell_type": "code",
   "execution_count": 6,
   "metadata": {},
   "outputs": [
    {
     "name": "stdout",
     "output_type": "stream",
     "text": [
      "wrapper\n",
      "{\n",
      "    checksum 1390456416\n",
      "    payload e48199d47742b245464b1366d95ef26aa4c8bb2c\n",
      "    version 111\n",
      "}\n"
     ]
    }
   ],
   "source": [
    "# bx decode-address n2MBcctgzBt1h8Nvfu3XAEPJLrmWET7emw\n",
    "bx address-decode n2MBcctgzBt1h8Nvfu3XAEPJLrmWET7emw"
   ]
  },
  {
   "cell_type": "code",
   "execution_count": null,
   "metadata": {},
   "outputs": [],
   "source": [
    "# bx script-encode \"DUP HASH160 [public key hash] EQUALVERIFY CHECKSIG\"\n",
    "\n",
    "# output_script0=\n",
    "\n",
    "output_script0=$(bx script-encode \"DUP HASH160 [\"e48199d47742b245464b1366d95ef26aa4c8bb2c\"] EQUALVERIFY CHECKSIG\")\n",
    "echo $output_script0"
   ]
  },
  {
   "cell_type": "markdown",
   "metadata": {},
   "source": [
    "### B. Set output amount equal to UTXO value.\n",
    "* Fees will be later be deducted from second output at index 1."
   ]
  },
  {
   "cell_type": "code",
   "execution_count": null,
   "metadata": {},
   "outputs": [],
   "source": [
    "# Output amount total.\n",
    "\n",
    "# output_amount0=\n",
    "\n",
    "output_amount0=$previous_output_amount0\n",
    "echo $output_amount0\n"
   ]
  },
  {
   "cell_type": "markdown",
   "metadata": {},
   "source": [
    "### C. Construct transaction template for signing input and outputs at index 0.\n",
    "\n",
    "* `sequence: 0xffffffff(hex)/4294967295(dec)`"
   ]
  },
  {
   "cell_type": "code",
   "execution_count": null,
   "metadata": {},
   "outputs": [],
   "source": [
    "# bx tx-encode \\\n",
    "# --input [previous tx id]:[index]:[sequence] \\\n",
    "# --output [output script]:[output amount]\n",
    "\n",
    "#my_tx0=\n",
    "\n",
    "my_tx0=$(bx tx-encode \\\n",
    "--input $previous_txid0:$previous_output_index0:4294967295 \\\n",
    "--output $output_script0:$output_amount0)\n",
    "\n",
    "echo $my_tx0"
   ]
  },
  {
   "cell_type": "markdown",
   "metadata": {},
   "source": [
    "### E. Fetch previous output script which first input is spending"
   ]
  },
  {
   "cell_type": "code",
   "execution_count": null,
   "metadata": {},
   "outputs": [],
   "source": [
    "# bx fetch-tx --format json [previous tx id] \n",
    "\n",
    "#previous_output_script0=\n",
    "\n",
    "previous_output_script0=$(bx fetch-tx --format json $previous_txid0 \\\n",
    "| jq -r \".transaction.outputs[1].script\")\n",
    "\n",
    "echo $previous_output_script0"
   ]
  },
  {
   "cell_type": "markdown",
   "metadata": {},
   "source": [
    "### F. Sign transaction with `single|anyonecanpay`"
   ]
  },
  {
   "cell_type": "code",
   "execution_count": null,
   "metadata": {},
   "outputs": [],
   "source": [
    "# bx input-sign --sign_type [all|none|single] (--anyone) [private key] \"previous output script\" [transaction template]\n",
    "\n",
    "#signature0=\n",
    "\n",
    "signature0=$(bx input-sign --sign_type single --anyone --index 0 $privatekey_44h_1h_1h_0_1 \"$previous_output_script0\" $my_tx0)\n",
    "echo $signature0\n"
   ]
  },
  {
   "cell_type": "markdown",
   "metadata": {},
   "source": [
    "## 3. Sign second input with `none|anyonecanpay`\n"
   ]
  },
  {
   "cell_type": "markdown",
   "metadata": {},
   "source": [
    "### A. Construct transaction template with both inputs and the first output."
   ]
  },
  {
   "cell_type": "code",
   "execution_count": null,
   "metadata": {},
   "outputs": [],
   "source": [
    "#my_tx1=\n",
    "\n",
    "my_tx1=$(bx tx-encode \\\n",
    "--input $previous_txid0:$previous_output_index0:4294967295 \\\n",
    "--input $previous_txid1:$previous_output_index1:4294967295 \\\n",
    "--output $output_script0:$output_amount0)\n",
    "\n",
    "echo $my_tx1"
   ]
  },
  {
   "cell_type": "markdown",
   "metadata": {},
   "source": [
    "### B. Fetch previous output script which second input is spending."
   ]
  },
  {
   "cell_type": "code",
   "execution_count": null,
   "metadata": {},
   "outputs": [],
   "source": [
    "# bx fetch-tx --format json [previous tx id] \n",
    "\n",
    "# previous_output_script1=\n",
    "\n",
    "previous_output_script1=$(bx fetch-tx --format json $previous_txid0 \\\n",
    "| jq -r \".transaction.outputs[2].script\")\n",
    "\n",
    "echo $previous_output_script1\n"
   ]
  },
  {
   "cell_type": "code",
   "execution_count": null,
   "metadata": {},
   "outputs": [],
   "source": [
    "# bx input-sign [private key] \"previous output script\" [transaction template]\n",
    "\n",
    "# signature1=\n",
    "\n",
    "signature1=$(bx input-sign --sign_type none --anyone --index 1 $privatekey_44h_1h_1h_0_2 \"$previous_output_script1\" $my_tx1)\n",
    "echo $signature1"
   ]
  },
  {
   "cell_type": "markdown",
   "metadata": {},
   "source": [
    "# 4. Finalise transaction."
   ]
  },
  {
   "cell_type": "markdown",
   "metadata": {},
   "source": [
    "### A. Create second P2PKH output script\n",
    "\n",
    "* Please send testnet coins to the following address: `n2MBcctgzBt1h8Nvfu3XAEPJLrmWET7emw`"
   ]
  },
  {
   "cell_type": "code",
   "execution_count": null,
   "metadata": {},
   "outputs": [],
   "source": [
    "# bx script-encode \"DUP HASH160 [public key hash] EQUALVERIFY CHECKSIG\"\n",
    "\n",
    "# output_script1=\n",
    "\n",
    "output_script1=$(bx script-encode \"DUP HASH160 [\"e48199d47742b245464b1366d95ef26aa4c8bb2c\"] EQUALVERIFY CHECKSIG\")\n",
    "echo $output_script1\n"
   ]
  },
  {
   "cell_type": "markdown",
   "metadata": {},
   "source": [
    "### B. Compute second output amount.\n",
    "* Fees will be subtracted from 2nd output."
   ]
  },
  {
   "cell_type": "code",
   "execution_count": null,
   "metadata": {},
   "outputs": [],
   "source": [
    "# tx bytes: 4 + 1 + 2*(32+4+1+1+72+1+33+4) + 1 + 2*(8+1+25) + 4 \n",
    "\n",
    "# tx_byte_count=\n",
    "\n",
    "tx_byte_count=$(expr 4 + 1 + 2 \\* 148 + 1 + 2 \\* 34 + 4)\n",
    "echo $tx_byte_count\n"
   ]
  },
  {
   "cell_type": "code",
   "execution_count": null,
   "metadata": {},
   "outputs": [],
   "source": [
    "# Second output amount total.\n",
    "\n",
    "# output_amount1=\n",
    "\n",
    "output_amount1=$(expr $previous_output_amount1 - 2 \\* 400 - $tx_byte_count \\* 1)\n",
    "echo $output_amount1\n"
   ]
  },
  {
   "cell_type": "markdown",
   "metadata": {},
   "source": [
    "### C. Construct final transaction\n",
    "* First re-encode transaction with all in and outputs."
   ]
  },
  {
   "cell_type": "code",
   "execution_count": null,
   "metadata": {},
   "outputs": [],
   "source": [
    "# bx tx-encode \\\n",
    "# --input [previous tx id]:[index]:[sequence] \\\n",
    "# --output [output script]:[output amount]\n",
    "\n",
    "#my_tx_final=\n",
    "\n",
    "my_tx_final=$(bx tx-encode \\\n",
    "--input $previous_txid0:$previous_output_index0:4294967295 \\\n",
    "--input $previous_txid1:$previous_output_index1:4294967295 \\\n",
    "--output $output_script0:$output_amount0 \\\n",
    "--output $output_script1:$output_amount1)\n"
   ]
  },
  {
   "cell_type": "markdown",
   "metadata": {},
   "source": [
    "* Set input scripts into the final transaction."
   ]
  },
  {
   "cell_type": "code",
   "execution_count": null,
   "metadata": {},
   "outputs": [],
   "source": [
    "# bx input-set --index 0 \"[signature] [public key point]\" [transaction template]\n",
    "# bx input-set --index 1 \"[signature] [public key point]\" [transaction template]\n",
    "\n",
    "# my_tx_final=\n",
    "\n",
    "my_tx_final=$(bx input-set --index 0 \"[$signature0] [$publickey_44h_1h_1h_0_1]\" $my_tx_final)\n",
    "my_tx_final=$(bx input-set --index 1 \"[$signature1] [$publickey_44h_1h_1h_0_2]\" $my_tx_final)\n"
   ]
  },
  {
   "cell_type": "code",
   "execution_count": null,
   "metadata": {},
   "outputs": [],
   "source": [
    "# Validate.\n",
    "bx validate-tx $my_tx_final\n",
    "echo $my_tx_final"
   ]
  }
 ],
 "metadata": {
  "kernelspec": {
   "display_name": "Bash",
   "language": "bash",
   "name": "bash"
  },
  "language_info": {
   "codemirror_mode": "shell",
   "file_extension": ".sh",
   "mimetype": "text/x-sh",
   "name": "bash"
  }
 },
 "nbformat": 4,
 "nbformat_minor": 2
}
