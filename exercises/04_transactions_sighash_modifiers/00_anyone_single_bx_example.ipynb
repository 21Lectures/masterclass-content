{
 "cells": [
  {
   "cell_type": "markdown",
   "metadata": {},
   "source": [
    "# A Non-Interactive Coinjoin - BX Example\n",
    "\n",
    "<br>\n",
    "<img src=\"images/transaction_singleany.jpg\" alt=\"drawing\" style=\"\" width=\"800px\"/>\n",
    "\n"
   ]
  },
  {
   "cell_type": "markdown",
   "metadata": {},
   "source": [
    "<hr style=\"border: 0.5px dashed #000;\">\n",
    "\n",
    "## 1. Setup wallet and test funds.\n",
    "\n",
    "<br>\n",
    "\n",
    "### Recreate keys which control spendable funds: `m/44'/1'/1'/0/1 ... m/44'/1'/1'/0/6`"
   ]
  },
  {
   "cell_type": "code",
   "execution_count": null,
   "metadata": {},
   "outputs": [],
   "source": [
    "my_mnemonic=\"\"\n",
    "hd_master_private=$(bx mnemonic-to-seed $my_mnemonic | bx hd-new)\n",
    "hd_master_public=$(bx hd-to-public $hd_master_private)\n",
    "\n",
    "# We will send funds from keys in account 1.\n",
    "\n",
    "# Account 1 receiving parent: m/44'/1'/1'/0.\n",
    "hd_m_44h_1h_1h_0=$(bx hd-private --hard --index 44 $hd_master_private \\\n",
    "| bx hd-private --hard --index 1  \\\n",
    "| bx hd-private --hard --index 1  \\\n",
    "| bx hd-private --index 0)\n",
    "\n",
    "# Derive first two keys from account 1 with spendable funds (P2PKH outputs).\n",
    "\n",
    "# Alice sends from this: m/44'/1'/1'/0/1\n",
    "hd_m_44h_1h_0h_0_1=$(bx hd-private --index 1 $hd_m_44h_1h_1h_0)\n",
    "privatekey_44h_1h_1h_0_1=$(bx hd-to-ec $hd_m_44h_1h_0h_0_1)\n",
    "publickey_44h_1h_1h_0_1=$(bx hd-to-public $hd_m_44h_1h_0h_0_1 | bx hd-to-ec)\n",
    "\n",
    "# Bob sends from this: m/44'/1'/1'/0/2\n",
    "hd_m_44h_1h_0h_0_2=$(bx hd-private --index 2 $hd_m_44h_1h_1h_0)\n",
    "privatekey_44h_1h_1h_0_2=$(bx hd-to-ec $hd_m_44h_1h_0h_0_2)\n",
    "publickey_44h_1h_1h_0_2=$(bx hd-to-public $hd_m_44h_1h_0h_0_2 | bx hd-to-ec)\n"
   ]
  },
  {
   "cell_type": "markdown",
   "metadata": {},
   "source": [
    "### Note the UTXO's we will be spending from.\n"
   ]
  },
  {
   "cell_type": "code",
   "execution_count": null,
   "metadata": {},
   "outputs": [],
   "source": [
    "# All spendable outputs are in same tx.\n",
    "previous_txid=d4e68f7e163de4c31c6d4d75a38daa015a968371c1a94e2a182e29002235a168\n",
    "\n",
    "# Alice's UTXO:\n",
    "previous_output_index_alice=0\n",
    "previous_output_amount_alice=1964541\n",
    "\n",
    "# Bob's UTXO:\n",
    "previous_output_index_bob=1\n",
    "previous_output_amount_bob=1964541\n",
    "\n",
    "# For later fee calcuation:\n",
    "total_previous_output_amount=$(expr $previous_output_amount_alice + $previous_output_amount_bob)"
   ]
  },
  {
   "cell_type": "markdown",
   "metadata": {},
   "source": [
    "### Derive destination keys to send funds to."
   ]
  },
  {
   "cell_type": "code",
   "execution_count": null,
   "metadata": {},
   "outputs": [],
   "source": [
    "# We will send funds to keys in account 2.\n",
    "\n",
    "# Account 2 receiving parent: m/44'/1'/2'/0.\n",
    "hd_m_44h_1h_2h_0=$(bx hd-private --hard --index 44 $hd_master_private \\\n",
    "| bx hd-private --hard --index 1  \\\n",
    "| bx hd-private --hard --index 2  \\\n",
    "| bx hd-private --index 0)\n",
    "\n",
    "# Alice sends to this.\n",
    "hd_m_44h_1h_2h_0_0=$(bx hd-private --index 0 $hd_m_44h_1h_2h_0)\n",
    "publickeyhash_44h_1h_2h_0_0=$(bx hd-to-public $hd_m_44h_1h_2h_0_0 | bx hd-to-ec | bx sha256 | bx ripemd160)\n",
    "\n",
    "# Bob sends to this.\n",
    "hd_m_44h_1h_2h_0_1=$(bx hd-private --index 1 $hd_m_44h_1h_2h_0)\n",
    "publickeyhash_44h_1h_2h_0_1=$(bx hd-to-public $hd_m_44h_1h_2h_0_1 | bx hd-to-ec | bx sha256 | bx ripemd160)\n"
   ]
  },
  {
   "cell_type": "markdown",
   "metadata": {},
   "source": [
    "## 2. Alice signs with ANYONECANPAY | SINGLE"
   ]
  },
  {
   "cell_type": "markdown",
   "metadata": {},
   "source": [
    "**Alice creates p2pkh output script.**"
   ]
  },
  {
   "cell_type": "code",
   "execution_count": null,
   "metadata": {},
   "outputs": [],
   "source": [
    "output_script_alice=$(bx script-encode \"DUP HASH160 [\"$publickeyhash_44h_1h_2h_0_0\"] EQUALVERIFY CHECKSIG\")\n"
   ]
  },
  {
   "cell_type": "markdown",
   "metadata": {},
   "source": [
    "**Alice computes output amounts and fee.**\n",
    "\n",
    "* Alice and Bob will send to outputs of equal amounts.\n",
    "* Alice will compute single output amount, taking fee into consideration."
   ]
  },
  {
   "cell_type": "code",
   "execution_count": null,
   "metadata": {},
   "outputs": [],
   "source": [
    "# tx bytes: 4 + 1 + 2*(32+4+110+4) + 1 + 2*(8+33) + 4 = 392\n",
    "\n",
    "tx_byte_count=$(expr 4 + 1 + 2 \\* 150 + 1 + 2 \\* 41 + 4)\n",
    "total_output_amount=$(expr $total_previous_output_amount - 6 \\* 400 - $tx_byte_count \\* 1)\n",
    "single_output_amount=$(expr $total_output_amount / 2)\n"
   ]
  },
  {
   "cell_type": "markdown",
   "metadata": {},
   "source": [
    "**Alice creates transaction template for signing.**"
   ]
  },
  {
   "cell_type": "code",
   "execution_count": null,
   "metadata": {},
   "outputs": [],
   "source": [
    "# Transaction for Alice to sign.\n",
    "\n",
    "tx_alice=$(bx tx-encode \\\n",
    "--input $previous_txid:$previous_output_index_alice:4294967295 \\\n",
    "--output $output_script_alice:$single_output_amount) \n"
   ]
  },
  {
   "cell_type": "markdown",
   "metadata": {},
   "source": [
    "**Alice signs transaction.**"
   ]
  },
  {
   "cell_type": "code",
   "execution_count": null,
   "metadata": {},
   "outputs": [],
   "source": [
    "previous_decoded_output_script_alice=$(bx fetch-tx --format json $previous_txid \\\n",
    "| jq -r \".transaction.outputs[$previous_output_index_alice].script\")\n"
   ]
  },
  {
   "cell_type": "code",
   "execution_count": null,
   "metadata": {},
   "outputs": [],
   "source": [
    "endorsement_alice=$(bx input-sign --index 0 --anyone --sign_type single \\\n",
    "$privatekey_44h_1h_1h_0_1 \\\n",
    "\"$previous_decoded_output_script_alice\" \\\n",
    "$tx_alice)\n"
   ]
  },
  {
   "cell_type": "code",
   "execution_count": null,
   "metadata": {},
   "outputs": [],
   "source": [
    "tx_alice=$(bx input-set --index 0 \\\n",
    "\"[$endorsement_alice] [$publickey_44h_1h_1h_0_1]\" \\\n",
    "$tx_alice)\n"
   ]
  },
  {
   "cell_type": "markdown",
   "metadata": {},
   "source": [
    "## 3. Bob signs with ANYONECANPAY | SINGLE"
   ]
  },
  {
   "cell_type": "markdown",
   "metadata": {},
   "source": [
    "**Bob creates p2pkh output script.**"
   ]
  },
  {
   "cell_type": "code",
   "execution_count": null,
   "metadata": {},
   "outputs": [],
   "source": [
    "output_script_bob=$(bx script-encode \"DUP HASH160 [\"$publickeyhash_44h_1h_2h_0_1\"] EQUALVERIFY CHECKSIG\")\n"
   ]
  },
  {
   "cell_type": "markdown",
   "metadata": {},
   "source": [
    "**Bob creates transaction template, with placeholders at index 0.**"
   ]
  },
  {
   "cell_type": "code",
   "execution_count": null,
   "metadata": {},
   "outputs": [],
   "source": [
    "# Transaction template must include placeholder input/output,\n",
    "# ...since Bob's later endorsement commits to index 1.\n",
    "\n",
    "tx_bob=$(bx tx-encode \\\n",
    "--input 0000000000000000000000000000000000000000000000000000000000000000:0:4294967295 \\\n",
    "--input $previous_txid:$previous_output_index_bob:4294967295 \\\n",
    "--output 00:0 \\\n",
    "--output $output_script_bob:$single_output_amount) \n"
   ]
  },
  {
   "cell_type": "markdown",
   "metadata": {},
   "source": [
    "**Bob signs his transaction.**"
   ]
  },
  {
   "cell_type": "code",
   "execution_count": null,
   "metadata": {},
   "outputs": [],
   "source": [
    "previous_decoded_output_script_bob=$(bx fetch-tx --format json $previous_txid \\\n",
    "| jq -r \".transaction.outputs[$previous_output_index_bob].script\")\n"
   ]
  },
  {
   "cell_type": "code",
   "execution_count": null,
   "metadata": {},
   "outputs": [],
   "source": [
    "# Sign input at index 1.\n",
    "endorsement_bob=$(bx input-sign --index 1 --anyone --sign_type single \\\n",
    "$privatekey_44h_1h_1h_0_2 \\\n",
    "\"$previous_decoded_output_script_bob\" \\\n",
    "$tx_bob)\n"
   ]
  },
  {
   "cell_type": "code",
   "execution_count": null,
   "metadata": {},
   "outputs": [],
   "source": [
    "# Input 0: Input script is left empty.\n",
    "# Input 1: Set Bob's input script.\n",
    "tx_bob=$(bx input-set --index 1 \"[$endorsement_bob] [$publickey_44h_1h_1h_0_2]\" $tx_bob)\n"
   ]
  },
  {
   "cell_type": "markdown",
   "metadata": {},
   "source": [
    "## 3. Charlie combines Alice's and Bob's transaction data."
   ]
  },
  {
   "cell_type": "markdown",
   "metadata": {},
   "source": [
    "**Charlie extracts transaction elements from Alice.**"
   ]
  },
  {
   "cell_type": "code",
   "execution_count": null,
   "metadata": {
    "scrolled": true
   },
   "outputs": [],
   "source": [
    "tx_alice=$(bx tx-decode --format json $tx_alice)\n",
    "\n",
    "tx_alice_version=$(echo $tx_alice | jq -r \".transaction.version\")\n",
    "tx_alice_inputs=$(echo $tx_alice | jq \".transaction.inputs\")\n",
    "tx_alice_input0=$(echo $tx_alice_inputs | jq \".[0]\")\n",
    "tx_alice_input0_prev_hash=$(echo $tx_alice_input0 | jq -r \".previous_output.hash\")\n",
    "tx_alice_input0_prev_index=$(echo $tx_alice_input0 | jq -r \".previous_output.index\")\n",
    "tx_alice_input0_script=$(echo $tx_alice_input0 | jq -r \".script\")\n",
    "tx_alice_input0_sequence=$(echo $tx_alice_input0 | jq -r \".sequence\")\n",
    "tx_alice_outputs=$(echo $tx_alice | jq \".transaction.outputs\")\n",
    "tx_alice_output0=$(echo $tx_alice_outputs | jq -r \".[0]\")\n",
    "tx_alice_output0_script=$(echo $tx_alice_output0 | jq -r \".script\" | bx script-encode)\n",
    "tx_alice_output0_value=$(echo $tx_alice_output0 | jq -r \".value\")\n",
    "tx_alice_locktime=$(echo $tx_alice | jq -r \".transaction.lock_time\")\n"
   ]
  },
  {
   "cell_type": "markdown",
   "metadata": {},
   "source": [
    "**Charlie extracts transaction elements from Bob.**"
   ]
  },
  {
   "cell_type": "code",
   "execution_count": null,
   "metadata": {},
   "outputs": [],
   "source": [
    "tx_bob=$(bx tx-decode --format json $tx_bob)\n",
    "\n",
    "tx_bob_version=$(echo $tx_bob | jq -r \".transaction.version\")\n",
    "tx_bob_inputs=$(echo $tx_bob | jq \".transaction.inputs\")\n",
    "tx_bob_input1=$(echo $tx_bob_inputs | jq \".[1]\")\n",
    "tx_bob_input1_prev_hash=$(echo $tx_bob_input1 | jq -r \".previous_output.hash\")\n",
    "tx_bob_input1_prev_index=$(echo $tx_bob_input1 | jq -r \".previous_output.index\")\n",
    "tx_bob_input1_script=$(echo $tx_bob_input1 | jq -r \".script\")\n",
    "tx_bob_input1_sequence=$(echo $tx_bob_input1 | jq -r \".sequence\")\n",
    "tx_bob_outputs=$(echo $tx_bob | jq \".transaction.outputs\")\n",
    "tx_bob_output1=$(echo $tx_bob_outputs | jq -r \".[1]\")\n",
    "tx_bob_output1_script=$(echo $tx_bob_output1 | jq -r \".script\" | bx script-encode)\n",
    "tx_bob_output1_value=$(echo $tx_bob_output1 | jq -r \".value\")\n",
    "tx_bob_locktime=$(echo $tx_bob | jq -r \".transaction.lock_time\")\n"
   ]
  },
  {
   "cell_type": "markdown",
   "metadata": {},
   "source": [
    "**Charlie creates a combined transaction.**\n",
    "\n",
    "* Input and outputs remain at the same index (committed to by Alice's and Bob's endorsements)"
   ]
  },
  {
   "cell_type": "code",
   "execution_count": null,
   "metadata": {},
   "outputs": [],
   "source": [
    "# Assume:\n",
    "# tx_a.version = tx_b.version\n",
    "# tx_a.locktime = tx_b.locktime\n",
    "\n",
    "tx_joined=$(bx tx-encode \\\n",
    "--version $tx_alice_version \\\n",
    "--input $tx_alice_input0_prev_hash:$tx_alice_input0_prev_index:$tx_alice_input0_sequence \\\n",
    "--input $tx_bob_input1_prev_hash:$tx_bob_input1_prev_index:$tx_bob_input1_sequence \\\n",
    "--output $tx_alice_output0_script:$tx_alice_output0_value \\\n",
    "--output $tx_bob_output1_script:$tx_bob_output1_value \\\n",
    "--lock_time $tx_alice_locktime)\n"
   ]
  },
  {
   "cell_type": "code",
   "execution_count": null,
   "metadata": {},
   "outputs": [],
   "source": [
    "# Set inputs into combined transaction.\n",
    "tx_joined=$(bx input-set \"$tx_alice_input0_script\" $tx_joined)\n",
    "tx_joined=$(bx input-set --index 1 \"$tx_bob_input1_script\" $tx_joined)\n"
   ]
  },
  {
   "cell_type": "code",
   "execution_count": null,
   "metadata": {},
   "outputs": [],
   "source": [
    "bx validate-tx $tx_joined\n",
    "echo $tx_joined"
   ]
  }
 ],
 "metadata": {
  "kernelspec": {
   "display_name": "Bash",
   "language": "bash",
   "name": "bash"
  },
  "language_info": {
   "codemirror_mode": "shell",
   "file_extension": ".sh",
   "mimetype": "text/x-sh",
   "name": "bash"
  }
 },
 "nbformat": 4,
 "nbformat_minor": 2
}
