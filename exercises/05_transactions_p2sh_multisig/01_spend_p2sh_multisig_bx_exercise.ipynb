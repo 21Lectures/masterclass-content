{
 "cells": [
  {
   "cell_type": "markdown",
   "metadata": {},
   "source": [
    "# Spending a P2SH(Multisig) - BX Exercise\n",
    "In this exercise, we spend a p2sh(multisig) input to a p2pkh address."
   ]
  },
  {
   "cell_type": "markdown",
   "metadata": {},
   "source": [
    "<hr style=\"border: 0.5px dashed #000;\">\n",
    "\n",
    "## 1. Restore wallet and generate spending key pairs.\n"
   ]
  },
  {
   "cell_type": "code",
   "execution_count": null,
   "metadata": {},
   "outputs": [],
   "source": [
    "## my_mnemonic =\"word0 word1 word2 ...\"\n",
    "# hd_master_private=$( )\n",
    "# hd_master_public=$( )\n",
    "\n",
    "my_mnemonic=\"seven mail crash you unit small assume express wedding cloud work potato\"\n",
    "hd_master_private=$(bx mnemonic-to-seed $my_mnemonic | bx hd-new)\n",
    "hd_master_public=$(bx hd-to-public $hd_master_private)\n"
   ]
  },
  {
   "cell_type": "markdown",
   "metadata": {},
   "source": [
    "### Retore the three multisig key pairs from our 3rd wallet account.\n",
    "\n",
    "We will be spending a 2-of-3 output script controlled by these keys.\n",
    "\n",
    "* `m/44'/1'/2'/0/0`\n",
    "* `m/44'/1'/2'/0/1`\n",
    "* `m/44'/1'/2'/0/2`"
   ]
  },
  {
   "cell_type": "code",
   "execution_count": null,
   "metadata": {},
   "outputs": [],
   "source": [
    "# privatekey_44h_1h_2h_0_0=\n",
    "# publickey_44h_1h_2h_0_0=\n",
    "\n",
    "# privatekey_44h_1h_2h_0_1=\n",
    "# publickey_44h_1h_2h_0_1=\n",
    "\n",
    "# privatekey_44h_1h_2h_0_2=\n",
    "# publickey_44h_1h_2h_0_2=\n",
    "\n",
    "\n"
   ]
  },
  {
   "cell_type": "markdown",
   "metadata": {},
   "source": [
    "### Fetch previous UTXO's you are spending."
   ]
  },
  {
   "cell_type": "code",
   "execution_count": null,
   "metadata": {},
   "outputs": [],
   "source": [
    "# bx fetch-tx [transaction_hash] -f json | jq \".transaction.outputs[output_index]\"\n",
    "\n"
   ]
  },
  {
   "cell_type": "code",
   "execution_count": null,
   "metadata": {},
   "outputs": [],
   "source": [
    "# previous_txid=\n",
    "# previous_output_index=\n",
    "# previous_output_amount=\n",
    "\n"
   ]
  },
  {
   "cell_type": "markdown",
   "metadata": {},
   "source": [
    "## 2. Sign input and output."
   ]
  },
  {
   "cell_type": "markdown",
   "metadata": {},
   "source": [
    "### A. Encode p2pkh output script.\n",
    "* Please spend testnet coins to p2pkh address `n2MBcctgzBt1h8Nvfu3XAEPJLrmWET7emw`\n"
   ]
  },
  {
   "cell_type": "code",
   "execution_count": null,
   "metadata": {},
   "outputs": [],
   "source": [
    "# Decode address for public key hash.\n",
    "\n"
   ]
  },
  {
   "cell_type": "markdown",
   "metadata": {},
   "source": [
    "* Encode p2pkh(`n2MBcctgzBt1h8Nvfu3XAEPJLrmWET7emw`) script."
   ]
  },
  {
   "cell_type": "code",
   "execution_count": null,
   "metadata": {},
   "outputs": [],
   "source": [
    "# output_script=\n",
    "\n"
   ]
  },
  {
   "cell_type": "markdown",
   "metadata": {},
   "source": [
    "### B. Compute output value\n",
    "\n",
    "* **Subtract minimum fee, which consists of:**\n",
    "    * Example minimum fee levels: `100 sat / sigop + 1 sat / byte`\n",
    "    * This is node policy. \n",
    "\n",
    "\n",
    "* **Transaction sigop count computation:**\n",
    "    * Counted as 1 sigop: `checksig`,`checksigverify`\n",
    "    * Counted as 20 sigops: `checkmultisig`, `checkmultisigverify`\n",
    "    * *Non-segwit:*\n",
    "        * Transaction sigop count is multiplied by 4x.\n",
    "        * Output vs Input sigops: \n",
    "            * All sigops in the output script are counted.\n",
    "            * P2SH Redeemscript input sigops are counted.\n",
    "      "
   ]
  },
  {
   "cell_type": "code",
   "execution_count": null,
   "metadata": {},
   "outputs": [],
   "source": [
    "# tx bytes: 4 + 1 + 1*(32+4+(1+72+72+(1+23))+4) + 1 + 1*(8+1+25) + 4 \n",
    "\n",
    "# tx_byte_count=\n",
    "\n"
   ]
  },
  {
   "cell_type": "code",
   "execution_count": null,
   "metadata": {},
   "outputs": [],
   "source": [
    "# Output amount total.\n",
    "\n",
    "# output_amount=\n",
    "\n"
   ]
  },
  {
   "cell_type": "markdown",
   "metadata": {},
   "source": [
    "### C. Construct Transaction\n"
   ]
  },
  {
   "cell_type": "code",
   "execution_count": null,
   "metadata": {},
   "outputs": [],
   "source": [
    "# bx tx-encode \\\n",
    "# --input [previous tx id]:[index]:[sequence] \\\n",
    "# --output [output script]:[output amount]\n",
    "\n",
    "# my_tx=\n",
    "\n"
   ]
  },
  {
   "cell_type": "markdown",
   "metadata": {},
   "source": [
    "### D. Sign transaction & finalise transaction."
   ]
  },
  {
   "cell_type": "markdown",
   "metadata": {},
   "source": [
    "**Fetch previous output script.**"
   ]
  },
  {
   "cell_type": "code",
   "execution_count": null,
   "metadata": {},
   "outputs": [],
   "source": [
    "# Common Gotcha. Previous output script not previous p2sh output, but p2sh embedded script.\n",
    "\n",
    "# previous_output_script=\n",
    "\n"
   ]
  },
  {
   "cell_type": "markdown",
   "metadata": {},
   "source": [
    "**Sign transaction with private keys ``**\n",
    "\n",
    "* private key `/44'/1'/2'/0/0`\n",
    "* private key `/44'/1'/2'/0/1`\n",
    "* private key `/44'/1'/2'/0/2`"
   ]
  },
  {
   "cell_type": "code",
   "execution_count": null,
   "metadata": {},
   "outputs": [],
   "source": [
    "# bx input-sign [private key] \"previous output script\" [transaction template]\n",
    "\n",
    "# signature0=\n",
    "# signature1=\n",
    "# signature2=\n",
    "\n"
   ]
  },
  {
   "cell_type": "markdown",
   "metadata": {},
   "source": [
    "**Set input into finalised transaction**"
   ]
  },
  {
   "cell_type": "code",
   "execution_count": null,
   "metadata": {},
   "outputs": [],
   "source": [
    "# bx input-set \"0 [signature0] [signature1] [multisig_script]\" transaction\n",
    "\n",
    "# my_tx=\n",
    "\n"
   ]
  },
  {
   "cell_type": "code",
   "execution_count": null,
   "metadata": {},
   "outputs": [],
   "source": [
    "# Validate.\n"
   ]
  },
  {
   "cell_type": "markdown",
   "metadata": {},
   "source": [
    "**What combinations/sequence of signatures are valid?**"
   ]
  },
  {
   "cell_type": "code",
   "execution_count": null,
   "metadata": {},
   "outputs": [],
   "source": []
  }
 ],
 "metadata": {
  "kernelspec": {
   "display_name": "Bash",
   "language": "bash",
   "name": "bash"
  },
  "language_info": {
   "codemirror_mode": "shell",
   "file_extension": ".sh",
   "mimetype": "text/x-sh",
   "name": "bash"
  }
 },
 "nbformat": 4,
 "nbformat_minor": 2
}
