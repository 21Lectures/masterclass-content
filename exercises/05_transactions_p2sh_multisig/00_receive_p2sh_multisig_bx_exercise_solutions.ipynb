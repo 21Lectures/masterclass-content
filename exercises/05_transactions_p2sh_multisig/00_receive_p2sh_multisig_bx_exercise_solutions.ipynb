{
 "cells": [
  {
   "cell_type": "markdown",
   "metadata": {},
   "source": [
    "# Receiving a P2SH(Multisig) - BX Exercise\n",
    "In this exercise, we send a p2pkh input to a p2sh wrapped multisig output."
   ]
  },
  {
   "cell_type": "markdown",
   "metadata": {},
   "source": [
    "<hr style=\"border: 0.5px dashed #000;\">\n",
    "\n",
    "## 1. Restore wallet and generate spending key pairs.\n",
    "\n",
    "\n"
   ]
  },
  {
   "cell_type": "code",
   "execution_count": 18,
   "metadata": {},
   "outputs": [],
   "source": [
    "# my_mnemonic =\"word0 word1 word2 ...\"\n",
    "# hd_master_private=$( )\n",
    "# hd_master_public=$( )\n",
    "\n",
    "my_mnemonic=\"seven mail crash you unit small assume express wedding cloud work potato\"\n",
    "hd_master_private=$(bx mnemonic-to-seed $my_mnemonic | bx hd-new)\n",
    "hd_master_public=$(bx hd-to-public $hd_master_private)\n"
   ]
  },
  {
   "cell_type": "markdown",
   "metadata": {},
   "source": [
    "### Restore your spending keys.\n",
    "\n",
    "We will be spending the funds controlled by these keys from account 1. \n",
    "* `m/44'/1'/1'/0/7`\n",
    "\n"
   ]
  },
  {
   "cell_type": "code",
   "execution_count": 19,
   "metadata": {},
   "outputs": [
    {
     "name": "stdout",
     "output_type": "stream",
     "text": [
      "mjvWL2ECWonM4Dcs67rB1rFi3B5ro3tBzN\n",
      "3054cf92dc80c6efd7559e660bde8b0fa7a85adc\n"
     ]
    }
   ],
   "source": [
    "# hd_m_44h_1h_1h_0_7=\n",
    "\n",
    "# privatekey_44h_1h_1h_0_7=\n",
    "# publickey_44h_1h_1h_0_7=\n",
    "# publickeyhash_44h_1h_1h_0_7=\n",
    "# address_44h_1h_1h_0_7=\n",
    "\n",
    "hd_m_44h_1h_1h_0_7=$(bx hd-private --hard --index 44 $hd_master_private \\\n",
    "| bx hd-private --hard --index 1  \\\n",
    "| bx hd-private --hard --index 1  \\\n",
    "| bx hd-private --index 0 \\\n",
    "| bx hd-private --index 7)\n",
    "\n",
    "privatekey_44h_1h_1h_0_7=$(bx hd-to-ec $hd_m_44h_1h_1h_0_7)\n",
    "publickey_44h_1h_1h_0_7=$(bx hd-to-public $hd_m_44h_1h_1h_0_7 | bx hd-to-ec)\n",
    "publickeyhash_44h_1h_1h_0_7=$(bx sha256 $publickey_44h_1h_1h_0_7 | bx ripemd160)\n",
    "address_44h_1h_1h_0_7=$(bx hd-to-public $hd_m_44h_1h_1h_0_7 | bx hd-to-ec | bx ec-to-address --version 111)\n",
    "\n",
    "echo $address_44h_1h_1h_0_7\n",
    "echo $publickeyhash_44h_1h_1h_0_7"
   ]
  },
  {
   "cell_type": "markdown",
   "metadata": {},
   "source": [
    "### Generate three multisig key pairs from our 3rd wallet account.\n",
    "\n",
    "We will be spending coin to a 2-of-3 output script controlled by these keys.\n",
    "\n",
    "* `m/44'/1'/2'/0/0`\n",
    "* `m/44'/1'/2'/0/1`\n",
    "* `m/44'/1'/2'/0/2`\n",
    "\n"
   ]
  },
  {
   "cell_type": "code",
   "execution_count": 20,
   "metadata": {},
   "outputs": [],
   "source": [
    "hd_m_44h_1h_2h_0_0=$(bx hd-private --hard --index 44 $hd_master_private \\\n",
    "| bx hd-private --hard --index 1  \\\n",
    "| bx hd-private --hard --index 2  \\\n",
    "| bx hd-private --index 0 \\\n",
    "| bx hd-private --index 0)\n",
    "publickey_44h_1h_2h_0_0=$(bx hd-to-public $hd_m_44h_1h_2h_0_0 | bx hd-to-ec)\n",
    "\n",
    "hd_m_44h_1h_2h_0_1=$(bx hd-private --hard --index 44 $hd_master_private \\\n",
    "| bx hd-private --hard --index 1  \\\n",
    "| bx hd-private --hard --index 2  \\\n",
    "| bx hd-private --index 0 \\\n",
    "| bx hd-private --index 1)\n",
    "publickey_44h_1h_2h_0_1=$(bx hd-to-public $hd_m_44h_1h_2h_0_1 | bx hd-to-ec)\n",
    "\n",
    "hd_m_44h_1h_2h_0_2=$(bx hd-private --hard --index 44 $hd_master_private \\\n",
    "| bx hd-private --hard --index 1  \\\n",
    "| bx hd-private --hard --index 2  \\\n",
    "| bx hd-private --index 0 \\\n",
    "| bx hd-private --index 3)\n",
    "publickey_44h_1h_2h_0_2=$(bx hd-to-public $hd_m_44h_1h_2h_0_2 | bx hd-to-ec)"
   ]
  },
  {
   "cell_type": "markdown",
   "metadata": {},
   "source": [
    "### Fetch previous UTXO's you are spending."
   ]
  },
  {
   "cell_type": "code",
   "execution_count": 21,
   "metadata": {},
   "outputs": [
    {
     "name": "stdout",
     "output_type": "stream",
     "text": [
      "\u001b[1;39m{\n",
      "  \u001b[0m\u001b[34;1m\"address_hash\"\u001b[0m\u001b[1;39m: \u001b[0m\u001b[0;32m\"3054cf92dc80c6efd7559e660bde8b0fa7a85adc\"\u001b[0m\u001b[1;39m,\n",
      "  \u001b[0m\u001b[34;1m\"script\"\u001b[0m\u001b[1;39m: \u001b[0m\u001b[0;32m\"dup hash160 [3054cf92dc80c6efd7559e660bde8b0fa7a85adc] equalverify checksig\"\u001b[0m\u001b[1;39m,\n",
      "  \u001b[0m\u001b[34;1m\"value\"\u001b[0m\u001b[1;39m: \u001b[0m\u001b[0;32m\"499550\"\u001b[0m\u001b[1;39m\n",
      "\u001b[1;39m}\u001b[0m\n"
     ]
    }
   ],
   "source": [
    "# bx fetch-tx [transaction_hash] -f json | jq \".transaction.outputs[output_index]\"\n",
    "\n",
    "bx fetch-tx 11a8587f5077fc7f69e3349797fd74f99864d27716d6b48ac51734cb3bec03ea -f json | jq \".transaction.outputs[7]\""
   ]
  },
  {
   "cell_type": "code",
   "execution_count": 22,
   "metadata": {},
   "outputs": [],
   "source": [
    "# previous_txid=\n",
    "# previous_output_index=\n",
    "# previous_output_amount=\n",
    "\n",
    "previous_txid=11a8587f5077fc7f69e3349797fd74f99864d27716d6b48ac51734cb3bec03ea\n",
    "previous_output_index=7\n",
    "previous_output_amount=499550"
   ]
  },
  {
   "cell_type": "markdown",
   "metadata": {},
   "source": [
    "## 2. Build & Sign transaction."
   ]
  },
  {
   "cell_type": "markdown",
   "metadata": {},
   "source": [
    "### A. Encode multisig output script.\n",
    "\n"
   ]
  },
  {
   "cell_type": "code",
   "execution_count": 23,
   "metadata": {},
   "outputs": [
    {
     "name": "stdout",
     "output_type": "stream",
     "text": [
      "03a151f572ab9462701f055904c7e80e12dd64cce5e59368e741139415a5e129cd\n",
      "0293798c3c194caf03cd12edb23351a94a69706638e712fadd3abaa0db791921a1\n",
      "02035765ecd6c51d151d3676bd2f87307030a0d5d3f32a4636707b345a444b074e\n",
      "522103a151f572ab9462701f055904c7e80e12dd64cce5e59368e741139415a5e129cd210293798c3c194caf03cd12edb23351a94a69706638e712fadd3abaa0db791921a12102035765ecd6c51d151d3676bd2f87307030a0d5d3f32a4636707b345a444b074e53ae\n"
     ]
    }
   ],
   "source": [
    "echo $publickey_44h_1h_2h_0_0\n",
    "echo $publickey_44h_1h_2h_0_1\n",
    "echo $publickey_44h_1h_2h_0_2\n",
    "\n",
    "# multisig_script=\n",
    "\n",
    "multisig_script=$(bx script-encode \"2 [03a151f572ab9462701f055904c7e80e12dd64cce5e59368e741139415a5e129cd] [0293798c3c194caf03cd12edb23351a94a69706638e712fadd3abaa0db791921a1] [02035765ecd6c51d151d3676bd2f87307030a0d5d3f32a4636707b345a444b074e] 3 checkmultisig\")   \n",
    "echo $multisig_script \n"
   ]
  },
  {
   "cell_type": "markdown",
   "metadata": {},
   "source": [
    "### B. Wrap multsig in P2SH output script."
   ]
  },
  {
   "cell_type": "markdown",
   "metadata": {},
   "source": [
    "**Derive p2sh address from multisig script.**"
   ]
  },
  {
   "cell_type": "code",
   "execution_count": 24,
   "metadata": {},
   "outputs": [
    {
     "name": "stdout",
     "output_type": "stream",
     "text": [
      "wrapper\n",
      "{\n",
      "    checksum 3615012287\n",
      "    payload a1d311cb452251c45fe6a220e6a60c5272b92d7b\n",
      "    version 196\n",
      "}\n"
     ]
    }
   ],
   "source": [
    "# Derive address to be use later to watch address.\n",
    "bx script-to-address \"2 [03a151f572ab9462701f055904c7e80e12dd64cce5e59368e741139415a5e129cd] [0293798c3c194caf03cd12edb23351a94a69706638e712fadd3abaa0db791921a1] [02035765ecd6c51d151d3676bd2f87307030a0d5d3f32a4636707b345a444b074e] 3 checkmultisig\" \\\n",
    "| bx address-decode\n"
   ]
  },
  {
   "cell_type": "markdown",
   "metadata": {},
   "source": [
    "**Derive p2sh(multisig) script.**"
   ]
  },
  {
   "cell_type": "code",
   "execution_count": 25,
   "metadata": {},
   "outputs": [
    {
     "name": "stdout",
     "output_type": "stream",
     "text": [
      "a1d311cb452251c45fe6a220e6a60c5272b92d7b\n"
     ]
    }
   ],
   "source": [
    "# bx bitcoin160 [encoded script]\n",
    "\n",
    "# embedded_script_hash=\n",
    "embedded_script_hash=$(bx bitcoin160 $multisig_script)\n",
    "echo $embedded_script_hash\n"
   ]
  },
  {
   "cell_type": "code",
   "execution_count": 26,
   "metadata": {},
   "outputs": [
    {
     "name": "stdout",
     "output_type": "stream",
     "text": [
      "a914a1d311cb452251c45fe6a220e6a60c5272b92d7b87\n"
     ]
    }
   ],
   "source": [
    "# output_script=\n",
    "\n",
    "output_script=$(bx script-encode \"hash160 [a1d311cb452251c45fe6a220e6a60c5272b92d7b] equal\")\n",
    "echo $output_script\n"
   ]
  },
  {
   "cell_type": "markdown",
   "metadata": {},
   "source": [
    "### C. Compute output value."
   ]
  },
  {
   "cell_type": "code",
   "execution_count": 27,
   "metadata": {},
   "outputs": [
    {
     "name": "stdout",
     "output_type": "stream",
     "text": [
      "190\n"
     ]
    }
   ],
   "source": [
    "# tx bytes: 4 + 1 + 1*(32+4+1+1+72+1+33+4) + 1 + 1*(8+1+1+1+20+1) + 4 \n",
    "\n",
    "# tx_byte_count=\n",
    "\n",
    "tx_byte_count=$(expr 4 + 1 + 1 \\* 148 + 1 + 1 \\* 32 + 4)\n",
    "echo $tx_byte_count"
   ]
  },
  {
   "cell_type": "code",
   "execution_count": 28,
   "metadata": {},
   "outputs": [
    {
     "name": "stdout",
     "output_type": "stream",
     "text": [
      "499360\n"
     ]
    }
   ],
   "source": [
    "# Output amount total.\n",
    "\n",
    "# output_amount=\n",
    "\n",
    "output_amount=$(expr $previous_output_amount - 0 \\* 400 - $tx_byte_count \\* 1)\n",
    "echo $output_amount\n"
   ]
  },
  {
   "cell_type": "markdown",
   "metadata": {},
   "source": [
    "### D. Construct transaction."
   ]
  },
  {
   "cell_type": "code",
   "execution_count": 29,
   "metadata": {},
   "outputs": [],
   "source": [
    "# bx tx-encode \\\n",
    "# --input [previous tx id]:[index]:[sequence] \\\n",
    "# --output [output script]:[output amount]\n",
    "\n",
    "# my_tx=\n",
    "\n",
    "my_tx=$(bx tx-encode \\\n",
    "--input $previous_txid:$previous_output_index:4294967295 \\\n",
    "--output $output_script:$output_amount)\n"
   ]
  },
  {
   "cell_type": "markdown",
   "metadata": {},
   "source": [
    "### E. Sign transaction & finalise transaction."
   ]
  },
  {
   "cell_type": "markdown",
   "metadata": {},
   "source": [
    "**Fetch previous output script.**"
   ]
  },
  {
   "cell_type": "code",
   "execution_count": 30,
   "metadata": {},
   "outputs": [
    {
     "name": "stdout",
     "output_type": "stream",
     "text": [
      "dup hash160 [3054cf92dc80c6efd7559e660bde8b0fa7a85adc] equalverify checksig\n"
     ]
    }
   ],
   "source": [
    "# previous_output_script=\n",
    "\n",
    "previous_output_script=$(bx fetch-tx --format json $previous_txid \\\n",
    "| jq -r \".transaction.outputs[7].script\")\n",
    "\n",
    "echo $previous_output_script"
   ]
  },
  {
   "cell_type": "markdown",
   "metadata": {},
   "source": [
    "**Sign transaction.**"
   ]
  },
  {
   "cell_type": "code",
   "execution_count": 31,
   "metadata": {},
   "outputs": [],
   "source": [
    "# bx input-sign [private key] \"previous output script\" [transaction template]\n",
    "\n",
    "# signature=\n",
    "\n",
    "signature=$(bx input-sign --sign_type all --index 0 $privatekey_44h_1h_1h_0_7 \"$previous_output_script\" $my_tx)\n"
   ]
  },
  {
   "cell_type": "markdown",
   "metadata": {},
   "source": [
    "**Set input into finalised transaction**"
   ]
  },
  {
   "cell_type": "code",
   "execution_count": 32,
   "metadata": {},
   "outputs": [
    {
     "name": "stdout",
     "output_type": "stream",
     "text": [
      "\u001b[1;39m{\n",
      "  \u001b[0m\u001b[34;1m\"transaction\"\u001b[0m\u001b[1;39m: \u001b[0m\u001b[1;39m{\n",
      "    \u001b[0m\u001b[34;1m\"hash\"\u001b[0m\u001b[1;39m: \u001b[0m\u001b[0;32m\"c984d7c2cd330f8a980a8953f3b6141b6441933054838eb09c29f1709775da7c\"\u001b[0m\u001b[1;39m,\n",
      "    \u001b[0m\u001b[34;1m\"inputs\"\u001b[0m\u001b[1;39m: \u001b[0m\u001b[1;39m[\n",
      "      \u001b[1;39m{\n",
      "        \u001b[0m\u001b[34;1m\"address_hash\"\u001b[0m\u001b[1;39m: \u001b[0m\u001b[0;32m\"3054cf92dc80c6efd7559e660bde8b0fa7a85adc\"\u001b[0m\u001b[1;39m,\n",
      "        \u001b[0m\u001b[34;1m\"previous_output\"\u001b[0m\u001b[1;39m: \u001b[0m\u001b[1;39m{\n",
      "          \u001b[0m\u001b[34;1m\"hash\"\u001b[0m\u001b[1;39m: \u001b[0m\u001b[0;32m\"11a8587f5077fc7f69e3349797fd74f99864d27716d6b48ac51734cb3bec03ea\"\u001b[0m\u001b[1;39m,\n",
      "          \u001b[0m\u001b[34;1m\"index\"\u001b[0m\u001b[1;39m: \u001b[0m\u001b[0;32m\"7\"\u001b[0m\u001b[1;39m\n",
      "        \u001b[1;39m}\u001b[0m\u001b[1;39m,\n",
      "        \u001b[0m\u001b[34;1m\"script\"\u001b[0m\u001b[1;39m: \u001b[0m\u001b[0;32m\"[30440220404e4fab19409ff26ef31a6b75440063876a05b5508a7a7f53e7104548af33b2022075aecf64eaf73014b7b59998144323395ba6f4b42e8fcefbcb30ee13cd2e5e7701] [02eecb5f8cb9b6dfe418b96147976725cbc2f8ce6de4361ea1b8a995a7ef7765fc]\"\u001b[0m\u001b[1;39m,\n",
      "        \u001b[0m\u001b[34;1m\"sequence\"\u001b[0m\u001b[1;39m: \u001b[0m\u001b[0;32m\"4294967295\"\u001b[0m\u001b[1;39m\n",
      "      \u001b[1;39m}\u001b[0m\u001b[1;39m\n",
      "    \u001b[1;39m]\u001b[0m\u001b[1;39m,\n",
      "    \u001b[0m\u001b[34;1m\"lock_time\"\u001b[0m\u001b[1;39m: \u001b[0m\u001b[0;32m\"0\"\u001b[0m\u001b[1;39m,\n",
      "    \u001b[0m\u001b[34;1m\"outputs\"\u001b[0m\u001b[1;39m: \u001b[0m\u001b[1;39m[\n",
      "      \u001b[1;39m{\n",
      "        \u001b[0m\u001b[34;1m\"address_hash\"\u001b[0m\u001b[1;39m: \u001b[0m\u001b[0;32m\"a1d311cb452251c45fe6a220e6a60c5272b92d7b\"\u001b[0m\u001b[1;39m,\n",
      "        \u001b[0m\u001b[34;1m\"script\"\u001b[0m\u001b[1;39m: \u001b[0m\u001b[0;32m\"hash160 [a1d311cb452251c45fe6a220e6a60c5272b92d7b] equal\"\u001b[0m\u001b[1;39m,\n",
      "        \u001b[0m\u001b[34;1m\"value\"\u001b[0m\u001b[1;39m: \u001b[0m\u001b[0;32m\"499360\"\u001b[0m\u001b[1;39m\n",
      "      \u001b[1;39m}\u001b[0m\u001b[1;39m\n",
      "    \u001b[1;39m]\u001b[0m\u001b[1;39m,\n",
      "    \u001b[0m\u001b[34;1m\"version\"\u001b[0m\u001b[1;39m: \u001b[0m\u001b[0;32m\"1\"\u001b[0m\u001b[1;39m\n",
      "  \u001b[1;39m}\u001b[0m\u001b[1;39m\n",
      "\u001b[1;39m}\u001b[0m\n"
     ]
    }
   ],
   "source": [
    "# bx input-set \"[signature] [public key point]\" [transaction template]\n",
    "\n",
    "# my_tx=\n",
    "\n",
    "my_tx=$(bx input-set --index 0 \"[$signature] [$publickey_44h_1h_1h_0_7]\" $my_tx)\n",
    "echo $my_tx | bx tx-decode -f json | jq\n"
   ]
  },
  {
   "cell_type": "code",
   "execution_count": 33,
   "metadata": {},
   "outputs": [
    {
     "name": "stdout",
     "output_type": "stream",
     "text": [
      "matching transaction with unspent outputs\n"
     ]
    },
    {
     "ename": "",
     "evalue": "255",
     "output_type": "error",
     "traceback": []
    }
   ],
   "source": [
    "# Validate.\n",
    "bx validate-tx $my_tx"
   ]
  },
  {
   "cell_type": "code",
   "execution_count": 17,
   "metadata": {},
   "outputs": [
    {
     "name": "stdout",
     "output_type": "stream",
     "text": [
      "Sent transaction.\n"
     ]
    }
   ],
   "source": [
    "# Send.\n",
    "bx send-tx $my_tx"
   ]
  }
 ],
 "metadata": {
  "kernelspec": {
   "display_name": "Bash",
   "language": "bash",
   "name": "bash"
  },
  "language_info": {
   "codemirror_mode": "shell",
   "file_extension": ".sh",
   "mimetype": "text/x-sh",
   "name": "bash"
  }
 },
 "nbformat": 4,
 "nbformat_minor": 2
}
