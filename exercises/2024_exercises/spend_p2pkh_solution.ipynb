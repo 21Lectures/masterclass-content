{
 "cells": [
  {
   "cell_type": "markdown",
   "metadata": {},
   "source": [
    "## Preliminaries"
   ]
  },
  {
   "cell_type": "markdown",
   "metadata": {},
   "source": [
    "### The most important Jupyter notebook tricks\n",
    " - Press Esc to escape edit mode and add / remove cells etc.\n",
    " - When not in Edit mode: A inserts a cell above, B below\n",
    " - When not in Edit mode: DD deletes a cell\n",
    " - When in Edit mode: Shift + Enter executes the cell\n",
    " - Interrupt a hung kernel with the Stop button\n",
    " - Or restart under Kernel -> Restart"
   ]
  },
  {
   "cell_type": "markdown",
   "metadata": {},
   "source": [
    "## Setup"
   ]
  },
  {
   "cell_type": "code",
   "execution_count": 1,
   "metadata": {},
   "outputs": [],
   "source": [
    "# what happened to `bx seed`? :( https://milksad.info/disclosure.html\n",
    "alias entropy='openssl rand -hex 24'\n",
    "alias explorer='python3 /home/explorer.py'\n",
    "export BX_CONFIG=\"../bx_testnet.cfg\""
   ]
  },
  {
   "cell_type": "markdown",
   "metadata": {},
   "source": [
    "### The most important bash tricks"
   ]
  },
  {
   "cell_type": "code",
   "execution_count": 2,
   "metadata": {},
   "outputs": [
    {
     "name": "stdout",
     "output_type": "stream",
     "text": [
      "order manage travel promote parade live deliver image scorpion onion thought coffee enforce spider promote vocal state evoke\n",
      "377f2074cec51a791951276491c4c45ea1f612cc31806160\n"
     ]
    }
   ],
   "source": [
    "# pipe output to the next command with |\n",
    "# provides the seed as input to the \"mnemonic-new command\"\n",
    "entropy | bx mnemonic-new\n",
    "\n",
    "# capture output in variables with var=$(...). Notice the missing spaces around =\n",
    "var=$(entropy)\n",
    "\n",
    "# later refer to the variable with $. echo prints stuff\n",
    "echo $var"
   ]
  },
  {
   "cell_type": "markdown",
   "metadata": {},
   "source": [
    "### Explore the bx tool"
   ]
  },
  {
   "cell_type": "code",
   "execution_count": 3,
   "metadata": {},
   "outputs": [
    {
     "name": "stdout",
     "output_type": "stream",
     "text": [
      "\n",
      "Usage: bx COMMAND [--help]\n",
      "\n",
      "Version: 3.8.0\n",
      "\n",
      "Info: The bx commands are:\n",
      "\n",
      "address-decode\n",
      "address-embed\n",
      "address-encode\n",
      "base16-decode\n",
      "base16-encode\n",
      "base58-decode\n",
      "base58-encode\n",
      "base58check-decode\n",
      "base58check-encode\n",
      "base64-decode\n",
      "base64-encode\n",
      "bitcoin160\n",
      "bitcoin256\n",
      "btc-to-satoshi\n",
      "cert-new\n",
      "cert-public\n",
      "ec-add\n",
      "ec-add-secrets\n",
      "ec-multiply\n",
      "ec-multiply-secrets\n",
      "ec-new\n",
      "ec-to-address\n",
      "ec-to-ek\n",
      "ec-to-public\n",
      "ec-to-wif\n",
      "ek-address\n",
      "ek-new\n",
      "ek-public\n",
      "ek-public-to-address\n",
      "ek-public-to-ec\n",
      "ek-to-address\n",
      "ek-to-ec\n",
      "electrum-new\n",
      "electrum-to-seed\n",
      "fetch-balance\n",
      "fetch-header\n",
      "fetch-height\n",
      "fetch-history\n",
      "fetch-public-key\n",
      "fetch-stealth\n",
      "fetch-tx\n",
      "fetch-tx-index\n",
      "fetch-utxo\n",
      "hd-new\n",
      "hd-private\n",
      "hd-public\n",
      "hd-to-ec\n",
      "hd-to-public\n",
      "help\n",
      "input-set\n",
      "input-sign\n",
      "input-validate\n",
      "message-sign\n",
      "message-validate\n",
      "mnemonic-new\n",
      "mnemonic-to-seed\n",
      "qrcode\n",
      "ripemd160\n",
      "satoshi-to-btc\n",
      "script-decode\n",
      "script-encode\n",
      "script-to-address\n",
      "send-tx\n",
      "send-tx-node\n",
      "send-tx-p2p\n",
      "settings\n",
      "sha160\n",
      "sha256\n",
      "sha512\n",
      "stealth-decode\n",
      "stealth-encode\n",
      "stealth-public\n",
      "stealth-secret\n",
      "stealth-shared\n",
      "token-new\n",
      "tx-decode\n",
      "tx-encode\n",
      "tx-sign\n",
      "uri-decode\n",
      "uri-encode\n",
      "validate-tx\n",
      "watch-address\n",
      "watch-stealth\n",
      "watch-tx\n",
      "wif-to-ec\n",
      "wif-to-public\n",
      "wrap-decode\n",
      "wrap-encode\n",
      "\n",
      "Bitcoin Explorer home page:\n",
      "\n",
      "https://github.com/libbitcoin/libbitcoin-explorer\n"
     ]
    }
   ],
   "source": [
    "bx help"
   ]
  },
  {
   "cell_type": "code",
   "execution_count": 4,
   "metadata": {},
   "outputs": [
    {
     "name": "stdout",
     "output_type": "stream",
     "text": [
      "\n",
      "Usage: bx tx-sign [-h] [--config value] EC_PRIVATE_KEY [TRANSACTION]...  \n",
      "\n",
      "Info: Sign a set of transactions using a private key. Output is suitable \n",
      "for sending to Bitcoin network.                                          \n",
      "\n",
      "Options (named):\n",
      "\n",
      "-c [--config]        The path to the configuration settings file.        \n",
      "-h [--help]          Get a description and instructions for this command.\n",
      "\n",
      "Arguments (positional):\n",
      "\n",
      "EC_PRIVATE_KEY       The EC private key to be used for signing.          \n",
      "TRANSACTION          The set of Base16 transactions. If not specified the\n",
      "                     transactions are read from STDIN.                   \n"
     ]
    }
   ],
   "source": [
    "bx help tx-sign"
   ]
  },
  {
   "cell_type": "markdown",
   "metadata": {},
   "source": [
    "### Explore the block explorer tool"
   ]
  },
  {
   "cell_type": "code",
   "execution_count": 5,
   "metadata": {},
   "outputs": [
    {
     "name": "stdout",
     "output_type": "stream",
     "text": [
      "Usage: explorer <command>\n",
      "Available commands are: 'utxos', 'transaction', 'height', 'broadcast', 'history'\n"
     ]
    }
   ],
   "source": [
    "explorer"
   ]
  },
  {
   "cell_type": "code",
   "execution_count": 6,
   "metadata": {},
   "outputs": [
    {
     "name": "stdout",
     "output_type": "stream",
     "text": [
      "Chain height: 2577310\n",
      "2577310\n"
     ]
    }
   ],
   "source": [
    "explorer height\n",
    "bx fetch-height"
   ]
  },
  {
   "cell_type": "code",
   "execution_count": 7,
   "metadata": {},
   "outputs": [
    {
     "name": "stdout",
     "output_type": "stream",
     "text": [
      "History of address tb1qh8gpxryr6vae0eddcx4va8t5d87t5zhqgsvs66: [\n",
      "    {\n",
      "        \"txid\": \"e13d6f3bf5a1c99e4904155ddc6c43dbef503c7d1c14fdca5f17fd2d8d6bde54\",\n",
      "        \"version\": 2,\n",
      "        \"locktime\": 2577265,\n",
      "        \"vin\": [\n",
      "            {\n",
      "                \"txid\": \"4f258a34fcce537e5346b156259e13ab7323514a89d22f462fecf27c7f1e201a\",\n",
      "                \"vout\": 1,\n",
      "                \"prevout\": {\n",
      "                    \"scriptpubkey\": \"0014b9d0130c83d33b97e5adc1aace9d7469fcba0ae0\",\n",
      "                    \"scriptpubkey_asm\": \"OP_0 OP_PUSHBYTES_20 b9d0130c83d33b97e5adc1aace9d7469fcba0ae0\",\n",
      "                    \"scriptpubkey_type\": \"v0_p2wpkh\",\n",
      "                    \"scriptpubkey_address\": \"tb1qh8gpxryr6vae0eddcx4va8t5d87t5zhqgsvs66\",\n",
      "                    \"value\": 4199981088\n",
      "                },\n",
      "                \"scriptsig\": \"\",\n",
      "                \"scriptsig_asm\": \"\",\n",
      "                \"witness\": [\n",
      "                    \"304402202f9e28f643a68fe90e81f37f75d6a9a183d8fc654d49698d53ad1a4ccdd6dbf402204d575777f8dac91c01466f2537d86e927716a2b2664524d82afc87917d545fc301\",\n",
      "                    \"03a95da16f0ba21774563ce7ba3f634e9fabac347059c06c519727fd32fe3c28db\"\n",
      "                ],\n",
      "                \"is_coinbase\": false,\n",
      "                \"sequence\": 4294967293\n",
      "            }\n",
      "        ],\n",
      "        \"vout\": [\n",
      "            {\n",
      "                \"scriptpubkey\": \"00142c7a9e483c8c9b440ac83ebb8b7c2752432b815f\",\n",
      "                \"scriptpubkey_asm\": \"OP_0 OP_PUSHBYTES_20 2c7a9e483c8c9b440ac83ebb8b7c2752432b815f\",\n",
      "                \"scriptpubkey_type\": \"v0_p2wpkh\",\n",
      "                \"scriptpubkey_address\": \"tb1q93afujpu3jd5gzkg86acklp82fpjhq2ly3wncs\",\n",
      "                \"value\": 138446\n",
      "            },\n",
      "            {\n",
      "                \"scriptpubkey\": \"00141568ea88e3d2e1795ad87a6939d30b70e8291c75\",\n",
      "                \"scriptpubkey_asm\": \"OP_0 OP_PUSHBYTES_20 1568ea88e3d2e1795ad87a6939d30b70e8291c75\",\n",
      "                \"scriptpubkey_type\": \"v0_p2wpkh\",\n",
      "                \"scriptpubkey_address\": \"tb1qz45w4z8r6tshjkkc0f5nn5ctwr5zj8r4q76c0f\",\n",
      "                \"value\": 4199828542\n",
      "            }\n",
      "        ],\n",
      "        \"size\": 222,\n",
      "        \"weight\": 561,\n",
      "        \"fee\": 14100,\n",
      "        \"status\": {\n",
      "            \"confirmed\": true,\n",
      "            \"block_height\": 2577266,\n",
      "            \"block_hash\": \"000000000000001507890b430aad63efc70fb12a78c75f8b290da55df4a61b24\",\n",
      "            \"block_time\": 1707296455\n",
      "        }\n",
      "    },\n",
      "    {\n",
      "        \"txid\": \"4f258a34fcce537e5346b156259e13ab7323514a89d22f462fecf27c7f1e201a\",\n",
      "        \"version\": 2,\n",
      "        \"locktime\": 2577264,\n",
      "        \"vin\": [\n",
      "            {\n",
      "                \"txid\": \"c8909515d9f77ccc9215e18a20c4b031969572230a039da12f4e87f73dc6b5a5\",\n",
      "                \"vout\": 1,\n",
      "                \"prevout\": {\n",
      "                    \"scriptpubkey\": \"0014002f4e70c29e25d9256458a224016d38e15e159c\",\n",
      "                    \"scriptpubkey_asm\": \"OP_0 OP_PUSHBYTES_20 002f4e70c29e25d9256458a224016d38e15e159c\",\n",
      "                    \"scriptpubkey_type\": \"v0_p2wpkh\",\n",
      "                    \"scriptpubkey_address\": \"tb1qqqh5uuxzncjajftytz3zgqtd8rs4u9vun7ux3v\",\n",
      "                    \"value\": 4200093421\n",
      "                },\n",
      "                \"scriptsig\": \"\",\n",
      "                \"scriptsig_asm\": \"\",\n",
      "                \"witness\": [\n",
      "                    \"304402202733fc0be022d9bfee2fccc4c6c195d3740f616c1d9ae70ca2b83fb4cf5766b00220094181a6715ccd74ce03fa9979cd88fa56e83d2681c95f90994fa2b7de099c5e01\",\n",
      "                    \"023c63015ee81373c68b1252114f2184ea31fcc76efa871927569826fecc2ff287\"\n",
      "                ],\n",
      "                \"is_coinbase\": false,\n",
      "                \"sequence\": 4294967293\n",
      "            }\n",
      "        ],\n",
      "        \"vout\": [\n",
      "            {\n",
      "                \"scriptpubkey\": \"0014826b8c7fc1dc9a2a2f5607e53bd7df4ed024c653\",\n",
      "                \"scriptpubkey_asm\": \"OP_0 OP_PUSHBYTES_20 826b8c7fc1dc9a2a2f5607e53bd7df4ed024c653\",\n",
      "                \"scriptpubkey_type\": \"v0_p2wpkh\",\n",
      "                \"scriptpubkey_address\": \"tb1qsf4ccl7pmjdz5t6kqljnh47lfmgzf3jnu8n72n\",\n",
      "                \"value\": 98233\n",
      "            },\n",
      "            {\n",
      "                \"scriptpubkey\": \"0014b9d0130c83d33b97e5adc1aace9d7469fcba0ae0\",\n",
      "                \"scriptpubkey_asm\": \"OP_0 OP_PUSHBYTES_20 b9d0130c83d33b97e5adc1aace9d7469fcba0ae0\",\n",
      "                \"scriptpubkey_type\": \"v0_p2wpkh\",\n",
      "                \"scriptpubkey_address\": \"tb1qh8gpxryr6vae0eddcx4va8t5d87t5zhqgsvs66\",\n",
      "                \"value\": 4199981088\n",
      "            }\n",
      "        ],\n",
      "        \"size\": 222,\n",
      "        \"weight\": 561,\n",
      "        \"fee\": 14100,\n",
      "        \"status\": {\n",
      "            \"confirmed\": true,\n",
      "            \"block_height\": 2577265,\n",
      "            \"block_hash\": \"000000000000000069836e4ce876e01ce5b31b182a9e09e9f29b09ab3efaabe7\",\n",
      "            \"block_time\": 1707295944\n",
      "        }\n",
      "    }\n",
      "]\n"
     ]
    }
   ],
   "source": [
    "explorer history tb1qh8gpxryr6vae0eddcx4va8t5d87t5zhqgsvs66"
   ]
  },
  {
   "cell_type": "code",
   "execution_count": 8,
   "metadata": {},
   "outputs": [
    {
     "name": "stdout",
     "output_type": "stream",
     "text": [
      "Unspents of address tb1qszlrs9nvduv00nrj6t5c6m3t44ywpf6xcxylzs: [\n",
      "    {\n",
      "        \"txid\": \"7e9537ea063c390164aca4af915f895560d3e691f66ed0ad2e66c50d64f114cc\",\n",
      "        \"vout\": 3,\n",
      "        \"status\": {\n",
      "            \"confirmed\": true,\n",
      "            \"block_height\": 2576862,\n",
      "            \"block_hash\": \"00000000000000216edf400b4cc700b28fb360afa20de9db36338393cd38546e\",\n",
      "            \"block_time\": 1707023583\n",
      "        },\n",
      "        \"value\": 1087\n",
      "    },\n",
      "    {\n",
      "        \"txid\": \"548717fc2caaec4f4bb79bcb914391f558d5260129b141d5edde07bf385cd8b7\",\n",
      "        \"vout\": 45,\n",
      "        \"status\": {\n",
      "            \"confirmed\": true,\n",
      "            \"block_height\": 2573661,\n",
      "            \"block_hash\": \"0000000000000029648d9335022c84456eb98fb5ff92371bc8afe5f3ec5342b1\",\n",
      "            \"block_time\": 1705513864\n",
      "        },\n",
      "        \"value\": 1000\n",
      "    },\n",
      "    {\n",
      "        \"txid\": \"4034386e8c6c803efa6fab266d8bc1617b300c97b80594bf27e004369b0003f6\",\n",
      "        \"vout\": 3,\n",
      "        \"status\": {\n",
      "            \"confirmed\": true,\n",
      "            \"block_height\": 2577266,\n",
      "            \"block_hash\": \"000000000000001507890b430aad63efc70fb12a78c75f8b290da55df4a61b24\",\n",
      "            \"block_time\": 1707296455\n",
      "        },\n",
      "        \"value\": 919\n",
      "    },\n",
      "    {\n",
      "        \"txid\": \"34e68020601193fbc349149e4c62eff424f8c090c4a7a2e986cbdfad39047f20\",\n",
      "        \"vout\": 11,\n",
      "        \"status\": {\n",
      "            \"confirmed\": true,\n",
      "            \"block_height\": 2577267,\n",
      "            \"block_hash\": \"00000000000039ff16d373c0277be5e1f56a08e37e97d719df676b8f30b37630\",\n",
      "            \"block_time\": 1707297662\n",
      "        },\n",
      "        \"value\": 400000\n",
      "    },\n",
      "    {\n",
      "        \"txid\": \"e26ef0956ef647a221d8477af69a26862d9f1196d71541744ab345ca5b579047\",\n",
      "        \"vout\": 7,\n",
      "        \"status\": {\n",
      "            \"confirmed\": true,\n",
      "            \"block_height\": 2573661,\n",
      "            \"block_hash\": \"0000000000000029648d9335022c84456eb98fb5ff92371bc8afe5f3ec5342b1\",\n",
      "            \"block_time\": 1705513864\n",
      "        },\n",
      "        \"value\": 1000\n",
      "    },\n",
      "    {\n",
      "        \"txid\": \"022080e8d8b15b1be4519751c3f1101ba754bdeb388ee0a5631b844fa0027c70\",\n",
      "        \"vout\": 3,\n",
      "        \"status\": {\n",
      "            \"confirmed\": true,\n",
      "            \"block_height\": 2573664,\n",
      "            \"block_hash\": \"000000000000000d07303776ee57f2742b29dcba37f2beb415f86cd502afcf27\",\n",
      "            \"block_time\": 1705514708\n",
      "        },\n",
      "        \"value\": 1761\n",
      "    }\n",
      "]\n"
     ]
    }
   ],
   "source": [
    "explorer utxos tb1qszlrs9nvduv00nrj6t5c6m3t44ywpf6xcxylzs"
   ]
  },
  {
   "cell_type": "markdown",
   "metadata": {},
   "source": [
    "# Transaction Build - BX Example\n",
    "In this BX tutorial, we construct a transaction which spends one P2PKH output to three (not six) other outputs.\n",
    "\n",
    "<img src=\"images/first_transaction.jpg\" alt=\"drawing\" style=\"\" width=\"700px\"/>\n",
    "\n"
   ]
  },
  {
   "cell_type": "markdown",
   "metadata": {},
   "source": [
    "##  1. Locate your UTXO\n",
    "A testnet address has been funded for you. Use the `sha256` value of your email address as a private key and derive the corresponding public key, as well as testnet P2PKH address. Find the UTXO that is locked to that P2PKH output script."
   ]
  },
  {
   "cell_type": "code",
   "execution_count": 9,
   "metadata": {},
   "outputs": [
    {
     "name": "stdout",
     "output_type": "stream",
     "text": [
      "7168a2048b5897144adc46f153e860157cd6d702\n",
      "mqrbzkWRDPzbwxkv8hrFWL4UohEQjpbDeF\n"
     ]
    }
   ],
   "source": [
    "# Find your address\n",
    "# Useful bx functions: ec-to-public, ripemd160, ec-to-address\n",
    "email=\"craig@wright.fail\"\n",
    "privkey=$(echo -n $email | sha256sum | awk '{print $1}')\n",
    "pubkey=$(echo $privkey | bx ec-to-public)\n",
    "pubkeyhash=$(echo $pubkey | bx sha256 | bx ripemd160)\n",
    "address=$(echo $pubkey | bx ec-to-address)\n",
    "echo $pubkeyhash\n",
    "echo $address"
   ]
  },
  {
   "cell_type": "code",
   "execution_count": 10,
   "metadata": {
    "scrolled": true
   },
   "outputs": [
    {
     "name": "stdout",
     "output_type": "stream",
     "text": [
      "History of address mqrbzkWRDPzbwxkv8hrFWL4UohEQjpbDeF: [\n",
      "    {\n",
      "        \"txid\": \"8e27105589394184737578d3b4d5fc659ade25f5c9a4edda207ef371f211c72d\",\n",
      "        \"version\": 2,\n",
      "        \"locktime\": 2577310,\n",
      "        \"vin\": [\n",
      "            {\n",
      "                \"txid\": \"4686fd8d5f4ccc8c23da61b71f25dbcfb507184d36c18f77b6cf566148695902\",\n",
      "                \"vout\": 0,\n",
      "                \"prevout\": {\n",
      "                    \"scriptpubkey\": \"0014f5cc2b8ac375968dcd93a8cb43f3fe601b5b67af\",\n",
      "                    \"scriptpubkey_asm\": \"OP_0 OP_PUSHBYTES_20 f5cc2b8ac375968dcd93a8cb43f3fe601b5b67af\",\n",
      "                    \"scriptpubkey_type\": \"v0_p2wpkh\",\n",
      "                    \"scriptpubkey_address\": \"tb1q7hxzhzkrwktgmnvn4r958ul7vqd4kea0lvfyj6\",\n",
      "                    \"value\": 100\n",
      "                },\n",
      "                \"scriptsig\": \"\",\n",
      "                \"scriptsig_asm\": \"\",\n",
      "                \"witness\": [\n",
      "                    \"304402201898dfafa48a4908c7bd70e66cc96517880930416d47ed337ccb0b9ab877e98b02207d6a0f4b0dea1d1fbb6564ee398dfcbdd85bb9b2f9c7f5d2be97d6456c41e5a201\",\n",
      "                    \"028deb50a0e11c602dc851bfcdbe22e8990bf022e63a2119f9da5df8a297972a36\"\n",
      "                ],\n",
      "                \"is_coinbase\": false,\n",
      "                \"sequence\": 4294967293\n",
      "            },\n",
      "            {\n",
      "                \"txid\": \"5285dde7891499a87637a332bf60b9d96872857dc712ab081c963941578dd183\",\n",
      "                \"vout\": 1,\n",
      "                \"prevout\": {\n",
      "                    \"scriptpubkey\": \"0014d5b8f57bbc3e6a950d1c371d15565e4d019c7e08\",\n",
      "                    \"scriptpubkey_asm\": \"OP_0 OP_PUSHBYTES_20 d5b8f57bbc3e6a950d1c371d15565e4d019c7e08\",\n",
      "                    \"scriptpubkey_type\": \"v0_p2wpkh\",\n",
      "                    \"scriptpubkey_address\": \"tb1q6ku027au8e4f2rguxuw324j7f5qeclsg8zwhgl\",\n",
      "                    \"value\": 14600\n",
      "                },\n",
      "                \"scriptsig\": \"\",\n",
      "                \"scriptsig_asm\": \"\",\n",
      "                \"witness\": [\n",
      "                    \"3044022011a47d39facae5d266c7919e997f3918c96671f7fd0cb23d92379ac986a94c3302202fc67ab13533dd59a0bfd957c8775002dbb7f95599a7c2c4c2cf57cd6dcaa79601\",\n",
      "                    \"02a21466ea3ef908efdb1cfb2264693bace9f403074d807848b2fe5e712ff74ee8\"\n",
      "                ],\n",
      "                \"is_coinbase\": false,\n",
      "                \"sequence\": 4294967293\n",
      "            },\n",
      "            {\n",
      "                \"txid\": \"71d0cf3614c892c51faccb7c92df467278582bd51653e5aa9a70e568886f630a\",\n",
      "                \"vout\": 0,\n",
      "                \"prevout\": {\n",
      "                    \"scriptpubkey\": \"0014f5cc2b8ac375968dcd93a8cb43f3fe601b5b67af\",\n",
      "                    \"scriptpubkey_asm\": \"OP_0 OP_PUSHBYTES_20 f5cc2b8ac375968dcd93a8cb43f3fe601b5b67af\",\n",
      "                    \"scriptpubkey_type\": \"v0_p2wpkh\",\n",
      "                    \"scriptpubkey_address\": \"tb1q7hxzhzkrwktgmnvn4r958ul7vqd4kea0lvfyj6\",\n",
      "                    \"value\": 100\n",
      "                },\n",
      "                \"scriptsig\": \"\",\n",
      "                \"scriptsig_asm\": \"\",\n",
      "                \"witness\": [\n",
      "                    \"304402207c0b1b249b61efbbe09c7d3034c394a35dd20f107b8634eccc65ea2a53d402f0022070a54ca93291d726225971a839d0471156b9fb6ecf42d8f2300641dc5cc9b35e01\",\n",
      "                    \"028deb50a0e11c602dc851bfcdbe22e8990bf022e63a2119f9da5df8a297972a36\"\n",
      "                ],\n",
      "                \"is_coinbase\": false,\n",
      "                \"sequence\": 4294967293\n",
      "            },\n",
      "            {\n",
      "                \"txid\": \"a4661c787062e58319726392193f849cd2acc0125bec0af0adf701bb711f27cb\",\n",
      "                \"vout\": 7,\n",
      "                \"prevout\": {\n",
      "                    \"scriptpubkey\": \"0014d25383388444c318c8e5e1ba587b4f1bf1b0a6b6\",\n",
      "                    \"scriptpubkey_asm\": \"OP_0 OP_PUSHBYTES_20 d25383388444c318c8e5e1ba587b4f1bf1b0a6b6\",\n",
      "                    \"scriptpubkey_type\": \"v0_p2wpkh\",\n",
      "                    \"scriptpubkey_address\": \"tb1q6ffcxwyygnp33j89uxa9s760r0cmpf4ktucmjl\",\n",
      "                    \"value\": 2000\n",
      "                },\n",
      "                \"scriptsig\": \"\",\n",
      "                \"scriptsig_asm\": \"\",\n",
      "                \"witness\": [\n",
      "                    \"304402204c3d7b3beb7a5c5d3532752cd45615767f3947534387e25098c0c2b1094694890220079dec82f002ebe2337cdfd1d53d4d377f510e0777465826dfaaad7ebd750cfc01\",\n",
      "                    \"03fa4110c465b7213988288ff2b1a52c8de2e9deeab606173875ffef4cfa6839a5\"\n",
      "                ],\n",
      "                \"is_coinbase\": false,\n",
      "                \"sequence\": 4294967293\n",
      "            },\n",
      "            {\n",
      "                \"txid\": \"ab66fb60f1065bd4833b7b7904e9771b12aad70216417be68f7d571923077bfd\",\n",
      "                \"vout\": 1,\n",
      "                \"prevout\": {\n",
      "                    \"scriptpubkey\": \"0014f5cc2b8ac375968dcd93a8cb43f3fe601b5b67af\",\n",
      "                    \"scriptpubkey_asm\": \"OP_0 OP_PUSHBYTES_20 f5cc2b8ac375968dcd93a8cb43f3fe601b5b67af\",\n",
      "                    \"scriptpubkey_type\": \"v0_p2wpkh\",\n",
      "                    \"scriptpubkey_address\": \"tb1q7hxzhzkrwktgmnvn4r958ul7vqd4kea0lvfyj6\",\n",
      "                    \"value\": 3000\n",
      "                },\n",
      "                \"scriptsig\": \"\",\n",
      "                \"scriptsig_asm\": \"\",\n",
      "                \"witness\": [\n",
      "                    \"30440220205cc020d1d11161cbc6ce43aa9ef15a93faf6a6c8eee896ec82bff4ef1d34e1022048b0619e6a8cb24be0d1f2cfb8bd90b233d490d149310f0d2bb3e2d1298023eb01\",\n",
      "                    \"028deb50a0e11c602dc851bfcdbe22e8990bf022e63a2119f9da5df8a297972a36\"\n",
      "                ],\n",
      "                \"is_coinbase\": false,\n",
      "                \"sequence\": 4294967293\n",
      "            },\n",
      "            {\n",
      "                \"txid\": \"b3a9cd0c68306c171d9d4d2ddd46b5631c197c83b20fcf45e1be69a09d27be5d\",\n",
      "                \"vout\": 0,\n",
      "                \"prevout\": {\n",
      "                    \"scriptpubkey\": \"0014f5cc2b8ac375968dcd93a8cb43f3fe601b5b67af\",\n",
      "                    \"scriptpubkey_asm\": \"OP_0 OP_PUSHBYTES_20 f5cc2b8ac375968dcd93a8cb43f3fe601b5b67af\",\n",
      "                    \"scriptpubkey_type\": \"v0_p2wpkh\",\n",
      "                    \"scriptpubkey_address\": \"tb1q7hxzhzkrwktgmnvn4r958ul7vqd4kea0lvfyj6\",\n",
      "                    \"value\": 100\n",
      "                },\n",
      "                \"scriptsig\": \"\",\n",
      "                \"scriptsig_asm\": \"\",\n",
      "                \"witness\": [\n",
      "                    \"3044022033b572f8c3ce005d397dbf25fac516f17954e1bbcb3ceceb7b44cd0cb49631ec02206f628d25f7495005193499fb210d78147643c76bb65ae2cb40be424c4d5f1cdf01\",\n",
      "                    \"028deb50a0e11c602dc851bfcdbe22e8990bf022e63a2119f9da5df8a297972a36\"\n",
      "                ],\n",
      "                \"is_coinbase\": false,\n",
      "                \"sequence\": 4294967293\n",
      "            },\n",
      "            {\n",
      "                \"txid\": \"dd85770f48b8ac74eec26f1c120ca08966e3b95332ee431b78f5e0485754f24a\",\n",
      "                \"vout\": 1,\n",
      "                \"prevout\": {\n",
      "                    \"scriptpubkey\": \"001406c3463450ab5eea707cb5d1402f6805bfa39515\",\n",
      "                    \"scriptpubkey_asm\": \"OP_0 OP_PUSHBYTES_20 06c3463450ab5eea707cb5d1402f6805bfa39515\",\n",
      "                    \"scriptpubkey_type\": \"v0_p2wpkh\",\n",
      "                    \"scriptpubkey_address\": \"tb1qqmp5vdzs4d0w5urukhg5qtmgqkl689g4pwn3d4\",\n",
      "                    \"value\": 1000\n",
      "                },\n",
      "                \"scriptsig\": \"\",\n",
      "                \"scriptsig_asm\": \"\",\n",
      "                \"witness\": [\n",
      "                    \"3044022055f4b9819fdd85fa770628f1f00a4ec43de086a8321e87e0409a0843197d1ad2022039c9610076f8d50f5364c155b45a10865e34a935424d626f046ef2b117ed6ee401\",\n",
      "                    \"025f38d2233140f5438d1cf5dde1dc08d9af5a47e284e3e3ccdfd16512eb68583f\"\n",
      "                ],\n",
      "                \"is_coinbase\": false,\n",
      "                \"sequence\": 4294967293\n",
      "            },\n",
      "            {\n",
      "                \"txid\": \"e09a98537e3dfb5e69c5014bab8929bf791559b7365ae5ed3ffde78041eda1c7\",\n",
      "                \"vout\": 0,\n",
      "                \"prevout\": {\n",
      "                    \"scriptpubkey\": \"0014f5cc2b8ac375968dcd93a8cb43f3fe601b5b67af\",\n",
      "                    \"scriptpubkey_asm\": \"OP_0 OP_PUSHBYTES_20 f5cc2b8ac375968dcd93a8cb43f3fe601b5b67af\",\n",
      "                    \"scriptpubkey_type\": \"v0_p2wpkh\",\n",
      "                    \"scriptpubkey_address\": \"tb1q7hxzhzkrwktgmnvn4r958ul7vqd4kea0lvfyj6\",\n",
      "                    \"value\": 1000\n",
      "                },\n",
      "                \"scriptsig\": \"\",\n",
      "                \"scriptsig_asm\": \"\",\n",
      "                \"witness\": [\n",
      "                    \"30440220068998b30e2086225c93ee725ebe4c194d1c113381b1aabd0cd45ec3d573442a02206e5c406e694fce9fb96c2d80f6d052fd034c112cef7ea027bb44fc53fc92c08901\",\n",
      "                    \"028deb50a0e11c602dc851bfcdbe22e8990bf022e63a2119f9da5df8a297972a36\"\n",
      "                ],\n",
      "                \"is_coinbase\": false,\n",
      "                \"sequence\": 4294967293\n",
      "            }\n",
      "        ],\n",
      "        \"vout\": [\n",
      "            {\n",
      "                \"scriptpubkey\": \"76a9147168a2048b5897144adc46f153e860157cd6d70288ac\",\n",
      "                \"scriptpubkey_asm\": \"OP_DUP OP_HASH160 OP_PUSHBYTES_20 7168a2048b5897144adc46f153e860157cd6d702 OP_EQUALVERIFY OP_CHECKSIG\",\n",
      "                \"scriptpubkey_type\": \"p2pkh\",\n",
      "                \"scriptpubkey_address\": \"mqrbzkWRDPzbwxkv8hrFWL4UohEQjpbDeF\",\n",
      "                \"value\": 21311\n",
      "            }\n",
      "        ],\n",
      "        \"size\": 1230,\n",
      "        \"weight\": 2346,\n",
      "        \"fee\": 589,\n",
      "        \"status\": {\n",
      "            \"confirmed\": false\n",
      "        }\n",
      "    }\n",
      "]\n"
     ]
    }
   ],
   "source": [
    "explorer history $(echo $address)"
   ]
  },
  {
   "cell_type": "code",
   "execution_count": 11,
   "metadata": {},
   "outputs": [
    {
     "name": "stdout",
     "output_type": "stream",
     "text": [
      "Unspents of address mqrbzkWRDPzbwxkv8hrFWL4UohEQjpbDeF: [\n",
      "    {\n",
      "        \"txid\": \"8e27105589394184737578d3b4d5fc659ade25f5c9a4edda207ef371f211c72d\",\n",
      "        \"vout\": 0,\n",
      "        \"status\": {\n",
      "            \"confirmed\": false\n",
      "        },\n",
      "        \"value\": 21311\n",
      "    }\n",
      "]\n"
     ]
    }
   ],
   "source": [
    "explorer utxos $(echo $address)"
   ]
  },
  {
   "cell_type": "code",
   "execution_count": 12,
   "metadata": {},
   "outputs": [],
   "source": [
    "# Save variables for later when we construct the transaction\n",
    "previous_txid=\"8e27105589394184737578d3b4d5fc659ade25f5c9a4edda207ef371f211c72d\"\n",
    "previous_output_index=\"0\"\n",
    "previous_output_amount=\"21311\""
   ]
  },
  {
   "cell_type": "markdown",
   "metadata": {},
   "source": [
    "<hr style=\"border: 0.5px dashed #000;\">\n",
    "\n",
    "## 1. Setup receiving wallet.\n"
   ]
  },
  {
   "cell_type": "markdown",
   "metadata": {},
   "source": [
    "### Create new mnemonic and derive hd master keys."
   ]
  },
  {
   "cell_type": "code",
   "execution_count": 13,
   "metadata": {},
   "outputs": [
    {
     "name": "stdout",
     "output_type": "stream",
     "text": [
      "assist course prevent phrase tennis cotton useless pitch dog reduce when pudding valve wood agent truly bunker monitor\n",
      "tprv8ZgxMBicQKsPefg5bw77eCK6xfEipVCZKN49s2Wt2cbapAFhA61fiS3URmHMJP1E4pdcgw9VKE2ZdpDqnfyJaV1yLsVoKGLu7aQaHBuUmFf\n",
      "tpubD6NzVbkrYhZ4Y8hsVami3byDXgkeypPTtfew9YZBStPyeeWTnUqFtvfLbuPvat7aApKy6jT7VHFSjQTLKaDCvKT3KiM9dhGHbcpEcFd4ZVu\n"
     ]
    }
   ],
   "source": [
    "my_mnemonic=$(entropy | bx mnemonic-new)\n",
    "hd_master_private=$(bx mnemonic-to-seed $my_mnemonic | bx hd-new)\n",
    "hd_master_public=$(bx hd-to-public $hd_master_private)\n",
    "echo $my_mnemonic\n",
    "echo $hd_master_private\n",
    "echo $hd_master_public"
   ]
  },
  {
   "cell_type": "markdown",
   "metadata": {},
   "source": [
    "### Account 1: Generate destination key pairs.\n",
    "\n",
    "You will spend the previously received utxo to receiving addresses from `account 1`, namely `/44'/1'/1'/0/0`, `/44'/1'/1'/0/1`, `/44'/1'/1'/0/2`, `/44'/1'/1'/0/3` ...\n"
   ]
  },
  {
   "cell_type": "code",
   "execution_count": 14,
   "metadata": {},
   "outputs": [
    {
     "name": "stdout",
     "output_type": "stream",
     "text": [
      "3874ecad30814887d789ca6888853f1d0a938ec5\n",
      "64d29ca4bfe732b1857a71d06f40f29e6721b76a\n",
      "aee076e5f9b54ccf648459349ecc2fceb200b80b\n"
     ]
    }
   ],
   "source": [
    "# Useful bx functions: hd-private, hd-to-public, sha256, ripemd160\n",
    "# Account 1 receiving parent: m/44'/1'/1'/0\n",
    "hd_m_44h_1h_1h_0=$(bx hd-private --hard --index 44 $hd_master_private \\\n",
    "| bx hd-private --hard --index 1  \\\n",
    "| bx hd-private --hard --index 1  \\\n",
    "| bx hd-private --index 0)\n",
    "\n",
    "hd_m_44h_1h_1h_0_0=$(bx hd-private --index 0 $hd_m_44h_1h_1h_0)\n",
    "publickeyhash_44h_1h_1h_0_0=$(bx hd-to-public $hd_m_44h_1h_1h_0_0 | bx hd-to-ec | bx sha256 | bx ripemd160)\n",
    "echo $publickeyhash_44h_1h_1h_0_0\n",
    "\n",
    "hd_m_44h_1h_1h_0_1=$(bx hd-private --index 1 $hd_m_44h_1h_1h_0)\n",
    "publickeyhash_44h_1h_1h_0_1=$(bx hd-to-public $hd_m_44h_1h_1h_0_1 | bx hd-to-ec | bx sha256 | bx ripemd160)\n",
    "echo $publickeyhash_44h_1h_1h_0_1\n",
    "\n",
    "hd_m_44h_1h_1h_0_2=$(bx hd-private --index 2 $hd_m_44h_1h_1h_0)\n",
    "publickeyhash_44h_1h_1h_0_2=$(bx hd-to-public $hd_m_44h_1h_1h_0_2 | bx hd-to-ec | bx sha256 | bx ripemd160)\n",
    "echo $publickeyhash_44h_1h_1h_0_2"
   ]
  },
  {
   "cell_type": "markdown",
   "metadata": {},
   "source": [
    "## 2. Spending a P2PKH output."
   ]
  },
  {
   "cell_type": "markdown",
   "metadata": {},
   "source": [
    "### Create output scripts."
   ]
  },
  {
   "cell_type": "markdown",
   "metadata": {},
   "source": [
    "* **Compose P2PKH(destination public key hash) output scripts for each destination.**"
   ]
  },
  {
   "cell_type": "code",
   "execution_count": 15,
   "metadata": {},
   "outputs": [
    {
     "name": "stdout",
     "output_type": "stream",
     "text": [
      "76a914aee076e5f9b54ccf648459349ecc2fceb200b80b88ac\n"
     ]
    }
   ],
   "source": [
    "# Useful bx functions: script-encode\n",
    "# bx script-encode \"DUP HASH160 [public key hash] EQUALVERIFY CHECKSIG\"\n",
    "output_script0=$(bx script-encode \"DUP HASH160 [\"$publickeyhash_44h_1h_1h_0_0\"] EQUALVERIFY CHECKSIG\")\n",
    "output_script1=$(bx script-encode \"DUP HASH160 [\"$publickeyhash_44h_1h_1h_0_1\"] EQUALVERIFY CHECKSIG\")\n",
    "output_script2=$(bx script-encode \"DUP HASH160 [\"$publickeyhash_44h_1h_1h_0_2\"] EQUALVERIFY CHECKSIG\")\n",
    "\n",
    "echo $output_script2"
   ]
  },
  {
   "cell_type": "code",
   "execution_count": 16,
   "metadata": {},
   "outputs": [
    {
     "name": "stdout",
     "output_type": "stream",
     "text": [
      "6103\n"
     ]
    }
   ],
   "source": [
    "# spent amount evenly across outputs, minus some sats to cover the fee\n",
    "single_output_amount=$(expr $previous_output_amount / 3 - 1000)\n",
    "echo $single_output_amount"
   ]
  },
  {
   "cell_type": "markdown",
   "metadata": {},
   "source": [
    "### Construct transaction template for signing.\n",
    "\n",
    "* `sequence: 0xffffffff(hex)/4294967295(dec)`"
   ]
  },
  {
   "cell_type": "code",
   "execution_count": 17,
   "metadata": {},
   "outputs": [
    {
     "name": "stdout",
     "output_type": "stream",
     "text": [
      "01000000012dc711f271f37e20daeda4c9f525de9a65fcd5b4d3787573844139895510278e0000000000ffffffff03d7170000000000001976a9143874ecad30814887d789ca6888853f1d0a938ec588acd7170000000000001976a91464d29ca4bfe732b1857a71d06f40f29e6721b76a88acd7170000000000001976a914aee076e5f9b54ccf648459349ecc2fceb200b80b88ac00000000\n"
     ]
    }
   ],
   "source": [
    "# Useful bx functions: tx-encode\n",
    "my_tx=$(bx tx-encode \\\n",
    "--input $previous_txid:$previous_output_index:4294967295 \\\n",
    "--output $output_script0:$single_output_amount \\\n",
    "--output $output_script1:$single_output_amount \\\n",
    "--output $output_script2:$single_output_amount)\n",
    "echo $my_tx"
   ]
  },
  {
   "cell_type": "markdown",
   "metadata": {},
   "source": [
    "### Sign transaction."
   ]
  },
  {
   "cell_type": "markdown",
   "metadata": {},
   "source": [
    "**Fetch previous output script (check output index ! )**"
   ]
  },
  {
   "cell_type": "markdown",
   "metadata": {},
   "source": [
    "**Sign transaction with previous output script.**"
   ]
  },
  {
   "cell_type": "code",
   "execution_count": 18,
   "metadata": {},
   "outputs": [
    {
     "name": "stdout",
     "output_type": "stream",
     "text": [
      "{\n",
      "    \"txid\": \"8e27105589394184737578d3b4d5fc659ade25f5c9a4edda207ef371f211c72d\",\n",
      "    \"version\": 2,\n",
      "    \"locktime\": 2577310,\n",
      "    \"vin\": [\n",
      "        {\n",
      "            \"txid\": \"4686fd8d5f4ccc8c23da61b71f25dbcfb507184d36c18f77b6cf566148695902\",\n",
      "            \"vout\": 0,\n",
      "            \"prevout\": {\n",
      "                \"scriptpubkey\": \"0014f5cc2b8ac375968dcd93a8cb43f3fe601b5b67af\",\n",
      "                \"scriptpubkey_asm\": \"OP_0 OP_PUSHBYTES_20 f5cc2b8ac375968dcd93a8cb43f3fe601b5b67af\",\n",
      "                \"scriptpubkey_type\": \"v0_p2wpkh\",\n",
      "                \"scriptpubkey_address\": \"tb1q7hxzhzkrwktgmnvn4r958ul7vqd4kea0lvfyj6\",\n",
      "                \"value\": 100\n",
      "            },\n",
      "            \"scriptsig\": \"\",\n",
      "            \"scriptsig_asm\": \"\",\n",
      "            \"witness\": [\n",
      "                \"304402201898dfafa48a4908c7bd70e66cc96517880930416d47ed337ccb0b9ab877e98b02207d6a0f4b0dea1d1fbb6564ee398dfcbdd85bb9b2f9c7f5d2be97d6456c41e5a201\",\n",
      "                \"028deb50a0e11c602dc851bfcdbe22e8990bf022e63a2119f9da5df8a297972a36\"\n",
      "            ],\n",
      "            \"is_coinbase\": false,\n",
      "            \"sequence\": 4294967293\n",
      "        },\n",
      "        {\n",
      "            \"txid\": \"5285dde7891499a87637a332bf60b9d96872857dc712ab081c963941578dd183\",\n",
      "            \"vout\": 1,\n",
      "            \"prevout\": {\n",
      "                \"scriptpubkey\": \"0014d5b8f57bbc3e6a950d1c371d15565e4d019c7e08\",\n",
      "                \"scriptpubkey_asm\": \"OP_0 OP_PUSHBYTES_20 d5b8f57bbc3e6a950d1c371d15565e4d019c7e08\",\n",
      "                \"scriptpubkey_type\": \"v0_p2wpkh\",\n",
      "                \"scriptpubkey_address\": \"tb1q6ku027au8e4f2rguxuw324j7f5qeclsg8zwhgl\",\n",
      "                \"value\": 14600\n",
      "            },\n",
      "            \"scriptsig\": \"\",\n",
      "            \"scriptsig_asm\": \"\",\n",
      "            \"witness\": [\n",
      "                \"3044022011a47d39facae5d266c7919e997f3918c96671f7fd0cb23d92379ac986a94c3302202fc67ab13533dd59a0bfd957c8775002dbb7f95599a7c2c4c2cf57cd6dcaa79601\",\n",
      "                \"02a21466ea3ef908efdb1cfb2264693bace9f403074d807848b2fe5e712ff74ee8\"\n",
      "            ],\n",
      "            \"is_coinbase\": false,\n",
      "            \"sequence\": 4294967293\n",
      "        },\n",
      "        {\n",
      "            \"txid\": \"71d0cf3614c892c51faccb7c92df467278582bd51653e5aa9a70e568886f630a\",\n",
      "            \"vout\": 0,\n",
      "            \"prevout\": {\n",
      "                \"scriptpubkey\": \"0014f5cc2b8ac375968dcd93a8cb43f3fe601b5b67af\",\n",
      "                \"scriptpubkey_asm\": \"OP_0 OP_PUSHBYTES_20 f5cc2b8ac375968dcd93a8cb43f3fe601b5b67af\",\n",
      "                \"scriptpubkey_type\": \"v0_p2wpkh\",\n",
      "                \"scriptpubkey_address\": \"tb1q7hxzhzkrwktgmnvn4r958ul7vqd4kea0lvfyj6\",\n",
      "                \"value\": 100\n",
      "            },\n",
      "            \"scriptsig\": \"\",\n",
      "            \"scriptsig_asm\": \"\",\n",
      "            \"witness\": [\n",
      "                \"304402207c0b1b249b61efbbe09c7d3034c394a35dd20f107b8634eccc65ea2a53d402f0022070a54ca93291d726225971a839d0471156b9fb6ecf42d8f2300641dc5cc9b35e01\",\n",
      "                \"028deb50a0e11c602dc851bfcdbe22e8990bf022e63a2119f9da5df8a297972a36\"\n",
      "            ],\n",
      "            \"is_coinbase\": false,\n",
      "            \"sequence\": 4294967293\n",
      "        },\n",
      "        {\n",
      "            \"txid\": \"a4661c787062e58319726392193f849cd2acc0125bec0af0adf701bb711f27cb\",\n",
      "            \"vout\": 7,\n",
      "            \"prevout\": {\n",
      "                \"scriptpubkey\": \"0014d25383388444c318c8e5e1ba587b4f1bf1b0a6b6\",\n",
      "                \"scriptpubkey_asm\": \"OP_0 OP_PUSHBYTES_20 d25383388444c318c8e5e1ba587b4f1bf1b0a6b6\",\n",
      "                \"scriptpubkey_type\": \"v0_p2wpkh\",\n",
      "                \"scriptpubkey_address\": \"tb1q6ffcxwyygnp33j89uxa9s760r0cmpf4ktucmjl\",\n",
      "                \"value\": 2000\n",
      "            },\n",
      "            \"scriptsig\": \"\",\n",
      "            \"scriptsig_asm\": \"\",\n",
      "            \"witness\": [\n",
      "                \"304402204c3d7b3beb7a5c5d3532752cd45615767f3947534387e25098c0c2b1094694890220079dec82f002ebe2337cdfd1d53d4d377f510e0777465826dfaaad7ebd750cfc01\",\n",
      "                \"03fa4110c465b7213988288ff2b1a52c8de2e9deeab606173875ffef4cfa6839a5\"\n",
      "            ],\n",
      "            \"is_coinbase\": false,\n",
      "            \"sequence\": 4294967293\n",
      "        },\n",
      "        {\n",
      "            \"txid\": \"ab66fb60f1065bd4833b7b7904e9771b12aad70216417be68f7d571923077bfd\",\n",
      "            \"vout\": 1,\n",
      "            \"prevout\": {\n",
      "                \"scriptpubkey\": \"0014f5cc2b8ac375968dcd93a8cb43f3fe601b5b67af\",\n",
      "                \"scriptpubkey_asm\": \"OP_0 OP_PUSHBYTES_20 f5cc2b8ac375968dcd93a8cb43f3fe601b5b67af\",\n",
      "                \"scriptpubkey_type\": \"v0_p2wpkh\",\n",
      "                \"scriptpubkey_address\": \"tb1q7hxzhzkrwktgmnvn4r958ul7vqd4kea0lvfyj6\",\n",
      "                \"value\": 3000\n",
      "            },\n",
      "            \"scriptsig\": \"\",\n",
      "            \"scriptsig_asm\": \"\",\n",
      "            \"witness\": [\n",
      "                \"30440220205cc020d1d11161cbc6ce43aa9ef15a93faf6a6c8eee896ec82bff4ef1d34e1022048b0619e6a8cb24be0d1f2cfb8bd90b233d490d149310f0d2bb3e2d1298023eb01\",\n",
      "                \"028deb50a0e11c602dc851bfcdbe22e8990bf022e63a2119f9da5df8a297972a36\"\n",
      "            ],\n",
      "            \"is_coinbase\": false,\n",
      "            \"sequence\": 4294967293\n",
      "        },\n",
      "        {\n",
      "            \"txid\": \"b3a9cd0c68306c171d9d4d2ddd46b5631c197c83b20fcf45e1be69a09d27be5d\",\n",
      "            \"vout\": 0,\n",
      "            \"prevout\": {\n",
      "                \"scriptpubkey\": \"0014f5cc2b8ac375968dcd93a8cb43f3fe601b5b67af\",\n",
      "                \"scriptpubkey_asm\": \"OP_0 OP_PUSHBYTES_20 f5cc2b8ac375968dcd93a8cb43f3fe601b5b67af\",\n",
      "                \"scriptpubkey_type\": \"v0_p2wpkh\",\n",
      "                \"scriptpubkey_address\": \"tb1q7hxzhzkrwktgmnvn4r958ul7vqd4kea0lvfyj6\",\n",
      "                \"value\": 100\n",
      "            },\n",
      "            \"scriptsig\": \"\",\n",
      "            \"scriptsig_asm\": \"\",\n",
      "            \"witness\": [\n",
      "                \"3044022033b572f8c3ce005d397dbf25fac516f17954e1bbcb3ceceb7b44cd0cb49631ec02206f628d25f7495005193499fb210d78147643c76bb65ae2cb40be424c4d5f1cdf01\",\n",
      "                \"028deb50a0e11c602dc851bfcdbe22e8990bf022e63a2119f9da5df8a297972a36\"\n",
      "            ],\n",
      "            \"is_coinbase\": false,\n",
      "            \"sequence\": 4294967293\n",
      "        },\n",
      "        {\n",
      "            \"txid\": \"dd85770f48b8ac74eec26f1c120ca08966e3b95332ee431b78f5e0485754f24a\",\n",
      "            \"vout\": 1,\n",
      "            \"prevout\": {\n",
      "                \"scriptpubkey\": \"001406c3463450ab5eea707cb5d1402f6805bfa39515\",\n",
      "                \"scriptpubkey_asm\": \"OP_0 OP_PUSHBYTES_20 06c3463450ab5eea707cb5d1402f6805bfa39515\",\n",
      "                \"scriptpubkey_type\": \"v0_p2wpkh\",\n",
      "                \"scriptpubkey_address\": \"tb1qqmp5vdzs4d0w5urukhg5qtmgqkl689g4pwn3d4\",\n",
      "                \"value\": 1000\n",
      "            },\n",
      "            \"scriptsig\": \"\",\n",
      "            \"scriptsig_asm\": \"\",\n",
      "            \"witness\": [\n",
      "                \"3044022055f4b9819fdd85fa770628f1f00a4ec43de086a8321e87e0409a0843197d1ad2022039c9610076f8d50f5364c155b45a10865e34a935424d626f046ef2b117ed6ee401\",\n",
      "                \"025f38d2233140f5438d1cf5dde1dc08d9af5a47e284e3e3ccdfd16512eb68583f\"\n",
      "            ],\n",
      "            \"is_coinbase\": false,\n",
      "            \"sequence\": 4294967293\n",
      "        },\n",
      "        {\n",
      "            \"txid\": \"e09a98537e3dfb5e69c5014bab8929bf791559b7365ae5ed3ffde78041eda1c7\",\n",
      "            \"vout\": 0,\n",
      "            \"prevout\": {\n",
      "                \"scriptpubkey\": \"0014f5cc2b8ac375968dcd93a8cb43f3fe601b5b67af\",\n",
      "                \"scriptpubkey_asm\": \"OP_0 OP_PUSHBYTES_20 f5cc2b8ac375968dcd93a8cb43f3fe601b5b67af\",\n",
      "                \"scriptpubkey_type\": \"v0_p2wpkh\",\n",
      "                \"scriptpubkey_address\": \"tb1q7hxzhzkrwktgmnvn4r958ul7vqd4kea0lvfyj6\",\n",
      "                \"value\": 1000\n",
      "            },\n",
      "            \"scriptsig\": \"\",\n",
      "            \"scriptsig_asm\": \"\",\n",
      "            \"witness\": [\n",
      "                \"30440220068998b30e2086225c93ee725ebe4c194d1c113381b1aabd0cd45ec3d573442a02206e5c406e694fce9fb96c2d80f6d052fd034c112cef7ea027bb44fc53fc92c08901\",\n",
      "                \"028deb50a0e11c602dc851bfcdbe22e8990bf022e63a2119f9da5df8a297972a36\"\n",
      "            ],\n",
      "            \"is_coinbase\": false,\n",
      "            \"sequence\": 4294967293\n",
      "        }\n",
      "    ],\n",
      "    \"vout\": [\n",
      "        {\n",
      "            \"scriptpubkey\": \"76a9147168a2048b5897144adc46f153e860157cd6d70288ac\",\n",
      "            \"scriptpubkey_asm\": \"OP_DUP OP_HASH160 OP_PUSHBYTES_20 7168a2048b5897144adc46f153e860157cd6d702 OP_EQUALVERIFY OP_CHECKSIG\",\n",
      "            \"scriptpubkey_type\": \"p2pkh\",\n",
      "            \"scriptpubkey_address\": \"mqrbzkWRDPzbwxkv8hrFWL4UohEQjpbDeF\",\n",
      "            \"value\": 21311\n",
      "        }\n",
      "    ],\n",
      "    \"size\": 1230,\n",
      "    \"weight\": 2346,\n",
      "    \"fee\": 589,\n",
      "    \"status\": {\n",
      "        \"confirmed\": false\n",
      "    }\n",
      "}\n"
     ]
    }
   ],
   "source": [
    "# Useful functions: explorer transaction\n",
    "explorer transaction $(echo $previous_txid)"
   ]
  },
  {
   "cell_type": "code",
   "execution_count": 19,
   "metadata": {},
   "outputs": [
    {
     "name": "stdout",
     "output_type": "stream",
     "text": [
      "dup hash160 [7168a2048b5897144adc46f153e860157cd6d702] equalverify checksig\n",
      "7168a2048b5897144adc46f153e860157cd6d702\n"
     ]
    }
   ],
   "source": [
    "previous_output_script_encoded=76a9147168a2048b5897144adc46f153e860157cd6d70288ac\n",
    "previous_output_script=$(bx script-decode $previous_output_script_encoded)\n",
    "\n",
    "echo $previous_output_script\n",
    "echo $pubkeyhash"
   ]
  },
  {
   "cell_type": "code",
   "execution_count": 20,
   "metadata": {},
   "outputs": [
    {
     "name": "stdout",
     "output_type": "stream",
     "text": [
      "3045022100bc9f440e7633a6dcdada0e5e81621c21be3e6da9418cafca87cad3be56aa1b2602203a5af9e55872e05e5ffd9770513d5da038d3003da0c0a8bdce1611e876a280a401\n"
     ]
    }
   ],
   "source": [
    "# Useful bx functions: input-sign\n",
    "# bx input-sign [private key] \"previous output script\" [transaction template]\n",
    "signature=$(bx input-sign --sign_type all --index 0 $privkey \"$previous_output_script\" $my_tx)\n",
    "echo $signature"
   ]
  },
  {
   "cell_type": "markdown",
   "metadata": {},
   "source": [
    "**Set the input script into the finalised transaction.**"
   ]
  },
  {
   "cell_type": "code",
   "execution_count": 21,
   "metadata": {},
   "outputs": [
    {
     "name": "stdout",
     "output_type": "stream",
     "text": [
      "01000000012dc711f271f37e20daeda4c9f525de9a65fcd5b4d3787573844139895510278e000000006b483045022100bc9f440e7633a6dcdada0e5e81621c21be3e6da9418cafca87cad3be56aa1b2602203a5af9e55872e05e5ffd9770513d5da038d3003da0c0a8bdce1611e876a280a4012103d8095cfa338f5b8f7a3e7d2be7793a54ddd14a372b6e02c25456aca70934bef4ffffffff03d7170000000000001976a9143874ecad30814887d789ca6888853f1d0a938ec588acd7170000000000001976a91464d29ca4bfe732b1857a71d06f40f29e6721b76a88acd7170000000000001976a914aee076e5f9b54ccf648459349ecc2fceb200b80b88ac00000000\n"
     ]
    }
   ],
   "source": [
    "# Useful bx functions: input-set\n",
    "my_tx=$(bx input-set --index 0 \"[$signature] [$pubkey]\" $my_tx)\n",
    "echo $my_tx"
   ]
  },
  {
   "cell_type": "markdown",
   "metadata": {},
   "source": [
    "## 3. Validate & Broadcast the endorsed transaction"
   ]
  },
  {
   "cell_type": "code",
   "execution_count": 23,
   "metadata": {},
   "outputs": [
    {
     "name": "stdout",
     "output_type": "stream",
     "text": [
      "The transaction is valid.\n"
     ]
    }
   ],
   "source": [
    "bx validate-tx $my_tx"
   ]
  },
  {
   "cell_type": "code",
   "execution_count": 24,
   "metadata": {},
   "outputs": [
    {
     "name": "stdout",
     "output_type": "stream",
     "text": [
      "Sent transaction.\n"
     ]
    }
   ],
   "source": [
    "bx send-tx $my_tx"
   ]
  },
  {
   "cell_type": "markdown",
   "metadata": {},
   "source": [
    "## Check history for sending and a receiving address"
   ]
  },
  {
   "cell_type": "code",
   "execution_count": 26,
   "metadata": {},
   "outputs": [
    {
     "name": "stdout",
     "output_type": "stream",
     "text": [
      "History of address mqrbzkWRDPzbwxkv8hrFWL4UohEQjpbDeF: [\n",
      "    {\n",
      "        \"txid\": \"3b0d7e4098233dbfda6f9f439a281b7d1c2a0061e330267eef4d8bf0dc1848b1\",\n",
      "        \"version\": 1,\n",
      "        \"locktime\": 0,\n",
      "        \"vin\": [\n",
      "            {\n",
      "                \"txid\": \"8e27105589394184737578d3b4d5fc659ade25f5c9a4edda207ef371f211c72d\",\n",
      "                \"vout\": 0,\n",
      "                \"prevout\": {\n",
      "                    \"scriptpubkey\": \"76a9147168a2048b5897144adc46f153e860157cd6d70288ac\",\n",
      "                    \"scriptpubkey_asm\": \"OP_DUP OP_HASH160 OP_PUSHBYTES_20 7168a2048b5897144adc46f153e860157cd6d702 OP_EQUALVERIFY OP_CHECKSIG\",\n",
      "                    \"scriptpubkey_type\": \"p2pkh\",\n",
      "                    \"scriptpubkey_address\": \"mqrbzkWRDPzbwxkv8hrFWL4UohEQjpbDeF\",\n",
      "                    \"value\": 21311\n",
      "                },\n",
      "                \"scriptsig\": \"483045022100bc9f440e7633a6dcdada0e5e81621c21be3e6da9418cafca87cad3be56aa1b2602203a5af9e55872e05e5ffd9770513d5da038d3003da0c0a8bdce1611e876a280a4012103d8095cfa338f5b8f7a3e7d2be7793a54ddd14a372b6e02c25456aca70934bef4\",\n",
      "                \"scriptsig_asm\": \"OP_PUSHBYTES_72 3045022100bc9f440e7633a6dcdada0e5e81621c21be3e6da9418cafca87cad3be56aa1b2602203a5af9e55872e05e5ffd9770513d5da038d3003da0c0a8bdce1611e876a280a401 OP_PUSHBYTES_33 03d8095cfa338f5b8f7a3e7d2be7793a54ddd14a372b6e02c25456aca70934bef4\",\n",
      "                \"is_coinbase\": false,\n",
      "                \"sequence\": 4294967295\n",
      "            }\n",
      "        ],\n",
      "        \"vout\": [\n",
      "            {\n",
      "                \"scriptpubkey\": \"76a9143874ecad30814887d789ca6888853f1d0a938ec588ac\",\n",
      "                \"scriptpubkey_asm\": \"OP_DUP OP_HASH160 OP_PUSHBYTES_20 3874ecad30814887d789ca6888853f1d0a938ec5 OP_EQUALVERIFY OP_CHECKSIG\",\n",
      "                \"scriptpubkey_type\": \"p2pkh\",\n",
      "                \"scriptpubkey_address\": \"mkfUCrWaNQNEv9sKC22knYPmGS7RDCmBCP\",\n",
      "                \"value\": 6103\n",
      "            },\n",
      "            {\n",
      "                \"scriptpubkey\": \"76a91464d29ca4bfe732b1857a71d06f40f29e6721b76a88ac\",\n",
      "                \"scriptpubkey_asm\": \"OP_DUP OP_HASH160 OP_PUSHBYTES_20 64d29ca4bfe732b1857a71d06f40f29e6721b76a OP_EQUALVERIFY OP_CHECKSIG\",\n",
      "                \"scriptpubkey_type\": \"p2pkh\",\n",
      "                \"scriptpubkey_address\": \"mpi4AooB6uvDqgdpP2oUETLQkNiWRjPY5h\",\n",
      "                \"value\": 6103\n",
      "            },\n",
      "            {\n",
      "                \"scriptpubkey\": \"76a914aee076e5f9b54ccf648459349ecc2fceb200b80b88ac\",\n",
      "                \"scriptpubkey_asm\": \"OP_DUP OP_HASH160 OP_PUSHBYTES_20 aee076e5f9b54ccf648459349ecc2fceb200b80b OP_EQUALVERIFY OP_CHECKSIG\",\n",
      "                \"scriptpubkey_type\": \"p2pkh\",\n",
      "                \"scriptpubkey_address\": \"mwTcmVhjdkRJ1XZ2SnENTwt3E3MG542hZR\",\n",
      "                \"value\": 6103\n",
      "            }\n",
      "        ],\n",
      "        \"size\": 260,\n",
      "        \"weight\": 1040,\n",
      "        \"fee\": 3002,\n",
      "        \"status\": {\n",
      "            \"confirmed\": false\n",
      "        }\n",
      "    },\n",
      "    {\n",
      "        \"txid\": \"8e27105589394184737578d3b4d5fc659ade25f5c9a4edda207ef371f211c72d\",\n",
      "        \"version\": 2,\n",
      "        \"locktime\": 2577310,\n",
      "        \"vin\": [\n",
      "            {\n",
      "                \"txid\": \"4686fd8d5f4ccc8c23da61b71f25dbcfb507184d36c18f77b6cf566148695902\",\n",
      "                \"vout\": 0,\n",
      "                \"prevout\": {\n",
      "                    \"scriptpubkey\": \"0014f5cc2b8ac375968dcd93a8cb43f3fe601b5b67af\",\n",
      "                    \"scriptpubkey_asm\": \"OP_0 OP_PUSHBYTES_20 f5cc2b8ac375968dcd93a8cb43f3fe601b5b67af\",\n",
      "                    \"scriptpubkey_type\": \"v0_p2wpkh\",\n",
      "                    \"scriptpubkey_address\": \"tb1q7hxzhzkrwktgmnvn4r958ul7vqd4kea0lvfyj6\",\n",
      "                    \"value\": 100\n",
      "                },\n",
      "                \"scriptsig\": \"\",\n",
      "                \"scriptsig_asm\": \"\",\n",
      "                \"witness\": [\n",
      "                    \"304402201898dfafa48a4908c7bd70e66cc96517880930416d47ed337ccb0b9ab877e98b02207d6a0f4b0dea1d1fbb6564ee398dfcbdd85bb9b2f9c7f5d2be97d6456c41e5a201\",\n",
      "                    \"028deb50a0e11c602dc851bfcdbe22e8990bf022e63a2119f9da5df8a297972a36\"\n",
      "                ],\n",
      "                \"is_coinbase\": false,\n",
      "                \"sequence\": 4294967293\n",
      "            },\n",
      "            {\n",
      "                \"txid\": \"5285dde7891499a87637a332bf60b9d96872857dc712ab081c963941578dd183\",\n",
      "                \"vout\": 1,\n",
      "                \"prevout\": {\n",
      "                    \"scriptpubkey\": \"0014d5b8f57bbc3e6a950d1c371d15565e4d019c7e08\",\n",
      "                    \"scriptpubkey_asm\": \"OP_0 OP_PUSHBYTES_20 d5b8f57bbc3e6a950d1c371d15565e4d019c7e08\",\n",
      "                    \"scriptpubkey_type\": \"v0_p2wpkh\",\n",
      "                    \"scriptpubkey_address\": \"tb1q6ku027au8e4f2rguxuw324j7f5qeclsg8zwhgl\",\n",
      "                    \"value\": 14600\n",
      "                },\n",
      "                \"scriptsig\": \"\",\n",
      "                \"scriptsig_asm\": \"\",\n",
      "                \"witness\": [\n",
      "                    \"3044022011a47d39facae5d266c7919e997f3918c96671f7fd0cb23d92379ac986a94c3302202fc67ab13533dd59a0bfd957c8775002dbb7f95599a7c2c4c2cf57cd6dcaa79601\",\n",
      "                    \"02a21466ea3ef908efdb1cfb2264693bace9f403074d807848b2fe5e712ff74ee8\"\n",
      "                ],\n",
      "                \"is_coinbase\": false,\n",
      "                \"sequence\": 4294967293\n",
      "            },\n",
      "            {\n",
      "                \"txid\": \"71d0cf3614c892c51faccb7c92df467278582bd51653e5aa9a70e568886f630a\",\n",
      "                \"vout\": 0,\n",
      "                \"prevout\": {\n",
      "                    \"scriptpubkey\": \"0014f5cc2b8ac375968dcd93a8cb43f3fe601b5b67af\",\n",
      "                    \"scriptpubkey_asm\": \"OP_0 OP_PUSHBYTES_20 f5cc2b8ac375968dcd93a8cb43f3fe601b5b67af\",\n",
      "                    \"scriptpubkey_type\": \"v0_p2wpkh\",\n",
      "                    \"scriptpubkey_address\": \"tb1q7hxzhzkrwktgmnvn4r958ul7vqd4kea0lvfyj6\",\n",
      "                    \"value\": 100\n",
      "                },\n",
      "                \"scriptsig\": \"\",\n",
      "                \"scriptsig_asm\": \"\",\n",
      "                \"witness\": [\n",
      "                    \"304402207c0b1b249b61efbbe09c7d3034c394a35dd20f107b8634eccc65ea2a53d402f0022070a54ca93291d726225971a839d0471156b9fb6ecf42d8f2300641dc5cc9b35e01\",\n",
      "                    \"028deb50a0e11c602dc851bfcdbe22e8990bf022e63a2119f9da5df8a297972a36\"\n",
      "                ],\n",
      "                \"is_coinbase\": false,\n",
      "                \"sequence\": 4294967293\n",
      "            },\n",
      "            {\n",
      "                \"txid\": \"a4661c787062e58319726392193f849cd2acc0125bec0af0adf701bb711f27cb\",\n",
      "                \"vout\": 7,\n",
      "                \"prevout\": {\n",
      "                    \"scriptpubkey\": \"0014d25383388444c318c8e5e1ba587b4f1bf1b0a6b6\",\n",
      "                    \"scriptpubkey_asm\": \"OP_0 OP_PUSHBYTES_20 d25383388444c318c8e5e1ba587b4f1bf1b0a6b6\",\n",
      "                    \"scriptpubkey_type\": \"v0_p2wpkh\",\n",
      "                    \"scriptpubkey_address\": \"tb1q6ffcxwyygnp33j89uxa9s760r0cmpf4ktucmjl\",\n",
      "                    \"value\": 2000\n",
      "                },\n",
      "                \"scriptsig\": \"\",\n",
      "                \"scriptsig_asm\": \"\",\n",
      "                \"witness\": [\n",
      "                    \"304402204c3d7b3beb7a5c5d3532752cd45615767f3947534387e25098c0c2b1094694890220079dec82f002ebe2337cdfd1d53d4d377f510e0777465826dfaaad7ebd750cfc01\",\n",
      "                    \"03fa4110c465b7213988288ff2b1a52c8de2e9deeab606173875ffef4cfa6839a5\"\n",
      "                ],\n",
      "                \"is_coinbase\": false,\n",
      "                \"sequence\": 4294967293\n",
      "            },\n",
      "            {\n",
      "                \"txid\": \"ab66fb60f1065bd4833b7b7904e9771b12aad70216417be68f7d571923077bfd\",\n",
      "                \"vout\": 1,\n",
      "                \"prevout\": {\n",
      "                    \"scriptpubkey\": \"0014f5cc2b8ac375968dcd93a8cb43f3fe601b5b67af\",\n",
      "                    \"scriptpubkey_asm\": \"OP_0 OP_PUSHBYTES_20 f5cc2b8ac375968dcd93a8cb43f3fe601b5b67af\",\n",
      "                    \"scriptpubkey_type\": \"v0_p2wpkh\",\n",
      "                    \"scriptpubkey_address\": \"tb1q7hxzhzkrwktgmnvn4r958ul7vqd4kea0lvfyj6\",\n",
      "                    \"value\": 3000\n",
      "                },\n",
      "                \"scriptsig\": \"\",\n",
      "                \"scriptsig_asm\": \"\",\n",
      "                \"witness\": [\n",
      "                    \"30440220205cc020d1d11161cbc6ce43aa9ef15a93faf6a6c8eee896ec82bff4ef1d34e1022048b0619e6a8cb24be0d1f2cfb8bd90b233d490d149310f0d2bb3e2d1298023eb01\",\n",
      "                    \"028deb50a0e11c602dc851bfcdbe22e8990bf022e63a2119f9da5df8a297972a36\"\n",
      "                ],\n",
      "                \"is_coinbase\": false,\n",
      "                \"sequence\": 4294967293\n",
      "            },\n",
      "            {\n",
      "                \"txid\": \"b3a9cd0c68306c171d9d4d2ddd46b5631c197c83b20fcf45e1be69a09d27be5d\",\n",
      "                \"vout\": 0,\n",
      "                \"prevout\": {\n",
      "                    \"scriptpubkey\": \"0014f5cc2b8ac375968dcd93a8cb43f3fe601b5b67af\",\n",
      "                    \"scriptpubkey_asm\": \"OP_0 OP_PUSHBYTES_20 f5cc2b8ac375968dcd93a8cb43f3fe601b5b67af\",\n",
      "                    \"scriptpubkey_type\": \"v0_p2wpkh\",\n",
      "                    \"scriptpubkey_address\": \"tb1q7hxzhzkrwktgmnvn4r958ul7vqd4kea0lvfyj6\",\n",
      "                    \"value\": 100\n",
      "                },\n",
      "                \"scriptsig\": \"\",\n",
      "                \"scriptsig_asm\": \"\",\n",
      "                \"witness\": [\n",
      "                    \"3044022033b572f8c3ce005d397dbf25fac516f17954e1bbcb3ceceb7b44cd0cb49631ec02206f628d25f7495005193499fb210d78147643c76bb65ae2cb40be424c4d5f1cdf01\",\n",
      "                    \"028deb50a0e11c602dc851bfcdbe22e8990bf022e63a2119f9da5df8a297972a36\"\n",
      "                ],\n",
      "                \"is_coinbase\": false,\n",
      "                \"sequence\": 4294967293\n",
      "            },\n",
      "            {\n",
      "                \"txid\": \"dd85770f48b8ac74eec26f1c120ca08966e3b95332ee431b78f5e0485754f24a\",\n",
      "                \"vout\": 1,\n",
      "                \"prevout\": {\n",
      "                    \"scriptpubkey\": \"001406c3463450ab5eea707cb5d1402f6805bfa39515\",\n",
      "                    \"scriptpubkey_asm\": \"OP_0 OP_PUSHBYTES_20 06c3463450ab5eea707cb5d1402f6805bfa39515\",\n",
      "                    \"scriptpubkey_type\": \"v0_p2wpkh\",\n",
      "                    \"scriptpubkey_address\": \"tb1qqmp5vdzs4d0w5urukhg5qtmgqkl689g4pwn3d4\",\n",
      "                    \"value\": 1000\n",
      "                },\n",
      "                \"scriptsig\": \"\",\n",
      "                \"scriptsig_asm\": \"\",\n",
      "                \"witness\": [\n",
      "                    \"3044022055f4b9819fdd85fa770628f1f00a4ec43de086a8321e87e0409a0843197d1ad2022039c9610076f8d50f5364c155b45a10865e34a935424d626f046ef2b117ed6ee401\",\n",
      "                    \"025f38d2233140f5438d1cf5dde1dc08d9af5a47e284e3e3ccdfd16512eb68583f\"\n",
      "                ],\n",
      "                \"is_coinbase\": false,\n",
      "                \"sequence\": 4294967293\n",
      "            },\n",
      "            {\n",
      "                \"txid\": \"e09a98537e3dfb5e69c5014bab8929bf791559b7365ae5ed3ffde78041eda1c7\",\n",
      "                \"vout\": 0,\n",
      "                \"prevout\": {\n",
      "                    \"scriptpubkey\": \"0014f5cc2b8ac375968dcd93a8cb43f3fe601b5b67af\",\n",
      "                    \"scriptpubkey_asm\": \"OP_0 OP_PUSHBYTES_20 f5cc2b8ac375968dcd93a8cb43f3fe601b5b67af\",\n",
      "                    \"scriptpubkey_type\": \"v0_p2wpkh\",\n",
      "                    \"scriptpubkey_address\": \"tb1q7hxzhzkrwktgmnvn4r958ul7vqd4kea0lvfyj6\",\n",
      "                    \"value\": 1000\n",
      "                },\n",
      "                \"scriptsig\": \"\",\n",
      "                \"scriptsig_asm\": \"\",\n",
      "                \"witness\": [\n",
      "                    \"30440220068998b30e2086225c93ee725ebe4c194d1c113381b1aabd0cd45ec3d573442a02206e5c406e694fce9fb96c2d80f6d052fd034c112cef7ea027bb44fc53fc92c08901\",\n",
      "                    \"028deb50a0e11c602dc851bfcdbe22e8990bf022e63a2119f9da5df8a297972a36\"\n",
      "                ],\n",
      "                \"is_coinbase\": false,\n",
      "                \"sequence\": 4294967293\n",
      "            }\n",
      "        ],\n",
      "        \"vout\": [\n",
      "            {\n",
      "                \"scriptpubkey\": \"76a9147168a2048b5897144adc46f153e860157cd6d70288ac\",\n",
      "                \"scriptpubkey_asm\": \"OP_DUP OP_HASH160 OP_PUSHBYTES_20 7168a2048b5897144adc46f153e860157cd6d702 OP_EQUALVERIFY OP_CHECKSIG\",\n",
      "                \"scriptpubkey_type\": \"p2pkh\",\n",
      "                \"scriptpubkey_address\": \"mqrbzkWRDPzbwxkv8hrFWL4UohEQjpbDeF\",\n",
      "                \"value\": 21311\n",
      "            }\n",
      "        ],\n",
      "        \"size\": 1230,\n",
      "        \"weight\": 2346,\n",
      "        \"fee\": 589,\n",
      "        \"status\": {\n",
      "            \"confirmed\": true,\n",
      "            \"block_height\": 2577311,\n",
      "            \"block_hash\": \"000000000000001227abf2ca822bca4ef8d471af02f1d405be00ea0d66143a7d\",\n",
      "            \"block_time\": 1707325018\n",
      "        }\n",
      "    }\n",
      "]\n"
     ]
    }
   ],
   "source": [
    "# Useful explorer functions: history\n",
    "explorer history $(echo $address)"
   ]
  },
  {
   "cell_type": "code",
   "execution_count": 27,
   "metadata": {},
   "outputs": [
    {
     "name": "stdout",
     "output_type": "stream",
     "text": [
      "Unspents of address mqrbzkWRDPzbwxkv8hrFWL4UohEQjpbDeF: []\n"
     ]
    }
   ],
   "source": [
    "explorer utxos $(echo $address)"
   ]
  },
  {
   "cell_type": "code",
   "execution_count": null,
   "metadata": {},
   "outputs": [],
   "source": []
  }
 ],
 "metadata": {
  "kernelspec": {
   "display_name": "Bash",
   "language": "bash",
   "name": "bash"
  },
  "language_info": {
   "codemirror_mode": "shell",
   "file_extension": ".sh",
   "mimetype": "text/x-sh",
   "name": "bash"
  }
 },
 "nbformat": 4,
 "nbformat_minor": 4
}
