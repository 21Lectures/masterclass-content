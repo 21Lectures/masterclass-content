{
 "cells": [
  {
   "cell_type": "code",
   "execution_count": 1,
   "metadata": {},
   "outputs": [],
   "source": [
    "# We use this function to call bx from Python, see below for an example\n",
    "import subprocess\n",
    "def call(cmd):\n",
    "    res = subprocess.check_output([cmd], shell=True)\n",
    "    return res.strip().decode()\n",
    "\n",
    "import base58\n",
    "import hmac\n",
    "import hashlib\n",
    "\n",
    "entropy = \"openssl rand -hex 24\""
   ]
  },
  {
   "cell_type": "markdown",
   "metadata": {},
   "source": [
    "## Warmup: Show that the child private key is the parent private key + L256"
   ]
  },
  {
   "cell_type": "code",
   "execution_count": 4,
   "metadata": {},
   "outputs": [],
   "source": [
    "# use base58.b58decode to decode the xpub or xprv and get the chaincode bytes\n",
    "\n",
    "parent_xpriv = call(f'{entropy} | bx mnemonic-new | bx mnemonic-to-seed | bx hd-new')\n",
    "parent_xpub = call(f'bx hd-to-public {parent_xpriv}')\n",
    "parent_priv = call(f'bx hd-to-ec {parent_xpriv}')\n",
    "child_xpriv = call(f'bx hd-private --index 0 {parent_xpriv}')\n",
    "child_xpub = call(f'bx hd-to-public {child_xpriv}')\n",
    "child_priv = call(f'bx hd-to-ec {child_xpriv}')"
   ]
  },
  {
   "cell_type": "markdown",
   "metadata": {},
   "source": [
    "# Main exercise: HD Parent Key Exposure\n",
    "\n",
    "<br>\n",
    "<img src=\"images/hd_parent_exposure.jpg\" alt=\"drawing\" style=\"\" width=\"700px\"/>\n",
    "\n"
   ]
  },
  {
   "cell_type": "markdown",
   "metadata": {},
   "source": [
    "The above figure briefly recaps how parent private keys can be leaked based on child private keys when deriving non-hardened children.\n",
    "\n",
    "The goal of this exercise is to demonstrate how this works.\n",
    "\n",
    "If you need some hints, you can check out this implementation in the `pywallet` library:\n",
    "https://github.com/ranaroussi/pywallet/blob/468622dcf993a27a5b585289b2724986c02a1fbc/pywallet/utils/bip32.py#L380-L429"
   ]
  },
  {
   "cell_type": "markdown",
   "metadata": {},
   "source": [
    "### Derive new parent key pair"
   ]
  },
  {
   "cell_type": "code",
   "execution_count": null,
   "metadata": {},
   "outputs": [],
   "source": []
  },
  {
   "cell_type": "markdown",
   "metadata": {},
   "source": [
    "### Derive non-hardenend children"
   ]
  },
  {
   "cell_type": "code",
   "execution_count": null,
   "metadata": {},
   "outputs": [],
   "source": []
  },
  {
   "cell_type": "markdown",
   "metadata": {},
   "source": [
    "### Step 1: Extract chaincode from parent xpub"
   ]
  },
  {
   "cell_type": "code",
   "execution_count": 2,
   "metadata": {},
   "outputs": [],
   "source": [
    "# use base58.b58decode"
   ]
  },
  {
   "cell_type": "markdown",
   "metadata": {},
   "source": [
    "### Step2: Compute L256 bits as HMAC-SHA512(Parent Chain Code, Parent Public Key || Child Index)"
   ]
  },
  {
   "cell_type": "code",
   "execution_count": null,
   "metadata": {},
   "outputs": [],
   "source": []
  },
  {
   "cell_type": "markdown",
   "metadata": {},
   "source": [
    "### Step 3: Compute Parent private key as child private key - L256"
   ]
  },
  {
   "cell_type": "code",
   "execution_count": 3,
   "metadata": {},
   "outputs": [],
   "source": [
    "group_order = \"fffffffffffffffffffffffffffffffffffffffffffffffffffffffefffffc2f\"\n",
    "group_order_int = int(group_order, 16)"
   ]
  }
 ],
 "metadata": {
  "kernelspec": {
   "display_name": "Python 3 (ipykernel)",
   "language": "python",
   "name": "python3"
  },
  "language_info": {
   "codemirror_mode": {
    "name": "ipython",
    "version": 3
   },
   "file_extension": ".py",
   "mimetype": "text/x-python",
   "name": "python",
   "nbconvert_exporter": "python",
   "pygments_lexer": "ipython3",
   "version": "3.10.12"
  }
 },
 "nbformat": 4,
 "nbformat_minor": 4
}
