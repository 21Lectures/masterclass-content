{
 "cells": [
  {
   "cell_type": "code",
   "execution_count": 1,
   "metadata": {},
   "outputs": [],
   "source": [
    "# We use this function to call bx from Python, see below for an example\n",
    "import subprocess\n",
    "def call(cmd):\n",
    "    res = subprocess.check_output([cmd], shell=True)\n",
    "    return res.strip().decode()\n",
    "\n",
    "import base58\n",
    "import hmac\n",
    "import hashlib\n",
    "\n",
    "entropy = \"openssl rand -hex 24\""
   ]
  },
  {
   "cell_type": "markdown",
   "metadata": {},
   "source": [
    "## Warmup: Show that the child private key is the parent private key + L256"
   ]
  },
  {
   "cell_type": "code",
   "execution_count": 2,
   "metadata": {},
   "outputs": [
    {
     "name": "stdout",
     "output_type": "stream",
     "text": [
      "6d70165aabcc79b05b2d407a37ac4ea41fc3832f696d0dfa3cfe7a2c8501c762\n",
      "6d70165aabcc79b05b2d407a37ac4ea41fc3832f696d0dfa3cfe7a2c8501c762\n"
     ]
    }
   ],
   "source": [
    "# use base58.b58decode to decode the xpub or xprv and get the chaincode bytes\n",
    "\n",
    "parent_xpriv = call(f'{entropy} | bx mnemonic-new | bx mnemonic-to-seed | bx hd-new')\n",
    "parent_xpub = call(f'bx hd-to-public {parent_xpriv}')\n",
    "parent_priv = call(f'bx hd-to-ec {parent_xpriv}')\n",
    "child_xpriv = call(f'bx hd-private --index 0 {parent_xpriv}')\n",
    "child_xpub = call(f'bx hd-to-public {child_xpriv}')\n",
    "child_priv = call(f'bx hd-to-ec {child_xpriv}')\n",
    "\n",
    "xpub_bytes = base58.b58decode(parent_xpub)\n",
    "chaincode = xpub_bytes[13:13+32]\n",
    "parent_pub = call(f'bx hd-to-ec {parent_xpub}')\n",
    "concatenated = parent_pub + \"00000000\"\n",
    "\n",
    "l256 = hmac.new(\n",
    "    chaincode,\n",
    "    msg=bytes.fromhex(concatenated),\n",
    "    digestmod=hashlib.sha512\n",
    ").hexdigest()[:64]\n",
    "\n",
    "print(call(f'bx ec-add-secrets {parent_priv} {l256}'))\n",
    "print(child_priv)"
   ]
  },
  {
   "cell_type": "markdown",
   "metadata": {},
   "source": [
    "# Main Exercise: HD Parent Key Exposure\n",
    "\n",
    "<br>\n",
    "<img src=\"images/hd_parent_exposure.jpg\" alt=\"drawing\" style=\"\" width=\"700px\"/>\n",
    "\n"
   ]
  },
  {
   "cell_type": "markdown",
   "metadata": {},
   "source": [
    "The above figure briefly recaps how parent private keys can be leaked based on child private keys when deriving non-hardened children.\n",
    "\n",
    "The goal of this exercise is to demonstrate how this works.\n",
    "\n",
    "If you need some hints, you can check out this implementation in the `pywallet` library:\n",
    "https://github.com/ranaroussi/pywallet/blob/468622dcf993a27a5b585289b2724986c02a1fbc/pywallet/utils/bip32.py#L380-L429"
   ]
  },
  {
   "cell_type": "markdown",
   "metadata": {},
   "source": [
    "### Derive new parent key pair"
   ]
  },
  {
   "cell_type": "code",
   "execution_count": 3,
   "metadata": {},
   "outputs": [
    {
     "name": "stdout",
     "output_type": "stream",
     "text": [
      "xprv9s21ZrQH143K2uMTH5ZFgxWBy8ciUCf4ppjbPFV4oRgdhVBXBqsjEi6gcSdaE2sQkUyjzzJx7xLutTGjBuwf3WijoNYvYqqa9TvSyXxchzn\n",
      "xpub661MyMwAqRbcFPRvP76G46SvXATCsfNvC3fCBdtgMmDcaHWfjPBynWRAThkfeqZedeWH7jU3YL7YCsgfhTak5yvUHvQK5M9jD65Ca7M2DtY\n",
      "2ccdf0375712a506f2510fde360a9d6f5ec685eb2e860cf41bea205ed3f6ddca\n"
     ]
    }
   ],
   "source": [
    "parent_xpriv = call(f'{entropy} | bx mnemonic-new | bx mnemonic-to-seed | bx hd-new')\n",
    "parent_xpub = call(f'bx hd-to-public {parent_xpriv}')\n",
    "print(parent_xpriv)\n",
    "print(parent_xpub)\n",
    "\n",
    "parent_priv = call(f'bx hd-to-ec {parent_xpriv}')\n",
    "print(parent_priv)"
   ]
  },
  {
   "cell_type": "markdown",
   "metadata": {},
   "source": [
    "### Derive non-hardenend children"
   ]
  },
  {
   "cell_type": "code",
   "execution_count": 4,
   "metadata": {},
   "outputs": [
    {
     "name": "stdout",
     "output_type": "stream",
     "text": [
      "Exposed material:\n",
      "Parent xpub: xpub661MyMwAqRbcFPRvP76G46SvXATCsfNvC3fCBdtgMmDcaHWfjPBynWRAThkfeqZedeWH7jU3YL7YCsgfhTak5yvUHvQK5M9jD65Ca7M2DtY\n",
      "Child priv: e8371286dde71e1bf77aab07c61c006a6365ef191c5af9692d6d8cd5a30636a4\n",
      "Child index: 0\n"
     ]
    }
   ],
   "source": [
    "child_xpriv = call(f'bx hd-private --index 0 {parent_xpriv}')\n",
    "child_priv = call(f'bx hd-to-ec {child_xpriv}')\n",
    "child_xpub = call(f'bx hd-to-public {child_xpriv}')\n",
    "\n",
    "print(\"Exposed material:\")\n",
    "print(f\"Parent xpub: {parent_xpub}\")\n",
    "print(f\"Child priv: {child_priv}\")\n",
    "print(\"Child index: 0\")"
   ]
  },
  {
   "cell_type": "markdown",
   "metadata": {},
   "source": [
    "### Step 1: Extract chaincode from parent xpub"
   ]
  },
  {
   "cell_type": "code",
   "execution_count": 5,
   "metadata": {},
   "outputs": [
    {
     "name": "stdout",
     "output_type": "stream",
     "text": [
      "[84, 217, 114, 47, 216, 132, 111, 126, 151, 142, 181, 10, 138, 151, 159, 246, 103, 136, 17, 127, 217, 127, 37, 83, 78, 179, 182, 200, 65, 50, 128, 144]\n"
     ]
    }
   ],
   "source": [
    "xpub_bytes = base58.b58decode(parent_xpub)\n",
    "chaincode = xpub_bytes[13:13+32]\n",
    "print(list(chaincode))"
   ]
  },
  {
   "cell_type": "markdown",
   "metadata": {},
   "source": [
    "### Step2: Compute L256 bits as HMAC-SHA512(Parent Chain Code, Parent Public Key || Child Index)"
   ]
  },
  {
   "cell_type": "code",
   "execution_count": 6,
   "metadata": {},
   "outputs": [
    {
     "name": "stdout",
     "output_type": "stream",
     "text": [
      "0238e69c26c5cb830a6a05369784f7b71e7327ada6983555e89a58e888a7e9cb10\n"
     ]
    }
   ],
   "source": [
    "parent_pub = call(f'bx hd-to-ec {parent_xpub}')\n",
    "print(parent_pub)\n",
    "concatenated = parent_pub + \"00000000\""
   ]
  },
  {
   "cell_type": "code",
   "execution_count": 7,
   "metadata": {},
   "outputs": [
    {
     "name": "stdout",
     "output_type": "stream",
     "text": [
      "bb69224f86d4791505299b29901162fb049f692dedd4ec7511836c76cf0f58da\n"
     ]
    }
   ],
   "source": [
    "l256 = hmac.new(\n",
    "    chaincode,\n",
    "    msg=bytes.fromhex(concatenated),\n",
    "    digestmod=hashlib.sha512\n",
    ").hexdigest()[:64]\n",
    "\n",
    "print(l256)"
   ]
  },
  {
   "cell_type": "markdown",
   "metadata": {},
   "source": [
    "### Step 3: Compute Parent private key as child private key - L256"
   ]
  },
  {
   "cell_type": "code",
   "execution_count": 9,
   "metadata": {},
   "outputs": [
    {
     "name": "stdout",
     "output_type": "stream",
     "text": [
      "4496ddb0792b86eafad664d66fee9d04fb6096d2122b138aee7c938830f0a355\n",
      "2ccdf0375712a506f2510fde360a9d70a417a9047f3d6cb85c17c1d103c098b8\n",
      "2ccdf0375712a506f2510fde360a9d6f5ec685eb2e860cf41bea205ed3f6ddca\n",
      "The two only share the upper 15.0 bytes 🤔\n"
     ]
    }
   ],
   "source": [
    "from itertools import takewhile\n",
    "\n",
    "group_order = \"fffffffffffffffffffffffffffffffffffffffffffffffffffffffefffffc2f\"\n",
    "\n",
    "group_order_m_l256 = hex(int(group_order, 16) - int(l256, 16))[2:]\n",
    "print(group_order_m_l256)\n",
    "\n",
    "parent_priv_computed = call(f'bx ec-add-secrets {child_priv} {group_order_m_l256}')\n",
    "print(parent_priv_computed)\n",
    "print(parent_priv)\n",
    "print(f\"The two only share the upper {len(list(takewhile(lambda t: t[0]==t[1], zip(parent_priv, parent_priv_computed))))/2} bytes\", u\"\\U0001F914\")"
   ]
  },
  {
   "cell_type": "code",
   "execution_count": null,
   "metadata": {},
   "outputs": [],
   "source": []
  }
 ],
 "metadata": {
  "kernelspec": {
   "display_name": "Python 3 (ipykernel)",
   "language": "python",
   "name": "python3"
  },
  "language_info": {
   "codemirror_mode": {
    "name": "ipython",
    "version": 3
   },
   "file_extension": ".py",
   "mimetype": "text/x-python",
   "name": "python",
   "nbconvert_exporter": "python",
   "pygments_lexer": "ipython3",
   "version": "3.10.12"
  }
 },
 "nbformat": 4,
 "nbformat_minor": 4
}
