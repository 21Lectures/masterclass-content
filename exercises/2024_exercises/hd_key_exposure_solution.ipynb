{
 "cells": [
  {
   "cell_type": "code",
   "execution_count": 17,
   "metadata": {},
   "outputs": [],
   "source": [
    "# We use this function to call bx from Python, see below for an example\n",
    "import subprocess\n",
    "def call(cmd):\n",
    "    res = subprocess.check_output([cmd], shell=True)\n",
    "    return res.strip().decode()\n",
    "\n",
    "import base58\n",
    "import hmac\n",
    "import hashlib\n",
    "\n",
    "entropy = \"openssl rand -hex 24\""
   ]
  },
  {
   "cell_type": "markdown",
   "metadata": {},
   "source": [
    "## Warmup: Show that the child private key is the parent private key + L256"
   ]
  },
  {
   "cell_type": "code",
   "execution_count": 18,
   "metadata": {},
   "outputs": [
    {
     "name": "stdout",
     "output_type": "stream",
     "text": [
      "310d9b3ca2e13fd6aaa44497e8667a50eaf6f90a13c41b30a7a34415c9ad8e9d\n",
      "310d9b3ca2e13fd6aaa44497e8667a50eaf6f90a13c41b30a7a34415c9ad8e9d\n"
     ]
    }
   ],
   "source": [
    "# use base58.b58decode to decode the xpub or xprv and get the chaincode bytes\n",
    "\n",
    "parent_xpriv = call(f'{entropy} | bx mnemonic-new | bx mnemonic-to-seed | bx hd-new')\n",
    "parent_xpub = call(f'bx hd-to-public {parent_xpriv}')\n",
    "parent_priv = call(f'bx hd-to-ec {parent_xpriv}')\n",
    "child_xpriv = call(f'bx hd-private --index 0 {parent_xpriv}')\n",
    "child_xpub = call(f'bx hd-to-public {child_xpriv}')\n",
    "child_priv = call(f'bx hd-to-ec {child_xpriv}')\n",
    "\n",
    "xpub_bytes = base58.b58decode(parent_xpub)\n",
    "chaincode = xpub_bytes[13:13+32]\n",
    "parent_pub = call(f'bx hd-to-ec {parent_xpub}')\n",
    "concatenated = parent_pub + \"00000000\"\n",
    "\n",
    "l256 = hmac.new(\n",
    "    chaincode,\n",
    "    msg=bytes.fromhex(concatenated),\n",
    "    digestmod=hashlib.sha512\n",
    ").hexdigest()[:64]\n",
    "\n",
    "print(call(f'bx ec-add-secrets {parent_priv} {l256}'))\n",
    "print(child_priv)"
   ]
  },
  {
   "cell_type": "markdown",
   "metadata": {},
   "source": [
    "# Main Exercise: HD Parent Key Exposure\n",
    "\n",
    "<br>\n",
    "<img src=\"images/hd_parent_exposure.jpg\" alt=\"drawing\" style=\"\" width=\"700px\"/>\n",
    "\n"
   ]
  },
  {
   "cell_type": "markdown",
   "metadata": {},
   "source": [
    "The above figure briefly recaps how parent private keys can be leaked based on child private keys when deriving non-hardened children.\n",
    "\n",
    "The goal of this exercise is to demonstrate how this works.\n",
    "\n",
    "If you need some hints, you can check out this implementation in the `pywallet` library:\n",
    "https://github.com/ranaroussi/pywallet/blob/468622dcf993a27a5b585289b2724986c02a1fbc/pywallet/utils/bip32.py#L380-L429"
   ]
  },
  {
   "cell_type": "markdown",
   "metadata": {},
   "source": [
    "### Derive new parent key pair"
   ]
  },
  {
   "cell_type": "code",
   "execution_count": 20,
   "metadata": {},
   "outputs": [
    {
     "name": "stdout",
     "output_type": "stream",
     "text": [
      "xprv9s21ZrQH143K2taufeimvGSXoXdfnkoSF1VB3JCpzDkpMRk7e7bChJDYSKMhW1qaJE2Ahaf758wQFoqapV7vMWv8TKLKGGv8DdEKB56hch6\n",
      "xpub661MyMwAqRbcFNfNmgFnHQPGMZUACDXHcEQmqgcSYZHoEE5GBeuTF6Y2HchuXev9cgpcGPnm9BqmzqPGg235e5VxWh386Lx55kd7jhJqwzo\n",
      "4f1d99c400c51d0d52f3e59d48cca438d194069b2a5ed3e3e2b5b08a7e2ae5b0\n"
     ]
    }
   ],
   "source": [
    "parent_xpriv = call(f'{entropy} | bx mnemonic-new | bx mnemonic-to-seed | bx hd-new')\n",
    "parent_xpub = call(f'bx hd-to-public {parent_xpriv}')\n",
    "print(parent_xpriv)\n",
    "print(parent_xpub)\n",
    "\n",
    "parent_priv = call(f'bx hd-to-ec {parent_xpriv}')\n",
    "print(parent_priv)"
   ]
  },
  {
   "cell_type": "markdown",
   "metadata": {},
   "source": [
    "### Derive non-hardenend children"
   ]
  },
  {
   "cell_type": "code",
   "execution_count": 26,
   "metadata": {},
   "outputs": [
    {
     "name": "stdout",
     "output_type": "stream",
     "text": [
      "Exposed material:\n",
      "Parent xpub: xpub661MyMwAqRbcFNfNmgFnHQPGMZUACDXHcEQmqgcSYZHoEE5GBeuTF6Y2HchuXev9cgpcGPnm9BqmzqPGg235e5VxWh386Lx55kd7jhJqwzo\n",
      "Child priv: 48e95eaf7b7a6b543818c68c77cdc4ca6aadaa85c256ecb88efa27cdafd6db56\n",
      "Child index: 0\n"
     ]
    }
   ],
   "source": [
    "child_xpriv = call(f'bx hd-private --index 0 {parent_xpriv}')\n",
    "child_priv = call(f'bx hd-to-ec {child_xpriv}')\n",
    "child_xpub = call(f'bx hd-to-public {child_xpriv}')\n",
    "\n",
    "print(\"Exposed material:\")\n",
    "print(f\"Parent xpub: {parent_xpub}\")\n",
    "print(f\"Child priv: {child_priv}\")\n",
    "print(\"Child index: 0\")"
   ]
  },
  {
   "cell_type": "markdown",
   "metadata": {},
   "source": [
    "### Step 1: Extract chaincode from parent xpub"
   ]
  },
  {
   "cell_type": "code",
   "execution_count": 27,
   "metadata": {},
   "outputs": [
    {
     "name": "stdout",
     "output_type": "stream",
     "text": [
      "[83, 132, 246, 65, 236, 88, 208, 165, 90, 166, 44, 73, 78, 226, 252, 184, 238, 64, 160, 149, 239, 92, 12, 81, 118, 224, 169, 79, 71, 8, 220, 114]\n"
     ]
    }
   ],
   "source": [
    "xpub_bytes = base58.b58decode(parent_xpub)\n",
    "chaincode = xpub_bytes[13:13+32]\n",
    "print(list(chaincode))"
   ]
  },
  {
   "cell_type": "markdown",
   "metadata": {},
   "source": [
    "### Step2: Compute L256 bits as HMAC-SHA512(Parent Chain Code, Parent Public Key || Child Index)"
   ]
  },
  {
   "cell_type": "code",
   "execution_count": 28,
   "metadata": {},
   "outputs": [
    {
     "name": "stdout",
     "output_type": "stream",
     "text": [
      "03806174a7e6dcdafddc08ec30b41f21e96f79c0fee8c2348b205c3fc04cf1d26d\n"
     ]
    }
   ],
   "source": [
    "parent_pub = call(f'bx hd-to-ec {parent_xpub}')\n",
    "print(parent_pub)\n",
    "concatenated = parent_pub + \"00000000\""
   ]
  },
  {
   "cell_type": "code",
   "execution_count": 29,
   "metadata": {},
   "outputs": [
    {
     "name": "stdout",
     "output_type": "stream",
     "text": [
      "f9cbc4eb7ab54e46e524e0ef2f01209053c880d14740b9106c16d5d001e236e7\n"
     ]
    }
   ],
   "source": [
    "l256 = hmac.new(\n",
    "    chaincode,\n",
    "    msg=bytes.fromhex(concatenated),\n",
    "    digestmod=hashlib.sha512\n",
    ").hexdigest()[:64]\n",
    "\n",
    "print(l256)"
   ]
  },
  {
   "cell_type": "markdown",
   "metadata": {},
   "source": [
    "### Step 3: Compute Parent private key as child private key - L256"
   ]
  },
  {
   "cell_type": "code",
   "execution_count": 35,
   "metadata": {},
   "outputs": [
    {
     "name": "stdout",
     "output_type": "stream",
     "text": [
      "6343b14854ab1b91adb1f10d0fedf6fac377f2eb8bf46ef93e92a2efe1dc548\n",
      "4f1d99c400c51d0d52f3e59d48cca43a16e529b47b1633a822e351fcadf4a09e\n",
      "4f1d99c400c51d0d52f3e59d48cca438d194069b2a5ed3e3e2b5b08a7e2ae5b0\n",
      "The two only share the upper 15.5 bytes 🤔\n"
     ]
    }
   ],
   "source": [
    "from itertools import takewhile\n",
    "\n",
    "group_order = \"fffffffffffffffffffffffffffffffffffffffffffffffffffffffefffffc2f\"\n",
    "\n",
    "group_order_m_l256 = hex(int(group_order, 16) - int(l256, 16))[2:]\n",
    "print(group_order_m_l256)\n",
    "\n",
    "parent_priv_computed = call(f'bx ec-add-secrets {child_priv} {\"0\"+group_order_m_l256}')\n",
    "print(parent_priv_computed)\n",
    "print(parent_priv)\n",
    "print(f\"The two only share the upper {len(list(takewhile(lambda t: t[0]==t[1], zip(parent_priv, parent_priv_computed))))/2} bytes\", u\"\\U0001F914\")"
   ]
  },
  {
   "cell_type": "code",
   "execution_count": null,
   "metadata": {},
   "outputs": [],
   "source": []
  }
 ],
 "metadata": {
  "kernelspec": {
   "display_name": "Python 3 (ipykernel)",
   "language": "python",
   "name": "python3"
  },
  "language_info": {
   "codemirror_mode": {
    "name": "ipython",
    "version": 3
   },
   "file_extension": ".py",
   "mimetype": "text/x-python",
   "name": "python",
   "nbconvert_exporter": "python",
   "pygments_lexer": "ipython3",
   "version": "3.10.12"
  }
 },
 "nbformat": 4,
 "nbformat_minor": 4
}
