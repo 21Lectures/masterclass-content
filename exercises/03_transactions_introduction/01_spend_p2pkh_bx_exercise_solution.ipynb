{
 "cells": [
  {
   "cell_type": "markdown",
   "metadata": {},
   "source": [
    "# P2PKH transaction - BX Exercise\n",
    "In this exercise, we spend a single P2PKH input to a P2PKH output."
   ]
  },
  {
   "cell_type": "markdown",
   "metadata": {},
   "source": [
    "<hr style=\"border: 0.5px dashed #000;\">\n",
    "\n",
    "## 1. Restore wallet and generate spending + receiving key pairs.\n"
   ]
  },
  {
   "cell_type": "markdown",
   "metadata": {},
   "source": [
    "### Restore HD master keys from mnemonic sentence."
   ]
  },
  {
   "cell_type": "code",
   "execution_count": null,
   "metadata": {},
   "outputs": [],
   "source": [
    "# my_mnemonic =\"word0 word1 word2 ...\"\n",
    "# hd_master_private=$( )\n",
    "# hd_master_public=$( )\n",
    "\n",
    "my_mnemonic=\"seven mail crash you unit small assume express wedding cloud work potato\"\n",
    "hd_master_private=$(bx mnemonic-to-seed $my_mnemonic | bx hd-new)\n",
    "hd_master_public=$(bx hd-to-public $hd_master_private)"
   ]
  },
  {
   "cell_type": "markdown",
   "metadata": {},
   "source": [
    "### Restore your first receiving key in your account 1: `m/44'/1'/1'/0/0`.\n",
    "\n",
    "(We will be spending the funds controlled by this key)"
   ]
  },
  {
   "cell_type": "code",
   "execution_count": null,
   "metadata": {},
   "outputs": [],
   "source": [
    "hd_m_44h_1h_1h_0_0=$(bx hd-private --hard --index 44 $hd_master_private \\\n",
    "| bx hd-private --hard --index 1  \\\n",
    "| bx hd-private --hard --index 1  \\\n",
    "| bx hd-private --index 0 \\\n",
    "| bx hd-private --index 0)\n",
    "\n",
    "privatekey_44h_1h_1h_0_0=$(bx hd-to-ec $hd_m_44h_1h_1h_0_0)\n",
    "publickey_44h_1h_1h_0_0=$(bx hd-to-public $hd_m_44h_1h_1h_0_0 | bx hd-to-ec)\n",
    "publickeyhash_44h_1h_1h_0_0=$(bx sha256 $publickey_44h_1h_1h_0_0 | bx ripemd160)\n",
    "address_44h_1h_1h_0_0=$(bx hd-to-public $hd_m_44h_1h_1h_0_0 | bx hd-to-ec | bx ec-to-address --version 111)\n",
    "\n",
    "echo $address_44h_1h_1h_0_0\n",
    "echo $publickeyhash_44h_1h_1h_0_0\n"
   ]
  },
  {
   "cell_type": "markdown",
   "metadata": {},
   "source": [
    "### Fetch previous UTXO you are spending.\n"
   ]
  },
  {
   "cell_type": "code",
   "execution_count": null,
   "metadata": {},
   "outputs": [],
   "source": [
    "# bx fetch-tx [transaction_hash] -f json | jq \".transaction.outputs[output_index]\"\n",
    "\n",
    "bx fetch-tx 11a8587f5077fc7f69e3349797fd74f99864d27716d6b48ac51734cb3bec03ea -f json | jq \".transaction.outputs[0]\""
   ]
  },
  {
   "cell_type": "code",
   "execution_count": null,
   "metadata": {},
   "outputs": [],
   "source": [
    "# previous_txid=\n",
    "# previous_output_index=\n",
    "# previous_output_amount=\n",
    "\n",
    "previous_txid=11a8587f5077fc7f69e3349797fd74f99864d27716d6b48ac51734cb3bec03ea\n",
    "previous_output_index=0\n",
    "previous_output_amount=499543\n"
   ]
  },
  {
   "cell_type": "markdown",
   "metadata": {},
   "source": [
    "### Generate destination key pair from third wallet account.\n",
    "\n",
    "You will spend the previously received utxo to receiving addresses from `account 2`, namely `/44'/1'/2'/0/0`."
   ]
  },
  {
   "cell_type": "code",
   "execution_count": null,
   "metadata": {},
   "outputs": [],
   "source": [
    "# Derive hd private key m_44h_1h_2h_0_0 from your master keys:\n",
    "\n",
    "# hd_m_44h_1h_2h_0_0=\n",
    "# publickeyhash_44h_1h_2h_0_0=\n",
    "\n",
    "hd_m_44h_1h_2h_0_0=$(bx hd-private --hard --index 44 $hd_master_private \\\n",
    "| bx hd-private --hard --index 1  \\\n",
    "| bx hd-private --hard --index 2  \\\n",
    "| bx hd-private --index 0 \\\n",
    "| bx hd-private --index 0)\n",
    "\n",
    "publickeyhash_44h_1h_2h_0_0=$(bx hd-to-public $hd_m_44h_1h_2h_0_0 | bx hd-to-ec | bx sha256 | bx ripemd160)\n",
    "echo $publickeyhash_44h_1h_2h_0_0"
   ]
  },
  {
   "cell_type": "markdown",
   "metadata": {},
   "source": [
    "## 2. Building and signing transaction with P2PKH output.\n",
    "\n",
    "<br>\n",
    "<img src=\"images/transaction_signing_bx.jpg\" alt=\"drawing\" style=\"\" width=\"800px\"/>"
   ]
  },
  {
   "cell_type": "markdown",
   "metadata": {},
   "source": [
    "### A. Create P2PKH output script."
   ]
  },
  {
   "cell_type": "code",
   "execution_count": null,
   "metadata": {},
   "outputs": [],
   "source": [
    "# bx script-encode \"DUP HASH160 [public key hash] EQUALVERIFY CHECKSIG\"\n",
    "\n",
    "# output_script=\n",
    "\n",
    "output_script=$(bx script-encode \"DUP HASH160 [\"$publickeyhash_44h_1h_2h_0_0\"] EQUALVERIFY CHECKSIG\")\n",
    "echo $output_script"
   ]
  },
  {
   "cell_type": "markdown",
   "metadata": {},
   "source": [
    "### B. Compute output amount(s).\n",
    "\n",
    "* **Subtract minimum fee, which consists of:**\n",
    "    * Example minimum fee levels: `100 sat / sigop + 1 sat / byte`\n",
    "    * This is node policy. \n",
    "\n",
    "\n",
    "* **Transaction sigop count computation:**\n",
    "    * Counted as 1 sigop: `checksig`,`checksigverify`\n",
    "    * Counted as 20 sigops: `checkmultisig`, `checkmultisigverify`\n",
    "    * *Non-segwit:*\n",
    "        * Transaction sigop count is multiplied by 4x.\n",
    "        * Output vs Input sigops: \n",
    "            * All sigops in the output script are counted.\n",
    "            * P2SH Redeemscript input sigops are counted.\n",
    "      "
   ]
  },
  {
   "cell_type": "code",
   "execution_count": null,
   "metadata": {},
   "outputs": [],
   "source": [
    "# tx bytes: 4 + 1 + 1*(32+4+1+1+72+1+33+4) + 1 + 1*(8+1+25) + 4 \n",
    "\n",
    "# tx_byte_count=\n",
    "\n",
    "tx_byte_count=$(expr 4 + 1 + 1 \\* 148 + 1 + 1 \\* 34 + 4)\n",
    "echo $tx_byte_count\n"
   ]
  },
  {
   "cell_type": "code",
   "execution_count": null,
   "metadata": {},
   "outputs": [],
   "source": [
    "# Output amount total.\n",
    "\n",
    "# output_amount=\n",
    "\n",
    "output_amount=$(expr $previous_output_amount - 1 \\* 400 - $tx_byte_count \\* 1)\n",
    "echo $output_amount\n"
   ]
  },
  {
   "cell_type": "markdown",
   "metadata": {},
   "source": [
    "### C. Construct transaction template for signing.\n",
    "\n",
    "* `sequence: 0xffffffff(hex)/4294967295(dec)`"
   ]
  },
  {
   "cell_type": "code",
   "execution_count": null,
   "metadata": {},
   "outputs": [],
   "source": [
    "# bx tx-encode \\\n",
    "# --input [previous tx id]:[index]:[sequence] \\\n",
    "# --output [output script]:[output amount]\n",
    "\n",
    "# my_tx=\n",
    "\n",
    "my_tx=$(bx tx-encode \\\n",
    "--input $previous_txid:$previous_output_index:4294967295 \\\n",
    "--output $output_script:$output_amount)\n"
   ]
  },
  {
   "cell_type": "markdown",
   "metadata": {},
   "source": [
    "### D. Sign transaction.\n"
   ]
  },
  {
   "cell_type": "markdown",
   "metadata": {},
   "source": [
    "**Fetch previous output script**"
   ]
  },
  {
   "cell_type": "code",
   "execution_count": null,
   "metadata": {},
   "outputs": [],
   "source": [
    "# bx fetch-tx --format json [previous tx id] \n",
    "\n",
    "# previous_output_script=\n",
    "\n",
    "previous_output_script=$(bx fetch-tx --format json $previous_txid \\\n",
    "| jq -r \".transaction.outputs[0].script\")\n",
    "echo $previous_output_script\n"
   ]
  },
  {
   "cell_type": "markdown",
   "metadata": {},
   "source": [
    "**Sign transaction with previous output script.**"
   ]
  },
  {
   "cell_type": "code",
   "execution_count": null,
   "metadata": {},
   "outputs": [],
   "source": [
    "# bx input-sign [private key] \"previous output script\" [transaction template]\n",
    "\n",
    "# signature= \n",
    "\n",
    "signature=$(bx input-sign --sign_type all --index 0 $privatekey_44h_1h_1h_0_0 \"$previous_output_script\" $my_tx)\n"
   ]
  },
  {
   "cell_type": "markdown",
   "metadata": {},
   "source": [
    "**Set the input script into the finalised transaction.**"
   ]
  },
  {
   "cell_type": "code",
   "execution_count": null,
   "metadata": {},
   "outputs": [],
   "source": [
    "# bx input-set \"[signature] [public key point]\" [transaction template]\n",
    "\n",
    "# my_tx=\n",
    "\n",
    "my_tx=$(bx input-set --index 0 \"[$signature] [$publickey_44h_1h_1h_0_0]\" $my_tx)\n"
   ]
  },
  {
   "cell_type": "markdown",
   "metadata": {},
   "source": [
    "## 3. Validate & Broadcast the endorsed transaction"
   ]
  },
  {
   "cell_type": "code",
   "execution_count": null,
   "metadata": {},
   "outputs": [],
   "source": [
    "# Validate.\n",
    "bx validate-tx $my_tx"
   ]
  },
  {
   "cell_type": "code",
   "execution_count": null,
   "metadata": {},
   "outputs": [],
   "source": [
    "# Send.\n",
    "bx send-tx $my_tx"
   ]
  },
  {
   "cell_type": "code",
   "execution_count": null,
   "metadata": {},
   "outputs": [],
   "source": [
    "# Decode transaction for inspection.\n",
    "bx tx-decode -f json $my_tx | jq"
   ]
  }
 ],
 "metadata": {
  "kernelspec": {
   "display_name": "Bash",
   "language": "bash",
   "name": "bash"
  },
  "language_info": {
   "codemirror_mode": "shell",
   "file_extension": ".sh",
   "mimetype": "text/x-sh",
   "name": "bash"
  }
 },
 "nbformat": 4,
 "nbformat_minor": 2
}
