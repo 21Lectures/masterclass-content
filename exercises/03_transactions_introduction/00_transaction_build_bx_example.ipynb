{
 "cells": [
  {
   "cell_type": "markdown",
   "metadata": {},
   "source": [
    "# Transaction Build - BX Example\n",
    "In this BX tutorial, we construct a transaction which spends one P2PKH output to six other outputs.\n",
    "\n",
    "<img src=\"images/first_transaction.jpg\" alt=\"drawing\" style=\"\" width=\"700px\"/>\n",
    "\n"
   ]
  },
  {
   "cell_type": "markdown",
   "metadata": {},
   "source": [
    "<hr style=\"border: 0.5px dashed #000;\">\n",
    "\n",
    "## 1. Setup wallet and test funds.\n"
   ]
  },
  {
   "cell_type": "markdown",
   "metadata": {},
   "source": [
    "### Enter mnemonic and derive hd master keys."
   ]
  },
  {
   "cell_type": "code",
   "execution_count": 8,
   "metadata": {},
   "outputs": [],
   "source": [
    "my_mnemonic=\"seven mail crash you unit small assume express wedding cloud work potato\"\n",
    "hd_master_private=$(bx mnemonic-to-seed $my_mnemonic | bx hd-new)\n",
    "hd_master_public=$(bx hd-to-public $hd_master_private)\n"
   ]
  },
  {
   "cell_type": "markdown",
   "metadata": {},
   "source": [
    "### Account 0: Generate spending key `m/44'/1'/0'/0/0`.\n",
    "\n",
    "You will receive testnet coins at the first receiving address of `account 0`. \n"
   ]
  },
  {
   "cell_type": "code",
   "execution_count": 9,
   "metadata": {},
   "outputs": [
    {
     "name": "stdout",
     "output_type": "stream",
     "text": [
      "mkyYidgXXTAqSyuSUiP49Fn3EYXeJCggSZ\n",
      "3be02df06b935702302aea7f0b7b49575c3df868\n"
     ]
    }
   ],
   "source": [
    "# We will send funds to keys from account 0.\n",
    "\n",
    "# Account 0 receiving parent: m/44'/1'/0'/0\n",
    "hd_m_44h_1h_0h_0=$(bx hd-private --hard --index 44 $hd_master_private \\\n",
    "| bx hd-private --hard --index 1  \\\n",
    "| bx hd-private --hard --index 0  \\\n",
    "| bx hd-private --index 0)\n",
    "\n",
    "# Test funds will be sent from: m/44'/1'/0'/0/0\n",
    "hd_m_44h_1h_0h_0_0=$(bx hd-private --index 0 $hd_m_44h_1h_0h_0)\n",
    "privatekey_44h_1h_0h_0_0=$(bx hd-to-ec $hd_m_44h_1h_0h_0_0)\n",
    "publickey_44h_1h_0h_0_0=$(bx hd-to-public $hd_m_44h_1h_0h_0_0 | bx hd-to-ec)\n",
    "publickeyhash_44h_1h_0h_0_0=$(bx sha256 $publickey_44h_1h_0h_0_0 | bx ripemd160)\n",
    "address_44h_1h_0h_0_0=$(bx hd-to-public $hd_m_44h_1h_0h_0_0 | bx hd-to-ec | bx ec-to-address --version 111)\n",
    "\n",
    "echo $address_44h_1h_0h_0_0\n",
    "echo $publickeyhash_44h_1h_0h_0_0\n"
   ]
  },
  {
   "cell_type": "markdown",
   "metadata": {},
   "source": [
    "### Send test coins funds to keys ( `/44'/1'/0'/0/0` ) you will be spending from.\n"
   ]
  },
  {
   "cell_type": "markdown",
   "metadata": {},
   "source": [
    "Check the receipt of the testnet coins..."
   ]
  },
  {
   "cell_type": "code",
   "execution_count": 11,
   "metadata": {},
   "outputs": [
    {
     "name": "stdout",
     "output_type": "stream",
     "text": [
      "transfers\n",
      "{\n",
      "    transfer\n",
      "    {\n",
      "        received\n",
      "        {\n",
      "            hash 808ea2d01cf817db3c7c0522b6abee77b3f989c015a3675c01f2acc86ae7d963\n",
      "            height 1445450\n",
      "            index 1\n",
      "        }\n",
      "        value 5000000\n",
      "    }\n",
      "    transfer\n",
      "    {\n",
      "        received\n",
      "        {\n",
      "            hash 4aedcc0b0357afc8f1229cd6e18ce61884801842dfa8478a3b5202f4cbf1e6cb\n",
      "            height 1443125\n",
      "            index 1\n",
      "        }\n",
      "        spent\n",
      "        {\n",
      "            hash 710c8993006d234a513cf9c25fba548aa93e29791aa133fc60a2c089c64b94e6\n",
      "            height 1443127\n",
      "            index 0\n",
      "        }\n",
      "        value 5000000\n",
      "    }\n",
      "    transfer\n",
      "    {\n",
      "        received\n",
      "        {\n",
      "            hash f89437737273f938c3ae651e204a29f6200759c78427a31d17432a7998d61574\n",
      "            height 1442557\n",
      "            index 0\n",
      "        }\n",
      "        spent\n",
      "        {\n",
      "            hash 11a8587f5077fc7f69e3349797fd74f99864d27716d6b48ac51734cb3bec03ea\n",
      "            height 1442560\n",
      "            index 0\n",
      "        }\n",
      "        value 5000000\n",
      "    }\n",
      "}\n"
     ]
    }
   ],
   "source": [
    "bx fetch-history mkyYidgXXTAqSyuSUiP49Fn3EYXeJCggSZ"
   ]
  },
  {
   "cell_type": "markdown",
   "metadata": {},
   "source": [
    "Note your spendable p2pkh UXTO's below..."
   ]
  },
  {
   "cell_type": "code",
   "execution_count": 12,
   "metadata": {},
   "outputs": [],
   "source": [
    "previous_txid=808ea2d01cf817db3c7c0522b6abee77b3f989c015a3675c01f2acc86ae7d963\n",
    "previous_output_index=1\n",
    "previous_output_amount=5000000\n"
   ]
  },
  {
   "cell_type": "markdown",
   "metadata": {},
   "source": [
    "### Account 1: Generate destination key pairs.\n",
    "\n",
    "You will spend the previously received utxo to receiving addresses from `account 1`, namely `/44'/1'/1'/0/0`, `/44'/1'/1'/0/1`, `/44'/1'/1'/0/2`, `/44'/1'/1'/0/3` ...\n"
   ]
  },
  {
   "cell_type": "code",
   "execution_count": 13,
   "metadata": {},
   "outputs": [],
   "source": [
    "# We will send funds to keys in account 1.\n",
    "\n",
    "# Account 1 receiving parent: m/44'/1'/1'/0\n",
    "hd_m_44h_1h_1h_0=$(bx hd-private --hard --index 44 $hd_master_private \\\n",
    "| bx hd-private --hard --index 1  \\\n",
    "| bx hd-private --hard --index 1  \\\n",
    "| bx hd-private --index 0)\n",
    "\n",
    "hd_m_44h_1h_1h_0_0=$(bx hd-private --index 0 $hd_m_44h_1h_1h_0)\n",
    "publickeyhash_44h_1h_1h_0_0=$(bx hd-to-public $hd_m_44h_1h_1h_0_0 | bx hd-to-ec | bx sha256 | bx ripemd160)\n",
    "\n",
    "hd_m_44h_1h_1h_0_1=$(bx hd-private --index 1 $hd_m_44h_1h_1h_0)\n",
    "publickeyhash_44h_1h_1h_0_1=$(bx hd-to-public $hd_m_44h_1h_1h_0_1 | bx hd-to-ec | bx sha256 | bx ripemd160)\n",
    "\n",
    "hd_m_44h_1h_1h_0_2=$(bx hd-private --index 2 $hd_m_44h_1h_1h_0)\n",
    "publickeyhash_44h_1h_1h_0_2=$(bx hd-to-public $hd_m_44h_1h_1h_0_2 | bx hd-to-ec | bx sha256 | bx ripemd160)\n",
    "\n",
    "hd_m_44h_1h_1h_0_3=$(bx hd-private --index 3 $hd_m_44h_1h_1h_0)\n",
    "publickeyhash_44h_1h_1h_0_3=$(bx hd-to-public $hd_m_44h_1h_1h_0_3 | bx hd-to-ec | bx sha256 | bx ripemd160)\n",
    "\n",
    "hd_m_44h_1h_1h_0_4=$(bx hd-private --index 4 $hd_m_44h_1h_1h_0)\n",
    "publickeyhash_44h_1h_1h_0_4=$(bx hd-to-public $hd_m_44h_1h_1h_0_4 | bx hd-to-ec | bx sha256 | bx ripemd160)\n",
    "\n",
    "hd_m_44h_1h_1h_0_5=$(bx hd-private --index 5 $hd_m_44h_1h_1h_0)\n",
    "publickeyhash_44h_1h_1h_0_5=$(bx hd-to-public $hd_m_44h_1h_1h_0_5 | bx hd-to-ec | bx sha256 | bx ripemd160)\n",
    "\n",
    "hd_m_44h_1h_1h_0_6=$(bx hd-private --index 6 $hd_m_44h_1h_1h_0)\n",
    "publickeyhash_44h_1h_1h_0_6=$(bx hd-to-public $hd_m_44h_1h_1h_0_6 | bx hd-to-ec | bx sha256 | bx ripemd160)\n",
    "\n",
    "hd_m_44h_1h_1h_0_7=$(bx hd-private --index 7 $hd_m_44h_1h_1h_0)\n",
    "publickeyhash_44h_1h_1h_0_7=$(bx hd-to-public $hd_m_44h_1h_1h_0_7 | bx hd-to-ec | bx sha256 | bx ripemd160)\n",
    "\n",
    "hd_m_44h_1h_1h_0_8=$(bx hd-private --index 8 $hd_m_44h_1h_1h_0)\n",
    "publickeyhash_44h_1h_1h_0_8=$(bx hd-to-public $hd_m_44h_1h_1h_0_8 | bx hd-to-ec | bx sha256 | bx ripemd160)\n",
    "\n",
    "hd_m_44h_1h_1h_0_9=$(bx hd-private --index 9 $hd_m_44h_1h_1h_0)\n",
    "publickeyhash_44h_1h_1h_0_9=$(bx hd-to-public $hd_m_44h_1h_1h_0_9 | bx hd-to-ec | bx sha256 | bx ripemd160)\n"
   ]
  },
  {
   "cell_type": "markdown",
   "metadata": {},
   "source": [
    "## 2. Spending a P2PKH output."
   ]
  },
  {
   "cell_type": "code",
   "execution_count": null,
   "metadata": {},
   "outputs": [],
   "source": [
    "# TODO: Show image of spending process with BX.\n",
    "# Encode transaction with outputs, input points, version, locktime.\n"
   ]
  },
  {
   "cell_type": "markdown",
   "metadata": {},
   "source": [
    "### Create output scripts."
   ]
  },
  {
   "cell_type": "markdown",
   "metadata": {},
   "source": [
    "* **Compose P2PKH(destination public key hash) output scripts for each destination.**"
   ]
  },
  {
   "cell_type": "code",
   "execution_count": 14,
   "metadata": {},
   "outputs": [
    {
     "name": "stdout",
     "output_type": "stream",
     "text": [
      "76a914b652a31f1800d4040996f2dc4df405e168a8ddd788ac\n"
     ]
    }
   ],
   "source": [
    "# bx script-encode \"DUP HASH160 [public key hash] EQUALVERIFY CHECKSIG\"\n",
    "output_script0=$(bx script-encode \"DUP HASH160 [\"$publickeyhash_44h_1h_1h_0_0\"] EQUALVERIFY CHECKSIG\")\n",
    "output_script1=$(bx script-encode \"DUP HASH160 [\"$publickeyhash_44h_1h_1h_0_1\"] EQUALVERIFY CHECKSIG\")\n",
    "output_script2=$(bx script-encode \"DUP HASH160 [\"$publickeyhash_44h_1h_1h_0_2\"] EQUALVERIFY CHECKSIG\")\n",
    "output_script3=$(bx script-encode \"DUP HASH160 [\"$publickeyhash_44h_1h_1h_0_3\"] EQUALVERIFY CHECKSIG\")\n",
    "output_script4=$(bx script-encode \"DUP HASH160 [\"$publickeyhash_44h_1h_1h_0_4\"] EQUALVERIFY CHECKSIG\")\n",
    "output_script5=$(bx script-encode \"DUP HASH160 [\"$publickeyhash_44h_1h_1h_0_5\"] EQUALVERIFY CHECKSIG\")\n",
    "output_script6=$(bx script-encode \"DUP HASH160 [\"$publickeyhash_44h_1h_1h_0_6\"] EQUALVERIFY CHECKSIG\")\n",
    "output_script7=$(bx script-encode \"DUP HASH160 [\"$publickeyhash_44h_1h_1h_0_7\"] EQUALVERIFY CHECKSIG\")\n",
    "output_script8=$(bx script-encode \"DUP HASH160 [\"$publickeyhash_44h_1h_1h_0_8\"] EQUALVERIFY CHECKSIG\")\n",
    "output_script9=$(bx script-encode \"DUP HASH160 [\"$publickeyhash_44h_1h_1h_0_9\"] EQUALVERIFY CHECKSIG\")\n",
    "\n",
    "echo $output_script9\n"
   ]
  },
  {
   "cell_type": "markdown",
   "metadata": {},
   "source": [
    "### Compute output amount(s).\n",
    "\n",
    "* **Subtract minimum fee, which consists of:**\n",
    "    * Example minimum fee levels: `100 sat / sigop + 1 sat / byte`\n",
    "    * This is node policy. \n",
    "\n",
    "\n",
    "* **Transaction sigop count computation:**\n",
    "    * Counted as 1 sigop: `checksig`,`checksigverify`\n",
    "    * Counted as 20 sigops: `checkmultisig`, `checkmultisigverify`\n",
    "    * *Non-segwit:*\n",
    "        * Transaction sigop count is multiplied by 4x.\n",
    "        * Output vs Input sigops: \n",
    "            * All sigops in the output script are counted.\n",
    "            * P2SH Redeemscript input sigops are counted.\n",
    "      "
   ]
  },
  {
   "cell_type": "code",
   "execution_count": 15,
   "metadata": {},
   "outputs": [
    {
     "name": "stdout",
     "output_type": "stream",
     "text": [
      "498\n"
     ]
    }
   ],
   "source": [
    "# tx bytes: 4 + 1 + 1*(32+4+1+1+72+1+33+4) + 1 + 1*(8+1+25) + 4 \n",
    "tx_byte_count=$(expr 4 + 1 + 1 \\* 148 + 1 + 10 \\* 34 + 4)\n",
    "echo $tx_byte_count\n",
    "\n"
   ]
  },
  {
   "cell_type": "code",
   "execution_count": 16,
   "metadata": {},
   "outputs": [],
   "source": [
    "# Sigops: 10 outputs, so total of 10 sigops.\n",
    "tx_total_output_amount=$(expr $previous_output_amount - 10 \\* 400 - $tx_byte_count \\* 1)\n"
   ]
  },
  {
   "cell_type": "code",
   "execution_count": 17,
   "metadata": {},
   "outputs": [
    {
     "name": "stdout",
     "output_type": "stream",
     "text": [
      "499550\n"
     ]
    }
   ],
   "source": [
    "# spent amount evenly across outputs.\n",
    "single_output_amount=$(expr $tx_total_output_amount / 10)\n",
    "echo $single_output_amount\n"
   ]
  },
  {
   "cell_type": "markdown",
   "metadata": {},
   "source": [
    "### Construct transaction template for signing.\n",
    "\n",
    "* `sequence: 0xffffffff(hex)/4294967295(dec)`"
   ]
  },
  {
   "cell_type": "code",
   "execution_count": 18,
   "metadata": {},
   "outputs": [],
   "source": [
    "# bx tx-encode \\\n",
    "# --input [previous tx id]:[index]:[sequence] \\\n",
    "# --output [output script]:[output amount]\n",
    "\n",
    "my_tx=$(bx tx-encode \\\n",
    "--input $previous_txid:$previous_output_index:4294967295 \\\n",
    "--output $output_script0:$single_output_amount \\\n",
    "--output $output_script1:$single_output_amount \\\n",
    "--output $output_script2:$single_output_amount \\\n",
    "--output $output_script3:$single_output_amount \\\n",
    "--output $output_script4:$single_output_amount \\\n",
    "--output $output_script5:$single_output_amount \\\n",
    "--output $output_script6:$single_output_amount \\\n",
    "--output $output_script7:$single_output_amount \\\n",
    "--output $output_script8:$single_output_amount \\\n",
    "--output $output_script9:$single_output_amount)\n"
   ]
  },
  {
   "cell_type": "markdown",
   "metadata": {},
   "source": [
    "### Sign transaction."
   ]
  },
  {
   "cell_type": "markdown",
   "metadata": {},
   "source": [
    "**Fetch previous output script (check output index ! )**"
   ]
  },
  {
   "cell_type": "code",
   "execution_count": 19,
   "metadata": {},
   "outputs": [
    {
     "name": "stdout",
     "output_type": "stream",
     "text": [
      "dup hash160 [3be02df06b935702302aea7f0b7b49575c3df868] equalverify checksig\n"
     ]
    }
   ],
   "source": [
    "# bx fetch-tx --format json [previous tx id] \n",
    "previous_output_script=$(bx fetch-tx --format json $previous_txid \\\n",
    "| jq -r \".transaction.outputs[1].script\")\n",
    "\n",
    "echo $previous_output_script"
   ]
  },
  {
   "cell_type": "markdown",
   "metadata": {},
   "source": [
    "**Sign transaction with previous output script.**"
   ]
  },
  {
   "cell_type": "code",
   "execution_count": 20,
   "metadata": {},
   "outputs": [],
   "source": [
    "# bx input-sign [private key] \"previous output script\" [transaction template]\n",
    "signature=$(bx input-sign --sign_type all --index 0 $privatekey_44h_1h_0h_0_0 \"$previous_output_script\" $my_tx)\n"
   ]
  },
  {
   "cell_type": "markdown",
   "metadata": {},
   "source": [
    "**Set the input script into the finalised transaction.**"
   ]
  },
  {
   "cell_type": "code",
   "execution_count": 21,
   "metadata": {},
   "outputs": [
    {
     "name": "stdout",
     "output_type": "stream",
     "text": [
      "010000000163d9e76ac8acf2015c67a315c089f9b377eeabb622057c3cdb17f81cd0a28e80010000006a47304402206f9a1fe01334a43a57c35480de9e53f9d2894f79730d46c072eb612819e9e35402201c64844ebc5b54b8b7f128bf3319d066b6dc482ea4c1373d82125af4ac013a170121034c0857fe82cf2c15c1ad42447cfc36ddbc6dcabebac2881da07f881253f897b3ffffffff0a5e9f0700000000001976a914630b65f69f9b1b386de4e3d5cc6781921d61aac288ac5e9f0700000000001976a91495de3558931973d6b1de16bd40603b7a1dce333a88ac5e9f0700000000001976a9143e3452fd45710186b8d5347dde09d1ae14e8d77388ac5e9f0700000000001976a9149c05d69d012221842b2b1ca8e8d9124afdbf798788ac5e9f0700000000001976a9143c738d3b4af3572fa74f02ae488a99374c0726ad88ac5e9f0700000000001976a9147102c7914f7ac4e5a8055c5954b3462e0ddb419f88ac5e9f0700000000001976a914ad82a1640cf5b64aaa877e74e9824181882e513088ac5e9f0700000000001976a9143054cf92dc80c6efd7559e660bde8b0fa7a85adc88ac5e9f0700000000001976a914de71678c2fd2d28b4cb21b3f1210ee452eab0fb588ac5e9f0700000000001976a914b652a31f1800d4040996f2dc4df405e168a8ddd788ac00000000\n"
     ]
    }
   ],
   "source": [
    "# bx input-set \"[signature] [public key point]\" [transaction template]\n",
    "my_tx=$(bx input-set --index 0 \"[$signature] [$publickey_44h_1h_0h_0_0]\" $my_tx)\n",
    "echo $my_tx"
   ]
  },
  {
   "cell_type": "markdown",
   "metadata": {},
   "source": [
    "## 3. Validate & Broadcast the endorsed transaction"
   ]
  },
  {
   "cell_type": "code",
   "execution_count": null,
   "metadata": {},
   "outputs": [
    {
     "name": "stdout",
     "output_type": "stream",
     "text": [
      "The transaction is valid.\n"
     ]
    }
   ],
   "source": [
    "bx validate-tx $my_tx"
   ]
  },
  {
   "cell_type": "code",
   "execution_count": null,
   "metadata": {},
   "outputs": [],
   "source": [
    "bx send-tx $my_tx"
   ]
  },
  {
   "cell_type": "code",
   "execution_count": null,
   "metadata": {},
   "outputs": [],
   "source": [
    "# bx bitcoin256 [tx data]\n",
    "bx bitcoin256 $my_tx\n"
   ]
  }
 ],
 "metadata": {
  "kernelspec": {
   "display_name": "Bash",
   "language": "bash",
   "name": "bash"
  },
  "language_info": {
   "codemirror_mode": "shell",
   "file_extension": ".sh",
   "mimetype": "text/x-sh",
   "name": "bash"
  }
 },
 "nbformat": 4,
 "nbformat_minor": 2
}
