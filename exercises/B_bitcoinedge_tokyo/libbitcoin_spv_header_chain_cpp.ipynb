{
 "cells": [
  {
   "cell_type": "markdown",
   "metadata": {},
   "source": [
    "# Libbitcoin SPV Client: Chain Header Validation\n",
    "\n",
    "In this example, we demonstrate how to validate the proof of work of the header chain returned from the server.\n",
    "<br>\n",
    "<img src=\"images/spv_header_validation.jpg\" alt=\"drawing\" style=\"\" width=\"800px\"/>\n",
    "\n",
    "\n"
   ]
  },
  {
   "cell_type": "markdown",
   "metadata": {},
   "source": [
    "### Libbitcoin-System (C++) Setup"
   ]
  },
  {
   "cell_type": "code",
   "execution_count": null,
   "metadata": {},
   "outputs": [],
   "source": [
    "// Compiler & linker information for c++ interpreter.\n",
    "#pragma cling add_include_path(\"/usr/local/include\",\"/usr/local/Cellar/zeromq/4.2.5/include\",\"/usr/local/Cellar/libbitcoin-consensus/3.5.0/include\")\n",
    "#pragma cling add_library_path(\"/usr/local/lib\",\"/usr/local/Cellar/zeromq/4.2.5/lib\",\"/usr/local/Cellar/libbitcoin-consensus/3.5.0/lib\")\n",
    "#pragma cling load(\"bitcoin\",\"bitcoin-protocol\",\"bitcoin-blockchain\",\"bitcoin-consensus\",\"bitcoin-database\",\"zmq\",\"secp256k1\",\"pthread\",\"boost_chrono-mt\",\"boost_date_time-mt\",\"boost_filesystem\",\"boost_iostreams-mt\",\"boost_locale-mt\",\"boost_log-mt\",\"boost_program_options-mt\",\"boost_regex-mt\",\"boost_system\",\"boost_thread-mt\")\n",
    "\n",
    "// Libbitcoin-System\n",
    "// Libbitcoin-Protocol\n",
    "// Libbitcoin-Blockchain\n",
    "#include <bitcoin/bitcoin.hpp> \n",
    "#include <bitcoin/protocol.hpp> \n",
    "#include <bitcoin/blockchain.hpp> "
   ]
  },
  {
   "cell_type": "markdown",
   "metadata": {},
   "source": [
    "<hr style=\"border: 0.5px dashed #000;\">\n"
   ]
  },
  {
   "cell_type": "markdown",
   "metadata": {},
   "source": [
    "## 1) Setup ZMQ.\n"
   ]
  },
  {
   "cell_type": "code",
   "execution_count": null,
   "metadata": {},
   "outputs": [],
   "source": [
    "bc::protocol::zmq::context my_context(true);\n",
    "bc::protocol::zmq::socket my_requester(my_context,\n",
    "    bc::protocol::zmq::socket::role::requester);\n",
    "bc::config::endpoint public_endpoint(\"tcp://mainnet2.libbitcoin.net:9091\");\n",
    "\n",
    "bc::code ec_socket; \n",
    "ec_socket = my_requester.connect(public_endpoint);\n"
   ]
  },
  {
   "cell_type": "markdown",
   "metadata": {},
   "source": [
    "## 2) Initialise chain state at height 0\n",
    "\n",
    "* `bc::config::settings` class contains chain parameters.\n",
    "* `bc::chain::chain_state::data` is populated with `bc::config::settings` object.\n",
    "* First `chain_state` is instantiated with populated`bc::chain::chain_state::data` object.\n"
   ]
  },
  {
   "cell_type": "code",
   "execution_count": null,
   "metadata": {},
   "outputs": [],
   "source": [
    "bc::config::settings my_settings(bc::config::settings::mainnet);\n",
    "bc::blockchain::settings genesis_settings(my_settings);\n",
    "auto genesis_block = bc::chain::block::genesis_mainnet();\n",
    "bc::chain::chain_state::data genesis_data;\n",
    "genesis_data.height = 0;\n",
    "genesis_data.hash = bc::base16_literal(\n",
    "    \"000000000019d6689c085ae165831e934ff763ae46a2a6c172b3f1b60a8ce26f\");\n",
    "/// mainnet: 227931, testnet: 21111 (or map::unrequested)\n",
    "genesis_data.allow_collisions_hash = bc::base16_literal(\n",
    "    \"000000000000024b89b42a942fe0d9fea3bb44ab7bd1b19115dd6a759c0808b8\");\n",
    "/// mainnet: 419328, testnet: 770112 (or map::unrequested)\n",
    "genesis_data.bip9_bit0_hash = bc::base16_literal(\n",
    "    \"000000000000000004a1b34462cb8aeebd5799177f7a29cf28f2d1961716b5b5\");\n",
    "/// mainnet: 481824, testnet: 834624 (or map::unrequested)\n",
    "genesis_data.bip9_bit1_hash = bc::base16_literal(\n",
    "    \"0000000000000000001c8018d9cb3b742ef25114f27563e3fc4a1902167f9893\");\n",
    "genesis_data.bits.self = genesis_block.header().bits();\n",
    "genesis_data.version.self = genesis_block.header().version();\n",
    "genesis_data.timestamp.self = genesis_block.header().version();\n",
    "// retarget timestamp?\n",
    "\n",
    "// Initialise genesis chain state.\n",
    "//--------------------------------------------------------------------------\n",
    "std::shared_ptr<bc::chain::chain_state> prev_chain_state_ptr(\n",
    "    new bc::chain::chain_state(std::move(genesis_data),\n",
    "    genesis_settings.checkpoints,\n",
    "    genesis_settings.enabled_forks()\n",
    "  ));\n",
    "\n",
    "std::shared_ptr<bc::chain::chain_state> current_chain_state_ptr;\n",
    "\n",
    "// uint32_t prev_target_bits = prev_chain_state_ptr->work_required();\n",
    "\n",
    "auto prev_block_hash = genesis_block.header().hash();\n"
   ]
  },
  {
   "cell_type": "markdown",
   "metadata": {},
   "source": [
    "## 3) Request header at each height: Validate proof-of-work.\n",
    "* *At each chain height:*\n",
    "    * Request `header` from server.\n",
    "    * Derive `chain_state` at height of header.\n",
    "    * Validate `previous_hash` link of header.\n",
    "    * Check whether header work is within target."
   ]
  },
  {
   "cell_type": "code",
   "execution_count": null,
   "metadata": {},
   "outputs": [],
   "source": [
    "// For this example: Validate until height 100000.\n",
    "//--------------------------------------------------------------------------\n",
    "\n",
    "for( uint32_t height = 1; height <= 100000; height += 1 )\n",
    "{\n",
    "  // Client request message.\n",
    "    std::string command = \"blockchain.fetch_block_header\";\n",
    "    uint32_t message_id(0);\n",
    "    bc::protocol::zmq::message my_request;\n",
    "    my_request.enqueue(bc::to_chunk(command));\n",
    "    my_request.enqueue(bc::to_chunk(bc::to_little_endian(message_id)));\n",
    "    my_request.enqueue(bc::to_chunk(bc::to_little_endian(height)));\n",
    "\n",
    "    // Server response message.\n",
    "    bc::protocol::zmq::message server_response;\n",
    "    std::string my_message_command;\n",
    "    uint32_t my_message_id;\n",
    "    bc::data_chunk reply_payload;\n",
    "    bc::code ec_reply;\n",
    "\n",
    "    // Submit Query.\n",
    "    ec_socket = my_request.send(my_requester);\n",
    "\n",
    "    // Parse Reply.\n",
    "    server_response.receive(my_requester);\n",
    "    my_message_command = server_response.dequeue_text();\n",
    "    server_response.dequeue(my_message_id);\n",
    "    server_response.dequeue(reply_payload);\n",
    "    bc::data_source reply_byte_stream(reply_payload);\n",
    "    bc::istream_reader reply_byte_stream_reader(reply_byte_stream);\n",
    "    ec_reply = reply_byte_stream_reader.read_error_code();\n",
    "\n",
    "    bc::chain::header received_header;\n",
    "    received_header.from_data(reply_byte_stream_reader);\n",
    "\n",
    "    // Derive next chain_state.\n",
    "    //----------------------------------------------------------------------\n",
    "    if(prev_block_hash != received_header.previous_block_hash())\n",
    "    {\n",
    "        std::cout << \"Broken hash link at height: \" << height\n",
    "            << \"/n\";\n",
    "        return 0;\n",
    "    }\n",
    "    prev_block_hash = received_header.hash();\n",
    "\n",
    "    current_chain_state_ptr.reset(new bc::chain::chain_state(\n",
    "        *prev_chain_state_ptr, received_header));\n",
    "\n",
    "    prev_chain_state_ptr = current_chain_state_ptr;\n",
    "\n",
    "    // POW validation.\n",
    "    //----------------------------------------------------------------------\n",
    "    if(!received_header.is_valid_proof_of_work())\n",
    "    {\n",
    "        std::cout << \"Header work/bits invalid at height: \"\n",
    "            << height << \"/n\";\n",
    "        return 0;\n",
    "    }\n",
    "\n",
    "    // Validate required work from chain history.\n",
    "    auto difficulty_bits = prev_chain_state_ptr->work_required();\n",
    "    bc::uint256_t target(bc::chain::compact{difficulty_bits});\n",
    "\n",
    "    auto work_performed = bc::to_uint256(received_header.hash());\n",
    "\n",
    "    if(!(work_performed <= target))\n",
    "    {\n",
    "        std::cout << \"Insufficient work: \" << height << \"/n\";\n",
    "        return 0;\n",
    "    }\n",
    "\n",
    "    // Print out at each height.\n",
    "    bc::hash_digest header_hash = received_header.hash();\n",
    "    std::reverse(header_hash.begin(), header_hash.end());\n",
    "\n",
    "    std::stringstream target_string_stream;\n",
    "    target_string_stream << std::setw(64) << std::setfill('0')\n",
    "                         << std::hex << target;\n",
    "    std::string target_string = target_string_stream.str();\n",
    "\n",
    "    std::cout << std::dec << \"height: \\n\"\n",
    "              << height << \"\\n\"\n",
    "              << \"header hash:\\n\"\n",
    "              << bc::encode_base16(bc::to_chunk(header_hash)) << \"\\n\"\n",
    "              << \"target:\\n\"\n",
    "              << target_string\n",
    "              << std::endl;\n",
    "\n",
    "//     prev_target_bits = difficulty_bits;\n",
    "\n",
    "}"
   ]
  }
 ],
 "metadata": {
  "kernelspec": {
   "display_name": "C++11",
   "language": "C++11",
   "name": "xeus-cling-cpp11"
  },
  "language_info": {
   "codemirror_mode": "text/x-c++src",
   "file_extension": ".cpp",
   "mimetype": "text/x-c++src",
   "name": "c++",
   "version": "-std=c++11"
  }
 },
 "nbformat": 4,
 "nbformat_minor": 2
}
