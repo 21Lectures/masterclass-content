{
 "cells": [
  {
   "cell_type": "markdown",
   "metadata": {},
   "source": [
    "# Libbitcoin BX/System: Elliptic Curve Math \n",
    "In this example, we demonstrate the properties of scalar and elliptic curve operations over finite fields.\n",
    "<br>\n",
    "<img src=\"images/ec_math_operations.jpg\" alt=\"drawing\" style=\"\" width=\"700px\"/>"
   ]
  },
  {
   "cell_type": "markdown",
   "metadata": {},
   "source": [
    "### Libbitcoin-System (C++) Setup"
   ]
  },
  {
   "cell_type": "code",
   "execution_count": 1,
   "metadata": {},
   "outputs": [],
   "source": [
    "// Compiler & linker information for c++ interpreter.\n",
    "#pragma cling add_include_path(\"/usr/local/include\",\"/usr/local/Cellar/zeromq/4.2.5/include\")\n",
    "#pragma cling add_library_path(\"/usr/local/lib\",\"/usr/local/Cellar/zeromq/4.2.5/lib\")\n",
    "#pragma cling load(\"bitcoin\",\"bitcoin-protocol\",\"zmq\",\"secp256k1\",\"pthread\",\"boost_chrono-mt\",\"boost_date_time-mt\",\"boost_filesystem\",\"boost_iostreams-mt\",\"boost_locale-mt\",\"boost_log-mt\",\"boost_program_options-mt\",\"boost_regex-mt\",\"boost_system\",\"boost_thread-mt\")\n",
    "\n",
    "// Libbitcoin-System\n",
    "#include <bitcoin/bitcoin.hpp> "
   ]
  },
  {
   "cell_type": "markdown",
   "metadata": {},
   "source": [
    "<hr style=\"border: 0.5px dashed #000;\">\n",
    "\n",
    "\n",
    "# Scalar Operations\n"
   ]
  },
  {
   "cell_type": "markdown",
   "metadata": {},
   "source": [
    "## 1) Generate a valid `secp256k1` scalar"
   ]
  },
  {
   "cell_type": "markdown",
   "metadata": {},
   "source": [
    "### 1.1) With Libbitcoin-Explorer"
   ]
  },
  {
   "cell_type": "code",
   "execution_count": 2,
   "metadata": {},
   "outputs": [
    {
     "name": "stdout",
     "output_type": "stream",
     "text": [
      "925b2d401a0317b9d2fad24d5d41cdbc\n"
     ]
    }
   ],
   "source": [
    "!bx seed --bit_length 128 \n"
   ]
  },
  {
   "cell_type": "code",
   "execution_count": 3,
   "metadata": {},
   "outputs": [
    {
     "name": "stdout",
     "output_type": "stream",
     "text": [
      "6996e113742aa9672e679a16bf70ddcfce0db2686a118f07526dd9ec1b61f058\n"
     ]
    }
   ],
   "source": [
    "!bx ec-new 394e6ed80d23574456f4641f552a9eb7\n"
   ]
  },
  {
   "cell_type": "markdown",
   "metadata": {},
   "source": [
    "### 1.2) With Libbitcoin-System (C++)\n",
    "\n",
    "* `bc::data_chunk`\n",
    "* `bc::pseudo_random_fill`\n",
    "* `bc::encode_base16`"
   ]
  },
  {
   "cell_type": "code",
   "execution_count": null,
   "metadata": {},
   "outputs": [],
   "source": [
    "// Create 128bits of entropy.\n",
    "bc::data_chunk my_entropy(16); // 16 bytes = 128 bits\n",
    "bc::pseudo_random_fill(my_entropy);\n",
    "\n",
    "// Print out entropy.\n",
    "std::cout << bc::encode_base16(my_entropy) << std::endl;\n"
   ]
  },
  {
   "cell_type": "markdown",
   "metadata": {},
   "source": [
    "* `bc::base16_literal`\n",
    "* `bc::to_chunk`\n",
    "* `bc::wallet::ec_private`"
   ]
  },
  {
   "cell_type": "code",
   "execution_count": null,
   "metadata": {},
   "outputs": [],
   "source": [
    "// Create valid secp256k1 scalar from entropy.\n",
    "auto my_prev_entropy = bc::to_chunk(bc::base16_literal(\"394e6ed80d23574456f4641f552a9eb7\"));\n",
    "bc::wallet::ec_private my_key(my_prev_entropy);\n",
    "\n",
    "// Print out scalar.\n",
    "std::cout << bc::encode_base16(my_key.secret()) << std::endl;\n"
   ]
  },
  {
   "cell_type": "markdown",
   "metadata": {},
   "source": [
    "## 2) Demonstrate Associativity\n",
    "\n",
    "**`(a + b) * c = a * c + b * c`**\n",
    "<br>\n",
    "\n",
    "* `a = 86101c23edfcdf19bf47836b7fe4b86bd3023983d477e0324adc81230b22851b`\n",
    "* `b = b6ab20f3d9311eb7ebcad6bb2933008eb350418c3f499fb764204ee08f4171f2`\n",
    "* `c = 6dbcfab245c6e278659dc26ec9d989c14c223f23cd17941ab45bb04c91290cdf`"
   ]
  },
  {
   "cell_type": "markdown",
   "metadata": {},
   "source": [
    "### 2.1) With Libbitcoin-Explorer"
   ]
  },
  {
   "cell_type": "markdown",
   "metadata": {},
   "source": [
    "**`a + b`**"
   ]
  },
  {
   "cell_type": "code",
   "execution_count": null,
   "metadata": {},
   "outputs": [],
   "source": [
    "!bx ec-add-secrets 86101c23edfcdf19bf47836b7fe4b86bd3023983d477e0324adc81230b22851b b6ab20f3d9311eb7ebcad6bb2933008eb350418c3f499fb764204ee08f4171f2\n"
   ]
  },
  {
   "cell_type": "markdown",
   "metadata": {},
   "source": [
    "**`Left side: (a + b) * c`**"
   ]
  },
  {
   "cell_type": "code",
   "execution_count": null,
   "metadata": {},
   "outputs": [],
   "source": [
    "!bx ec-multiply-secrets 3cbb3d17c72dfdd1ab125a26a917b8fbcba39e296478dfadef2a7176ca2db5cc 6dbcfab245c6e278659dc26ec9d989c14c223f23cd17941ab45bb04c91290cdf\n",
    "    "
   ]
  },
  {
   "cell_type": "markdown",
   "metadata": {},
   "source": [
    "**`a * c`**\n"
   ]
  },
  {
   "cell_type": "code",
   "execution_count": null,
   "metadata": {},
   "outputs": [],
   "source": [
    "!bx ec-multiply-secrets 86101c23edfcdf19bf47836b7fe4b86bd3023983d477e0324adc81230b22851b 6dbcfab245c6e278659dc26ec9d989c14c223f23cd17941ab45bb04c91290cdf\n"
   ]
  },
  {
   "cell_type": "markdown",
   "metadata": {},
   "source": [
    "**`b * c`**"
   ]
  },
  {
   "cell_type": "code",
   "execution_count": null,
   "metadata": {},
   "outputs": [],
   "source": [
    "!bx ec-multiply-secrets b6ab20f3d9311eb7ebcad6bb2933008eb350418c3f499fb764204ee08f4171f2 6dbcfab245c6e278659dc26ec9d989c14c223f23cd17941ab45bb04c91290cdf\n"
   ]
  },
  {
   "cell_type": "markdown",
   "metadata": {},
   "source": [
    "**`Right side: a * c + b * c`**"
   ]
  },
  {
   "cell_type": "code",
   "execution_count": null,
   "metadata": {},
   "outputs": [],
   "source": [
    "!bx ec-add-secrets 94cbd69b1e8cdf4a69a1052ad783500231ee73f8c8c3f884f9f7f1cdcb8c1800 bb86d240513123db4882163833c6fec0b45cf6fb61858de324abc35b8a8c9c80\n"
   ]
  },
  {
   "cell_type": "markdown",
   "metadata": {},
   "source": [
    "### 2.2) With Libbitcoin-System (C++)\n",
    "\n",
    "* `bc::ec_secret`\n",
    "* `bc::ec_add`\n",
    "* `bc::ec_multiply`"
   ]
  },
  {
   "cell_type": "code",
   "execution_count": null,
   "metadata": {},
   "outputs": [],
   "source": [
    "auto scalar_a = bc::base16_literal(\"86101c23edfcdf19bf47836b7fe4b86bd3023983d477e0324adc81230b22851b\");\n",
    "auto scalar_b = bc::base16_literal(\"b6ab20f3d9311eb7ebcad6bb2933008eb350418c3f499fb764204ee08f4171f2\");\n",
    "auto scalar_c = bc::base16_literal(\"6dbcfab245c6e278659dc26ec9d989c14c223f23cd17941ab45bb04c91290cdf\");\n",
    "\n",
    "// Left side: (a + b) * c\n",
    "bc::ec_secret scalar_result(scalar_a);\n",
    "bc::ec_add(scalar_result, scalar_b);    // a += b\n",
    "bc::ec_multiply(scalar_result, scalar_c);  // (a + b) *= c\n",
    "\n",
    "// Right side: a * c + b * c\n",
    "bc::ec_secret scalar_a_mult_c(scalar_a);\n",
    "bc::ec_secret scalar_b_mult_c(scalar_b);\n",
    "bc::ec_multiply(scalar_a_mult_c, scalar_c); // a *= c\n",
    "bc::ec_multiply(scalar_b_mult_c, scalar_c); // a *= c\n",
    "bc::ec_secret scalar_result_(scalar_a_mult_c);\n",
    "bc::ec_add(scalar_result_, scalar_b_mult_c); // (a * c) += (b * c)\n",
    "\n",
    "// Check for equality.\n",
    "std::cout << (scalar_result == scalar_result_) << std::endl;  \n",
    "\n",
    "// Print out.\n",
    "std::cout << bc::encode_base16(bc::to_chunk(scalar_result)) << std::endl;\n",
    "std::cout << bc::encode_base16(bc::to_chunk(scalar_result_)) << std::endl;\n"
   ]
  },
  {
   "cell_type": "markdown",
   "metadata": {},
   "source": [
    "<hr style=\"border: 0.5px dashed #000;\">\n",
    "\n",
    "# Elliptic Curve Operations:\n",
    "\n"
   ]
  },
  {
   "cell_type": "markdown",
   "metadata": {},
   "source": [
    "## 3) Generate a valid `secp256k1` point"
   ]
  },
  {
   "cell_type": "markdown",
   "metadata": {},
   "source": [
    "### 3.1) With Libbitcoin-Explorer"
   ]
  },
  {
   "cell_type": "code",
   "execution_count": null,
   "metadata": {},
   "outputs": [],
   "source": [
    "!bx seed -b 128 | bx ec-new | bx ec-to-public\n"
   ]
  },
  {
   "cell_type": "markdown",
   "metadata": {},
   "source": [
    "### 3.2) With Libbitcoin-System (C++)\n",
    "\n",
    "* `bc::wallet::ec_private::to_public()`\n",
    "* `bc::Wallet::ec_public::point()`\n",
    "* `bc::ec_compressed`"
   ]
  },
  {
   "cell_type": "code",
   "execution_count": null,
   "metadata": {},
   "outputs": [],
   "source": [
    "bc::data_chunk my_entropy_(16); // 16 bytes = 128 bits\n",
    "bc::pseudo_random_fill(my_entropy_);\n",
    "bc::wallet::ec_private my_key_(my_entropy_);\n",
    "auto my_point = my_key_.to_public().point(); // Derive point\n",
    "\n",
    "std::cout << bc::encode_base16(my_point) << std::endl;\n"
   ]
  },
  {
   "cell_type": "markdown",
   "metadata": {},
   "source": [
    "## 4) Demonstrate Associativity\n",
    "\n",
    "**`(a + b) * G = A + B`**\n",
    "\n",
    "* `a = 86101c23edfcdf19bf47836b7fe4b86bd3023983d477e0324adc81230b22851b`\n",
    "* `b = b6ab20f3d9311eb7ebcad6bb2933008eb350418c3f499fb764204ee08f4171f2`"
   ]
  },
  {
   "cell_type": "markdown",
   "metadata": {},
   "source": [
    "### 4.1) With Libbitcoin-Explorer\n"
   ]
  },
  {
   "cell_type": "markdown",
   "metadata": {},
   "source": [
    "**`a + b`**\n"
   ]
  },
  {
   "cell_type": "code",
   "execution_count": null,
   "metadata": {},
   "outputs": [],
   "source": [
    "!bx ec-add-secrets 86101c23edfcdf19bf47836b7fe4b86bd3023983d477e0324adc81230b22851b b6ab20f3d9311eb7ebcad6bb2933008eb350418c3f499fb764204ee08f4171f2\n"
   ]
  },
  {
   "cell_type": "markdown",
   "metadata": {},
   "source": [
    "**`Left side: (a + b) * G`**"
   ]
  },
  {
   "cell_type": "code",
   "execution_count": null,
   "metadata": {},
   "outputs": [],
   "source": [
    "!bx ec-to-public 3cbb3d17c72dfdd1ab125a26a917b8fbcba39e296478dfadef2a7176ca2db5cc\n",
    "    "
   ]
  },
  {
   "cell_type": "markdown",
   "metadata": {},
   "source": [
    "**`A`**"
   ]
  },
  {
   "cell_type": "code",
   "execution_count": null,
   "metadata": {},
   "outputs": [],
   "source": [
    "!bx ec-to-public 86101c23edfcdf19bf47836b7fe4b86bd3023983d477e0324adc81230b22851b\n"
   ]
  },
  {
   "cell_type": "markdown",
   "metadata": {},
   "source": [
    "**`Right side: A + B`**\n",
    "\n",
    "* `ec-add POINT secret = POINT + (secret * G)`"
   ]
  },
  {
   "cell_type": "code",
   "execution_count": null,
   "metadata": {},
   "outputs": [],
   "source": [
    "!bx ec-add 032e053dc83eb3f4d52490ec2745d8796f1a3f5762166a0447a4e4640db5ca56d9 b6ab20f3d9311eb7ebcad6bb2933008eb350418c3f499fb764204ee08f4171f2\n"
   ]
  },
  {
   "cell_type": "markdown",
   "metadata": {},
   "source": [
    "### 4.2) With Libbitcoin-System (C++)\n"
   ]
  },
  {
   "cell_type": "code",
   "execution_count": null,
   "metadata": {},
   "outputs": [],
   "source": [
    "// Left side: (a + b) * G \n",
    "bc::ec_secret scalar_a_plus_b(scalar_a);\n",
    "bc::ec_add(scalar_a_plus_b, scalar_b);\n",
    "bc::ec_compressed point;\n",
    "bc::secret_to_public(point, scalar_a_plus_b);\n",
    "\n",
    "// Right side: = A + B\n",
    "bc::ec_compressed point_;\n",
    "bc::secret_to_public(point_, scalar_a);\n",
    "bc::ec_add(point_, scalar_b);\n",
    "\n",
    "// Check for equality.\n",
    "std::cout << (point == point_) << std::endl;\n",
    "\n",
    "// Print out points.\n",
    "std::cout << bc::encode_base16(bc::to_chunk(point)) << std::endl;\n",
    "std::cout << bc::encode_base16(bc::to_chunk(point_)) << std::endl;\n"
   ]
  }
 ],
 "metadata": {
  "kernelspec": {
   "display_name": "C++11",
   "language": "C++11",
   "name": "xeus-cling-cpp11"
  },
  "language_info": {
   "codemirror_mode": "text/x-c++src",
   "file_extension": ".cpp",
   "mimetype": "text/x-c++src",
   "name": "c++",
   "version": "-std=c++11"
  }
 },
 "nbformat": 4,
 "nbformat_minor": 2
}
