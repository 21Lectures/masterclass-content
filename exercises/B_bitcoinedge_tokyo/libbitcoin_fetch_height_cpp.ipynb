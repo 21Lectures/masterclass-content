{
 "cells": [
  {
   "cell_type": "markdown",
   "metadata": {},
   "source": [
    "# Querying Latest Block Height in Libbitcoin"
   ]
  },
  {
   "cell_type": "markdown",
   "metadata": {},
   "source": [
    "###  Load libraries and header files.\n",
    "Make sure to adapt information below according to your local installation."
   ]
  },
  {
   "cell_type": "code",
   "execution_count": null,
   "metadata": {},
   "outputs": [],
   "source": [
    "// Compiler & linker information for c++ interpreter.\n",
    "#pragma cling add_include_path(\"/usr/local/include\",\"/usr/local/Cellar/zeromq/4.2.5/include\")\n",
    "#pragma cling add_library_path(\"/usr/local/lib\",\"/usr/local/Cellar/zeromq/4.2.5/lib\")\n",
    "#pragma cling load(\"bitcoin\",\"bitcoin-protocol\",\"zmq\",\"secp256k1\",\"pthread\",\"boost_chrono-mt\",\"boost_date_time-mt\",\"boost_filesystem\",\"boost_iostreams-mt\",\"boost_locale-mt\",\"boost_log-mt\",\"boost_program_options-mt\",\"boost_regex-mt\",\"boost_system\",\"boost_thread-mt\")\n",
    "\n",
    "// Required header files.\n",
    "#include <iostream>\n",
    "#include <string>\n",
    "#include <bitcoin/bitcoin.hpp> // Libbitcoin-System\n",
    "#include <bitcoin/protocol.hpp> // Libbitcoin-Protocol"
   ]
  },
  {
   "cell_type": "markdown",
   "metadata": {},
   "source": [
    "## 1) Setting up the ZMQ requester socket.\n",
    "We will use a `ZMQ REQ` socket in this example to query the Libbitcoin server for the latest blockheight. The REQ socket is a strictly synchronous, meaning that it must alternate between request and reply, and cannot send multiple requests at once.\n",
    "\n",
    "<img src=\"images/zmq_req_rep.jpg\" alt=\"drawing\" style=\"\" width=\"800px\"/>\n",
    "\n",
    "The ZMQ requester socket is setup with the following steps:\n",
    "* 1.1 Instantiate single ZMQ context object.\n",
    "* 1.2 Instantiate ZMQ requester socket.\n",
    "* 1.3 Setup ZMQ Curve authentification.\n",
    "* 1.4 Connect requester to query service endpoint.\n"
   ]
  },
  {
   "cell_type": "markdown",
   "metadata": {},
   "source": [
    "### 1.1 Instantiate single ZMQ context object.\n",
    "* Only instantiate a single ZMQ context per thread or process. \n",
    "* Multiple ZMQ sockets can be created for each context."
   ]
  },
  {
   "cell_type": "code",
   "execution_count": null,
   "metadata": {},
   "outputs": [],
   "source": [
    "bc::protocol::zmq::context my_context(true); // true = started"
   ]
  },
  {
   "cell_type": "markdown",
   "metadata": {},
   "source": [
    "### 1.2 Instantiate ZMQ requester socket."
   ]
  },
  {
   "cell_type": "code",
   "execution_count": null,
   "metadata": {},
   "outputs": [],
   "source": [
    "bc::protocol::zmq::socket my_requester(\n",
    "    my_context,\n",
    "    bc::protocol::zmq::socket::role::requester);\n",
    "bc::config::endpoint public_endpoint(\"tcp://testnet1.libbitcoin.net:19081\");\n",
    "bc::code ec_socket; // error code object for socket."
   ]
  },
  {
   "cell_type": "markdown",
   "metadata": {},
   "source": [
    "### 1.3 Setup ZMQ Curve authentification.\n",
    "* [ZMQ Curve](http://api.zeromq.org/4-0:zmq-curve) scheme enables an authenticated and secure connection with service endpoint.\n",
    "* We will generate a new ZMQ certificate for this query.\n",
    "* Certificate contains public/private key pair."
   ]
  },
  {
   "cell_type": "code",
   "execution_count": null,
   "metadata": {},
   "outputs": [],
   "source": [
    "// Known server public key for \"tcp://testnet1.libbitcoin.net:19081\".\n",
    "bc::config::sodium server_key(\")nNv4Ji=CU:}@<LOu-<QvB)b-PIh%PX[)?mH>XAl\");\n",
    "\n",
    "// Generate new certificate: private/public keys.\n",
    "bc::protocol::zmq::certificate my_certificate;\n",
    "bc::config::sodium my_private_key = my_certificate.private_key();\n",
    "bc::config::sodium my_public_key = my_certificate.public_key();\n",
    "\n",
    "// Prints out base85 representation of generated keys.\n",
    "std::cout << \"Generated Private Key: \" << my_private_key.to_string() << std::endl\n",
    "          << \"Generated Public Key: \" << my_public_key.to_string()  << std::endl;\n",
    "\n",
    "my_requester.set_curve_client(server_key);\n",
    "my_requester.set_certificate(my_certificate);"
   ]
  },
  {
   "cell_type": "markdown",
   "metadata": {},
   "source": [
    "### 1.4) Connect requester to query service endpoint.\n",
    "* Successfully connecting the endpoint does not mean a connection is established with the server. \n",
    "* It merely means the socket is now ready to establish request/receive communication.\n",
    "* See zmq_connect in the [ZMQ documentation](http://api.zeromq.org/3-2:zmq-connect)."
   ]
  },
  {
   "cell_type": "code",
   "execution_count": null,
   "metadata": {},
   "outputs": [],
   "source": [
    "ec_socket = my_requester.connect(public_endpoint);\n",
    "std::cout << ec_socket.message() << std::endl;"
   ]
  },
  {
   "cell_type": "markdown",
   "metadata": {},
   "source": [
    "## 2) Send blockheight query & receive reply.\n",
    "\n",
    "We have know set up our connection objects and are ready to compose messages for our simple <span style=\"font-size:110%;\">&#10122;</span> request and <span style=\"font-size:110%;\">&#10123;</span> response query.\n",
    "\n",
    "<img src=\"images/zmq_message.jpg\" alt=\"drawing\" style=\"\" width=\"800px\"/>\n",
    "\n",
    "The following code cells will execute the following:\n",
    "* 2.1 Build & populate request ZMQ message.\n",
    "* 2.2 Build response ZMQ message.\n",
    "* 2.3 Send request, wait/receive reply."
   ]
  },
  {
   "cell_type": "markdown",
   "metadata": {},
   "source": [
    "### 2.1 Build & populate request message.\n",
    "* Each ZMQ message consists of frames, which each hold different message parts.\n",
    "* For the \"block.fetch_last_height\" Libbitcoin query, the following message structure is expected:\n",
    "\n",
    "```\n",
    "[-- \"blockchain.fetch_last_height\" --]\n",
    "[-------- 4-byte message id ---------] (little endian)\n",
    "[---------- empty payload -----------]\n",
    "```"
   ]
  },
  {
   "cell_type": "code",
   "execution_count": null,
   "metadata": {},
   "outputs": [],
   "source": [
    "std::string command = \"blockchain.fetch_last_height\";\n",
    "uint32_t message_id(0);\n",
    "bc::data_chunk payload({}); \n",
    "\n",
    "bc::protocol::zmq::message my_request;\n",
    "my_request.enqueue(bc::to_chunk(command));\n",
    "my_request.enqueue(bc::to_chunk(bc::to_little_endian(message_id)));\n",
    "my_request.enqueue(payload); \n"
   ]
  },
  {
   "cell_type": "markdown",
   "metadata": {},
   "source": [
    "### 2.2 Build response message\n",
    "* For the \"block.fetch_last_height\" Libbitcoin server request, the following reply message structure is expected:\n",
    "\n",
    "```\n",
    "[---------------- sent message command --------------]\n",
    "[--------------- sent 4-byte message id -------------] (little endian)\n",
    "[-- 4-byte error code | 4-byte latest block height --] (little endian)\n",
    "```"
   ]
  },
  {
   "cell_type": "code",
   "execution_count": null,
   "metadata": {},
   "outputs": [],
   "source": [
    "bc::protocol::zmq::message server_response;\n",
    "\n",
    "// Response Message Data:\n",
    "std::string my_message_command;\n",
    "uint32_t my_message_id;  // Little Endian\n",
    "bc::data_chunk reply_payload; // Little Endian, consists of ec_reply | height\n",
    "bc::code ec_reply;\n",
    "uint32_t height;"
   ]
  },
  {
   "cell_type": "markdown",
   "metadata": {},
   "source": [
    "### 2.3 Send request, wait & receive reply.\n",
    "* After the request is sent, `zmq_socket.receive()` blocks until a message can be unqueued.\n",
    "* Upon receiving the reply, the reply payload is parsed with a stream object:\n",
    "    * [`bc::data_source`](https://github.com/libbitcoin/libbitcoin/blob/master/include/bitcoin/bitcoin/utility/container_source.hpp#L73) is a byte stream class which can be instantiated with a `bc::data_chunk` object.\n",
    "    * [`bc::istream_reader`](https://github.com/libbitcoin/libbitcoin/blob/version3/include/bitcoin/bitcoin/utility/istream_reader.hpp#L29) provides methods to parse various data types from a byte stream. \n",
    "    \n",
    "<img src=\"images/reply_stream_method.jpg\" alt=\"drawing\" style=\"\" width=\"800px\"/>"
   ]
  },
  {
   "cell_type": "code",
   "execution_count": null,
   "metadata": {},
   "outputs": [],
   "source": [
    "// Submit Query.\n",
    "//------------------------------------------------------------------------------\n",
    "ec_socket = my_request.send(my_requester);\n",
    "std::cout << \"-------------------------------------\" << std::endl;\n",
    "std::cout << \"Query Error Code: \" << ec_socket.message() << std::endl;\n",
    "\n",
    "\n",
    "// Parse Server Reply.\n",
    "//------------------------------------------------------------------------------\n",
    "server_response.receive(my_requester); // Blocking until message available.\n",
    "\n",
    "my_message_command = server_response.dequeue_text();\n",
    "server_response.dequeue(my_message_id);\n",
    "server_response.dequeue(reply_payload);\n",
    "\n",
    "bc::data_source reply_byte_stream(reply_payload);\n",
    "bc::istream_reader reply_byte_stream_reader(reply_byte_stream);\n",
    "\n",
    "ec_reply = reply_byte_stream_reader.read_error_code();\n",
    "std::cout << \"-------------------------------------\" << std::endl;\n",
    "std::cout << \"Reply Error Code: \" << ec_reply.message() << std::endl;\n",
    "\n",
    "height = reply_byte_stream_reader.read_4_bytes_little_endian();\n",
    "std::cout << \"Returned Blockheight: \" << height << std::endl;"
   ]
  },
  {
   "cell_type": "code",
   "execution_count": null,
   "metadata": {},
   "outputs": [],
   "source": []
  }
 ],
 "metadata": {
  "kernelspec": {
   "display_name": "C++11",
   "language": "C++11",
   "name": "xeus-cling-cpp11"
  },
  "language_info": {
   "codemirror_mode": "text/x-c++src",
   "file_extension": ".cpp",
   "mimetype": "text/x-c++src",
   "name": "c++",
   "version": "-std=c++11"
  }
 },
 "nbformat": 4,
 "nbformat_minor": 2
}
