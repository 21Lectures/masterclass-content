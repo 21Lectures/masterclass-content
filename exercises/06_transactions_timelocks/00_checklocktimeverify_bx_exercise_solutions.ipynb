{
 "cells": [
  {
   "cell_type": "markdown",
   "metadata": {},
   "source": [
    "# Transactions with absolute locktime - BX Exercise\n",
    "In this BX tutorial, we will send funds to a `checklocktimeverify` encumbered output, and spend this after the absolute locktime has expired.\n",
    "<img src=\"images/cltv_overview.jpg\" alt=\"drawing\" style=\"\" width=\"700px\"/>"
   ]
  },
  {
   "cell_type": "markdown",
   "metadata": {},
   "source": [
    "<hr style=\"border: 0.5px dashed #000;\">\n",
    "\n",
    "## 1. Restore wallet and generate spending key pairs.\n"
   ]
  },
  {
   "cell_type": "code",
   "execution_count": 1,
   "metadata": {},
   "outputs": [],
   "source": [
    "# my_mnemonic =\"word0 word1 word2 ...\"\n",
    "# hd_master_private=$( )\n",
    "# hd_master_public=$( )\n",
    "\n",
    "my_mnemonic=\"seven mail crash you unit small assume express wedding cloud work potato\"\n",
    "hd_master_private=$(bx mnemonic-to-seed $my_mnemonic | bx hd-new)\n",
    "hd_master_public=$(bx hd-to-public $hd_master_private)"
   ]
  },
  {
   "cell_type": "markdown",
   "metadata": {},
   "source": [
    "### Restore your spending keys.\n",
    "\n",
    "* `m/44'/1'/1'/0/4`"
   ]
  },
  {
   "cell_type": "code",
   "execution_count": 2,
   "metadata": {},
   "outputs": [
    {
     "name": "stdout",
     "output_type": "stream",
     "text": [
      "mm2bGEdHUeZr6Yqx5b1rnuqi7cqTbjK9hG\n",
      "3c738d3b4af3572fa74f02ae488a99374c0726ad\n"
     ]
    }
   ],
   "source": [
    "# hd_m_44h_1h_1h_0_4=\n",
    "\n",
    "# privatekey_44h_1h_1h_0_4=\n",
    "# publickey_44h_1h_1h_0_4=\n",
    "# publickeyhash_44h_1h_1h_0_4=\n",
    "# address_44h_1h_1h_0_4=\n",
    "\n",
    "hd_m_44h_1h_1h_0_4=$(bx hd-private --hard --index 44 $hd_master_private \\\n",
    "| bx hd-private --hard --index 1  \\\n",
    "| bx hd-private --hard --index 1  \\\n",
    "| bx hd-private --index 0 \\\n",
    "| bx hd-private --index 4)\n",
    "\n",
    "privatekey_44h_1h_1h_0_4=$(bx hd-to-ec $hd_m_44h_1h_1h_0_4)\n",
    "publickey_44h_1h_1h_0_4=$(bx hd-to-public $hd_m_44h_1h_1h_0_4 | bx hd-to-ec)\n",
    "publickeyhash_44h_1h_1h_0_4=$(bx sha256 $publickey_44h_1h_1h_0_4 | bx ripemd160)\n",
    "address_44h_1h_1h_0_4=$(bx hd-to-public $hd_m_44h_1h_1h_0_4 | bx hd-to-ec | bx ec-to-address --version 111)\n",
    "\n",
    "echo $address_44h_1h_1h_0_4\n",
    "echo $publickeyhash_44h_1h_1h_0_4"
   ]
  },
  {
   "cell_type": "markdown",
   "metadata": {},
   "source": [
    "### Generate destination keys to send funds to.\n",
    "\n",
    "* `m/44'/1'/2'/0/4`"
   ]
  },
  {
   "cell_type": "code",
   "execution_count": 3,
   "metadata": {},
   "outputs": [
    {
     "name": "stdout",
     "output_type": "stream",
     "text": [
      "my9EknDkaPJio8RRhaQVF52jCwEWaDAtG3\n",
      "c156da8e421222be6665c78878ea49220d2ecb52\n"
     ]
    }
   ],
   "source": [
    "# hd_m_44h_1h_2h_0_4=\n",
    "\n",
    "# privatekey_44h_1h_2h_0_4=\n",
    "# publickey_44h_1h_2h_0_4=\n",
    "# publickeyhash_44h_1h_2h_0_4=\n",
    "# address_44h_1h_2h_0_4=\n",
    "\n",
    "hd_m_44h_1h_2h_0_4=$(bx hd-private --hard --index 44 $hd_master_private \\\n",
    "| bx hd-private --hard --index 1  \\\n",
    "| bx hd-private --hard --index 2  \\\n",
    "| bx hd-private --index 0 \\\n",
    "| bx hd-private --index 4)\n",
    "\n",
    "privatekey_44h_1h_2h_0_4=$(bx hd-to-ec $hd_m_44h_1h_2h_0_4)\n",
    "publickey_44h_1h_2h_0_4=$(bx hd-to-public $hd_m_44h_1h_2h_0_4 | bx hd-to-ec)\n",
    "publickeyhash_44h_1h_2h_0_4=$(bx sha256 $publickey_44h_1h_2h_0_4 | bx ripemd160)\n",
    "address_44h_1h_2h_0_4=$(bx hd-to-public $hd_m_44h_1h_2h_0_4 | bx hd-to-ec | bx ec-to-address --version 111)\n",
    "\n",
    "echo $address_44h_1h_2h_0_4\n",
    "echo $publickeyhash_44h_1h_2h_0_4"
   ]
  },
  {
   "cell_type": "markdown",
   "metadata": {},
   "source": [
    "### Fetch previous UTXO's you are spending."
   ]
  },
  {
   "cell_type": "code",
   "execution_count": 4,
   "metadata": {},
   "outputs": [
    {
     "name": "stdout",
     "output_type": "stream",
     "text": [
      "\u001b[1;39m{\n",
      "  \u001b[0m\u001b[34;1m\"address_hash\"\u001b[0m\u001b[1;39m: \u001b[0m\u001b[0;32m\"3c738d3b4af3572fa74f02ae488a99374c0726ad\"\u001b[0m\u001b[1;39m,\n",
      "  \u001b[0m\u001b[34;1m\"script\"\u001b[0m\u001b[1;39m: \u001b[0m\u001b[0;32m\"dup hash160 [3c738d3b4af3572fa74f02ae488a99374c0726ad] equalverify checksig\"\u001b[0m\u001b[1;39m,\n",
      "  \u001b[0m\u001b[34;1m\"value\"\u001b[0m\u001b[1;39m: \u001b[0m\u001b[0;32m\"499550\"\u001b[0m\u001b[1;39m\n",
      "\u001b[1;39m}\u001b[0m\n"
     ]
    }
   ],
   "source": [
    "# bx fetch-tx [transaction_hash] -f json | jq \".transaction.outputs[output_index]\"\n",
    "\n",
    "bx fetch-tx 11a8587f5077fc7f69e3349797fd74f99864d27716d6b48ac51734cb3bec03ea -f json | jq \".transaction.outputs[4]\"\n"
   ]
  },
  {
   "cell_type": "code",
   "execution_count": 5,
   "metadata": {},
   "outputs": [],
   "source": [
    "# previous_txid=\n",
    "# previous_output_index=\n",
    "# previous_output_amount=\n",
    "\n",
    "previous_txid=11a8587f5077fc7f69e3349797fd74f99864d27716d6b48ac51734cb3bec03ea\n",
    "previous_output_index=4\n",
    "previous_output_amount=499550"
   ]
  },
  {
   "cell_type": "markdown",
   "metadata": {},
   "source": [
    "<hr style=\"border: 0.5px dashed #000;\">\n",
    "\n",
    "## 2) Spending to a CLTV encumbered output<br>\n",
    "<img src=\"images/spend_to_cltv.jpg\" alt=\"drawing\" style=\"\" width=\"700px\"/>\n",
    "\n",
    "### A. Build transaction with CLTV encumbered output for signing\n",
    "\n",
    "#### Determine absolute locktime in blockheight\n",
    "* `$ bx fetch-height`\n",
    "* `$ expr [current blockheight] + [delay in blocks]`.\n",
    "* Encode locktime in hex (little endian)"
   ]
  },
  {
   "cell_type": "code",
   "execution_count": 6,
   "metadata": {},
   "outputs": [
    {
     "name": "stdout",
     "output_type": "stream",
     "text": [
      "1442785\n"
     ]
    }
   ],
   "source": [
    "delay_decimal=4\n",
    "locktime_decimal=$(expr $(bx fetch-height) + $delay_decimal)\n",
    "echo $locktime_decimal\n"
   ]
  },
  {
   "cell_type": "code",
   "execution_count": 7,
   "metadata": {},
   "outputs": [
    {
     "name": "stdout",
     "output_type": "stream",
     "text": [
      "1603e1\n"
     ]
    }
   ],
   "source": [
    "printf '%x\\n' $locktime_decimal"
   ]
  },
  {
   "cell_type": "markdown",
   "metadata": {},
   "source": [
    "**Note:** Don't forget to flip byte-order (4-Bytes) above for output script below."
   ]
  },
  {
   "cell_type": "markdown",
   "metadata": {},
   "source": [
    "#### Encode CLTV-encumbered P2PKH output script\n",
    "* **`[locktime]`**\n",
    "* **`CHECKLOCKTIMEVERIFY`**\n",
    "* `DROP`\n",
    "* `DUP`\n",
    "* `HASH160`\n",
    "* `[public key hash]`\n",
    "* `EQUALVERIFY`\n",
    "* `CHECKSIG`"
   ]
  },
  {
   "cell_type": "code",
   "execution_count": 8,
   "metadata": {},
   "outputs": [
    {
     "name": "stdout",
     "output_type": "stream",
     "text": [
      "03e10316b17576a914c156da8e421222be6665c78878ea49220d2ecb5288ac\n"
     ]
    }
   ],
   "source": [
    "# bx script-encode \"[time] CHECKLOCKTIMEVERIFY DUP HASH160 [public key hash] EQUALVERIFY CHECKSIG\"\n",
    "\n",
    "# output_script=\n",
    "\n",
    "output_script=$(bx script-encode \"[e10316] CHECKLOCKTIMEVERIFY DROP DUP HASH160 [\"$publickeyhash_44h_1h_2h_0_4\"] EQUALVERIFY CHECKSIG\")\n",
    "echo $output_script"
   ]
  },
  {
   "cell_type": "markdown",
   "metadata": {},
   "source": [
    "#### Calculate output amount"
   ]
  },
  {
   "cell_type": "markdown",
   "metadata": {},
   "source": [
    "* `400 Satoshi/sigops + 1 Satoshi/Byte` \n",
    "* Output amount(s) are previous output amount(s) minus fees"
   ]
  },
  {
   "cell_type": "code",
   "execution_count": 31,
   "metadata": {},
   "outputs": [
    {
     "name": "stdout",
     "output_type": "stream",
     "text": [
      "198\n"
     ]
    }
   ],
   "source": [
    "# tx bytes: 4 + 1 + 1*(32+4+1+1+72+1+33+4) + 1 + 1*(8+1+(6+25)) + 4 \n",
    "\n",
    "# tx_byte_count=\n",
    "\n",
    "tx_byte_count=$(expr 4 + 1 + 1 \\* 148 + 1 + 1 \\* 40 + 4)\n",
    "echo $tx_byte_count\n"
   ]
  },
  {
   "cell_type": "code",
   "execution_count": 32,
   "metadata": {},
   "outputs": [
    {
     "name": "stdout",
     "output_type": "stream",
     "text": [
      "498952\n"
     ]
    }
   ],
   "source": [
    "# Output amount total.\n",
    "\n",
    "# output_amount=\n",
    "\n",
    "output_amount=$(expr $previous_output_amount - 1 \\* 400 - $tx_byte_count \\* 1)\n",
    "echo $output_amount\n"
   ]
  },
  {
   "cell_type": "markdown",
   "metadata": {},
   "source": [
    "#### Encode transaction for signing\n",
    "* `bx tx-encode -i [prevout txid:index:sequence] -o [output script:amount]`\n",
    "* Input sequence defaults to `ffffffff`/`4294967295`"
   ]
  },
  {
   "cell_type": "code",
   "execution_count": 11,
   "metadata": {},
   "outputs": [
    {
     "name": "stdout",
     "output_type": "stream",
     "text": [
      "0100000001ea03ec3bcb3417c58ab4d61677d26498f974fd979734e3697ffc77507f58a8110400000000ffffffff01089d0700000000001f03e10316b17576a914c156da8e421222be6665c78878ea49220d2ecb5288ac00000000\n"
     ]
    }
   ],
   "source": [
    "# bx tx-encode \\\n",
    "# --input [previous tx id]:[index]:[sequence] \\\n",
    "# --output [output script]:[output amount]\n",
    "\n",
    "# cltv_tx=\n",
    "\n",
    "cltv_tx=$(bx tx-encode \\\n",
    "--input $previous_txid:$previous_output_index:4294967295 \\\n",
    "--output $output_script:$output_amount)\n",
    "echo $cltv_tx\n"
   ]
  },
  {
   "cell_type": "markdown",
   "metadata": {},
   "source": [
    "### Sign the transaction"
   ]
  },
  {
   "cell_type": "markdown",
   "metadata": {},
   "source": [
    "**Fetch previous output script**"
   ]
  },
  {
   "cell_type": "code",
   "execution_count": 30,
   "metadata": {},
   "outputs": [
    {
     "name": "stdout",
     "output_type": "stream",
     "text": [
      "dup hash160 [3c738d3b4af3572fa74f02ae488a99374c0726ad] equalverify checksig\n"
     ]
    }
   ],
   "source": [
    "# bx fetch-tx --format json [previous tx id] \n",
    "\n",
    "# previous_output_script=\n",
    "\n",
    "previous_output_script=$(bx fetch-tx --format json $previous_txid \\\n",
    "| jq -r \".transaction.outputs[4].script\")\n",
    "echo $previous_output_script\n"
   ]
  },
  {
   "cell_type": "markdown",
   "metadata": {},
   "source": [
    "**Sign transaction with previous output script.**"
   ]
  },
  {
   "cell_type": "code",
   "execution_count": 13,
   "metadata": {},
   "outputs": [],
   "source": [
    "# bx input-sign [private key] \"previous output script\" [transaction template]\n",
    "\n",
    "# signature= \n",
    "\n",
    "signature=$(bx input-sign --sign_type all --index 0 $privatekey_44h_1h_1h_0_4 \"$previous_output_script\" $cltv_tx)\n"
   ]
  },
  {
   "cell_type": "markdown",
   "metadata": {},
   "source": [
    "**Set the input script into the finalised transaction.**"
   ]
  },
  {
   "cell_type": "code",
   "execution_count": 14,
   "metadata": {},
   "outputs": [],
   "source": [
    "# bx input-set \"[signature] [public key point]\" [transaction template]\n",
    "\n",
    "# cltv_tx=\n",
    "\n",
    "cltv_tx=$(bx input-set --index 0 \"[$signature] [$publickey_44h_1h_1h_0_4]\" $cltv_tx)\n"
   ]
  },
  {
   "cell_type": "code",
   "execution_count": 15,
   "metadata": {},
   "outputs": [
    {
     "name": "stdout",
     "output_type": "stream",
     "text": [
      "matching transaction with unspent outputs\n"
     ]
    },
    {
     "ename": "",
     "evalue": "255",
     "output_type": "error",
     "traceback": []
    }
   ],
   "source": [
    "# Validate.\n",
    "bx validate-tx $cltv_tx\n"
   ]
  },
  {
   "cell_type": "code",
   "execution_count": 16,
   "metadata": {},
   "outputs": [
    {
     "name": "stdout",
     "output_type": "stream",
     "text": [
      "\u001b[1;39m{\n",
      "  \u001b[0m\u001b[34;1m\"transaction\"\u001b[0m\u001b[1;39m: \u001b[0m\u001b[1;39m{\n",
      "    \u001b[0m\u001b[34;1m\"hash\"\u001b[0m\u001b[1;39m: \u001b[0m\u001b[0;32m\"a4108a6d3de5db855fff07935807c0526db1f070542103415469faea335172de\"\u001b[0m\u001b[1;39m,\n",
      "    \u001b[0m\u001b[34;1m\"inputs\"\u001b[0m\u001b[1;39m: \u001b[0m\u001b[1;39m[\n",
      "      \u001b[1;39m{\n",
      "        \u001b[0m\u001b[34;1m\"address_hash\"\u001b[0m\u001b[1;39m: \u001b[0m\u001b[0;32m\"3c738d3b4af3572fa74f02ae488a99374c0726ad\"\u001b[0m\u001b[1;39m,\n",
      "        \u001b[0m\u001b[34;1m\"previous_output\"\u001b[0m\u001b[1;39m: \u001b[0m\u001b[1;39m{\n",
      "          \u001b[0m\u001b[34;1m\"hash\"\u001b[0m\u001b[1;39m: \u001b[0m\u001b[0;32m\"11a8587f5077fc7f69e3349797fd74f99864d27716d6b48ac51734cb3bec03ea\"\u001b[0m\u001b[1;39m,\n",
      "          \u001b[0m\u001b[34;1m\"index\"\u001b[0m\u001b[1;39m: \u001b[0m\u001b[0;32m\"4\"\u001b[0m\u001b[1;39m\n",
      "        \u001b[1;39m}\u001b[0m\u001b[1;39m,\n",
      "        \u001b[0m\u001b[34;1m\"script\"\u001b[0m\u001b[1;39m: \u001b[0m\u001b[0;32m\"[3045022100ecc29b6e4ccbb04bc077bfd6ae6d2a49dd04a7f53c930c017878debb5983c08602201acba5f6487477472a26a8b2e91245d54e84c7c852a2fb742c4df6f90914c46201] [03b8de3d8d5855936b27d99825cfb7913a7982252e4fbd749c3d1c9b94af28908f]\"\u001b[0m\u001b[1;39m,\n",
      "        \u001b[0m\u001b[34;1m\"sequence\"\u001b[0m\u001b[1;39m: \u001b[0m\u001b[0;32m\"4294967295\"\u001b[0m\u001b[1;39m\n",
      "      \u001b[1;39m}\u001b[0m\u001b[1;39m\n",
      "    \u001b[1;39m]\u001b[0m\u001b[1;39m,\n",
      "    \u001b[0m\u001b[34;1m\"lock_time\"\u001b[0m\u001b[1;39m: \u001b[0m\u001b[0;32m\"0\"\u001b[0m\u001b[1;39m,\n",
      "    \u001b[0m\u001b[34;1m\"outputs\"\u001b[0m\u001b[1;39m: \u001b[0m\u001b[1;39m[\n",
      "      \u001b[1;39m{\n",
      "        \u001b[0m\u001b[34;1m\"script\"\u001b[0m\u001b[1;39m: \u001b[0m\u001b[0;32m\"[e10316] checklocktimeverify drop dup hash160 [c156da8e421222be6665c78878ea49220d2ecb52] equalverify checksig\"\u001b[0m\u001b[1;39m,\n",
      "        \u001b[0m\u001b[34;1m\"value\"\u001b[0m\u001b[1;39m: \u001b[0m\u001b[0;32m\"498952\"\u001b[0m\u001b[1;39m\n",
      "      \u001b[1;39m}\u001b[0m\u001b[1;39m\n",
      "    \u001b[1;39m]\u001b[0m\u001b[1;39m,\n",
      "    \u001b[0m\u001b[34;1m\"version\"\u001b[0m\u001b[1;39m: \u001b[0m\u001b[0;32m\"1\"\u001b[0m\u001b[1;39m\n",
      "  \u001b[1;39m}\u001b[0m\u001b[1;39m\n",
      "\u001b[1;39m}\u001b[0m\n"
     ]
    }
   ],
   "source": [
    "# Decode\n",
    "bx tx-decode -f json $cltv_tx |jq"
   ]
  },
  {
   "cell_type": "code",
   "execution_count": 27,
   "metadata": {},
   "outputs": [
    {
     "name": "stdout",
     "output_type": "stream",
     "text": [
      "matching transaction with unspent outputs\n"
     ]
    },
    {
     "ename": "",
     "evalue": "255",
     "output_type": "error",
     "traceback": []
    }
   ],
   "source": [
    "# Send\n",
    "bx send-tx $cltv_tx\n"
   ]
  },
  {
   "cell_type": "markdown",
   "metadata": {},
   "source": [
    "<hr style=\"border: 0.5px dashed #000;\">\n",
    "\n",
    "## 3) Spend the CLTV encumbered UXTO\n",
    "\n",
    "<img src=\"images/spend_from_cltv.jpg\" alt=\"drawing\" style=\"\" width=\"700px\"/>\n",
    "\n",
    "### A. Build p2pkh output.\n"
   ]
  },
  {
   "cell_type": "markdown",
   "metadata": {},
   "source": [
    "#### Encode p2pkh output script\n",
    "\n",
    "* Please send testnet coins to the following address: `n2MBcctgzBt1h8Nvfu3XAEPJLrmWET7emw`"
   ]
  },
  {
   "cell_type": "code",
   "execution_count": 17,
   "metadata": {},
   "outputs": [
    {
     "name": "stdout",
     "output_type": "stream",
     "text": [
      "\u001b[0;32m\"e48199d47742b245464b1366d95ef26aa4c8bb2c\"\u001b[0m\n"
     ]
    }
   ],
   "source": [
    "bx address-decode -f json n2MBcctgzBt1h8Nvfu3XAEPJLrmWET7emw | jq \".wrapper.payload\"\n"
   ]
  },
  {
   "cell_type": "code",
   "execution_count": 18,
   "metadata": {},
   "outputs": [
    {
     "name": "stdout",
     "output_type": "stream",
     "text": [
      "76a914e48199d47742b245464b1366d95ef26aa4c8bb2c88ac\n"
     ]
    }
   ],
   "source": [
    "# output_script=\n",
    "\n",
    "output_script=$(bx script-encode \"DUP HASH160 [e48199d47742b245464b1366d95ef26aa4c8bb2c] EQUALVERIFY CHECKSIG\")\n",
    "echo $output_script\n"
   ]
  },
  {
   "cell_type": "markdown",
   "metadata": {},
   "source": [
    "**Encode transaction with locktime & set input sequence**<br>\n",
    "* Reference Previous Outpoint<br>\n",
    "* Transaction locktime field must be `>=` locktime in CLTV output being spent.\n",
    "* Input sequence must be less than maximum, so `fffffffe`/`4294967294`"
   ]
  },
  {
   "cell_type": "code",
   "execution_count": 19,
   "metadata": {},
   "outputs": [
    {
     "name": "stdout",
     "output_type": "stream",
     "text": [
      "192\n"
     ]
    }
   ],
   "source": [
    "# tx bytes: 4 + 1 + 1*(32+4+1+1+72+1+33+4) + 1 + 1*(8+1+25) + 4 \n",
    "\n",
    "# tx_byte_count=\n",
    "\n",
    "tx_byte_count=$(expr 4 + 1 + 1 \\* 148 + 1 + 1 \\* 34 + 4)\n",
    "echo $tx_byte_count\n"
   ]
  },
  {
   "cell_type": "code",
   "execution_count": 29,
   "metadata": {},
   "outputs": [
    {
     "name": "stdout",
     "output_type": "stream",
     "text": [
      "498958\n"
     ]
    }
   ],
   "source": [
    "# Output amount total.\n",
    "\n",
    "# output_amount=\n",
    "\n",
    "output_amount=$(expr $previous_output_amount - 1 \\* 400 - $tx_byte_count \\* 1)\n",
    "echo $output_amount\n"
   ]
  },
  {
   "cell_type": "code",
   "execution_count": 21,
   "metadata": {
    "scrolled": true
   },
   "outputs": [],
   "source": [
    "# bx tx-encode \\\n",
    "# --input [previous tx id]:[index]:[sequence] \\\n",
    "# --output [output script]:[output amount]\n",
    "\n",
    "# my_tx=\n",
    "\n",
    "my_tx=$(bx tx-encode \\\n",
    "--lock_time $locktime_decimal \\\n",
    "--input $previous_txid:$previous_output_index:4294967294 \\\n",
    "--output $output_script:$output_amount)\n"
   ]
  },
  {
   "cell_type": "markdown",
   "metadata": {},
   "source": [
    "### Sign and set the input script\n",
    "\n",
    "#### Signing the transaction with the private key"
   ]
  },
  {
   "cell_type": "code",
   "execution_count": 22,
   "metadata": {},
   "outputs": [
    {
     "name": "stdout",
     "output_type": "stream",
     "text": [
      "a4108a6d3de5db855fff07935807c0526db1f070542103415469faea335172de\n"
     ]
    }
   ],
   "source": [
    "# cltv_tx_txid=\n",
    "\n",
    "cltv_tx_txid=$(bx bitcoin256 $cltv_tx)\n",
    "echo $cltv_tx_txid\n"
   ]
  },
  {
   "cell_type": "code",
   "execution_count": 23,
   "metadata": {},
   "outputs": [
    {
     "name": "stdout",
     "output_type": "stream",
     "text": [
      "[e10316] checklocktimeverify drop dup hash160 [c156da8e421222be6665c78878ea49220d2ecb52] equalverify checksig\n"
     ]
    }
   ],
   "source": [
    "# previous_output_script=\n",
    "\n",
    "previous_output_script=$(bx fetch-tx --format json $cltv_tx_txid \\\n",
    "| jq -r \".transaction.outputs[0].script\")\n",
    "echo $previous_output_script\n"
   ]
  },
  {
   "cell_type": "markdown",
   "metadata": {},
   "source": [
    "**Sign transaction with previous output script.**"
   ]
  },
  {
   "cell_type": "code",
   "execution_count": 24,
   "metadata": {},
   "outputs": [],
   "source": [
    "signature=$(bx input-sign --sign_type all --index 0 $privatekey_44h_1h_2h_0_4 \"$previous_output_script\" $my_tx)\n"
   ]
  },
  {
   "cell_type": "markdown",
   "metadata": {},
   "source": [
    "**Set the input script into the finalised transaction.**"
   ]
  },
  {
   "cell_type": "code",
   "execution_count": 25,
   "metadata": {},
   "outputs": [],
   "source": [
    "my_tx=$(bx input-set --index 0 \"[$signature] [$publickey_44h_1h_2h_0_4]\" $my_tx)\n"
   ]
  },
  {
   "cell_type": "code",
   "execution_count": 26,
   "metadata": {},
   "outputs": [
    {
     "name": "stdout",
     "output_type": "stream",
     "text": [
      "transaction currently non-final for next block\n"
     ]
    },
    {
     "ename": "",
     "evalue": "255",
     "output_type": "error",
     "traceback": []
    }
   ],
   "source": [
    "# Validate.\n",
    "bx validate-tx $my_tx\n"
   ]
  },
  {
   "cell_type": "code",
   "execution_count": null,
   "metadata": {},
   "outputs": [],
   "source": [
    "# Send.\n"
   ]
  }
 ],
 "metadata": {
  "kernelspec": {
   "display_name": "Bash",
   "language": "bash",
   "name": "bash"
  },
  "language_info": {
   "codemirror_mode": "shell",
   "file_extension": ".sh",
   "mimetype": "text/x-sh",
   "name": "bash"
  }
 },
 "nbformat": 4,
 "nbformat_minor": 2
}
