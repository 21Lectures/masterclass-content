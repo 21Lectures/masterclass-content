{
 "cells": [
  {
   "cell_type": "markdown",
   "metadata": {},
   "source": [
    "# Libbitcoin BX: Transactions with relative locktime.\n",
    "In this BX tutorial, we will send funds to a `checksequenceverify` encumbered output, and spend this after the locktime delay (which begins when the uxto is included in a block) has expired.\n",
    "<img src=\"images/csv_overview.jpg\" alt=\"drawing\" style=\"\" width=\"700px\"/>"
   ]
  },
  {
   "cell_type": "markdown",
   "metadata": {},
   "source": [
    "<hr style=\"border: 0.5px dashed #000;\">\n",
    "\n",
    "## 1. Restore wallet and generate spending key pairs.\n"
   ]
  },
  {
   "cell_type": "code",
   "execution_count": 1,
   "metadata": {},
   "outputs": [],
   "source": [
    "# my_mnemonic =\"word0 word1 word2 ...\"\n",
    "# hd_master_private=$( )\n",
    "# hd_master_public=$( )\n",
    "\n",
    "my_mnemonic=\"seven mail crash you unit small assume express wedding cloud work potato\"\n",
    "hd_master_private=$(bx mnemonic-to-seed $my_mnemonic | bx hd-new)\n",
    "hd_master_public=$(bx hd-to-public $hd_master_private)\n"
   ]
  },
  {
   "cell_type": "markdown",
   "metadata": {},
   "source": [
    "### Restore your spending keys.\n",
    "\n",
    "* `m/44'/1'/1'/0/5`"
   ]
  },
  {
   "cell_type": "code",
   "execution_count": 2,
   "metadata": {},
   "outputs": [
    {
     "name": "stdout",
     "output_type": "stream",
     "text": [
      "mqpVyrj3iRPe7sNKht9vvnbhnDCAPdiJYv\n",
      "7102c7914f7ac4e5a8055c5954b3462e0ddb419f\n"
     ]
    }
   ],
   "source": [
    "# hd_m_44h_1h_1h_0_5=\n",
    "\n",
    "# privatekey_44h_1h_1h_0_5=\n",
    "# publickey_44h_1h_1h_0_5=\n",
    "# publickeyhash_44h_1h_1h_0_5=\n",
    "# address_44h_1h_1h_0_5=\n",
    "\n",
    "hd_m_44h_1h_1h_0_5=$(bx hd-private --hard --index 44 $hd_master_private \\\n",
    "| bx hd-private --hard --index 1  \\\n",
    "| bx hd-private --hard --index 1  \\\n",
    "| bx hd-private --index 0 \\\n",
    "| bx hd-private --index 5)\n",
    "\n",
    "privatekey_44h_1h_1h_0_5=$(bx hd-to-ec $hd_m_44h_1h_1h_0_5)\n",
    "publickey_44h_1h_1h_0_5=$(bx hd-to-public $hd_m_44h_1h_1h_0_5 | bx hd-to-ec)\n",
    "publickeyhash_44h_1h_1h_0_5=$(bx sha256 $publickey_44h_1h_1h_0_5 | bx ripemd160)\n",
    "address_44h_1h_1h_0_5=$(bx hd-to-public $hd_m_44h_1h_1h_0_5 | bx hd-to-ec | bx ec-to-address --version 111)\n",
    "\n",
    "echo $address_44h_1h_1h_0_5\n",
    "echo $publickeyhash_44h_1h_1h_0_5\n"
   ]
  },
  {
   "cell_type": "markdown",
   "metadata": {},
   "source": [
    "### Generate destination keys to send funds to.\n",
    "\n",
    "* `m/44'/1'/2'/0/5`"
   ]
  },
  {
   "cell_type": "code",
   "execution_count": 3,
   "metadata": {},
   "outputs": [
    {
     "name": "stdout",
     "output_type": "stream",
     "text": [
      "msVCynJ5Hr5UoXE3UKMFQEhHHCajQraSK9\n",
      "834cef9529c1c72fb211cf7c202d521824c9b56b\n"
     ]
    }
   ],
   "source": [
    "# hd_m_44h_1h_2h_0_5=\n",
    "\n",
    "# privatekey_44h_1h_2h_0_5=\n",
    "# publickey_44h_1h_2h_0_5=\n",
    "# publickeyhash_44h_1h_2h_0_5=\n",
    "# address_44h_1h_2h_0_5=\n",
    "\n",
    "hd_m_44h_1h_2h_0_5=$(bx hd-private --hard --index 44 $hd_master_private \\\n",
    "| bx hd-private --hard --index 1  \\\n",
    "| bx hd-private --hard --index 2  \\\n",
    "| bx hd-private --index 0 \\\n",
    "| bx hd-private --index 5)\n",
    "\n",
    "privatekey_44h_1h_2h_0_5=$(bx hd-to-ec $hd_m_44h_1h_2h_0_5)\n",
    "publickey_44h_1h_2h_0_5=$(bx hd-to-public $hd_m_44h_1h_2h_0_5 | bx hd-to-ec)\n",
    "publickeyhash_44h_1h_2h_0_5=$(bx sha256 $publickey_44h_1h_2h_0_5 | bx ripemd160)\n",
    "address_44h_1h_2h_0_5=$(bx hd-to-public $hd_m_44h_1h_2h_0_5 | bx hd-to-ec | bx ec-to-address --version 111)\n",
    "\n",
    "echo $address_44h_1h_2h_0_5\n",
    "echo $publickeyhash_44h_1h_2h_0_5\n"
   ]
  },
  {
   "cell_type": "markdown",
   "metadata": {},
   "source": [
    "### Fetch previous UTXO's you are spending."
   ]
  },
  {
   "cell_type": "code",
   "execution_count": 4,
   "metadata": {},
   "outputs": [
    {
     "name": "stdout",
     "output_type": "stream",
     "text": [
      "\u001b[1;39m{\n",
      "  \u001b[0m\u001b[34;1m\"address_hash\"\u001b[0m\u001b[1;39m: \u001b[0m\u001b[0;32m\"7102c7914f7ac4e5a8055c5954b3462e0ddb419f\"\u001b[0m\u001b[1;39m,\n",
      "  \u001b[0m\u001b[34;1m\"script\"\u001b[0m\u001b[1;39m: \u001b[0m\u001b[0;32m\"dup hash160 [7102c7914f7ac4e5a8055c5954b3462e0ddb419f] equalverify checksig\"\u001b[0m\u001b[1;39m,\n",
      "  \u001b[0m\u001b[34;1m\"value\"\u001b[0m\u001b[1;39m: \u001b[0m\u001b[0;32m\"499550\"\u001b[0m\u001b[1;39m\n",
      "\u001b[1;39m}\u001b[0m\n"
     ]
    }
   ],
   "source": [
    "# bx fetch-tx [transaction_hash] -f json | jq \".transaction.outputs[output_index]\"\n",
    "\n",
    "bx fetch-tx 11a8587f5077fc7f69e3349797fd74f99864d27716d6b48ac51734cb3bec03ea -f json | jq \".transaction.outputs[5]\"\n"
   ]
  },
  {
   "cell_type": "code",
   "execution_count": 5,
   "metadata": {},
   "outputs": [],
   "source": [
    "# previous_txid=\n",
    "# previous_output_index=\n",
    "# previous_output_amount=\n",
    "\n",
    "previous_txid=11a8587f5077fc7f69e3349797fd74f99864d27716d6b48ac51734cb3bec03ea\n",
    "previous_output_index=5\n",
    "previous_output_amount=499550"
   ]
  },
  {
   "cell_type": "markdown",
   "metadata": {},
   "source": [
    "<hr style=\"border: 0.5px dashed #000;\">\n",
    "\n",
    "## 2. Spending to a CSV encumbered output<br>\n",
    "<img src=\"images/spend_to_csv.jpg\" alt=\"drawing\" style=\"\" width=\"700px\"/>\n",
    "\n",
    "### A. Build transaction with CSV encumbered output for signing\n",
    "\n",
    "#### Determine delay in blocks\n",
    "* Encode delay value in hex (little endian)\n",
    "* `CHECKSEQUENCEVERIFY` verifies a 3-byte `[delay]` value on the stack against the spending transaction<br>\n",
    "* For a `[delay]` in blocks:\n",
    "    * Bit flag (1 << 22) is not set.\n",
    "    * First 16 bits interpreted as blocks.\n",
    "    * Little endian encoded.  "
   ]
  },
  {
   "cell_type": "code",
   "execution_count": 6,
   "metadata": {},
   "outputs": [],
   "source": [
    "# A five block delay: 0x000005\n",
    "\n",
    "# delay=\n",
    "\n",
    "delay=050000\n"
   ]
  },
  {
   "cell_type": "markdown",
   "metadata": {},
   "source": [
    "**Note:** Don't forget to flip byte-order (3-Bytes) above for output script below."
   ]
  },
  {
   "cell_type": "markdown",
   "metadata": {},
   "source": [
    "#### Encode CSV-encumbered P2PKH output script\n",
    "* **`[delay]`**\n",
    "* **`CHECKSEQUENCEVERIFY`**\n",
    "* `DROP`\n",
    "* `DUP`\n",
    "* `HASH160`\n",
    "* `[public key hash]`\n",
    "* `EQUALVERIFY`\n",
    "* `CHECKSIG`"
   ]
  },
  {
   "cell_type": "code",
   "execution_count": 7,
   "metadata": {},
   "outputs": [
    {
     "name": "stdout",
     "output_type": "stream",
     "text": [
      "03050000b27576a914834cef9529c1c72fb211cf7c202d521824c9b56b88ac\n"
     ]
    }
   ],
   "source": [
    "# output_script=\n",
    "\n",
    "output_script=$(bx script-encode \"[$delay] CHECKSEQUENCEVERIFY DROP DUP HASH160 [$publickeyhash_44h_1h_2h_0_5] EQUALVERIFY CHECKSIG\")\n",
    "echo $output_script\n"
   ]
  },
  {
   "cell_type": "markdown",
   "metadata": {},
   "source": [
    "#### Calculate output amount\n",
    "\n",
    "* `400 Satoshi/sigops + 1 Satoshi/Byte` \n",
    "* Output amount(s) are previous output amount(s) minus fees"
   ]
  },
  {
   "cell_type": "code",
   "execution_count": 9,
   "metadata": {},
   "outputs": [
    {
     "name": "stdout",
     "output_type": "stream",
     "text": [
      "198\n"
     ]
    }
   ],
   "source": [
    "# tx bytes: 4 + 1 + 1*(32+4+1+1+72+1+33+4) + 1 + 1*(8+1+(6+25)) + 4 \n",
    "\n",
    "# tx_byte_count=\n",
    "\n",
    "tx_byte_count=$(expr 4 + 1 + 1 \\* 148 + 1 + 1 \\* 40 + 4)\n",
    "echo $tx_byte_count\n"
   ]
  },
  {
   "cell_type": "code",
   "execution_count": 10,
   "metadata": {},
   "outputs": [
    {
     "name": "stdout",
     "output_type": "stream",
     "text": [
      "498952\n"
     ]
    }
   ],
   "source": [
    "# Output amount total.\n",
    "\n",
    "# output_amount=\n",
    "\n",
    "output_amount=$(expr $previous_output_amount - 1 \\* 400 - $tx_byte_count \\* 1)\n",
    "echo $output_amount\n"
   ]
  },
  {
   "cell_type": "markdown",
   "metadata": {},
   "source": [
    "#### Encode transaction for signing\n",
    "* `bx tx-encode -i [prevout txid:index:sequence] -o [output script:amount]`\n"
   ]
  },
  {
   "cell_type": "code",
   "execution_count": 11,
   "metadata": {},
   "outputs": [
    {
     "name": "stdout",
     "output_type": "stream",
     "text": [
      "0100000001ea03ec3bcb3417c58ab4d61677d26498f974fd979734e3697ffc77507f58a8110500000000ffffffff01089d0700000000001f03050000b27576a914834cef9529c1c72fb211cf7c202d521824c9b56b88ac00000000\n"
     ]
    }
   ],
   "source": [
    "# bx tx-encode \\\n",
    "# --input [previous tx id]:[index]:[sequence] \\\n",
    "# --output [output script]:[output amount]\n",
    "\n",
    "# csv_tx=\n",
    "\n",
    "csv_tx=$(bx tx-encode \\\n",
    "--input $previous_txid:$previous_output_index:4294967295 \\\n",
    "--output $output_script:$output_amount)\n",
    "echo $csv_tx\n",
    "\n"
   ]
  },
  {
   "cell_type": "markdown",
   "metadata": {},
   "source": [
    "### Sign the transaction.\n"
   ]
  },
  {
   "cell_type": "markdown",
   "metadata": {},
   "source": [
    "**Fetch previous output script**"
   ]
  },
  {
   "cell_type": "code",
   "execution_count": 12,
   "metadata": {},
   "outputs": [
    {
     "name": "stdout",
     "output_type": "stream",
     "text": [
      "dup hash160 [7102c7914f7ac4e5a8055c5954b3462e0ddb419f] equalverify checksig\n"
     ]
    }
   ],
   "source": [
    "# bx fetch-tx --format json [previous tx id] \n",
    "\n",
    "# previous_output_script=\n",
    "\n",
    "previous_output_script=$(bx fetch-tx --format json $previous_txid \\\n",
    "| jq -r \".transaction.outputs[5].script\")\n",
    "echo $previous_output_script\n"
   ]
  },
  {
   "cell_type": "markdown",
   "metadata": {},
   "source": [
    "**Sign transaction with previous output script.**"
   ]
  },
  {
   "cell_type": "code",
   "execution_count": 13,
   "metadata": {},
   "outputs": [],
   "source": [
    "# bx input-sign [private key] \"previous output script\" [transaction template]\n",
    "\n",
    "# signature= \n",
    "\n",
    "signature=$(bx input-sign --sign_type all --index 0 $privatekey_44h_1h_1h_0_5 \"$previous_output_script\" $csv_tx)\n"
   ]
  },
  {
   "cell_type": "markdown",
   "metadata": {},
   "source": [
    "**Set the input script into the finalised transaction.**"
   ]
  },
  {
   "cell_type": "code",
   "execution_count": 14,
   "metadata": {},
   "outputs": [],
   "source": [
    "# bx input-set \"[signature] [public key point]\" [transaction template]\n",
    "\n",
    "# csv_tx=\n",
    "\n",
    "csv_tx=$(bx input-set --index 0 \"[$signature] [$publickey_44h_1h_1h_0_5]\" $csv_tx)\n"
   ]
  },
  {
   "cell_type": "code",
   "execution_count": 15,
   "metadata": {},
   "outputs": [
    {
     "name": "stdout",
     "output_type": "stream",
     "text": [
      "\u001b[1;39m{\n",
      "  \u001b[0m\u001b[34;1m\"transaction\"\u001b[0m\u001b[1;39m: \u001b[0m\u001b[1;39m{\n",
      "    \u001b[0m\u001b[34;1m\"hash\"\u001b[0m\u001b[1;39m: \u001b[0m\u001b[0;32m\"0f579b753f486c10bb26547cced3a95abecb93e6c81e4ddbaf273046aa2b2be4\"\u001b[0m\u001b[1;39m,\n",
      "    \u001b[0m\u001b[34;1m\"inputs\"\u001b[0m\u001b[1;39m: \u001b[0m\u001b[1;39m[\n",
      "      \u001b[1;39m{\n",
      "        \u001b[0m\u001b[34;1m\"address_hash\"\u001b[0m\u001b[1;39m: \u001b[0m\u001b[0;32m\"7102c7914f7ac4e5a8055c5954b3462e0ddb419f\"\u001b[0m\u001b[1;39m,\n",
      "        \u001b[0m\u001b[34;1m\"previous_output\"\u001b[0m\u001b[1;39m: \u001b[0m\u001b[1;39m{\n",
      "          \u001b[0m\u001b[34;1m\"hash\"\u001b[0m\u001b[1;39m: \u001b[0m\u001b[0;32m\"11a8587f5077fc7f69e3349797fd74f99864d27716d6b48ac51734cb3bec03ea\"\u001b[0m\u001b[1;39m,\n",
      "          \u001b[0m\u001b[34;1m\"index\"\u001b[0m\u001b[1;39m: \u001b[0m\u001b[0;32m\"5\"\u001b[0m\u001b[1;39m\n",
      "        \u001b[1;39m}\u001b[0m\u001b[1;39m,\n",
      "        \u001b[0m\u001b[34;1m\"script\"\u001b[0m\u001b[1;39m: \u001b[0m\u001b[0;32m\"[3045022100c2e4a8513307c838d6c09f68464d2e37b05168815d2804e6f72952dfcb9519fa02205d5d4d30274dc8db192f8de79cdfc83e0541e49fff7f4c4fb8628c3a3729ad2301] [025d6ea3f5af51796062b6af01470e7b764f83e557c2212191fc55b9896505ae84]\"\u001b[0m\u001b[1;39m,\n",
      "        \u001b[0m\u001b[34;1m\"sequence\"\u001b[0m\u001b[1;39m: \u001b[0m\u001b[0;32m\"4294967295\"\u001b[0m\u001b[1;39m\n",
      "      \u001b[1;39m}\u001b[0m\u001b[1;39m\n",
      "    \u001b[1;39m]\u001b[0m\u001b[1;39m,\n",
      "    \u001b[0m\u001b[34;1m\"lock_time\"\u001b[0m\u001b[1;39m: \u001b[0m\u001b[0;32m\"0\"\u001b[0m\u001b[1;39m,\n",
      "    \u001b[0m\u001b[34;1m\"outputs\"\u001b[0m\u001b[1;39m: \u001b[0m\u001b[1;39m[\n",
      "      \u001b[1;39m{\n",
      "        \u001b[0m\u001b[34;1m\"script\"\u001b[0m\u001b[1;39m: \u001b[0m\u001b[0;32m\"[050000] checksequenceverify drop dup hash160 [834cef9529c1c72fb211cf7c202d521824c9b56b] equalverify checksig\"\u001b[0m\u001b[1;39m,\n",
      "        \u001b[0m\u001b[34;1m\"value\"\u001b[0m\u001b[1;39m: \u001b[0m\u001b[0;32m\"498952\"\u001b[0m\u001b[1;39m\n",
      "      \u001b[1;39m}\u001b[0m\u001b[1;39m\n",
      "    \u001b[1;39m]\u001b[0m\u001b[1;39m,\n",
      "    \u001b[0m\u001b[34;1m\"version\"\u001b[0m\u001b[1;39m: \u001b[0m\u001b[0;32m\"1\"\u001b[0m\u001b[1;39m\n",
      "  \u001b[1;39m}\u001b[0m\u001b[1;39m\n",
      "\u001b[1;39m}\u001b[0m\n"
     ]
    }
   ],
   "source": [
    "# Decode.\n",
    "bx tx-decode -f json $csv_tx | jq \n"
   ]
  },
  {
   "cell_type": "code",
   "execution_count": 30,
   "metadata": {},
   "outputs": [
    {
     "name": "stdout",
     "output_type": "stream",
     "text": [
      "The transaction is valid.\n"
     ]
    }
   ],
   "source": [
    "# Validate.\n",
    "bx validate-tx $csv_tx\n",
    "\n"
   ]
  },
  {
   "cell_type": "markdown",
   "metadata": {},
   "source": [
    "### Validate & Broadcast the endorsed transaction\n",
    "* `bx validate-tx` `[encoded transaction]`\n",
    "* `bx tx-decode -f json` `[encoded transaction]` | `jq \".transaction.hash\"`"
   ]
  },
  {
   "cell_type": "code",
   "execution_count": null,
   "metadata": {},
   "outputs": [],
   "source": []
  },
  {
   "cell_type": "code",
   "execution_count": null,
   "metadata": {},
   "outputs": [],
   "source": [
    "bx validate-tx \\\n",
    "01000000019dc2f9c31dacce0cfec97e0b8478726a2ac3b3585e0fbb4e9331c69a4c0b476e000000006b483045022100e9d38f238e58b3eb4642a618e0478bde90e33e5f17749336c97d8057f1b0a3d6022070e7c2f2b9cf4f0d771889dd6488d399889408ff4985ea2def6ede808de69b760121035d2725b8a5b78f8e235a92e3acc2e426ac70889785dba7020189e88caa8a45b6ffffffff012ea1bf07000000001f03040000b27576a914903d20a04087a7a843f1f6fe0dfc8ae7358e058d88ac00000000\n"
   ]
  },
  {
   "cell_type": "code",
   "execution_count": null,
   "metadata": {},
   "outputs": [],
   "source": [
    "bx tx-decode -f json \\\n",
    "01000000019dc2f9c31dacce0cfec97e0b8478726a2ac3b3585e0fbb4e9331c69a4c0b476e000000006b483045022100e9d38f238e58b3eb4642a618e0478bde90e33e5f17749336c97d8057f1b0a3d6022070e7c2f2b9cf4f0d771889dd6488d399889408ff4985ea2def6ede808de69b760121035d2725b8a5b78f8e235a92e3acc2e426ac70889785dba7020189e88caa8a45b6ffffffff012ea1bf07000000001f03040000b27576a914903d20a04087a7a843f1f6fe0dfc8ae7358e058d88ac00000000 \\\n",
    "|jq \".transaction.hash\"\n"
   ]
  },
  {
   "cell_type": "code",
   "execution_count": null,
   "metadata": {},
   "outputs": [],
   "source": [
    "bx send-tx 01000000019dc2f9c31dacce0cfec97e0b8478726a2ac3b3585e0fbb4e9331c69a4c0b476e000000006b483045022100e9d38f238e58b3eb4642a618e0478bde90e33e5f17749336c97d8057f1b0a3d6022070e7c2f2b9cf4f0d771889dd6488d399889408ff4985ea2def6ede808de69b760121035d2725b8a5b78f8e235a92e3acc2e426ac70889785dba7020189e88caa8a45b6ffffffff012ea1bf07000000001f03040000b27576a914903d20a04087a7a843f1f6fe0dfc8ae7358e058d88ac00000000 \n"
   ]
  },
  {
   "cell_type": "markdown",
   "metadata": {},
   "source": [
    "<hr style=\"border: 0.5px dashed #000;\">\n",
    "\n",
    "## 3. Spend the CSV encumbered UXTO\n",
    "\n",
    "<img src=\"images/spend_from_csv.jpg\" alt=\"drawing\" style=\"\" width=\"700px\"/>\n",
    "\n",
    "### A. Build p2pkh output."
   ]
  },
  {
   "cell_type": "markdown",
   "metadata": {},
   "source": [
    "#### Encode p2pkh output script\n",
    "\n",
    "* Please send testnet coins to the following address: `n2MBcctgzBt1h8Nvfu3XAEPJLrmWET7emw`"
   ]
  },
  {
   "cell_type": "code",
   "execution_count": 33,
   "metadata": {},
   "outputs": [
    {
     "name": "stdout",
     "output_type": "stream",
     "text": [
      "\u001b[0;32m\"e48199d47742b245464b1366d95ef26aa4c8bb2c\"\u001b[0m\n"
     ]
    }
   ],
   "source": [
    "bx address-decode -f json n2MBcctgzBt1h8Nvfu3XAEPJLrmWET7emw | jq \".wrapper.payload\"\n"
   ]
  },
  {
   "cell_type": "code",
   "execution_count": 34,
   "metadata": {},
   "outputs": [
    {
     "name": "stdout",
     "output_type": "stream",
     "text": [
      "76a914e48199d47742b245464b1366d95ef26aa4c8bb2c88ac\n"
     ]
    }
   ],
   "source": [
    "# output_script=\n",
    "\n",
    "output_script=$(bx script-encode \"DUP HASH160 [e48199d47742b245464b1366d95ef26aa4c8bb2c] EQUALVERIFY CHECKSIG\")\n",
    "echo $output_script"
   ]
  },
  {
   "cell_type": "markdown",
   "metadata": {},
   "source": [
    "**Encode transaction with delay & set input sequence**<br>\n",
    "* Transaction sequence delay must be `>=` delay in CSV output being spent.\n",
    "* Sequence delay encoding in blocks:\n",
    "    * Transaction version must be >= 2.\n",
    "    * Bit flag (1 << 22) must be deactivated.\n",
    "    * Encode block delay in first 16 bits."
   ]
  },
  {
   "cell_type": "code",
   "execution_count": 35,
   "metadata": {},
   "outputs": [
    {
     "name": "stdout",
     "output_type": "stream",
     "text": [
      "192\n"
     ]
    }
   ],
   "source": [
    "# tx bytes: 4 + 1 + 1*(32+4+1+1+72+1+33+4) + 1 + 1*(8+1+25) + 4 \n",
    "\n",
    "# tx_byte_count=\n",
    "\n",
    "tx_byte_count=$(expr 4 + 1 + 1 \\* 148 + 1 + 1 \\* 34 + 4)\n",
    "echo $tx_byte_count\n"
   ]
  },
  {
   "cell_type": "code",
   "execution_count": 36,
   "metadata": {},
   "outputs": [
    {
     "name": "stdout",
     "output_type": "stream",
     "text": [
      "498958\n"
     ]
    }
   ],
   "source": [
    "# Output amount total.\n",
    "\n",
    "# output_amount=\n",
    "\n",
    "output_amount=$(expr $previous_output_amount - 1 \\* 400 - $tx_byte_count \\* 1)\n",
    "echo $output_amount\n"
   ]
  },
  {
   "cell_type": "code",
   "execution_count": 38,
   "metadata": {},
   "outputs": [],
   "source": [
    "# bx tx-encode \\\n",
    "# --input [previous tx id]:[index]:[sequence] \\\n",
    "# --output [output script]:[output amount]\n",
    "\n",
    "# my_tx=\n",
    "\n",
    "my_tx=$(bx tx-encode \\\n",
    "--input $previous_txid:$previous_output_index:5 \\\n",
    "--output $output_script:$output_amount)\n"
   ]
  },
  {
   "cell_type": "markdown",
   "metadata": {},
   "source": [
    "### Sign the transaction\n",
    "\n",
    "**Fetch previous output script**\n"
   ]
  },
  {
   "cell_type": "code",
   "execution_count": 39,
   "metadata": {},
   "outputs": [
    {
     "name": "stdout",
     "output_type": "stream",
     "text": [
      "connection timed out\n",
      "\n"
     ]
    }
   ],
   "source": [
    "# bx fetch-tx --format json [previous tx id] \n",
    "\n",
    "# previous_output_script=\n",
    "\n",
    "previous_output_script=$(bx fetch-tx --format json $previous_txid \\\n",
    "| jq -r \".transaction.outputs[5].script\")\n",
    "echo $previous_output_script\n"
   ]
  },
  {
   "cell_type": "markdown",
   "metadata": {},
   "source": [
    "**Sign transaction with previous output script.**"
   ]
  },
  {
   "cell_type": "code",
   "execution_count": 40,
   "metadata": {},
   "outputs": [],
   "source": [
    "# bx input-sign [private key] \"previous output script\" [transaction template]\n",
    "\n",
    "# signature= \n",
    "\n",
    "signature=$(bx input-sign --sign_type all --index 0 $privatekey_44h_1h_1h_0_5 \"$previous_output_script\" $csv_tx)\n"
   ]
  },
  {
   "cell_type": "markdown",
   "metadata": {},
   "source": [
    "**Set the input script into the finalised transaction.**"
   ]
  },
  {
   "cell_type": "code",
   "execution_count": null,
   "metadata": {},
   "outputs": [],
   "source": [
    "# bx input-set \"[signature] [public key point]\" [transaction template]\n",
    "\n",
    "# my_tx=\n",
    "\n",
    "my_tx=$(bx input-set --index 0 \"[$signature] [$publickey_44h_1h_1h_0_5]\" $my_tx)\n"
   ]
  },
  {
   "cell_type": "code",
   "execution_count": 41,
   "metadata": {},
   "outputs": [
    {
     "name": "stdout",
     "output_type": "stream",
     "text": [
      "connection timed out\n"
     ]
    },
    {
     "ename": "",
     "evalue": "255",
     "output_type": "error",
     "traceback": []
    }
   ],
   "source": [
    "# Validate.\n",
    "bx validate-tx $my_tx\n"
   ]
  },
  {
   "cell_type": "code",
   "execution_count": null,
   "metadata": {},
   "outputs": [],
   "source": [
    "# Decode\n",
    "bx tx-decode -f json $my_tx |jq\n"
   ]
  },
  {
   "cell_type": "code",
   "execution_count": null,
   "metadata": {},
   "outputs": [],
   "source": []
  }
 ],
 "metadata": {
  "kernelspec": {
   "display_name": "Bash",
   "language": "bash",
   "name": "bash"
  },
  "language_info": {
   "codemirror_mode": "shell",
   "file_extension": ".sh",
   "mimetype": "text/x-sh",
   "name": "bash"
  }
 },
 "nbformat": 4,
 "nbformat_minor": 2
}
