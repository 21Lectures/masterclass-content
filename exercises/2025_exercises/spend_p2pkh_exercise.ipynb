{
 "cells": [
  {
   "cell_type": "markdown",
   "metadata": {},
   "source": [
    "## Preliminaries"
   ]
  },
  {
   "cell_type": "markdown",
   "metadata": {},
   "source": [
    "### The most important Jupyter notebook tricks\n",
    " - Press Esc to escape edit mode and add / remove cells etc.\n",
    " - When not in Edit mode: A inserts a cell above, B below\n",
    " - When not in Edit mode: DD deletes a cell\n",
    " - When in Edit mode: Shift + Enter executes the cell\n",
    " - Interrupt a hung kernel with the Stop button\n",
    " - Or restart under Kernel -> Restart"
   ]
  },
  {
   "cell_type": "markdown",
   "metadata": {},
   "source": [
    "## Setup"
   ]
  },
  {
   "cell_type": "code",
   "execution_count": 1,
   "metadata": {},
   "outputs": [],
   "source": [
    "# what happened to `bx seed`? :( https://milksad.info/disclosure.html\n",
    "alias entropy='openssl rand -hex 24'\n",
    "alias explorer='python3 /home/explorer.py'\n",
    "export BX_CONFIG=\"../bx_testnet.cfg\""
   ]
  },
  {
   "cell_type": "markdown",
   "metadata": {},
   "source": [
    "### The most important bash tricks"
   ]
  },
  {
   "cell_type": "code",
   "execution_count": 2,
   "metadata": {},
   "outputs": [
    {
     "name": "stdout",
     "output_type": "stream",
     "text": [
      "settle team text spider error sense celery tray fiction reject birth remember snap work lady unusual seat ethics\n",
      "41f0d7f1f949e6dc613c08fc421ce31408b2a6a04f52f0cd\n"
     ]
    }
   ],
   "source": [
    "# pipe output to the next command with |\n",
    "# provides the seed as input to the \"mnemonic-new command\"\n",
    "entropy | bx mnemonic-new\n",
    "\n",
    "# capture output in variables with var=$(...). Notice the missing spaces around =\n",
    "var=$(entropy)\n",
    "\n",
    "# later refer to the variable with $. echo prints stuff\n",
    "echo $var"
   ]
  },
  {
   "cell_type": "code",
   "execution_count": 6,
   "metadata": {},
   "outputs": [],
   "source": [
    "alias entropy='openssl rand -hex 24'"
   ]
  },
  {
   "cell_type": "code",
   "execution_count": 7,
   "metadata": {},
   "outputs": [],
   "source": [
    "alias explorer='python3 /home/explorer.py'"
   ]
  },
  {
   "cell_type": "code",
   "execution_count": 5,
   "metadata": {},
   "outputs": [],
   "source": [
    "alias entropy='openssl rand -hex 24'"
   ]
  },
  {
   "cell_type": "code",
   "execution_count": 8,
   "metadata": {},
   "outputs": [],
   "source": [
    "export BX_CONFIG=\"../bx_testnet.cfg\""
   ]
  },
  {
   "cell_type": "code",
   "execution_count": 9,
   "metadata": {},
   "outputs": [
    {
     "name": "stdout",
     "output_type": "stream",
     "text": [
      "color federal olympic miss lunch valley awkward fame dutch when mansion truly trip multiply library review neutral marble\n"
     ]
    }
   ],
   "source": [
    "entropy | bx mnemonic-new"
   ]
  },
  {
   "cell_type": "code",
   "execution_count": 10,
   "metadata": {},
   "outputs": [],
   "source": [
    "var=$(entropy)"
   ]
  },
  {
   "cell_type": "code",
   "execution_count": 11,
   "metadata": {},
   "outputs": [
    {
     "name": "stdout",
     "output_type": "stream",
     "text": [
      "0f3cf65f09d7e4692733eb1eb24df31363e07c8547ef58e8\n"
     ]
    }
   ],
   "source": [
    "echo $var"
   ]
  },
  {
   "cell_type": "markdown",
   "metadata": {},
   "source": [
    "### Explore the bx tool"
   ]
  },
  {
   "cell_type": "code",
   "execution_count": 2,
   "metadata": {},
   "outputs": [
    {
     "name": "stdout",
     "output_type": "stream",
     "text": [
      "\n",
      "Usage: bx COMMAND [--help]\n",
      "\n",
      "Version: 3.8.0\n",
      "\n",
      "Info: The bx commands are:\n",
      "\n",
      "address-decode\n",
      "address-embed\n",
      "address-encode\n",
      "base16-decode\n",
      "base16-encode\n",
      "base58-decode\n",
      "base58-encode\n",
      "base58check-decode\n",
      "base58check-encode\n",
      "base64-decode\n",
      "base64-encode\n",
      "bitcoin160\n",
      "bitcoin256\n",
      "btc-to-satoshi\n",
      "cert-new\n",
      "cert-public\n",
      "ec-add\n",
      "ec-add-secrets\n",
      "ec-multiply\n",
      "ec-multiply-secrets\n",
      "ec-new\n",
      "ec-to-address\n",
      "ec-to-ek\n",
      "ec-to-public\n",
      "ec-to-wif\n",
      "ek-address\n",
      "ek-new\n",
      "ek-public\n",
      "ek-public-to-address\n",
      "ek-public-to-ec\n",
      "ek-to-address\n",
      "ek-to-ec\n",
      "electrum-new\n",
      "electrum-to-seed\n",
      "fetch-balance\n",
      "fetch-header\n",
      "fetch-height\n",
      "fetch-history\n",
      "fetch-public-key\n",
      "fetch-stealth\n",
      "fetch-tx\n",
      "fetch-tx-index\n",
      "fetch-utxo\n",
      "hd-new\n",
      "hd-private\n",
      "hd-public\n",
      "hd-to-ec\n",
      "hd-to-public\n",
      "help\n",
      "input-set\n",
      "input-sign\n",
      "input-validate\n",
      "message-sign\n",
      "message-validate\n",
      "mnemonic-new\n",
      "mnemonic-to-seed\n",
      "qrcode\n",
      "ripemd160\n",
      "satoshi-to-btc\n",
      "script-decode\n",
      "script-encode\n",
      "script-to-address\n",
      "send-tx\n",
      "send-tx-node\n",
      "send-tx-p2p\n",
      "settings\n",
      "sha160\n",
      "sha256\n",
      "sha512\n",
      "stealth-decode\n",
      "stealth-encode\n",
      "stealth-public\n",
      "stealth-secret\n",
      "stealth-shared\n",
      "token-new\n",
      "tx-decode\n",
      "tx-encode\n",
      "tx-sign\n",
      "uri-decode\n",
      "uri-encode\n",
      "validate-tx\n",
      "watch-address\n",
      "watch-stealth\n",
      "watch-tx\n",
      "wif-to-ec\n",
      "wif-to-public\n",
      "wrap-decode\n",
      "wrap-encode\n",
      "\n",
      "Bitcoin Explorer home page:\n",
      "\n",
      "https://github.com/libbitcoin/libbitcoin-explorer\n"
     ]
    }
   ],
   "source": [
    "bx help"
   ]
  },
  {
   "cell_type": "code",
   "execution_count": null,
   "metadata": {},
   "outputs": [],
   "source": [
    "bx help tx-sign"
   ]
  },
  {
   "cell_type": "code",
   "execution_count": 12,
   "metadata": {},
   "outputs": [
    {
     "name": "stdout",
     "output_type": "stream",
     "text": [
      "\n",
      "Usage: bx tx-sign [-h] [--config value] EC_PRIVATE_KEY [TRANSACTION]...  \n",
      "\n",
      "Info: Sign a set of transactions using a private key. Output is suitable \n",
      "for sending to Bitcoin network.                                          \n",
      "\n",
      "Options (named):\n",
      "\n",
      "-c [--config]        The path to the configuration settings file.        \n",
      "-h [--help]          Get a description and instructions for this command.\n",
      "\n",
      "Arguments (positional):\n",
      "\n",
      "EC_PRIVATE_KEY       The EC private key to be used for signing.          \n",
      "TRANSACTION          The set of Base16 transactions. If not specified the\n",
      "                     transactions are read from STDIN.                   \n"
     ]
    }
   ],
   "source": [
    "bx help tx-sign"
   ]
  },
  {
   "cell_type": "markdown",
   "metadata": {},
   "source": [
    "### Explore the block explorer tool"
   ]
  },
  {
   "cell_type": "code",
   "execution_count": null,
   "metadata": {},
   "outputs": [],
   "source": [
    "explorer"
   ]
  },
  {
   "cell_type": "code",
   "execution_count": null,
   "metadata": {},
   "outputs": [],
   "source": [
    "explorer height\n",
    "bx fetch-height"
   ]
  },
  {
   "cell_type": "code",
   "execution_count": null,
   "metadata": {},
   "outputs": [],
   "source": [
    "explorer history tb1qh8gpxryr6vae0eddcx4va8t5d87t5zhqgsvs66"
   ]
  },
  {
   "cell_type": "code",
   "execution_count": null,
   "metadata": {},
   "outputs": [],
   "source": [
    "explorer utxos tb1qszlrs9nvduv00nrj6t5c6m3t44ywpf6xcxylzs"
   ]
  },
  {
   "cell_type": "markdown",
   "metadata": {},
   "source": [
    "# Transaction Build - BX Example\n",
    "In this BX tutorial, we construct a transaction which spends one P2PKH output to three (not six) other outputs.\n",
    "\n",
    "<img src=\"images/first_transaction.jpg\" alt=\"drawing\" style=\"\" width=\"700px\"/>\n",
    "\n"
   ]
  },
  {
   "cell_type": "markdown",
   "metadata": {},
   "source": [
    "##  1. Locate your UTXO\n",
    "A testnet address has been funded for you. Use the `sha256` value of your email address as a private key and derive the corresponding public key, as well as testnet P2PKH address. Find the UTXO that is locked to that P2PKH output script."
   ]
  },
  {
   "cell_type": "code",
   "execution_count": 1,
   "metadata": {},
   "outputs": [],
   "source": [
    "# Find your address\n",
    "# Useful bx functions: ec-to-public, ripemd160, ec-to-address"
   ]
  },
  {
   "cell_type": "markdown",
   "metadata": {},
   "source": [
    "<hr style=\"border: 0.5px dashed #000;\">\n",
    "\n",
    "## 1. Setup receiving wallet.\n"
   ]
  },
  {
   "cell_type": "markdown",
   "metadata": {},
   "source": [
    "### Create new mnemonic and derive hd master keys."
   ]
  },
  {
   "cell_type": "code",
   "execution_count": null,
   "metadata": {},
   "outputs": [],
   "source": [
    "my_mnemonic=$(entropy | bx mnemonic-new)\n",
    "hd_master_private=$(bx mnemonic-to-seed $my_mnemonic | bx hd-new)\n",
    "hd_master_public=$(bx hd-to-public $hd_master_private)\n",
    "echo $my_mnemonic\n",
    "echo $hd_master_private\n",
    "echo $hd_master_public"
   ]
  },
  {
   "cell_type": "markdown",
   "metadata": {},
   "source": [
    "### Account 1: Generate destination key pairs.\n",
    "\n",
    "You will spend the previously received utxo to receiving addresses from `account 1`, namely `/44'/1'/1'/0/0`, `/44'/1'/1'/0/1`, `/44'/1'/1'/0/2`, `/44'/1'/1'/0/3` ...\n"
   ]
  },
  {
   "cell_type": "code",
   "execution_count": null,
   "metadata": {},
   "outputs": [],
   "source": [
    "# Useful bx functions: hd-private, hd-to-public, sha256, ripemd160\n",
    "# Account 1 receiving parent: m/44'/1'/1'/0"
   ]
  },
  {
   "cell_type": "markdown",
   "metadata": {},
   "source": [
    "## 2. Spending a P2PKH output."
   ]
  },
  {
   "cell_type": "markdown",
   "metadata": {},
   "source": [
    "### Create output scripts."
   ]
  },
  {
   "cell_type": "markdown",
   "metadata": {},
   "source": [
    "* **Compose P2PKH(destination public key hash) output scripts for each destination.**"
   ]
  },
  {
   "cell_type": "code",
   "execution_count": null,
   "metadata": {},
   "outputs": [],
   "source": [
    "# Useful bx functions: script-encode"
   ]
  },
  {
   "cell_type": "markdown",
   "metadata": {},
   "source": [
    "### Construct transaction template for signing.\n",
    "\n",
    "* `sequence: 0xffffffff(hex)/4294967295(dec)`"
   ]
  },
  {
   "cell_type": "code",
   "execution_count": null,
   "metadata": {},
   "outputs": [],
   "source": [
    "# Useful bx functions: tx-encode"
   ]
  },
  {
   "cell_type": "markdown",
   "metadata": {},
   "source": [
    "### Sign transaction."
   ]
  },
  {
   "cell_type": "markdown",
   "metadata": {},
   "source": [
    "**Fetch previous output script (check output index ! )**"
   ]
  },
  {
   "cell_type": "markdown",
   "metadata": {},
   "source": [
    "**Sign transaction with previous output script.**"
   ]
  },
  {
   "cell_type": "code",
   "execution_count": null,
   "metadata": {},
   "outputs": [],
   "source": [
    "# Useful functions: explorer transaction"
   ]
  },
  {
   "cell_type": "code",
   "execution_count": null,
   "metadata": {},
   "outputs": [],
   "source": [
    "# Useful bx functions: input-sign"
   ]
  },
  {
   "cell_type": "markdown",
   "metadata": {},
   "source": [
    "**Set the input script into the finalised transaction.**"
   ]
  },
  {
   "cell_type": "code",
   "execution_count": null,
   "metadata": {},
   "outputs": [],
   "source": [
    "# Useful bx functions: input-set"
   ]
  },
  {
   "cell_type": "markdown",
   "metadata": {},
   "source": [
    "## 3. Validate & Broadcast the endorsed transaction"
   ]
  },
  {
   "cell_type": "code",
   "execution_count": null,
   "metadata": {},
   "outputs": [],
   "source": [
    "# Useful bx functions: validate-tx, send-tx\n",
    "bx validate-tx $my_tx"
   ]
  },
  {
   "cell_type": "code",
   "execution_count": null,
   "metadata": {},
   "outputs": [],
   "source": [
    "bx send-tx $my_tx"
   ]
  },
  {
   "cell_type": "markdown",
   "metadata": {},
   "source": [
    "## Check history for sending and a receiving address"
   ]
  },
  {
   "cell_type": "code",
   "execution_count": null,
   "metadata": {},
   "outputs": [],
   "source": [
    "# Useful explorer functions: history"
   ]
  }
 ],
 "metadata": {
  "kernelspec": {
   "display_name": "Bash",
   "language": "bash",
   "name": "bash"
  },
  "language_info": {
   "codemirror_mode": "shell",
   "file_extension": ".sh",
   "mimetype": "text/x-sh",
   "name": "bash"
  }
 },
 "nbformat": 4,
 "nbformat_minor": 4
}
