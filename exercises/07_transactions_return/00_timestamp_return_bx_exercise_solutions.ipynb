{
 "cells": [
  {
   "cell_type": "markdown",
   "metadata": {},
   "source": [
    "# Timestamp on testnet - BX Exercise\n",
    "In this exercise, we commit a set of data to an unspendable bitcoin output."
   ]
  },
  {
   "cell_type": "markdown",
   "metadata": {},
   "source": [
    "<hr style=\"border: 0.5px dashed #000;\">\n",
    "\n",
    "## 1. Restore wallet and generate spending key pairs.\n",
    "\n"
   ]
  },
  {
   "cell_type": "code",
   "execution_count": null,
   "metadata": {},
   "outputs": [],
   "source": [
    "## my_mnemonic =\"word0 word1 word2 ...\"\n",
    "# hd_master_private=$( )\n",
    "# hd_master_public=$( )\n",
    "\n",
    "my_mnemonic=\"seven mail crash you unit small assume express wedding cloud work potato\"\n",
    "hd_master_private=$(bx mnemonic-to-seed $my_mnemonic | bx hd-new)\n",
    "hd_master_public=$(bx hd-to-public $hd_master_private)\n"
   ]
  },
  {
   "cell_type": "markdown",
   "metadata": {},
   "source": [
    "We will be spending a p2pkh output script controlled by this key.\n",
    "\n",
    "* `m/44'/1'/1'/0/4`"
   ]
  },
  {
   "cell_type": "code",
   "execution_count": null,
   "metadata": {},
   "outputs": [],
   "source": [
    "# hd_m_44h_1h_1h_0_4=\n",
    "\n",
    "# privatekey_44h_1h_1h_0_4=\n",
    "# publickey_44h_1h_1h_0_4=\n",
    "# publickeyhash_44h_1h_1h_0_4=\n",
    "# address_44h_1h_1h_0_4=\n",
    "\n",
    "hd_m_44h_1h_1h_0_4=$(bx hd-private --hard --index 44 $hd_master_private \\\n",
    "| bx hd-private --hard --index 1  \\\n",
    "| bx hd-private --hard --index 1  \\\n",
    "| bx hd-private --index 0 \\\n",
    "| bx hd-private --index 4)\n",
    "\n",
    "privatekey_44h_1h_1h_0_4=$(bx hd-to-ec $hd_m_44h_1h_1h_0_4)\n",
    "publickey_44h_1h_1h_0_4=$(bx hd-to-public $hd_m_44h_1h_1h_0_4 | bx hd-to-ec)\n",
    "publickeyhash_44h_1h_1h_0_4=$(bx sha256 $publickey_44h_1h_1h_0_4 | bx ripemd160)\n",
    "address_44h_1h_1h_0_4=$(bx hd-to-public $hd_m_44h_1h_1h_0_4 | bx hd-to-ec | bx ec-to-address --version 111)\n",
    "\n",
    "echo $address_44h_1h_1h_0_4\n",
    "echo $publickeyhash_44h_1h_1h_0_4"
   ]
  },
  {
   "cell_type": "markdown",
   "metadata": {},
   "source": [
    "### Fetch previous UTXO's you are spending."
   ]
  },
  {
   "cell_type": "code",
   "execution_count": null,
   "metadata": {},
   "outputs": [],
   "source": [
    "# bx fetch-tx [transaction_hash] -f json | jq \".transaction.outputs[output_index]\"\n",
    "\n",
    "bx fetch-tx 11a8587f5077fc7f69e3349797fd74f99864d27716d6b48ac51734cb3bec03ea -f json | jq \".transaction.outputs[4]\""
   ]
  },
  {
   "cell_type": "code",
   "execution_count": null,
   "metadata": {},
   "outputs": [],
   "source": [
    "# previous_txid=\n",
    "# previous_output_index=\n",
    "# previous_output_amount=\n",
    "\n",
    "previous_txid=11a8587f5077fc7f69e3349797fd74f99864d27716d6b48ac51734cb3bec03ea\n",
    "previous_output_index=4\n",
    "previous_output_amount=499550"
   ]
  },
  {
   "cell_type": "markdown",
   "metadata": {},
   "source": [
    "## 2. Sign input and output."
   ]
  },
  {
   "cell_type": "markdown",
   "metadata": {},
   "source": [
    "### A. Encode op_return output script.\n",
    "\n",
    "* Commit arbitrary data to a merkle root.\n",
    "* [Ascii to hex conversion tool.](https://www.asciitohex.com)"
   ]
  },
  {
   "cell_type": "code",
   "execution_count": 1,
   "metadata": {},
   "outputs": [
    {
     "name": "stdout",
     "output_type": "stream",
     "text": [
      "23316c9e53f6cec74c2331737e32e42ab02426e7\n"
     ]
    }
   ],
   "source": [
    "# the ups and downs of downing street.\n",
    "# 0x746865 0x757073 0x616e64 0x646f776e73 0x6f6620 0x646f776e696e67 0x737472656574\n",
    "\n",
    "data_leaf0=746865\n",
    "data_leaf1=757073\n",
    "data_leaf2=616e64\n",
    "data_leaf3=646f776e73\n",
    "data_leaf4=6f6620\n",
    "data_leaf5=646f776e696e67\n",
    "data_leaf6=737472656574\n",
    "\n",
    "hash0=$(bx bitcoin160 $data_leaf0)\n",
    "hash1=$(bx bitcoin160 $data_leaf1)\n",
    "hash2=$(bx bitcoin160 $data_leaf2)\n",
    "hash3=$(bx bitcoin160 $data_leaf3)\n",
    "hash4=$(bx bitcoin160 $data_leaf4)\n",
    "hash5=$(bx bitcoin160 $data_leaf5)\n",
    "hash6=$(bx bitcoin160 $data_leaf6)\n",
    "\n",
    "hash01=$(bx bitcoin160 $hash0$hash1)\n",
    "hash23=$(bx bitcoin160 $hash2$hash3)\n",
    "hash45=$(bx bitcoin160 $hash4$hash5)\n",
    "hash66=$(bx bitcoin160 $hash6$hash6)\n",
    "\n",
    "hash0123=$(bx bitcoin160 $hash01$hash23)\n",
    "hash4566=$(bx bitcoin160 $hash45$hash66)\n",
    "\n",
    "root=$(bx bitcoin160 $hash0123$hash4566)\n",
    "echo $root\n"
   ]
  },
  {
   "cell_type": "markdown",
   "metadata": {},
   "source": [
    "**Embed merkle root into op_return output script**"
   ]
  },
  {
   "cell_type": "code",
   "execution_count": 2,
   "metadata": {},
   "outputs": [
    {
     "name": "stdout",
     "output_type": "stream",
     "text": [
      "6a1423316c9e53f6cec74c2331737e32e42ab02426e7\n"
     ]
    }
   ],
   "source": [
    "# output_script_return=\n",
    "\n",
    "output_script_return=$(bx script-encode \"return [23316c9e53f6cec74c2331737e32e42ab02426e7]\")\n",
    "echo $output_script_return"
   ]
  },
  {
   "cell_type": "markdown",
   "metadata": {},
   "source": [
    "### B. Encode p2pkh script for the change output.\n",
    "* Please send testnet coins to p2pkh address `n2MBcctgzBt1h8Nvfu3XAEPJLrmWET7emw`"
   ]
  },
  {
   "cell_type": "code",
   "execution_count": null,
   "metadata": {},
   "outputs": [],
   "source": [
    "bx address-decode n2MBcctgzBt1h8Nvfu3XAEPJLrmWET7emw"
   ]
  },
  {
   "cell_type": "code",
   "execution_count": null,
   "metadata": {},
   "outputs": [],
   "source": [
    "# output_script_p2pkh=\n",
    "\n",
    "output_script_p2pkh=$(bx script-encode \"DUP HASH160 [e48199d47742b245464b1366d95ef26aa4c8bb2c] EQUALVERIFY CHECKSIG\")\n",
    "echo $output_script_p2pkh\n"
   ]
  },
  {
   "cell_type": "markdown",
   "metadata": {},
   "source": [
    "### C. Compute amount for p2pkh output"
   ]
  },
  {
   "cell_type": "code",
   "execution_count": null,
   "metadata": {},
   "outputs": [],
   "source": [
    "# tx bytes: 4 + 1 + 1*(32+4+1+1+72+1+33+4) + 1 + 1*(8+1+25) + 1*(8+1+1+20)+ 4 \n",
    "\n",
    "# tx_byte_count=\n",
    "\n",
    "tx_byte_count=$(expr 4 + 1 + 1 \\* 148 + 1 + 1 \\* 34 + 1 \\* 30 + 4)\n",
    "echo $tx_byte_count"
   ]
  },
  {
   "cell_type": "code",
   "execution_count": null,
   "metadata": {},
   "outputs": [],
   "source": [
    "# P2PKH output amount.\n",
    "# output_amount_p2pkh=\n",
    "\n",
    "output_amount_p2pkh=$(expr $previous_output_amount - 1 \\* 400 - $tx_byte_count \\* 1)\n",
    "echo $output_amount_p2pkh\n"
   ]
  },
  {
   "cell_type": "markdown",
   "metadata": {},
   "source": [
    "### D. Construct transaction."
   ]
  },
  {
   "cell_type": "code",
   "execution_count": null,
   "metadata": {},
   "outputs": [],
   "source": [
    "# bx tx-encode \\\n",
    "# --input [previous tx id]:[index]:[sequence] \\\n",
    "# --output [output script]:[output amount]\n",
    "\n",
    "my_tx=$(bx tx-encode \\\n",
    "--input $previous_txid:$previous_output_index:4294967295 \\\n",
    "--output $output_script_return:0 \\\n",
    "--output $output_script_p2pkh:$output_amount_p2pkh)\n",
    "\n"
   ]
  },
  {
   "cell_type": "markdown",
   "metadata": {},
   "source": [
    "### E. Sign transaction & finalise transaction."
   ]
  },
  {
   "cell_type": "markdown",
   "metadata": {},
   "source": [
    "**Fetch previous output script.**"
   ]
  },
  {
   "cell_type": "code",
   "execution_count": null,
   "metadata": {},
   "outputs": [],
   "source": [
    "# bx fetch-tx --format json [previous tx id] \n",
    "\n",
    "# previous_output_script=\n",
    "\n",
    "previous_output_script=$(bx fetch-tx --format json $previous_txid \\\n",
    "| jq -r \".transaction.outputs[4].script\")\n",
    "\n",
    "echo $previous_output_script"
   ]
  },
  {
   "cell_type": "markdown",
   "metadata": {},
   "source": [
    "**Sign transaction.**"
   ]
  },
  {
   "cell_type": "code",
   "execution_count": null,
   "metadata": {},
   "outputs": [],
   "source": [
    "# bx input-sign [private key] \"previous output script\" [transaction template]\n",
    "\n",
    "# signature=\n",
    "\n",
    "signature=$(bx input-sign --sign_type all --index 0 $privatekey_44h_1h_1h_0_4 \"$previous_output_script\" $my_tx)\n"
   ]
  },
  {
   "cell_type": "markdown",
   "metadata": {},
   "source": [
    "**Set input into finalised transaction**"
   ]
  },
  {
   "cell_type": "code",
   "execution_count": null,
   "metadata": {},
   "outputs": [],
   "source": [
    "# bx input-set \"[signature] [public key point]\" [transaction template]\n",
    "\n",
    "# my_tx=\n",
    "\n",
    "my_tx=$(bx input-set --index 0 \"[$signature] [$publickey_44h_1h_1h_0_4]\" $my_tx)\n",
    "echo $my_tx | bx tx-decode\n"
   ]
  },
  {
   "cell_type": "code",
   "execution_count": null,
   "metadata": {},
   "outputs": [],
   "source": [
    "# Validate.\n",
    "bx validate-tx $my_tx"
   ]
  },
  {
   "cell_type": "code",
   "execution_count": null,
   "metadata": {},
   "outputs": [],
   "source": []
  }
 ],
 "metadata": {
  "kernelspec": {
   "display_name": "Bash",
   "language": "bash",
   "name": "bash"
  },
  "language_info": {
   "codemirror_mode": "shell",
   "file_extension": ".sh",
   "mimetype": "text/x-sh",
   "name": "bash"
  }
 },
 "nbformat": 4,
 "nbformat_minor": 2
}
