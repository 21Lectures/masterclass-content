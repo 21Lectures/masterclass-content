{
 "cells": [
  {
   "cell_type": "markdown",
   "metadata": {},
   "source": [
    "# Elliptic Curve Math - Exercises with Libbitcoin BX"
   ]
  },
  {
   "cell_type": "markdown",
   "metadata": {},
   "source": [
    "### 1. Basic EC operations"
   ]
  },
  {
   "cell_type": "markdown",
   "metadata": {},
   "source": [
    "#### Derive a new valid secret  (secp256k1) from 512-bit entropy:"
   ]
  },
  {
   "cell_type": "code",
   "execution_count": null,
   "metadata": {},
   "outputs": [],
   "source": [
    "# bx [command]\n",
    "seed=$(bx seed --bit_length 512)\n"
   ]
  },
  {
   "cell_type": "markdown",
   "metadata": {},
   "source": [
    "#### Derive a new (uncompressed) EC point from the generated secret:"
   ]
  },
  {
   "cell_type": "code",
   "execution_count": null,
   "metadata": {},
   "outputs": [],
   "source": [
    "# bx [command]\n",
    "point=$(bx ec-new $seed | bx ec-to-public)\n"
   ]
  },
  {
   "cell_type": "markdown",
   "metadata": {},
   "source": [
    "#### Demonstrate  associativity: "
   ]
  },
  {
   "cell_type": "markdown",
   "metadata": {},
   "source": [
    "Scalar operations: `(a + b) * c = a * c + b * c`\n",
    "* `a = 86101c23edfcdf19bf47836b7fe4b86bd3023983d477e0324adc81230b22851b`\n",
    "* `b = b6ab20f3d9311eb7ebcad6bb2933008eb350418c3f499fb764204ee08f4171f2`\n",
    "* `c = 6dbcfab245c6e278659dc26ec9d989c14c223f23cd17941ab45bb04c91290cdf`"
   ]
  },
  {
   "cell_type": "code",
   "execution_count": null,
   "metadata": {},
   "outputs": [],
   "source": [
    "# bx [command]\n"
   ]
  },
  {
   "cell_type": "markdown",
   "metadata": {},
   "source": [
    "Scalar & EC point operations: `(a + b) * G = A + B`"
   ]
  },
  {
   "cell_type": "code",
   "execution_count": null,
   "metadata": {},
   "outputs": [],
   "source": [
    "# bx [command]\n",
    "\n"
   ]
  },
  {
   "cell_type": "markdown",
   "metadata": {},
   "source": [
    "### 2. Joint public key point"
   ]
  },
  {
   "cell_type": "markdown",
   "metadata": {},
   "source": [
    "`Alice` and `Bob` would like to create a `joint public key`. However, it is important that neither party alone has the corresponding private key of this joint public key point. How can this be achieved?\n",
    "\n",
    "The joint public key generation scheme could follow the following sequence of events.\n",
    "\n",
    "* `Alice` performs something.\n",
    "* `Bob` performs something.\n",
    "* `Alice` and `Bob` interact.\n",
    "* `Alice` and `Bob` individually derive the `joint public key`"
   ]
  },
  {
   "cell_type": "markdown",
   "metadata": {},
   "source": [
    "**`Alice` performs the following:**"
   ]
  },
  {
   "cell_type": "code",
   "execution_count": 1,
   "metadata": {},
   "outputs": [
    {
     "name": "stdout",
     "output_type": "stream",
     "text": [
      "03b7bd0d5d0151a12f9de777ce34bdbefea3e3be0bbab3a6703a32ffc745f53c17\n"
     ]
    }
   ],
   "source": [
    "# bx [command]\n",
    "# (a+b)G = A+B\n",
    "alice_secret='55829ce8935bd943b148e71da08a0e2c1a4f23c3ddd995740eb0ce0d5d7aff23'\n",
    "alice_pubkey=$(bx ec-to-public $alice_secret)\n",
    "echo $alice_pubkey"
   ]
  },
  {
   "cell_type": "markdown",
   "metadata": {},
   "source": [
    " **`Bob` performs the following:**"
   ]
  },
  {
   "cell_type": "code",
   "execution_count": 2,
   "metadata": {},
   "outputs": [
    {
     "name": "stdout",
     "output_type": "stream",
     "text": [
      "0225a866944e77bf94fed16efc32c31004030a52588aba4f7ddca13788e41a7639\n"
     ]
    }
   ],
   "source": [
    "# bx [command]\n",
    "bob_secret='056a76b36b8391f8da3932c9742dfe5b638ab63b2574ec80076544bb8bb869a2'\n",
    "bob_pubkey=$(bx ec-to-public $bob_secret)\n",
    "echo $bob_pubkey\n"
   ]
  },
  {
   "cell_type": "markdown",
   "metadata": {},
   "source": [
    "#### `Alice` and `Bob` exchange the following data:"
   ]
  },
  {
   "cell_type": "code",
   "execution_count": null,
   "metadata": {},
   "outputs": [],
   "source": [
    "echo  \"data from alice to bob: \"\n",
    "# echo [data] \n",
    "echo  \"data from bob to alice: \"\n",
    "# echo [data] \n"
   ]
  },
  {
   "cell_type": "markdown",
   "metadata": {},
   "source": [
    "#### `Alice` computes the following from data received from `Bob`"
   ]
  },
  {
   "cell_type": "code",
   "execution_count": 3,
   "metadata": {},
   "outputs": [
    {
     "name": "stdout",
     "output_type": "stream",
     "text": [
      "0215f58f01411c44a094bac44d9021b61199003aa15fdb5e28f0af96a8d979d8a6\n"
     ]
    }
   ],
   "source": [
    "# bx [command]\n",
    "joint_pubkey=$(bx ec-add $bob_pubkey $alice_secret)\n",
    "echo $joint_pubkey"
   ]
  },
  {
   "cell_type": "markdown",
   "metadata": {},
   "source": [
    "#### `Bob` computes the following from data received from `Alice`"
   ]
  },
  {
   "cell_type": "code",
   "execution_count": 5,
   "metadata": {},
   "outputs": [
    {
     "name": "stdout",
     "output_type": "stream",
     "text": [
      "0215f58f01411c44a094bac44d9021b61199003aa15fdb5e28f0af96a8d979d8a6\n"
     ]
    }
   ],
   "source": [
    "# bx [command] \n",
    "joint_pubkey=$(bx ec-add $alice_pubkey $bob_secret)\n",
    "echo $joint_pubkey"
   ]
  },
  {
   "cell_type": "markdown",
   "metadata": {},
   "source": [
    "### 2b. Spending from the joint public key \n",
    "How can `Alice` and `Bob` allow the other party to spend from this `joint public key`?"
   ]
  },
  {
   "cell_type": "code",
   "execution_count": null,
   "metadata": {},
   "outputs": [],
   "source": [
    "# bx [command] \n"
   ]
  },
  {
   "cell_type": "markdown",
   "metadata": {},
   "source": [
    "### 3. Commitment Schemes"
   ]
  },
  {
   "cell_type": "markdown",
   "metadata": {},
   "source": [
    "`Alice` would like to commit to a secret number without revealing this number to `Bob`. This `commitment` must be binding, meaning `Alice` must be able to prove she hasn't changed it after the secret is revealed.\n",
    "\n",
    "* `Alice` generates a commitment from a secret.\n",
    "* `Bob` receives the commitment.\n",
    "* `Alice` reveals the secret, proving it was the number originally commited to."
   ]
  },
  {
   "cell_type": "markdown",
   "metadata": {},
   "source": [
    "#### `Alice` generates a commitment from a secret number."
   ]
  },
  {
   "cell_type": "code",
   "execution_count": null,
   "metadata": {},
   "outputs": [],
   "source": [
    "# bx [command] \n",
    "\n",
    "# With elliptic curve operations:\n",
    "# -------------------------------\n",
    "# \n",
    "\n",
    "\n",
    "# With hashing operations:\n",
    "# -------------------------------\n"
   ]
  },
  {
   "cell_type": "markdown",
   "metadata": {},
   "source": [
    "### 3b. How does `Bob` later verify Alice's commitment?"
   ]
  },
  {
   "cell_type": "code",
   "execution_count": null,
   "metadata": {},
   "outputs": [],
   "source": [
    "# bx [command] \n",
    "\n",
    "# With elliptic curve operations:\n",
    "# -------------------------------\n",
    "\n",
    "\n",
    "# With hashing operations:\n",
    "# -------------------------------\n",
    "\n"
   ]
  },
  {
   "cell_type": "markdown",
   "metadata": {},
   "source": [
    "### 4) Blinding commitment Schemes"
   ]
  },
  {
   "cell_type": "markdown",
   "metadata": {},
   "source": [
    "`Alice` creates multiple commitments for `Bob`, but would like prevent `Bob` from noticing if she uses the same secret multiple times. This is call a `blinding commitment` as it blinds the receiver of the commitment from gaining any information about the secret.\n",
    "\n",
    "How can `Alice` achieve this?\n",
    "\n",
    "* `Alice` generates a blinding commitment from a secret.\n",
    "* `Bob` receives the commitment.\n",
    "* `Alice` reveals the secret (and supporting data), proving it was the number originally commited to.\n",
    "\n",
    "Alice's secret:\n",
    "* `a = 86101c23edfcdf19bf47836b7fe4b86bd3023983d477e0324adc81230b22851b`\n",
    "\n",
    "**Hint:** `Alice` can generate a random number to blind the commitment."
   ]
  },
  {
   "cell_type": "markdown",
   "metadata": {},
   "source": [
    "#### `Alice` generates a blinded commitment from a secret number."
   ]
  },
  {
   "cell_type": "code",
   "execution_count": null,
   "metadata": {},
   "outputs": [],
   "source": [
    "# bx [command] \n",
    "# uG+vP=C\n",
    "# u=preimage, v=blinding factor\n",
    "# P=e*G, (u+v*e)*G = C\n",
    "\n",
    "# C = uG+vP\n"
   ]
  },
  {
   "cell_type": "markdown",
   "metadata": {},
   "source": [
    "#### `Bob` verifies that the secret matches her initial commitment."
   ]
  },
  {
   "cell_type": "code",
   "execution_count": null,
   "metadata": {},
   "outputs": [],
   "source": [
    "# bx [command] \n",
    "\n"
   ]
  }
 ],
 "metadata": {
  "kernelspec": {
   "display_name": "Bash",
   "language": "bash",
   "name": "bash"
  },
  "language_info": {
   "codemirror_mode": "shell",
   "file_extension": ".sh",
   "mimetype": "text/x-sh",
   "name": "bash"
  }
 },
 "nbformat": 4,
 "nbformat_minor": 2
}
