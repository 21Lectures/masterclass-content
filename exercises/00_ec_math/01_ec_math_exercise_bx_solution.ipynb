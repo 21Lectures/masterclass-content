{
 "cells": [
  {
   "cell_type": "markdown",
   "metadata": {},
   "source": [
    "# Elliptic Curve Math - Exercises with Libbitcoin BX"
   ]
  },
  {
   "cell_type": "markdown",
   "metadata": {},
   "source": [
    "### 1. Basic EC operations"
   ]
  },
  {
   "cell_type": "markdown",
   "metadata": {},
   "source": [
    "#### Derive a new valid secret  (secp256k1) from 512-bit entropy:"
   ]
  },
  {
   "cell_type": "code",
   "execution_count": 1,
   "metadata": {},
   "outputs": [
    {
     "name": "stdout",
     "output_type": "stream",
     "text": [
      "eab3637b383613be90049c388321a7f5a4be4e9adccd9a677b0ed5ece4b9b933\n"
     ]
    }
   ],
   "source": [
    "bx seed --bit_length 512 | bx ec-new\n"
   ]
  },
  {
   "cell_type": "markdown",
   "metadata": {},
   "source": [
    "#### Derive a new (uncompressed) EC point from the generated secret:"
   ]
  },
  {
   "cell_type": "code",
   "execution_count": 2,
   "metadata": {},
   "outputs": [
    {
     "name": "stdout",
     "output_type": "stream",
     "text": [
      "041bc17dc0bd9e9e64a81be4bd9efa70941e30ada315583adcf67864142f6af47f7a17b3141508931fc55e26288cb7fb22a4ba34bed8109dbad3bbe978eef84f45\n"
     ]
    }
   ],
   "source": [
    "bx ec-to-public --uncompressed f3e517af9d7665e8eb409be6c468d9b8e4d580ed1f5aeedcda9e05565c8502d0\n"
   ]
  },
  {
   "cell_type": "markdown",
   "metadata": {},
   "source": [
    "#### Demonstrate  associativity: "
   ]
  },
  {
   "cell_type": "markdown",
   "metadata": {},
   "source": [
    "Scalar operations: `(a + b) * c = a * c + b * c`\n",
    "* `a = 86101c23edfcdf19bf47836b7fe4b86bd3023983d477e0324adc81230b22851b`\n",
    "* `b = b6ab20f3d9311eb7ebcad6bb2933008eb350418c3f499fb764204ee08f4171f2`\n",
    "* `c = 6dbcfab245c6e278659dc26ec9d989c14c223f23cd17941ab45bb04c91290cdf`"
   ]
  },
  {
   "cell_type": "code",
   "execution_count": 3,
   "metadata": {},
   "outputs": [
    {
     "name": "stdout",
     "output_type": "stream",
     "text": [
      "5052a8db6fbe0325b2231b630b4a4ec42b9c8e0d7b00e62c5ed1569c85e2733f\n",
      "5052a8db6fbe0325b2231b630b4a4ec42b9c8e0d7b00e62c5ed1569c85e2733f\n"
     ]
    }
   ],
   "source": [
    "# a + b\n",
    "a_plus_b=$(bx ec-add-secrets 86101c23edfcdf19bf47836b7fe4b86bd3023983d477e0324adc81230b22851b b6ab20f3d9311eb7ebcad6bb2933008eb350418c3f499fb764204ee08f4171f2)\n",
    "\n",
    "# left side: (a + b) * c\n",
    "bx ec-multiply-secrets $a_plus_b 6dbcfab245c6e278659dc26ec9d989c14c223f23cd17941ab45bb04c91290cdf\n",
    "\n",
    "# a * c \n",
    "a_mult_c=$(bx ec-multiply-secrets 86101c23edfcdf19bf47836b7fe4b86bd3023983d477e0324adc81230b22851b 6dbcfab245c6e278659dc26ec9d989c14c223f23cd17941ab45bb04c91290cdf)\n",
    "\n",
    "# b * c\n",
    "b_mult_c=$(bx ec-multiply-secrets b6ab20f3d9311eb7ebcad6bb2933008eb350418c3f499fb764204ee08f4171f2 6dbcfab245c6e278659dc26ec9d989c14c223f23cd17941ab45bb04c91290cdf)\n",
    "\n",
    "# right side: a * c + b * c\"\n",
    "bx ec-add-secrets $a_mult_c $b_mult_c\n"
   ]
  },
  {
   "cell_type": "markdown",
   "metadata": {},
   "source": [
    "Scalar & EC point operations: `(a + b) * G = A + B`"
   ]
  },
  {
   "cell_type": "code",
   "execution_count": 4,
   "metadata": {},
   "outputs": [
    {
     "name": "stdout",
     "output_type": "stream",
     "text": [
      "023cbf38233fd17a7c3126e14e85a03c27c81b97f3158511c0ae79011dad88a60b\n",
      "023cbf38233fd17a7c3126e14e85a03c27c81b97f3158511c0ae79011dad88a60b\n"
     ]
    }
   ],
   "source": [
    "# a + b\n",
    "a_plus_b=$(bx ec-add-secrets 86101c23edfcdf19bf47836b7fe4b86bd3023983d477e0324adc81230b22851b b6ab20f3d9311eb7ebcad6bb2933008eb350418c3f499fb764204ee08f4171f2)\n",
    "\n",
    "# left side: (a + b) * G\n",
    "bx ec-to-public $a_plus_b\n",
    "\n",
    "# points A\n",
    "A=$(bx ec-to-public 86101c23edfcdf19bf47836b7fe4b86bd3023983d477e0324adc81230b22851b)\n",
    "\n",
    "# right side: A + b * G\n",
    "bx ec-add $A b6ab20f3d9311eb7ebcad6bb2933008eb350418c3f499fb764204ee08f4171f2\n"
   ]
  },
  {
   "cell_type": "markdown",
   "metadata": {},
   "source": [
    "### 2. Joint public key point"
   ]
  },
  {
   "cell_type": "markdown",
   "metadata": {},
   "source": [
    "`Alice` and `Bob` would like to create a `joint public key`. However, it is important that neither party alone has the corresponding private key of this joint public key point. How can this be achieved?\n",
    "\n",
    "The joint public key generation scheme could follow the following sequence of events.\n",
    "\n",
    "* `Alice` performs something.\n",
    "* `Bob` performs something.\n",
    "* `Alice` and `Bob` interact.\n",
    "* `Alice` and `Bob` individually derive the `joint public key`"
   ]
  },
  {
   "cell_type": "markdown",
   "metadata": {},
   "source": [
    "**`Alice` performs the following:**"
   ]
  },
  {
   "cell_type": "code",
   "execution_count": 2,
   "metadata": {},
   "outputs": [],
   "source": [
    "# (a+b)G = A+B\n",
    "\n",
    "alice_secret=$(bx seed --bit_length 512 | bx ec-new)\n",
    "alice_point=$(bx ec-to-public $alice_secret)\n"
   ]
  },
  {
   "cell_type": "markdown",
   "metadata": {},
   "source": [
    " **`Bob` performs the following:**"
   ]
  },
  {
   "cell_type": "code",
   "execution_count": 3,
   "metadata": {},
   "outputs": [],
   "source": [
    "bob_secret=$(bx seed --bit_length 512 | bx ec-new)\n",
    "bob_point=$(bx ec-to-public $bob_secret)\n"
   ]
  },
  {
   "cell_type": "markdown",
   "metadata": {},
   "source": [
    "#### `Alice` and `Bob` exchange the following data:"
   ]
  },
  {
   "cell_type": "code",
   "execution_count": 4,
   "metadata": {},
   "outputs": [
    {
     "name": "stdout",
     "output_type": "stream",
     "text": [
      "data from alice to bob: \n",
      "034dbb9ff6607d737cd7c43824f6f2943af5d4bd1ba5ee4664dc7aaf2e967bc650\n",
      "data from bob to alice: \n",
      "02028dcc92320b942be026ead47451083bd07f646ea01a94f6ddf1609c5843acf9\n"
     ]
    }
   ],
   "source": [
    "echo  \"data from alice to bob: \"\n",
    "echo  $alice_point\n",
    "echo  \"data from bob to alice: \"\n",
    "echo  $bob_point\n"
   ]
  },
  {
   "cell_type": "markdown",
   "metadata": {},
   "source": [
    "#### `Alice` computes the following from data received from `Bob`"
   ]
  },
  {
   "cell_type": "code",
   "execution_count": 5,
   "metadata": {},
   "outputs": [
    {
     "name": "stdout",
     "output_type": "stream",
     "text": [
      "02d6123440efa4407a70b0dead58b7d29a3c1f1123c48640610d517f5f9e33e43d\n"
     ]
    }
   ],
   "source": [
    "bx ec-add $bob_point $alice_secret\n"
   ]
  },
  {
   "cell_type": "markdown",
   "metadata": {},
   "source": [
    "#### `Bob` computes the following from data received from `Alice`"
   ]
  },
  {
   "cell_type": "code",
   "execution_count": 6,
   "metadata": {},
   "outputs": [
    {
     "name": "stdout",
     "output_type": "stream",
     "text": [
      "02d6123440efa4407a70b0dead58b7d29a3c1f1123c48640610d517f5f9e33e43d\n"
     ]
    }
   ],
   "source": [
    "bx ec-add $alice_point $bob_secret\n"
   ]
  },
  {
   "cell_type": "markdown",
   "metadata": {},
   "source": [
    "### 2b. Spending from the joint public key \n",
    "How can `Alice` and `Bob` allow the other party to spend from this `joint public key`?"
   ]
  },
  {
   "cell_type": "code",
   "execution_count": 7,
   "metadata": {},
   "outputs": [
    {
     "name": "stdout",
     "output_type": "stream",
     "text": [
      "02d6123440efa4407a70b0dead58b7d29a3c1f1123c48640610d517f5f9e33e43d\n"
     ]
    }
   ],
   "source": [
    "# Alice shares her secret with Bob.\n",
    "\n",
    "# Bob computes the secret of the joint public key.\n",
    "joint_secret=$(bx ec-add-secrets $alice_secret $bob_secret)\n",
    "\n",
    "# Bob validates secret * G = joint_point\n",
    "bx ec-to-public $joint_secret\n"
   ]
  },
  {
   "cell_type": "markdown",
   "metadata": {},
   "source": [
    "### 3. Commitment Schemes"
   ]
  },
  {
   "cell_type": "markdown",
   "metadata": {},
   "source": [
    "`Alice` would like to commit to a secret number without revealing this number to `Bob`. This `commitment` must be binding, meaning `Alice` must be able to prove she hasn't changed it after the secret is revealed.\n",
    "\n",
    "* `Alice` generates a commitment from a secret.\n",
    "* `Bob` receives the commitment.\n",
    "* `Alice` reveals the secret, proving it was the number originally commited to."
   ]
  },
  {
   "cell_type": "markdown",
   "metadata": {},
   "source": [
    "#### `Alice` generates a commitment from a secret number."
   ]
  },
  {
   "cell_type": "code",
   "execution_count": 10,
   "metadata": {},
   "outputs": [
    {
     "name": "stdout",
     "output_type": "stream",
     "text": [
      "0356e741407588d35d249eba186e1ebab32908c181870ef0a059cdb35332c91cf5\n"
     ]
    }
   ],
   "source": [
    "# With elliptic curve operations:\n",
    "# -------------------------------\n",
    "alice_secret=$(bx seed --bit_length 512 | bx ec-new)\n",
    "alice_commitment=$(bx ec-to-public $alice_secret)\n",
    "echo $alice_commitment\n",
    "\n",
    "# With hashing operations:\n",
    "# -------------------------------\n",
    "\n"
   ]
  },
  {
   "cell_type": "markdown",
   "metadata": {},
   "source": [
    "### 3b. How does `Bob` later verify Alice's commitment?"
   ]
  },
  {
   "cell_type": "code",
   "execution_count": null,
   "metadata": {},
   "outputs": [],
   "source": [
    "# With elliptic curve operations:\n",
    "# -------------------------------\n",
    "\n",
    "# Step 1: Alice reveals secret to Bob.\n",
    "# Step 2: Bob computes commitment from secret:\n",
    "computed_commitment=$(bx ec-to-public $alice_secret)\n",
    "echo $computed_commitment\n",
    "\n",
    "# With hashing operations:\n",
    "# -------------------------------\n",
    "\n"
   ]
  },
  {
   "cell_type": "markdown",
   "metadata": {},
   "source": [
    "### 4) Blinding commitment Schemes"
   ]
  },
  {
   "cell_type": "markdown",
   "metadata": {},
   "source": [
    "`Alice` creates multiple commitments for `Bob`, but would like prevent `Bob` from noticing if she uses the same secret multiple times. This is call a `blinding commitment` as it blinds the receiver of the commitment from gaining any information about the secret.\n",
    "\n",
    "How can `Alice` achieve this?\n",
    "\n",
    "* `Alice` generates a blinding commitment from a secret.\n",
    "* `Bob` receives the commitment.\n",
    "* `Alice` reveals the secret (and supporting data), proving it was the number originally commited to.\n",
    "\n",
    "Alice's secret:\n",
    "* `a = 86101c23edfcdf19bf47836b7fe4b86bd3023983d477e0324adc81230b22851b`\n",
    "\n",
    "**Hint:** `Alice` can generate a random number to blind the commitment."
   ]
  },
  {
   "cell_type": "markdown",
   "metadata": {},
   "source": [
    "#### `Alice` generates a blinded commitment from a secret number."
   ]
  },
  {
   "cell_type": "code",
   "execution_count": 1,
   "metadata": {},
   "outputs": [
    {
     "name": "stdout",
     "output_type": "stream",
     "text": [
      "021c1e28b898a664e18ac52d8a6162a75d1d8b893036192eec460f2ab95932b7f0\n",
      "8daea89dc67f76ea42465e1feba064132ae69b890e61cd194f2640b24a8081a2\n"
     ]
    }
   ],
   "source": [
    "# C = random_number * H + secret * G \n",
    "# C = random_mumber * e * G + secret * G = G * (random_number * e + secret)\n",
    "\n",
    "# Alice generates a secret\n",
    "secret=5a2a4e102e5440bb43887ab584591e0b975441d8ff940175a7a105e4dde85a4d\n",
    "\n",
    "# Alice generates random_number \n",
    "random_number=$(bx seed --bit_length 512 | bx ec-new)\n",
    "\n",
    "# Alice generates a hidden point H\n",
    "hidden_point=$(bx seed --bit_length 512 | bx ec-new | bx ec-to-public)\n",
    "\n",
    "# # random_number * H\n",
    "r_mult_H=$(bx ec-multiply $hidden_point $random_number)\n",
    "\n",
    "# C = random_number * H + secret * G\n",
    "commitment=$(bx ec-add $r_mult_H $secret)\n",
    "echo $commitment\n",
    "echo $random_number\n"
   ]
  },
  {
   "cell_type": "markdown",
   "metadata": {},
   "source": [
    "#### `Bob` verifies that the secret matches her initial commitment."
   ]
  },
  {
   "cell_type": "code",
   "execution_count": 4,
   "metadata": {},
   "outputs": [
    {
     "name": "stdout",
     "output_type": "stream",
     "text": [
      "021c1e28b898a664e18ac52d8a6162a75d1d8b893036192eec460f2ab95932b7f0\n"
     ]
    }
   ],
   "source": [
    "# Alice reveals secret and random number to Bob\n",
    "alice_secret=5a2a4e102e5440bb43887ab584591e0b975441d8ff940175a7a105e4dde85a4d\n",
    "alice_random=8daea89dc67f76ea42465e1feba064132ae69b890e61cd194f2640b24a8081a2\n",
    "\n",
    "# C = random_number * H + secret * G\n",
    "r_mult_H=$(bx ec-multiply $hidden_point $alice_random)\n",
    "computed_commitment=$(bx ec-add $r_mult_H $alice_secret)\n",
    "echo $computed_commitment\n"
   ]
  }
 ],
 "metadata": {
  "kernelspec": {
   "display_name": "Bash",
   "language": "bash",
   "name": "bash"
  },
  "language_info": {
   "codemirror_mode": "shell",
   "file_extension": ".sh",
   "mimetype": "text/x-sh",
   "name": "bash"
  }
 },
 "nbformat": 4,
 "nbformat_minor": 2
}
