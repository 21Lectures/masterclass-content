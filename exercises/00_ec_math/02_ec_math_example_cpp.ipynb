{
 "cells": [
  {
   "cell_type": "markdown",
   "metadata": {},
   "source": [
    "# Elliptic Curve Math - Examples with Libbitcoin System (C++)\n",
    "In this example, we demonstrate the properties of scalar and elliptic curve operations over finite fields.\n",
    "<br>\n",
    "<img src=\"images/ec_math_operations.jpg\" alt=\"drawing\" style=\"\" width=\"700px\"/>"
   ]
  },
  {
   "cell_type": "markdown",
   "metadata": {},
   "source": [
    "### Libbitcoin-System (C++) Setup"
   ]
  },
  {
   "cell_type": "code",
   "execution_count": 1,
   "metadata": {},
   "outputs": [],
   "source": [
    "// Compiler & linker information for c++ interpreter.\n",
    "#pragma cling add_include_path(\"/usr/local/include\")\n",
    "#pragma cling add_library_path(\"/usr/local/lib\")\n",
    "#pragma cling load(\"bitcoin\",\"secp256k1\",\"pthread\",\"boost_chrono-mt\",\"boost_date_time-mt\",\"boost_filesystem\",\"boost_iostreams-mt\",\"boost_locale-mt\",\"boost_log-mt\",\"boost_program_options-mt\",\"boost_regex-mt\",\"boost_system\",\"boost_thread-mt\")\n",
    "\n",
    "// Libbitcoin-System\n",
    "#include <bitcoin/bitcoin.hpp> "
   ]
  },
  {
   "cell_type": "markdown",
   "metadata": {},
   "source": [
    "<hr style=\"border: 0.5px dashed #000;\">\n",
    "\n",
    "\n",
    "# 1 Scalar Operations\n"
   ]
  },
  {
   "cell_type": "markdown",
   "metadata": {},
   "source": [
    "## 1.1 Generate a valid `secp256k1` scalar"
   ]
  },
  {
   "cell_type": "markdown",
   "metadata": {},
   "source": [
    "Libbitcoin Classes/Methods:\n",
    "* [`bc::base16_literal`](https://github.com/libbitcoin/libbitcoin/blob/version3/include/bitcoin/bitcoin/formats/base_16.hpp#L38)\n",
    "* [`bc::to_chunk`](https://github.com/libbitcoin/libbitcoin/blob/master/include/bitcoin/bitcoin/utility/data.hpp#L120)\n",
    "* [`bc::wallet::ec_private`](https://github.com/libbitcoin/libbitcoin/blob/version3/include/bitcoin/bitcoin/wallet/ec_private.hpp#L45)"
   ]
  },
  {
   "cell_type": "code",
   "execution_count": 2,
   "metadata": {},
   "outputs": [
    {
     "name": "stdout",
     "output_type": "stream",
     "text": [
      "a1f0cbb35f7d0a609e6787e7c623bff9\n"
     ]
    }
   ],
   "source": [
    "// Create 128bits of entropy.\n",
    "bc::data_chunk my_entropy(16); // 16 bytes = 128 bits\n",
    "bc::pseudo_random_fill(my_entropy);\n",
    "\n",
    "// Print out entropy.\n",
    "std::cout << bc::encode_base16(my_entropy) << std::endl;\n"
   ]
  },
  {
   "cell_type": "code",
   "execution_count": 3,
   "metadata": {},
   "outputs": [
    {
     "name": "stdout",
     "output_type": "stream",
     "text": [
      "6996e113742aa9672e679a16bf70ddcfce0db2686a118f07526dd9ec1b61f058\n"
     ]
    }
   ],
   "source": [
    "// Create valid secp256k1 scalar from entropy.\n",
    "auto my_prev_entropy = bc::to_chunk(bc::base16_literal(\"394e6ed80d23574456f4641f552a9eb7\"));\n",
    "bc::wallet::ec_private my_key(my_prev_entropy);\n",
    "\n",
    "// Print out scalar.\n",
    "std::cout << bc::encode_base16(my_key.secret()) << std::endl;\n"
   ]
  },
  {
   "cell_type": "markdown",
   "metadata": {},
   "source": [
    "## 1.2 Demonstrate Distributivity\n",
    "\n",
    "**`(a + b) * c = a * c + b * c`**\n",
    "<br>\n",
    "\n",
    "* `a = 86101c23edfcdf19bf47836b7fe4b86bd3023983d477e0324adc81230b22851b`\n",
    "* `b = b6ab20f3d9311eb7ebcad6bb2933008eb350418c3f499fb764204ee08f4171f2`\n",
    "* `c = 6dbcfab245c6e278659dc26ec9d989c14c223f23cd17941ab45bb04c91290cdf`"
   ]
  },
  {
   "cell_type": "markdown",
   "metadata": {},
   "source": [
    "Libbitcoin Classes/Methods:\n",
    "* [**`bc::ec_secret`**](https://github.com/libbitcoin/libbitcoin/blob/version3/include/bitcoin/bitcoin/math/elliptic_curve.hpp#L34)\n",
    "* [**`bc::ec_add`**](https://github.com/libbitcoin/libbitcoin/blob/version3/include/bitcoin/bitcoin/math/elliptic_curve.hpp#L94) `(scalar += scalar)`\n",
    "* [**`bc::ec_multiply`**](https://github.com/libbitcoin/libbitcoin/blob/version3/include/bitcoin/bitcoin/math/elliptic_curve.hpp#L106) `(scalar *= scalar)`"
   ]
  },
  {
   "cell_type": "code",
   "execution_count": 4,
   "metadata": {},
   "outputs": [
    {
     "name": "stdout",
     "output_type": "stream",
     "text": [
      "1\n",
      "5052a8db6fbe0325b2231b630b4a4ec42b9c8e0d7b00e62c5ed1569c85e2733f\n",
      "5052a8db6fbe0325b2231b630b4a4ec42b9c8e0d7b00e62c5ed1569c85e2733f\n"
     ]
    }
   ],
   "source": [
    "auto scalar_a = bc::base16_literal(\"86101c23edfcdf19bf47836b7fe4b86bd3023983d477e0324adc81230b22851b\");\n",
    "auto scalar_b = bc::base16_literal(\"b6ab20f3d9311eb7ebcad6bb2933008eb350418c3f499fb764204ee08f4171f2\");\n",
    "auto scalar_c = bc::base16_literal(\"6dbcfab245c6e278659dc26ec9d989c14c223f23cd17941ab45bb04c91290cdf\");\n",
    "\n",
    "// Left side: (a + b) * c\n",
    "bc::ec_secret scalar_result(scalar_a);\n",
    "bc::ec_add(scalar_result, scalar_b);    // a += b\n",
    "bc::ec_multiply(scalar_result, scalar_c);  // (a + b) *= c\n",
    "\n",
    "// Right side: a * c + b * c\n",
    "bc::ec_secret scalar_a_mult_c(scalar_a);\n",
    "bc::ec_secret scalar_b_mult_c(scalar_b);\n",
    "bc::ec_multiply(scalar_a_mult_c, scalar_c); // a *= c\n",
    "bc::ec_multiply(scalar_b_mult_c, scalar_c); // a *= c\n",
    "bc::ec_secret scalar_result_(scalar_a_mult_c);\n",
    "bc::ec_add(scalar_result_, scalar_b_mult_c); // (a * c) += (b * c)\n",
    "\n",
    "// Check for equality.\n",
    "std::cout << (scalar_result == scalar_result_) << std::endl;  \n",
    "\n",
    "// Print out.\n",
    "std::cout << bc::encode_base16(bc::to_chunk(scalar_result)) << std::endl;\n",
    "std::cout << bc::encode_base16(bc::to_chunk(scalar_result_)) << std::endl;\n"
   ]
  },
  {
   "cell_type": "markdown",
   "metadata": {},
   "source": [
    "<hr style=\"border: 0.5px dashed #000;\">\n",
    "\n",
    "# 2 Elliptic Curve Operations:\n",
    "\n"
   ]
  },
  {
   "cell_type": "markdown",
   "metadata": {},
   "source": [
    "## 2.1 Generate a valid `secp256k1` point"
   ]
  },
  {
   "cell_type": "markdown",
   "metadata": {},
   "source": [
    "Libbitcoin-system Classes/Methods:\n",
    "* [**`bc::wallet::ec_private::to_public()`**](https://github.com/libbitcoin/libbitcoin/blob/version3/include/bitcoin/bitcoin/wallet/ec_private.hpp#L114)\n",
    "* [**`bc::wallet::ec_public::point()`**](https://github.com/libbitcoin/libbitcoin/blob/version3/include/bitcoin/bitcoin/wallet/ec_public.hpp#L71)\n",
    "* [**`bc::ec_compressed`**](https://github.com/libbitcoin/libbitcoin/blob/version3/include/bitcoin/bitcoin/math/elliptic_curve.hpp#L39)"
   ]
  },
  {
   "cell_type": "code",
   "execution_count": 5,
   "metadata": {},
   "outputs": [
    {
     "name": "stdout",
     "output_type": "stream",
     "text": [
      "02527d003fd7af2e81bb5d8060233f02bae82e99e3e68dc4d6f44fe58e65615a24\n"
     ]
    }
   ],
   "source": [
    "bc::data_chunk my_entropy_(16); // 16 bytes = 128 bits\n",
    "bc::pseudo_random_fill(my_entropy_);\n",
    "bc::wallet::ec_private my_key_(my_entropy_);\n",
    "auto my_point = my_key_.to_public().point(); // Derive point\n",
    "\n",
    "std::cout << bc::encode_base16(my_point) << std::endl;\n"
   ]
  },
  {
   "cell_type": "markdown",
   "metadata": {},
   "source": [
    "## 2.2) Demonstrate Distributivity\n",
    "\n",
    "**`(a + b) * G = A + B`**\n",
    "\n",
    "* `a = 86101c23edfcdf19bf47836b7fe4b86bd3023983d477e0324adc81230b22851b`\n",
    "* `b = b6ab20f3d9311eb7ebcad6bb2933008eb350418c3f499fb764204ee08f4171f2`\n",
    "\n",
    "Libbitcoin-system Classes/Methods:\n",
    "\n",
    "* [**`bc::secret_to_public()`**](https://github.com/libbitcoin/libbitcoin/blob/version3/include/bitcoin/bitcoin/math/elliptic_curve.hpp#L118)\n",
    "* [**`bc::ec_add`**](https://github.com/libbitcoin/libbitcoin/blob/version3/include/bitcoin/bitcoin/math/elliptic_curve.hpp#L86) `(point += scalar * G)`"
   ]
  },
  {
   "cell_type": "code",
   "execution_count": 6,
   "metadata": {},
   "outputs": [
    {
     "name": "stdout",
     "output_type": "stream",
     "text": [
      "1\n",
      "023cbf38233fd17a7c3126e14e85a03c27c81b97f3158511c0ae79011dad88a60b\n",
      "023cbf38233fd17a7c3126e14e85a03c27c81b97f3158511c0ae79011dad88a60b\n"
     ]
    }
   ],
   "source": [
    "// Left side: (a + b) * G \n",
    "bc::ec_secret scalar_a_plus_b(scalar_a);\n",
    "bc::ec_add(scalar_a_plus_b, scalar_b); \n",
    "bc::ec_compressed point;\n",
    "bc::secret_to_public(point, scalar_a_plus_b);\n",
    "\n",
    "// Right side: = A + B\n",
    "bc::ec_compressed point_;\n",
    "bc::secret_to_public(point_, scalar_a); \n",
    "bc::ec_add(point_, scalar_b); // point = point + b*G\n",
    "\n",
    "// Check for equality.\n",
    "std::cout << (point == point_) << std::endl;\n",
    "\n",
    "// Print out points.\n",
    "std::cout << bc::encode_base16(bc::to_chunk(point)) << std::endl;\n",
    "std::cout << bc::encode_base16(bc::to_chunk(point_)) << std::endl;\n"
   ]
  }
 ],
 "metadata": {
  "kernelspec": {
   "display_name": "C++11",
   "language": "C++11",
   "name": "xeus-cling-cpp11"
  },
  "language_info": {
   "codemirror_mode": "text/x-c++src",
   "file_extension": ".cpp",
   "mimetype": "text/x-c++src",
   "name": "c++",
   "version": "-std=c++11"
  }
 },
 "nbformat": 4,
 "nbformat_minor": 2
}
