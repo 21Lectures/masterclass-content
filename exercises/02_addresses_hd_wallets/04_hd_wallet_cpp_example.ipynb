{
 "cells": [
  {
   "cell_type": "markdown",
   "metadata": {},
   "source": [
    "# Libbitcoin System (C++) : Mnemonics & HD Wallets\n",
    "In this tutorial, we create mnemonic backup phrases, from which HD private and public keys can be derived for use. The mnemonic phrase can later be used to recover hd keys used in a previous wallet with the same seed."
   ]
  },
  {
   "cell_type": "markdown",
   "metadata": {},
   "source": [
    "## 1) Seeding an HD wallet.\n",
    "<img src=\"images/hd_mnemonic_to_master_cpp.jpg\" alt=\"drawing\" style=\"\" width=\"800px\"/>\n",
    "\n"
   ]
  },
  {
   "cell_type": "markdown",
   "metadata": {},
   "source": [
    "### Libbitcoin-System (C++) Setup"
   ]
  },
  {
   "cell_type": "code",
   "execution_count": 1,
   "metadata": {},
   "outputs": [],
   "source": [
    "// Compiler & linker information for c++ interpreter.\n",
    "#pragma cling add_include_path(\"/usr/local/include\",\"/usr/local/Cellar/zeromq/4.2.5/include\")\n",
    "#pragma cling add_library_path(\"/usr/local/lib\",\"/usr/local/Cellar/zeromq/4.2.5/lib\")\n",
    "#pragma cling load(\"bitcoin\",\"bitcoin-protocol\",\"zmq\",\"secp256k1\",\"pthread\",\"boost_chrono-mt\",\"boost_date_time-mt\",\"boost_filesystem\",\"boost_iostreams-mt\",\"boost_locale-mt\",\"boost_log-mt\",\"boost_program_options-mt\",\"boost_regex-mt\",\"boost_system\",\"boost_thread-mt\")\n",
    "\n",
    "// Libbitcoin-System\n",
    "#include <bitcoin/bitcoin.hpp> "
   ]
  },
  {
   "cell_type": "markdown",
   "metadata": {},
   "source": [
    "### 1.1) Deriving the mnemonic phrase (BIP39)"
   ]
  },
  {
   "cell_type": "code",
   "execution_count": null,
   "metadata": {},
   "outputs": [],
   "source": [
    "bc::data_chunk my_entropy(16); // 16 bytes = 128 bits\n",
    "bc::pseudo_random_fill(my_entropy);\n"
   ]
  },
  {
   "cell_type": "code",
   "execution_count": null,
   "metadata": {},
   "outputs": [],
   "source": [
    "bc::wallet::word_list my_word_list = bc::wallet::create_mnemonic(\n",
    "  my_entropy, bc::wallet::language::ja);\n",
    "std::cout << bc::join(my_word_list) << std::endl; //join to a single string with spaces\n"
   ]
  },
  {
   "cell_type": "code",
   "execution_count": null,
   "metadata": {},
   "outputs": [],
   "source": [
    "std::string my_word_list_literal =\n",
    "  \"むける りりく あんぜん ひろい よかぜ いっぽう でぬかえ むいか うんてん げいのうじん ひほう きぞく\";\n",
    "my_word_list = bc::split(my_word_list_literal, \" \", true);\n",
    "\n",
    "// mnemonic-to-seed always derives a 512-bit long seed.\n",
    "auto hd_seed = bc::wallet::decode_mnemonic(my_word_list);\n",
    "\n",
    "std::cout << bc::encode_base16(bc::to_chunk(hd_seed)) << std::endl;\n"
   ]
  },
  {
   "cell_type": "markdown",
   "metadata": {},
   "source": [
    "## 1.2) Deriving the master HD keys (BIP32)"
   ]
  },
  {
   "cell_type": "code",
   "execution_count": null,
   "metadata": {},
   "outputs": [],
   "source": [
    "bc::wallet::hd_private m(bc::to_chunk(hd_seed), bc::wallet::hd_private::testnet);\n",
    "std::cout << m.encoded() << std::endl;\n"
   ]
  },
  {
   "cell_type": "code",
   "execution_count": null,
   "metadata": {},
   "outputs": [],
   "source": [
    "auto M = m.to_public();\n",
    "std::cout << M.encoded() << std::endl;\n"
   ]
  },
  {
   "cell_type": "markdown",
   "metadata": {},
   "source": [
    "## 2) Deriving HD children\n",
    "<img src=\"images/hd_children_derivation_cpp.jpg\" alt=\"drawing\" style=\"\" width=\"800px\"/>\n",
    "\n",
    "### 2.1) Deriving unhardened children hd keys."
   ]
  },
  {
   "cell_type": "markdown",
   "metadata": {},
   "source": [
    "**`m` &#8658; `m/0/1/2`** `(private-key child derivation)`"
   ]
  },
  {
   "cell_type": "code",
   "execution_count": null,
   "metadata": {},
   "outputs": [],
   "source": [
    "auto m_012 = m.derive_private(0).derive_private(1).derive_private(2);\n",
    "std::cout << m_012.encoded() << std::endl;\n"
   ]
  },
  {
   "cell_type": "markdown",
   "metadata": {},
   "source": [
    "**`M` &#8658; `M/0/1/2`** `(public-key child derivation)`"
   ]
  },
  {
   "cell_type": "code",
   "execution_count": null,
   "metadata": {},
   "outputs": [],
   "source": [
    "auto M_012 = M.derive_public(0).derive_public(1).derive_public(2);\n",
    "std::cout << M_012.encoded() << std::endl;\n"
   ]
  },
  {
   "cell_type": "markdown",
   "metadata": {},
   "source": [
    "**`m/0/1/2` &#8658; `M/0/1/2`** "
   ]
  },
  {
   "cell_type": "code",
   "execution_count": null,
   "metadata": {},
   "outputs": [],
   "source": [
    "auto M_012_ = m_012.to_public();\n",
    "std::cout <<(M_012 == M_012_) << std::endl;\n"
   ]
  },
  {
   "cell_type": "markdown",
   "metadata": {},
   "source": [
    "**Payment addresses from hd-keys**"
   ]
  },
  {
   "cell_type": "code",
   "execution_count": null,
   "metadata": {},
   "outputs": [],
   "source": [
    "bc::ec_compressed M_012_point(M_012);\n",
    "bc::wallet::ec_public M_012_public(M_012_point);\n",
    "auto M_012_public_address = M_012_public.to_payment_address(\n",
    "  bc::wallet::payment_address::testnet_p2kh);\n",
    "\n",
    "std::cout << M_012_public_address.encoded() << std::endl;\n"
   ]
  },
  {
   "cell_type": "markdown",
   "metadata": {},
   "source": [
    "### 2.2) Deriving hardened children hd keys."
   ]
  },
  {
   "cell_type": "markdown",
   "metadata": {},
   "source": [
    "**`m` &#8658; `m/44'`** "
   ]
  },
  {
   "cell_type": "code",
   "execution_count": null,
   "metadata": {},
   "outputs": [],
   "source": [
    "auto m_44h = m.derive_private(44 + bc::wallet::hd_first_hardened_key);\n",
    "std::cout << m_44h.encoded() << std::endl;\n"
   ]
  },
  {
   "cell_type": "markdown",
   "metadata": {},
   "source": [
    "**`m` &#8658; `m/44'` &#8658; `M/44'`** "
   ]
  },
  {
   "cell_type": "code",
   "execution_count": null,
   "metadata": {},
   "outputs": [],
   "source": [
    "auto M_44h = m.derive_private(44 + bc::wallet::hd_first_hardened_key).to_public();\n",
    "std::cout << M_44h.encoded() << std::endl;\n"
   ]
  },
  {
   "cell_type": "markdown",
   "metadata": {},
   "source": [
    "**`m/44'` &#8658; `m/44'/1'` &#8658; `M/44'/1'`** "
   ]
  },
  {
   "cell_type": "code",
   "execution_count": null,
   "metadata": {},
   "outputs": [],
   "source": [
    "auto M_44h_1h = m_44h.derive_private(1 + bc::wallet::hd_first_hardened_key).to_public();\n",
    "std::cout << M_44h_1h.encoded() << std::endl;\n"
   ]
  },
  {
   "cell_type": "markdown",
   "metadata": {},
   "source": [
    "**Try: `M/44'` &#8658; `M/44'/1'`**"
   ]
  },
  {
   "cell_type": "code",
   "execution_count": null,
   "metadata": {},
   "outputs": [],
   "source": [
    "auto M_44h_1h_ = M_44h.derive_public(1 + bc::wallet::hd_first_hardened_key);\n",
    "std::cout << M_44h_1h_.encoded() << std::endl;\n"
   ]
  }
 ],
 "metadata": {
  "kernelspec": {
   "display_name": "C++11",
   "language": "C++11",
   "name": "xeus-cling-cpp11"
  },
  "language_info": {
   "codemirror_mode": "text/x-c++src",
   "file_extension": ".cpp",
   "mimetype": "text/x-c++src",
   "name": "c++",
   "version": "-std=c++11"
  }
 },
 "nbformat": 4,
 "nbformat_minor": 2
}
