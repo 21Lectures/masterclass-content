{
 "cells": [
  {
   "cell_type": "markdown",
   "metadata": {},
   "source": [
    "# Mnemonics & HD Wallets - BX Exercise\n",
    "\n",
    "<hr style=\"border: 0.5px dashed #000;\">\n",
    "\n",
    "## 1. Generate a mnemonic word list from 128 bits of entropy.\n",
    "* Language of your choosing."
   ]
  },
  {
   "cell_type": "code",
   "execution_count": 1,
   "metadata": {},
   "outputs": [
    {
     "name": "stdout",
     "output_type": "stream",
     "text": [
      "778a214c3dd83dd0a11e3166014e90aeb58fd20dcec52a6e2307672bb1295ec8\n"
     ]
    }
   ],
   "source": [
    "bx seed --bit_length 256"
   ]
  },
  {
   "cell_type": "markdown",
   "metadata": {},
   "source": [
    "## 2. Create the HD private master key from a mnemonic word list.\n",
    "\n",
    "Mnemonic word list:\n",
    "\n",
    "* Backed-up word list: `むける りりく あんぜん ひろい よかぜ いっぽう でぬかえ むいか うんてん げいのうじん ひほう きぞく`\n",
    "* No optional passphrase\n",
    "* Network: `mainnet` \n",
    "    * Extended private key version(s): `0x0488ade4(hex)`/`76066276(decimal)`"
   ]
  },
  {
   "cell_type": "code",
   "execution_count": 3,
   "metadata": {},
   "outputs": [
    {
     "name": "stdout",
     "output_type": "stream",
     "text": [
      "jealous extra fantasy knife long tribe love shiver gravity apology picnic frost flight trouble damp suffer clerk illegal scrub soft roast net kite broccoli\n"
     ]
    }
   ],
   "source": [
    "bx mnemonic-new 778a214c3dd83dd0a11e3166014e90aeb58fd20dcec52a6e2307672bb1295ec8\n",
    "\n",
    "\n"
   ]
  },
  {
   "cell_type": "markdown",
   "metadata": {},
   "source": [
    "## 3. Derive the following keys/addresses from this BIP44 HD wallet.\n",
    "\n",
    "Use the following hd-wallet root seed:\n",
    "\n",
    "* 256 bit secret: `4cf6ddad059363da4298cf4fffda5c1069a6e0ccbfd2a1e97f7a13403cfc39a0`\n",
    "\n",
    "Network version prefixes:\n",
    "* Mainnet:\n",
    "    * Extended private key version(s): `0x0488ADE4(hex)`/`76066276(decimal)`\n",
    "    * Extended public key version(s): `0x0488B21E(hex)`/`76067358(decimal)`\n",
    "<br><br>\n",
    "* Testnet:\n",
    "    * Extended private key version(s): `0x04358394(hex)`/`70615956(decimal)`\n",
    "    * Extended public key version(s): `0x043587CF(hex)`/`70617039(decimal)`"
   ]
  },
  {
   "cell_type": "markdown",
   "metadata": {},
   "source": [
    "### A. Extended hd private key `m/44'/1'/2'/1/1`"
   ]
  },
  {
   "cell_type": "code",
   "execution_count": 7,
   "metadata": {},
   "outputs": [
    {
     "name": "stdout",
     "output_type": "stream",
     "text": [
      "tprv8jknYvRWdj87hqsz29PkR9GozwcseA147wJbqjW5ShBoMXPEtqhe6LNEZDdZf5zrZA4JgQq1SfyowFF2gJP74e4vAjTHdahYbdwSzKYGxaj\n"
     ]
    }
   ],
   "source": [
    "bx hd-new b7188b58f581621725b1685e6a8fb5c536469b0893c52846753df856ef561ed18173f4d4e4f7aab96cd8b588b0894eaea702db7fff19e2ac06ec78ad1aaf8443 \\\n",
    "| bx hd-private --hard --index 44 \\\n",
    "| bx hd-private --hard --index 1 \\\n",
    "| bx hd-private --hard --index 2 \\\n",
    "| bx hd-private --index 1 \\\n",
    "| bx hd-private --index 1\n",
    "\n"
   ]
  },
  {
   "cell_type": "markdown",
   "metadata": {},
   "source": [
    "### B. Private key `/44'/1'/0'/1/2`"
   ]
  },
  {
   "cell_type": "code",
   "execution_count": 8,
   "metadata": {},
   "outputs": [
    {
     "name": "stdout",
     "output_type": "stream",
     "text": [
      "tprv8jknYvRWdj87kts2Ez66CsqTJFFN8rUeTtRp8t4ushdcRvS8hivDoPqYRaSDasv4S9fxJkhpDcjjH8NSuR2wRsMbUmYjQ4v2xp9xCJM1X2i\n"
     ]
    }
   ],
   "source": [
    "bx hd-new b7188b58f581621725b1685e6a8fb5c536469b0893c52846753df856ef561ed18173f4d4e4f7aab96cd8b588b0894eaea702db7fff19e2ac06ec78ad1aaf8443 \\\n",
    "| bx hd-private --hard --index 44 \\\n",
    "| bx hd-private --hard --index 1 \\\n",
    "| bx hd-private --hard --index 2 \\\n",
    "| bx hd-private --index 1 \\\n",
    "| bx hd-private --index 2\n",
    "\n",
    "\n"
   ]
  },
  {
   "cell_type": "markdown",
   "metadata": {},
   "source": [
    "### C. Public key point `/44'/0'/0'/10/12`"
   ]
  },
  {
   "cell_type": "code",
   "execution_count": 10,
   "metadata": {},
   "outputs": [
    {
     "name": "stdout",
     "output_type": "stream",
     "text": [
      "7dfc88e4899e484f499cbd6af53ed2bd0f6e5a67371114ac6ab4545ae096b902\n"
     ]
    }
   ],
   "source": [
    "bx hd-new b7188b58f581621725b1685e6a8fb5c536469b0893c52846753df856ef561ed18173f4d4e4f7aab96cd8b588b0894eaea702db7fff19e2ac06ec78ad1aaf8443 \\\n",
    "| bx hd-private --hard --index 44 \\\n",
    "| bx hd-private --hard --index 0 \\\n",
    "| bx hd-private --hard --index 0 \\\n",
    "| bx hd-private --index 10 \\\n",
    "| bx hd-private --index 12 \\\n",
    "| bx hd-to-ec\n",
    "\n",
    "\n"
   ]
  },
  {
   "cell_type": "markdown",
   "metadata": {},
   "source": [
    "### D. Address `/44'/0'/0'/1/2`"
   ]
  },
  {
   "cell_type": "code",
   "execution_count": null,
   "metadata": {},
   "outputs": [],
   "source": [
    "# Note: network prefix is lost in hd-to-public, must be supplied to ec-to-address command.\n",
    "bx hd-new b7188b58f581621725b1685e6a8fb5c536469b0893c52846753df856ef561ed18173f4d4e4f7aab96cd8b588b0894eaea702db7fff19e2ac06ec78ad1aaf8443 \\\n",
    "| bx hd-private --hard --index 44 \\\n",
    "| bx hd-private --hard --index 0 \\\n",
    "| bx hd-private --hard --index 0 \\\n",
    "| bx hd-private --index 1 \\\n",
    "| bx hd-private --index 2 \\\n",
    "| bx hd-to-ec \\\n",
    "| bx ec-to-address --version 111\n",
    "\n",
    "\n",
    "\n",
    "\n",
    "\n"
   ]
  },
  {
   "cell_type": "markdown",
   "metadata": {},
   "source": [
    "### E. Derive the fifth change address from 2nd mainnet wallet account (BIP44)."
   ]
  },
  {
   "cell_type": "markdown",
   "metadata": {},
   "source": [
    "**First derive `M/44'/0'/1'`**"
   ]
  },
  {
   "cell_type": "code",
   "execution_count": null,
   "metadata": {},
   "outputs": [],
   "source": [
    "\n"
   ]
  },
  {
   "cell_type": "markdown",
   "metadata": {},
   "source": [
    "**Now derive the fifth mainnet change address from extended public key `M/44'/0'/1'`**"
   ]
  },
  {
   "cell_type": "code",
   "execution_count": null,
   "metadata": {},
   "outputs": [],
   "source": [
    "\n"
   ]
  }
 ],
 "metadata": {
  "kernelspec": {
   "display_name": "Bash",
   "language": "bash",
   "name": "bash"
  },
  "language_info": {
   "codemirror_mode": "shell",
   "file_extension": ".sh",
   "mimetype": "text/x-sh",
   "name": "bash"
  }
 },
 "nbformat": 4,
 "nbformat_minor": 2
}
