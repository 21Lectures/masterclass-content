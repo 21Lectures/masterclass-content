{
 "cells": [
  {
   "cell_type": "markdown",
   "metadata": {},
   "source": [
    "# Mnemonics & HD Wallets - BX Exercise\n",
    "\n",
    "<hr style=\"border: 0.5px dashed #000;\">\n",
    "\n",
    "## 1. Generate a mnemonic word list from 128 bits of entropy.\n",
    "* Language of your choosing."
   ]
  },
  {
   "cell_type": "code",
   "execution_count": 3,
   "metadata": {},
   "outputs": [
    {
     "name": "stdout",
     "output_type": "stream",
     "text": [
      "いもうと きまる くさる そいね さかいし たぬき ねふだ きこう すてき うちゅう こんぽん こしつ\n"
     ]
    }
   ],
   "source": [
    "bx seed --bit_length 128 | bx mnemonic-new --language ja\n"
   ]
  },
  {
   "cell_type": "markdown",
   "metadata": {},
   "source": [
    "## 2. Create the HD private master key from a mnemonic word list.\n",
    "\n",
    "Mnemonic word list:\n",
    "\n",
    "* Backed-up word list: `むける りりく あんぜん ひろい よかぜ いっぽう でぬかえ むいか うんてん げいのうじん ひほう きぞく`\n",
    "* No optional passphrase\n",
    "* Network: `mainnet` \n",
    "    * Extended private key version(s): `0x0488ade4(hex)`/`76066276(decimal)`"
   ]
  },
  {
   "cell_type": "code",
   "execution_count": 2,
   "metadata": {},
   "outputs": [
    {
     "name": "stdout",
     "output_type": "stream",
     "text": [
      "xprv9s21ZrQH143K2dR2eS8RpTFFB64vUqGfZmht1X61mUu3nRuNW6LPb6KZaKhjBeGu3baugzhiaSZgbrW5XL8T6v7XMSSa3vPHsdphkhREHYd\n"
     ]
    }
   ],
   "source": [
    "bx mnemonic-to-seed --language ja むける りりく あんぜん ひろい よかぜ いっぽう でぬかえ むいか うんてん げいのうじん ひほう きぞく \\\n",
    "| bx hd-new --version 76066276\n"
   ]
  },
  {
   "cell_type": "markdown",
   "metadata": {},
   "source": [
    "## 3. Derive the following keys/addresses from this BIP44 HD wallet.\n",
    "\n",
    "Use the following hd-wallet root seed:\n",
    "\n",
    "* 256 bit secret: `4cf6ddad059363da4298cf4fffda5c1069a6e0ccbfd2a1e97f7a13403cfc39a0`\n",
    "\n",
    "Network version prefixes:\n",
    "* Mainnet:\n",
    "    * Extended private key version(s): `0x0488ADE4(hex)`/`76066276(decimal)`\n",
    "    * Extended public key version(s): `0x0488B21E(hex)`/`76067358(decimal)`\n",
    "<br><br>\n",
    "* Testnet:\n",
    "    * Extended private key version(s): `0x04358394(hex)`/`70615956(decimal)`\n",
    "    * Extended public key version(s): `0x043587CF(hex)`/`70617039(decimal)`"
   ]
  },
  {
   "cell_type": "markdown",
   "metadata": {},
   "source": [
    "### A. Extended hd private key `m/44'/1'/2'/1/1`"
   ]
  },
  {
   "cell_type": "code",
   "execution_count": 42,
   "metadata": {},
   "outputs": [
    {
     "name": "stdout",
     "output_type": "stream",
     "text": [
      "tprv8kLppmWSxjbLeEKqUoJYC1VZVE1WMJbCKzparWBBWETjcbzAu5QcXJH7cUu3a7xCcy4zQa5MjtbaLNDXXPFyveJxnkqfK78BajHjwbsacbL\n"
     ]
    }
   ],
   "source": [
    "bx hd-new --version 70615956 4cf6ddad059363da4298cf4fffda5c1069a6e0ccbfd2a1e97f7a13403cfc39a0 \\\n",
    "| bx hd-private --hard --index 44 \\\n",
    "| bx hd-private --hard --index 1  \\\n",
    "| bx hd-private --hard --index 2  \\\n",
    "| bx hd-private --index 1 \\\n",
    "| bx hd-private --index 1  \n"
   ]
  },
  {
   "cell_type": "markdown",
   "metadata": {},
   "source": [
    "### B. Private key `/44'/1'/0'/1/2`"
   ]
  },
  {
   "cell_type": "code",
   "execution_count": 51,
   "metadata": {},
   "outputs": [
    {
     "name": "stdout",
     "output_type": "stream",
     "text": [
      "0285ed01026e747adc8738f8bd4fb420ddbfe0af140a7792cac395967c1905881d\n"
     ]
    }
   ],
   "source": [
    "bx hd-new --version 70615956 4cf6ddad059363da4298cf4fffda5c1069a6e0ccbfd2a1e97f7a13403cfc39a0 \\\n",
    "| bx hd-private --hard --index 44 \\\n",
    "| bx hd-private --hard --index 1  \\\n",
    "| bx hd-private --hard --index 0  \\\n",
    "| bx hd-private --index 1 \\\n",
    "| bx hd-private --index 2 \\\n",
    "| bx hd-to-public | bx hd-to-ec\n"
   ]
  },
  {
   "cell_type": "markdown",
   "metadata": {},
   "source": [
    "### C. Public key point `/44'/0'/0'/10/12`"
   ]
  },
  {
   "cell_type": "code",
   "execution_count": 52,
   "metadata": {},
   "outputs": [
    {
     "name": "stdout",
     "output_type": "stream",
     "text": [
      "03674ddcd92bc1e34f1b91ecd093594f129246af18a83247daeec5158183da7bd6\n"
     ]
    }
   ],
   "source": [
    "bx hd-new --version 76066276 4cf6ddad059363da4298cf4fffda5c1069a6e0ccbfd2a1e97f7a13403cfc39a0 \\\n",
    "| bx hd-private --hard --index 44 \\\n",
    "| bx hd-private --hard --index 1  \\\n",
    "| bx hd-private --hard --index 0  \\\n",
    "| bx hd-private --index 10 \\\n",
    "| bx hd-private --index 12 \\\n",
    "| bx hd-to-public | bx hd-to-ec \n"
   ]
  },
  {
   "cell_type": "markdown",
   "metadata": {},
   "source": [
    "### D. Address `/44'/0'/0'/1/2`"
   ]
  },
  {
   "cell_type": "code",
   "execution_count": 57,
   "metadata": {},
   "outputs": [
    {
     "name": "stdout",
     "output_type": "stream",
     "text": [
      "1JVZ6cgdDFV7LucUieNdekJPJTZNtsyGsA\n"
     ]
    }
   ],
   "source": [
    "bx hd-new --version 76066276 4cf6ddad059363da4298cf4fffda5c1069a6e0ccbfd2a1e97f7a13403cfc39a0 \\\n",
    "| bx hd-private --hard --index 44 \\\n",
    "| bx hd-private --hard --index 0  \\\n",
    "| bx hd-private --hard --index 0  \\\n",
    "| bx hd-private --index 1 \\\n",
    "| bx hd-private --index 2 \\\n",
    "| bx hd-to-public | bx hd-to-ec | bx ec-to-address --version 0\n",
    "\n",
    "# network prefix is lost in hd-to-public, must be supplied to ec-to-address command."
   ]
  },
  {
   "cell_type": "markdown",
   "metadata": {},
   "source": [
    "### E. Derive the fifth change address from 2nd mainnet wallet account (BIP44)."
   ]
  },
  {
   "cell_type": "markdown",
   "metadata": {},
   "source": [
    "**First derive `M/44'/0'/1'`**"
   ]
  },
  {
   "cell_type": "code",
   "execution_count": 72,
   "metadata": {},
   "outputs": [
    {
     "name": "stdout",
     "output_type": "stream",
     "text": [
      "tpubDCDQqVGfTEJDZUKQuEPN5jrLhBam7gCWF31EGUUi5VmPuC982HuLYGdgkgLMwvd2xrx1vmPgBrnSzPNCguSMmUV2B8ioaHnSwezng9Ya7EA\n"
     ]
    }
   ],
   "source": [
    "bx hd-new --version 76066276 4cf6ddad059363da4298cf4fffda5c1069a6e0ccbfd2a1e97f7a13403cfc39a0 \\\n",
    "| bx hd-private --hard --index 44 \\\n",
    "| bx hd-private --hard --index 0  \\\n",
    "| bx hd-private --hard --index 1  \\\n",
    "| bx hd-to-public"
   ]
  },
  {
   "cell_type": "markdown",
   "metadata": {},
   "source": [
    "**Now derive the fifth mainnet change address from extended public key `M/44'/0'/1'`**"
   ]
  },
  {
   "cell_type": "code",
   "execution_count": 71,
   "metadata": {},
   "outputs": [
    {
     "name": "stdout",
     "output_type": "stream",
     "text": [
      "1FFicSKoahFRe9JZ8MiHAz2TEASKLYRexU\n"
     ]
    }
   ],
   "source": [
    "bx hd-public --index 1 tpubDCDQqVGfTEJDZUKQuEPN5jrLhBam7gCWF31EGUUi5VmPuC982HuLYGdgkgLMwvd2xrx1vmPgBrnSzPNCguSMmUV2B8ioaHnSwezng9Ya7EA \\\n",
    "| bx hd-public --index 4 \\\n",
    "| bx hd-to-ec | bx ec-to-address --version 0\n"
   ]
  }
 ],
 "metadata": {
  "kernelspec": {
   "display_name": "Bash",
   "language": "bash",
   "name": "bash"
  },
  "language_info": {
   "codemirror_mode": "shell",
   "file_extension": ".sh",
   "mimetype": "text/x-sh",
   "name": "bash"
  }
 },
 "nbformat": 4,
 "nbformat_minor": 2
}
