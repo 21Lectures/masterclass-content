{
 "cells": [
  {
   "cell_type": "markdown",
   "metadata": {},
   "source": [
    "# Basic Wallet - Examples with Libbitcoin BX\n",
    "In this example, demonstrate setting up basic Bitcoin addresses and wallets.\n",
    "<br>\n",
    "<hr style=\"border: 0.5px dashed #000;\">\n",
    "\n",
    "# 1. P2PKH Addresses\n",
    "<img src=\"images/address_from_pubkey.jpg\" alt=\"drawing\" style=\"\" width=\"700px\"/>\n",
    "\n",
    "Libbitcoin BX provides the following commands to derive Bitcoin P2PKH Addresses\n",
    "* `bx sha256`\n",
    "* `bx ripemid160`\n",
    "* `bx base58-encode`"
   ]
  },
  {
   "cell_type": "markdown",
   "metadata": {},
   "source": [
    "## A. Generate a private key and its two public key points (compressed/uncompressed)"
   ]
  },
  {
   "cell_type": "code",
   "execution_count": 1,
   "metadata": {},
   "outputs": [
    {
     "name": "stdout",
     "output_type": "stream",
     "text": [
      "9bae3ff4459544801e1a403702b9adcc0860461566cd936b26dee5c8a793a882\n"
     ]
    }
   ],
   "source": [
    "bx seed --bit_length 512 | bx ec-new \n"
   ]
  },
  {
   "cell_type": "code",
   "execution_count": 2,
   "metadata": {},
   "outputs": [
    {
     "name": "stdout",
     "output_type": "stream",
     "text": [
      "03dedef661bd1baeb04c025370e80f6f4c874186fc3d6db0d3eaef0425f198988b\n",
      "04dedef661bd1baeb04c025370e80f6f4c874186fc3d6db0d3eaef0425f198988bb6f9086a41a0d78e32879a607f077d23ba1cf75002d0e4fe173f077c5365c711\n"
     ]
    }
   ],
   "source": [
    "bx ec-to-public 75b0471cb0aaf0675dc15725f32b132f0749f2bacf331ac69d099fc5e8926f58 \\\n",
    "&& bx ec-to-public --uncompressed 75b0471cb0aaf0675dc15725f32b132f0749f2bacf331ac69d099fc5e8926f58\n"
   ]
  },
  {
   "cell_type": "markdown",
   "metadata": {},
   "source": [
    "## B. Generate the bitcoin short hash digest \n",
    "<br>\n",
    "<img src=\"images/address_from_pubkey_hash160.jpg\" alt=\"drawing\" style=\"\" width=\"800px\"/>\n",
    "<br>\n",
    "\n",
    "Libbitcoin BX command:\n",
    "\n",
    "* **`bitcoin short hash` or `hash160`**: `bx sha256 [data] | bx ripemd160`"
   ]
  },
  {
   "cell_type": "markdown",
   "metadata": {},
   "source": [
    "***From compressed public key:***"
   ]
  },
  {
   "cell_type": "code",
   "execution_count": 2,
   "metadata": {},
   "outputs": [
    {
     "name": "stdout",
     "output_type": "stream",
     "text": [
      "f76cbab3a2a0272e9373d213f66370b1f7596735\n"
     ]
    }
   ],
   "source": [
    "# bx sha256 [compressed public key] | bx ripemd160\n",
    "bx sha256 02584b503f051e3e346efd2ef6b781f039d29c8bbf80b32d5f917cf0ce6baf8c14 | bx ripemd160\n"
   ]
  },
  {
   "cell_type": "markdown",
   "metadata": {},
   "source": [
    "***From uncompressed public key:***"
   ]
  },
  {
   "cell_type": "code",
   "execution_count": 4,
   "metadata": {},
   "outputs": [
    {
     "name": "stdout",
     "output_type": "stream",
     "text": [
      "50b33277696c16a651bbd5eba58adccf23325be8\n"
     ]
    }
   ],
   "source": [
    "# bx sha256 [uncompressed public key] | bx ripemd160\n",
    "bx sha256 04584b503f051e3e346efd2ef6b781f039d29c8bbf80b32d5f917cf0ce6baf8c143f444c02031e45be71ae15d12c684438ddd4038dd7e3d47eb549fe691f101c8a | bx ripemd160\n"
   ]
  },
  {
   "cell_type": "markdown",
   "metadata": {},
   "source": [
    "## C. Generate the bitcoin hash checksum\n",
    "<br>\n",
    "<img src=\"images/address_from_pubkey_checksum.jpg\" alt=\"drawing\" style=\"\" width=\"800px\"/>\n",
    "<br>\n",
    "Libbitcoin BX command:\n",
    "\n",
    "* **`bitcoin hash`**: `bx sha256 [data] | bx sha256`"
   ]
  },
  {
   "cell_type": "markdown",
   "metadata": {},
   "source": [
    "### Checksum from the compressed public key"
   ]
  },
  {
   "cell_type": "markdown",
   "metadata": {},
   "source": [
    "***Mainnet Version `0x00`***"
   ]
  },
  {
   "cell_type": "code",
   "execution_count": 3,
   "metadata": {},
   "outputs": [
    {
     "name": "stdout",
     "output_type": "stream",
     "text": [
      "be3df7bb087c89f7c7f1e85c1ec4461632f80ad3f4e15154355cb88edefa8f4f\n"
     ]
    }
   ],
   "source": [
    "# bx sha256 [00][bitcoin short hash digest (from comp. public key)] | bx sha256\n",
    "# Checksum is first 4 bytes of result\n",
    "bx sha256 00f76cbab3a2a0272e9373d213f66370b1f7596735 | bx sha256\n"
   ]
  },
  {
   "cell_type": "markdown",
   "metadata": {},
   "source": [
    "***Testnet Version `0x6f`***"
   ]
  },
  {
   "cell_type": "code",
   "execution_count": 6,
   "metadata": {},
   "outputs": [
    {
     "name": "stdout",
     "output_type": "stream",
     "text": [
      "4fa24fa7561b60809730f3929fe08660469b839f8d5ae2a2507e7495eed1c649\n"
     ]
    }
   ],
   "source": [
    "# bx sha256 [6f][bitcoin short hash digest (from comp. public key)] | bx sha256\n",
    "# Checksum is first 4 bytes of result\n",
    "bx sha256 6ff76cbab3a2a0272e9373d213f66370b1f7596735 | bx sha256\n"
   ]
  },
  {
   "cell_type": "markdown",
   "metadata": {},
   "source": [
    "### Checksum from the uncompressed public key"
   ]
  },
  {
   "cell_type": "markdown",
   "metadata": {},
   "source": [
    "***Mainnet Version `0x00`***"
   ]
  },
  {
   "cell_type": "code",
   "execution_count": 7,
   "metadata": {},
   "outputs": [
    {
     "name": "stdout",
     "output_type": "stream",
     "text": [
      "b21100687fa3965cfa44c1c43b4b615211eebc22c3f597dd79cbd8d2d6b18b0b\n"
     ]
    }
   ],
   "source": [
    "# bx sha256 [6f][bitcoin short hash digest (from comp. public key)] | bx sha256\n",
    "# Checksum is first 4 bytes of result\n",
    "bx sha256 0050b33277696c16a651bbd5eba58adccf23325be8 | bx sha256\n"
   ]
  },
  {
   "cell_type": "markdown",
   "metadata": {},
   "source": [
    "***Testnet Version `0x6f`***"
   ]
  },
  {
   "cell_type": "code",
   "execution_count": 19,
   "metadata": {},
   "outputs": [
    {
     "name": "stdout",
     "output_type": "stream",
     "text": [
      "8f250fd612047010de2705e8aa911f91e842d3a0435f3b621a307402777cc019\n"
     ]
    }
   ],
   "source": [
    "# bx sha256 [6f][bitcoin short hash digest (from comp. public key)] | bx sha256\n",
    "# Checksum is first 4 bytes of result\n",
    "bx sha256 6f50b33277696c16a651bbd5eba58adccf23325be8 | bx sha256\n"
   ]
  },
  {
   "cell_type": "markdown",
   "metadata": {},
   "source": [
    "## D. Base58 encode version, short hash digest and checksum\n",
    "<br>\n",
    "<img src=\"images/address_from_pubkey_base58.jpg\" alt=\"drawing\" style=\"\" width=\"800px\"/>\n",
    "<br>\n",
    "Libbitcoin BX command:\n",
    "\n",
    "* **`base58 encoding`**: `bx base58-encode [data]`\n",
    "* Compare resulting address with `bx ec-to-address --version 0 [public key]`"
   ]
  },
  {
   "cell_type": "markdown",
   "metadata": {},
   "source": [
    "### Addresses from the compressed public key\n"
   ]
  },
  {
   "cell_type": "markdown",
   "metadata": {},
   "source": [
    "***Mainnet Address***\n",
    "* Version: `0x00(hex)` or `0(decimal)`"
   ]
  },
  {
   "cell_type": "code",
   "execution_count": 17,
   "metadata": {},
   "outputs": [
    {
     "name": "stdout",
     "output_type": "stream",
     "text": [
      "1PZGA2YMv1mUaFndJzGxSLr7SntnHB3Uw4\n"
     ]
    }
   ],
   "source": [
    "# bx base58encode [00][bitcoin short hash digest (from compressed key)][checksum]\n",
    "bx base58-encode 00f76cbab3a2a0272e9373d213f66370b1f7596735be3df7bb\n"
   ]
  },
  {
   "cell_type": "code",
   "execution_count": 9,
   "metadata": {},
   "outputs": [
    {
     "name": "stdout",
     "output_type": "stream",
     "text": [
      "1PZGA2YMv1mUaFndJzGxSLr7SntnHB3Uw4\n"
     ]
    }
   ],
   "source": [
    "# bx ec-to-address --version 0 [compressed public key]\n",
    "bx ec-to-address --version 0 02584b503f051e3e346efd2ef6b781f039d29c8bbf80b32d5f917cf0ce6baf8c14\n"
   ]
  },
  {
   "cell_type": "markdown",
   "metadata": {},
   "source": [
    "***Testnet Address***\n",
    "* Version: `0x6f(hex)` or `111(decimal)`"
   ]
  },
  {
   "cell_type": "code",
   "execution_count": 22,
   "metadata": {},
   "outputs": [
    {
     "name": "stdout",
     "output_type": "stream",
     "text": [
      "n45DT5dLj3CjMNGF2ZFLGG4SJnVV9Lp2cE\n"
     ]
    }
   ],
   "source": [
    "# bx base58encode [6f][bitcoin short hash digest (from compressed key)][checksum]\n",
    "bx base58-encode 6ff76cbab3a2a0272e9373d213f66370b1f75967354fa24fa7\n"
   ]
  },
  {
   "cell_type": "code",
   "execution_count": 23,
   "metadata": {
    "scrolled": true
   },
   "outputs": [
    {
     "name": "stdout",
     "output_type": "stream",
     "text": [
      "n45DT5dLj3CjMNGF2ZFLGG4SJnVV9Lp2cE\n"
     ]
    }
   ],
   "source": [
    "# bx ec-to-address --version 111 [compressed public key]\n",
    "bx ec-to-address --version 111 02584b503f051e3e346efd2ef6b781f039d29c8bbf80b32d5f917cf0ce6baf8c14\n"
   ]
  },
  {
   "cell_type": "markdown",
   "metadata": {},
   "source": [
    "### Addresses from the uncompressed public key\n"
   ]
  },
  {
   "cell_type": "markdown",
   "metadata": {},
   "source": [
    "***Mainnet Address***\n",
    "* Version: `0x00(hex)` or `0(decimal)`"
   ]
  },
  {
   "cell_type": "code",
   "execution_count": 13,
   "metadata": {},
   "outputs": [
    {
     "name": "stdout",
     "output_type": "stream",
     "text": [
      "18MhjBXydChPR7H1nKzMGCLMR6vwJQ3tXH\n"
     ]
    }
   ],
   "source": [
    "# bx base58encode [00][bitcoin short hash digest (from uncompressed key)][checksum]\n",
    "bx base58-encode 0050b33277696c16a651bbd5eba58adccf23325be8b2110068\n"
   ]
  },
  {
   "cell_type": "code",
   "execution_count": 14,
   "metadata": {},
   "outputs": [
    {
     "name": "stdout",
     "output_type": "stream",
     "text": [
      "18MhjBXydChPR7H1nKzMGCLMR6vwJQ3tXH\n"
     ]
    }
   ],
   "source": [
    "# bx ec-to-address --version 0 [uncompressed public key]\n",
    "bx ec-to-address --version 0 04584b503f051e3e346efd2ef6b781f039d29c8bbf80b32d5f917cf0ce6baf8c143f444c02031e45be71ae15d12c684438ddd4038dd7e3d47eb549fe691f101c8a\n"
   ]
  },
  {
   "cell_type": "markdown",
   "metadata": {},
   "source": [
    "***Testnet Address***\n",
    "* Version: `0x6f(hex)` or `111(decimal)`"
   ]
  },
  {
   "cell_type": "code",
   "execution_count": 15,
   "metadata": {},
   "outputs": [
    {
     "name": "stdout",
     "output_type": "stream",
     "text": [
      "mnsf2EcxSE8eCDkdVtxj67YgH6XeCW2XaD\n"
     ]
    }
   ],
   "source": [
    "# bx base58encode [6f][bitcoin short hash digest (from uncompressed key)][checksum]\n",
    "bx base58-encode 6f50b33277696c16a651bbd5eba58adccf23325be88f250fd6\n"
   ]
  },
  {
   "cell_type": "code",
   "execution_count": 16,
   "metadata": {
    "scrolled": true
   },
   "outputs": [
    {
     "name": "stdout",
     "output_type": "stream",
     "text": [
      "mnsf2EcxSE8eCDkdVtxj67YgH6XeCW2XaD\n"
     ]
    }
   ],
   "source": [
    "# bx ec-to-address --version 111 [uncompressed public key]\n",
    "bx ec-to-address --version 111 04584b503f051e3e346efd2ef6b781f039d29c8bbf80b32d5f917cf0ce6baf8c143f444c02031e45be71ae15d12c684438ddd4038dd7e3d47eb549fe691f101c8a\n"
   ]
  },
  {
   "cell_type": "markdown",
   "metadata": {},
   "source": [
    "# 2. Wallet Import Format\n",
    "<img src=\"images/private_key_wif.jpg\" alt=\"drawing\" style=\"\" width=\"700px\"/>\n",
    "\n",
    "\n",
    "<br>\n",
    "The WIF private key format provides the wallet with information on the address which was used with the specific private key.\n",
    "\n",
    "We encode the WIF for the following private key:\n",
    "* Private key: `46e3e283aee9f29574e5aa4e599c6c1e66aed09d7d613b1485f54396893dd2fb`\n",
    "* Public key: `compressed`\n",
    "* Network: `testnet (0xef/239)`"
   ]
  },
  {
   "cell_type": "markdown",
   "metadata": {},
   "source": [
    "## A. Generate the bitcoin hash checksum\n"
   ]
  },
  {
   "cell_type": "code",
   "execution_count": 10,
   "metadata": {},
   "outputs": [
    {
     "name": "stdout",
     "output_type": "stream",
     "text": [
      "ad5b7cd3545cc69515160378e2c950a5a5101038341f1dcc38c2ecdc6d2536f1\n"
     ]
    }
   ],
   "source": [
    "# bx sha256 [ef][private key][01] | bx sha256\n",
    "# Checksum is first 4 bytes of result\n",
    "bx sha256 ef46e3e283aee9f29574e5aa4e599c6c1e66aed09d7d613b1485f54396893dd2fb01 | bx sha256\n"
   ]
  },
  {
   "cell_type": "markdown",
   "metadata": {},
   "source": [
    "## B. Base58 encode the WIF\n"
   ]
  },
  {
   "cell_type": "code",
   "execution_count": 11,
   "metadata": {},
   "outputs": [
    {
     "name": "stdout",
     "output_type": "stream",
     "text": [
      "cPxW7w3WmgJAw9mLt6qJ4xPXja2A3Yz2chCPVu68bf9MRnUkKxeN\n"
     ]
    }
   ],
   "source": [
    "# bx base58-encode [ef][private key][01][checksum] | bx sha256\n",
    "# Checksum is first 4 bytes of result\n",
    "bx base58-encode ef46e3e283aee9f29574e5aa4e599c6c1e66aed09d7d613b1485f54396893dd2fb01ad5b7cd3\n"
   ]
  },
  {
   "cell_type": "markdown",
   "metadata": {},
   "source": [
    "**Compare with `bx ec-to-wif` command**"
   ]
  },
  {
   "cell_type": "code",
   "execution_count": 12,
   "metadata": {},
   "outputs": [
    {
     "name": "stdout",
     "output_type": "stream",
     "text": [
      "cPxW7w3WmgJAw9mLt6qJ4xPXja2A3Yz2chCPVu68bf9MRnUkKxeN\n"
     ]
    }
   ],
   "source": [
    "# bx ec-to-wif --version 239\n",
    "bx ec-to-wif --version 239 46e3e283aee9f29574e5aa4e599c6c1e66aed09d7d613b1485f54396893dd2fb\n"
   ]
  }
 ],
 "metadata": {
  "kernelspec": {
   "display_name": "Bash",
   "language": "bash",
   "name": "bash"
  },
  "language_info": {
   "codemirror_mode": "shell",
   "file_extension": ".sh",
   "mimetype": "text/x-sh",
   "name": "bash"
  }
 },
 "nbformat": 4,
 "nbformat_minor": 2
}
