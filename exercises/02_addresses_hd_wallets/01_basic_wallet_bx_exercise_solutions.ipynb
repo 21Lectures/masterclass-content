{
 "cells": [
  {
   "cell_type": "markdown",
   "metadata": {},
   "source": [
    "# Basic Wallet - Exercises with Libbitcoin BX\n",
    "\n",
    "<hr style=\"border: 0.5px dashed #000;\">\n",
    "\n",
    "## 1. Derive a P2PKH Address\n",
    "\n",
    "<img src=\"images/address_from_pubkey_exercise.jpg\" alt=\"drawing\" style=\"\" width=\"700px\"/>\n",
    "\n",
    "Derive the mainnet address from the compressed public key.\n",
    "* Wallet private key: `46e3e283aee9f29574e5aa4e599c6c1e66aed09d7d613b1485f54396893dd2fb`\n"
   ]
  },
  {
   "cell_type": "code",
   "execution_count": 2,
   "metadata": {},
   "outputs": [
    {
     "name": "stdout",
     "output_type": "stream",
     "text": [
      "39930b2a1157983acff87ed9edc25f078d61bf73\n"
     ]
    }
   ],
   "source": [
    "# bitcoin short hash of compressed public key\n",
    "bx ec-to-public 46e3e283aee9f29574e5aa4e599c6c1e66aed09d7d613b1485f54396893dd2fb | bx sha256 | bx ripemd160\n"
   ]
  },
  {
   "cell_type": "code",
   "execution_count": 3,
   "metadata": {},
   "outputs": [
    {
     "name": "stdout",
     "output_type": "stream",
     "text": [
      "2b83758ee5209196861b523cb52b9176fccff3aaecccf6ae03510f33d47cada0\n"
     ]
    }
   ],
   "source": [
    "# checksum from bitcoin hash([00][hash160 digest])\n",
    "bx sha256 0039930b2a1157983acff87ed9edc25f078d61bf73 | bx sha256\n"
   ]
  },
  {
   "cell_type": "code",
   "execution_count": 4,
   "metadata": {},
   "outputs": [
    {
     "name": "stdout",
     "output_type": "stream",
     "text": [
      "16FRfhod3Bdow8GZ6UFWcxrYeL1GsVHr7F\n"
     ]
    }
   ],
   "source": [
    "# base58 encode [00][hash160 digest][checksum]\n",
    "bx base58-encode 0039930b2a1157983acff87ed9edc25f078d61bf732b83758e\n"
   ]
  },
  {
   "cell_type": "markdown",
   "metadata": {},
   "source": [
    "### Derive same address with `ec-to-address` command"
   ]
  },
  {
   "cell_type": "code",
   "execution_count": 5,
   "metadata": {},
   "outputs": [
    {
     "name": "stdout",
     "output_type": "stream",
     "text": [
      "16FRfhod3Bdow8GZ6UFWcxrYeL1GsVHr7F\n"
     ]
    }
   ],
   "source": [
    "bx ec-to-public 46e3e283aee9f29574e5aa4e599c6c1e66aed09d7d613b1485f54396893dd2fb | bx ec-to-address --version 0 \n"
   ]
  },
  {
   "cell_type": "markdown",
   "metadata": {},
   "source": [
    "## 2. Encode a private key in WIF \n"
   ]
  },
  {
   "cell_type": "markdown",
   "metadata": {},
   "source": [
    "Derive the WIF for the following private key.\n",
    "* private key: `46e3e283aee9f29574e5aa4e599c6c1e66aed09d7d613b1485f54396893dd2fb`\n",
    "* public key used: `uncompressed`\n",
    "* network: `testnet`"
   ]
  },
  {
   "cell_type": "code",
   "execution_count": 6,
   "metadata": {},
   "outputs": [
    {
     "name": "stdout",
     "output_type": "stream",
     "text": [
      "e45fef57bf95fca01a060a3cbf405b44a22d9e6c89ffba9db4e7fed7e1d1d225\n"
     ]
    }
   ],
   "source": [
    "# create checksum of [version][private key][] \n",
    "bx sha256 ef46e3e283aee9f29574e5aa4e599c6c1e66aed09d7d613b1485f54396893dd2fb | bx sha256\n"
   ]
  },
  {
   "cell_type": "code",
   "execution_count": 7,
   "metadata": {},
   "outputs": [
    {
     "name": "stdout",
     "output_type": "stream",
     "text": [
      "9288xVZHiPVp7NvYh8DJTj17xs5Lip82j587TV7boNL7SerCq2v\n"
     ]
    }
   ],
   "source": [
    "# base58 encode [checksum] \n",
    "bx base58-encode ef46e3e283aee9f29574e5aa4e599c6c1e66aed09d7d613b1485f54396893dd2fbe45fef57\n"
   ]
  },
  {
   "cell_type": "markdown",
   "metadata": {},
   "source": [
    "### Derive WIF with `ec-to-wif` command\n",
    "* Testnet version (hex): `EF`\n",
    "* Testnet version (decimal): `239`"
   ]
  },
  {
   "cell_type": "code",
   "execution_count": 8,
   "metadata": {},
   "outputs": [
    {
     "name": "stdout",
     "output_type": "stream",
     "text": [
      "9288xVZHiPVp7NvYh8DJTj17xs5Lip82j587TV7boNL7SerCq2v\n"
     ]
    }
   ],
   "source": [
    "# bx ec-to-wif\n",
    "bx ec-to-wif --uncompressed --version 239 46e3e283aee9f29574e5aa4e599c6c1e66aed09d7d613b1485f54396893dd2fb\n"
   ]
  }
 ],
 "metadata": {
  "kernelspec": {
   "display_name": "Bash",
   "language": "bash",
   "name": "bash"
  },
  "language_info": {
   "codemirror_mode": "shell",
   "file_extension": ".sh",
   "mimetype": "text/x-sh",
   "name": "bash"
  }
 },
 "nbformat": 4,
 "nbformat_minor": 2
}
