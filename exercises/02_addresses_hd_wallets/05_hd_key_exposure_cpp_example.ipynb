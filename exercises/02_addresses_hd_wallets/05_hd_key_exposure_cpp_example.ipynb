{
 "cells": [
  {
   "cell_type": "markdown",
   "metadata": {},
   "source": [
    "# HD Parent Key Exposure: Example (c++)\n",
    "\n",
    "<br>\n",
    "<img src=\"images/hd_parent_exposure.jpg\" alt=\"drawing\" style=\"\" width=\"700px\"/>\n",
    "\n"
   ]
  },
  {
   "cell_type": "markdown",
   "metadata": {},
   "source": [
    "### Libbitcoin-System and secp256k1 setup"
   ]
  },
  {
   "cell_type": "code",
   "execution_count": 1,
   "metadata": {},
   "outputs": [],
   "source": [
    "// Compiler & linker information for c++ interpreter.\n",
    "#pragma cling add_include_path(\"/usr/local/include\")\n",
    "#pragma cling add_library_path(\"/usr/local/lib\")\n",
    "#pragma cling load(\"bitcoin\",\"secp256k1\",\"pthread\",\"boost_chrono-mt\",\"boost_date_time-mt\",\"boost_filesystem\",\"boost_iostreams-mt\",\"boost_locale-mt\",\"boost_log-mt\",\"boost_program_options-mt\",\"boost_regex-mt\",\"boost_system\",\"boost_thread-mt\")\n",
    "\n",
    "// Libbitcoin-System.\n",
    "#include <bitcoin/bitcoin.hpp> \n",
    "\n",
    "// secp256k1 supporting files.\n",
    "#include \"supporting_scripts/secp256k1_initializer.hpp\""
   ]
  },
  {
   "cell_type": "markdown",
   "metadata": {},
   "source": [
    "### Derive new parent key pair and child private key."
   ]
  },
  {
   "cell_type": "code",
   "execution_count": 2,
   "metadata": {},
   "outputs": [
    {
     "name": "stdout",
     "output_type": "stream",
     "text": [
      "Parent Private Key: \n",
      "188e92ece8880685c3f58dc028ce13e99b64f6a77d7124a664c93f1396f8b744\n",
      "\n",
      "Parent Public Key:\n",
      "03eea222a2b5d9f040b0c9941e9dd66128237a5d6147c982fb59f666e42ac244f3\n",
      "\n",
      "Parent Chaincode:\n",
      "c8dbdf4ebba57eab0ac9899d15e97189930b573d2939bafdec980a7374960d13\n",
      "\n",
      "Child Private Key:\n",
      "314d3ce3434d1e359bf14c2310b39f08baafc4be5672e9a1ba4d876d82254b85\n"
     ]
    }
   ],
   "source": [
    "// Generate m/44'/0'/0'/0 parent key from entropy.\n",
    "// ---------------------------------------------------------------------------\n",
    "{\n",
    "    bc::data_chunk my_entropy_128(16);\n",
    "    bc::pseudo_random_fill(my_entropy_128);\n",
    "\n",
    "    // m/44'/0'/0'/0\n",
    "    bc::wallet::hd_private m(my_entropy_128, bc::wallet::hd_private::mainnet);\n",
    "    auto m_44h_0h_0h_0 = m.derive_private(44 + bc::wallet::hd_first_hardened_key)\n",
    "        .derive_private(0 + bc::wallet::hd_first_hardened_key)\n",
    "        .derive_private(0 + bc::wallet::hd_first_hardened_key)\n",
    "        .derive_private(0);\n",
    "\n",
    "    uint32_t child_index(1);\n",
    "\n",
    "    std::cout << \"Parent Private Key: \" << std::endl \n",
    "              << bc::encode_base16(bc::to_chunk(m_44h_0h_0h_0.secret()))\n",
    "              << std::endl << std::endl \n",
    "              << \"Parent Public Key:\" << std::endl \n",
    "              << bc::encode_base16(bc::to_chunk(m_44h_0h_0h_0.to_public().point()))\n",
    "              << std::endl << std::endl \n",
    "              << \"Parent Chaincode:\" << std::endl \n",
    "              << bc::encode_base16(bc::to_chunk(m_44h_0h_0h_0.to_public().chain_code()))\n",
    "              << std::endl << std::endl \n",
    "              << \"Child Private Key:\" << std::endl \n",
    "              << bc::encode_base16(bc::to_chunk(m_44h_0h_0h_0.derive_private(child_index).secret()))\n",
    "              << std::endl;\n",
    "}"
   ]
  },
  {
   "cell_type": "markdown",
   "metadata": {},
   "source": [
    "### Derive \"parent private key\" from \"parent pubkey + chaincode\" and \"child private key\"."
   ]
  },
  {
   "cell_type": "code",
   "execution_count": 3,
   "metadata": {},
   "outputs": [
    {
     "name": "stdout",
     "output_type": "stream",
     "text": [
      "Computed Private Parent Key: \n",
      "188e92ece8880685c3f58dc028ce13e99b64f6a77d7124a664c93f1396f8b744\n"
     ]
    }
   ],
   "source": [
    "{\n",
    "\n",
    "    // 1) Parent public key, chaincode and child private key are exposed.\n",
    "    // ---------------------------------------------------------------------------\n",
    "    \n",
    "    auto M_44h_0h_0h_0_point = bc::base16_literal(\n",
    "        \"03eea222a2b5d9f040b0c9941e9dd66128237a5d6147c982fb59f666e42ac244f3\");\n",
    "    auto M_44h_0h_0h_0_chaincode = bc::base16_literal(\n",
    "        \"c8dbdf4ebba57eab0ac9899d15e97189930b573d2939bafdec980a7374960d13\");\n",
    "    auto m_44h_0h_0h_0_1_secret = bc::base16_literal(\n",
    "        \"314d3ce3434d1e359bf14c2310b39f08baafc4be5672e9a1ba4d876d82254b85\");\n",
    "    uint32_t child_index(1);\n",
    "    \n",
    "    // 2) Derive L256 from hmac_sha512_hash(parent public key||index, chaincode).\n",
    "    // ---------------------------------------------------------------------------\n",
    "    auto data = bc::splice(M_44h_0h_0h_0_point, bc::to_big_endian(child_index));\n",
    "    auto my_byte_array_parts = bc::split(bc::hmac_sha512_hash(data, M_44h_0h_0h_0_chaincode));\n",
    "    auto left_256 = my_byte_array_parts.left;\n",
    "\n",
    "    // 3) Parent Private(m_44h_0h_0h_0) = child private(m_44h_0h_0h_0_1) - L256.\n",
    "    // ---------------------------------------------------------------------------\n",
    "    \n",
    "    const auto context = bc::verification.context();\n",
    "    if (secp256k1_ec_privkey_negate(context,left_256.data()) != 1)\n",
    "        return 1;\n",
    "    bc::ec_add(left_256, m_44h_0h_0h_0_1_secret);\n",
    "\n",
    "    // Print out computed parent private key.\n",
    "    // ---------------------------------------------------------------------------\n",
    "    std::cout << \"Computed Private Parent Key: \" << std::endl\n",
    "              << bc::encode_base16(bc::to_chunk(left_256)) << std::endl;\n",
    "}"
   ]
  },
  {
   "cell_type": "code",
   "execution_count": null,
   "metadata": {},
   "outputs": [],
   "source": []
  }
 ],
 "metadata": {
  "kernelspec": {
   "display_name": "C++11",
   "language": "C++11",
   "name": "xeus-cling-cpp11"
  },
  "language_info": {
   "codemirror_mode": "text/x-c++src",
   "file_extension": ".cpp",
   "mimetype": "text/x-c++src",
   "name": "c++",
   "version": "-std=c++11"
  }
 },
 "nbformat": 4,
 "nbformat_minor": 2
}
