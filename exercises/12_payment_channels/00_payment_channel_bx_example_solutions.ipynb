{
 "cells": [
  {
   "cell_type": "markdown",
   "metadata": {},
   "source": [
    "# Payment Channel - BX exercise\n",
    "\n",
    "In this BX tutorial, we will demonstrate a simple payment channel between two participants, Alice and Bob.\n",
    "\n",
    "* Wallet Setup for Alice & Bob\n",
    "* 1) Opening a payment channel\n",
    "* 2) Updating the payment channel\n",
    "* 3) Alice broadcasts old state. Bob sweeps the channel.\n",
    "\n"
   ]
  },
  {
   "cell_type": "markdown",
   "metadata": {},
   "source": [
    "<hr style=\"border: 0.5px dashed #000;\">\n",
    "\n",
    "\n",
    "## Wallet setup for Alice & Bob"
   ]
  },
  {
   "cell_type": "code",
   "execution_count": 1,
   "metadata": {},
   "outputs": [],
   "source": [
    "# my_mnemonic =\"word0 word1 word2 ...\"\n",
    "# hd_master_private=$( )\n",
    "# hd_master_public=$( )\n",
    "\n",
    "my_mnemonic=\"seven mail crash you unit small assume express wedding cloud work potato\"\n",
    "hd_master_private=$(bx mnemonic-to-seed $my_mnemonic | bx hd-new)\n",
    "hd_master_public=$(bx hd-to-public $hd_master_private)"
   ]
  },
  {
   "cell_type": "markdown",
   "metadata": {},
   "source": [
    "Alice keys: `m/44'/1'/1'/0/5`"
   ]
  },
  {
   "cell_type": "code",
   "execution_count": 2,
   "metadata": {},
   "outputs": [
    {
     "name": "stdout",
     "output_type": "stream",
     "text": [
      "mqpVyrj3iRPe7sNKht9vvnbhnDCAPdiJYv\n",
      "025d6ea3f5af51796062b6af01470e7b764f83e557c2212191fc55b9896505ae84\n",
      "7102c7914f7ac4e5a8055c5954b3462e0ddb419f\n"
     ]
    }
   ],
   "source": [
    "# hd_m_44h_1h_1h_0_5=\n",
    "\n",
    "# privatekey_44h_1h_1h_0_5=\n",
    "# publickey_44h_1h_1h_0_5=\n",
    "# publickeyhash_44h_1h_1h_0_5=\n",
    "# address_44h_1h_1h_0_5=\n",
    "\n",
    "hd_m_44h_1h_1h_0_5=$(bx hd-private --hard --index 44 $hd_master_private \\\n",
    "| bx hd-private --hard --index 1  \\\n",
    "| bx hd-private --hard --index 1  \\\n",
    "| bx hd-private --index 0 \\\n",
    "| bx hd-private --index 5)\n",
    "\n",
    "privatekey_44h_1h_1h_0_5=$(bx hd-to-ec $hd_m_44h_1h_1h_0_5)\n",
    "publickey_44h_1h_1h_0_5=$(bx hd-to-public $hd_m_44h_1h_1h_0_5 | bx hd-to-ec)\n",
    "publickeyhash_44h_1h_1h_0_5=$(bx sha256 $publickey_44h_1h_1h_0_5 | bx ripemd160)\n",
    "address_44h_1h_1h_0_5=$(bx hd-to-public $hd_m_44h_1h_1h_0_5 | bx hd-to-ec | bx ec-to-address --version 111)\n",
    "\n",
    "echo $address_44h_1h_1h_0_5\n",
    "echo $publickey_44h_1h_1h_0_5\n",
    "echo $publickeyhash_44h_1h_1h_0_5\n"
   ]
  },
  {
   "cell_type": "markdown",
   "metadata": {},
   "source": [
    "Bob keys: `m/44'/1'/1'/0/6`"
   ]
  },
  {
   "cell_type": "code",
   "execution_count": 3,
   "metadata": {},
   "outputs": [
    {
     "name": "stdout",
     "output_type": "stream",
     "text": [
      "mwLPgbtKttz63WkW5RvKpzjng64Kdzo3z7\n",
      "036652acb7231efa990a5220c209d2bf05351fba53d0eb609fcaba4dee06983126\n",
      "ad82a1640cf5b64aaa877e74e9824181882e5130\n"
     ]
    }
   ],
   "source": [
    "# hd_m_44h_1h_1h_0_6=\n",
    "\n",
    "# privatekey_44h_1h_1h_0_6=\n",
    "# publickey_44h_1h_1h_0_6=\n",
    "# publickeyhash_44h_1h_1h_0_6=\n",
    "# address_44h_1h_1h_0_6=\n",
    "\n",
    "hd_m_44h_1h_1h_0_6=$(bx hd-private --hard --index 44 $hd_master_private \\\n",
    "| bx hd-private --hard --index 1  \\\n",
    "| bx hd-private --hard --index 1  \\\n",
    "| bx hd-private --index 0 \\\n",
    "| bx hd-private --index 6)\n",
    "\n",
    "privatekey_44h_1h_1h_0_6=$(bx hd-to-ec $hd_m_44h_1h_1h_0_6)\n",
    "publickey_44h_1h_1h_0_6=$(bx hd-to-public $hd_m_44h_1h_1h_0_6 | bx hd-to-ec)\n",
    "publickeyhash_44h_1h_1h_0_6=$(bx sha256 $publickey_44h_1h_1h_0_6 | bx ripemd160)\n",
    "address_44h_1h_1h_0_6=$(bx hd-to-public $hd_m_44h_1h_1h_0_6 | bx hd-to-ec | bx ec-to-address --version 111)\n",
    "\n",
    "echo $address_44h_1h_1h_0_6\n",
    "echo $publickey_44h_1h_1h_0_6\n",
    "echo $publickeyhash_44h_1h_1h_0_6"
   ]
  },
  {
   "cell_type": "markdown",
   "metadata": {},
   "source": [
    "### Fetch previous UTXO's Alice is spending."
   ]
  },
  {
   "cell_type": "code",
   "execution_count": 4,
   "metadata": {},
   "outputs": [
    {
     "name": "stdout",
     "output_type": "stream",
     "text": [
      "\u001b[1;39m{\n",
      "  \u001b[0m\u001b[34;1m\"address_hash\"\u001b[0m\u001b[1;39m: \u001b[0m\u001b[0;32m\"7102c7914f7ac4e5a8055c5954b3462e0ddb419f\"\u001b[0m\u001b[1;39m,\n",
      "  \u001b[0m\u001b[34;1m\"script\"\u001b[0m\u001b[1;39m: \u001b[0m\u001b[0;32m\"dup hash160 [7102c7914f7ac4e5a8055c5954b3462e0ddb419f] equalverify checksig\"\u001b[0m\u001b[1;39m,\n",
      "  \u001b[0m\u001b[34;1m\"value\"\u001b[0m\u001b[1;39m: \u001b[0m\u001b[0;32m\"499550\"\u001b[0m\u001b[1;39m\n",
      "\u001b[1;39m}\u001b[0m\n"
     ]
    }
   ],
   "source": [
    "# bx fetch-tx [transaction_hash] -f json | jq \".transaction.outputs[output_index]\"\n",
    "\n",
    "bx fetch-tx 11a8587f5077fc7f69e3349797fd74f99864d27716d6b48ac51734cb3bec03ea -f json | jq \".transaction.outputs[5]\""
   ]
  },
  {
   "cell_type": "code",
   "execution_count": 5,
   "metadata": {},
   "outputs": [],
   "source": [
    "# previous_txid=\n",
    "# previous_output_index=\n",
    "# previous_output_amount=\n",
    "\n",
    "previous_txid=11a8587f5077fc7f69e3349797fd74f99864d27716d6b48ac51734cb3bec03ea\n",
    "previous_output_index=5\n",
    "previous_output_amount=499550\n"
   ]
  },
  {
   "cell_type": "markdown",
   "metadata": {},
   "source": [
    "<hr style=\"border: 0.5px dashed #000;\">\n",
    "\n",
    "## 1) Opening the payment channel\n",
    "<br>\n",
    "<img src=\"images/payment_channel_funding.jpg\" alt=\"drawing\" style=\"\" width=\"700px\"/>"
   ]
  },
  {
   "cell_type": "markdown",
   "metadata": {},
   "source": [
    "## Alice creates the funding transaction"
   ]
  },
  {
   "cell_type": "markdown",
   "metadata": {},
   "source": [
    "### A + B multisig output script\n",
    "* `2`\n",
    "* `public key A`\n",
    "* `public key B`\n",
    "* `2`\n",
    "* `checkmultisig`\n"
   ]
  },
  {
   "cell_type": "code",
   "execution_count": 6,
   "metadata": {},
   "outputs": [
    {
     "name": "stdout",
     "output_type": "stream",
     "text": [
      "5221025d6ea3f5af51796062b6af01470e7b764f83e557c2212191fc55b9896505ae8421036652acb7231efa990a5220c209d2bf05351fba53d0eb609fcaba4dee0698312652ae\n"
     ]
    }
   ],
   "source": [
    "# bx script-encode \"2 [pubkey_alice] [pubkey_bob] 2 checkmultisig\"\n",
    "\n",
    "# funding_output_script=\n",
    "\n",
    "funding_output_script=$(bx script-encode \"2 [$publickey_44h_1h_1h_0_5] [$publickey_44h_1h_1h_0_6] 2 CHECKMULTISIG\")\n",
    "echo $funding_output_script\n"
   ]
  },
  {
   "cell_type": "markdown",
   "metadata": {},
   "source": [
    "### Calculate output amount\n",
    "\n",
    "* `100 Satoshi/sigops + 1 Satoshi/Byte` \n",
    "* Non-segwit multisig counts as `4 * 20 sigops`\n"
   ]
  },
  {
   "cell_type": "code",
   "execution_count": 7,
   "metadata": {},
   "outputs": [
    {
     "name": "stdout",
     "output_type": "stream",
     "text": [
      "238\n"
     ]
    }
   ],
   "source": [
    "# tx bytes: 4 + 1 + 1*(32+4+1+(1+72+1+33)+4) + 1 + 1*(8+1+(1+34+34+1+1)) + 4 \n",
    "\n",
    "# tx_byte_count=\n",
    "\n",
    "tx_byte_count=$(expr 4 + 1 + 1 \\* 148 + 1 + 1 \\* 80 + 4)\n",
    "echo $tx_byte_count\n"
   ]
  },
  {
   "cell_type": "code",
   "execution_count": 8,
   "metadata": {},
   "outputs": [
    {
     "name": "stdout",
     "output_type": "stream",
     "text": [
      "491312\n"
     ]
    }
   ],
   "source": [
    "# Output amount total.\n",
    "\n",
    "# funding_output_amount=\n",
    "\n",
    "funding_output_amount=$(expr $previous_output_amount - 20 \\* 400 - $tx_byte_count \\* 1)\n",
    "echo $funding_output_amount\n"
   ]
  },
  {
   "cell_type": "markdown",
   "metadata": {},
   "source": [
    "### Encode transaction for signing\n"
   ]
  },
  {
   "cell_type": "code",
   "execution_count": 9,
   "metadata": {},
   "outputs": [
    {
     "name": "stdout",
     "output_type": "stream",
     "text": [
      "0100000001ea03ec3bcb3417c58ab4d61677d26498f974fd979734e3697ffc77507f58a8110500000000ffffffff01307f070000000000475221025d6ea3f5af51796062b6af01470e7b764f83e557c2212191fc55b9896505ae8421036652acb7231efa990a5220c209d2bf05351fba53d0eb609fcaba4dee0698312652ae00000000\n"
     ]
    }
   ],
   "source": [
    "# bx tx-encode \\\n",
    "# --input [previous tx id]:[index]:[sequence] \\\n",
    "# --output [output script]:[output amount]\n",
    "\n",
    "# funding_tx=\n",
    "\n",
    "funding_tx=$(bx tx-encode \\\n",
    "--input $previous_txid:$previous_output_index:4294967295 \\\n",
    "--output $funding_output_script:$funding_output_amount)\n",
    "echo $funding_tx\n"
   ]
  },
  {
   "cell_type": "markdown",
   "metadata": {},
   "source": [
    "### Alice signs funding transaction."
   ]
  },
  {
   "cell_type": "markdown",
   "metadata": {},
   "source": [
    "**Fetch previous output script**"
   ]
  },
  {
   "cell_type": "code",
   "execution_count": 10,
   "metadata": {},
   "outputs": [
    {
     "name": "stdout",
     "output_type": "stream",
     "text": [
      "dup hash160 [7102c7914f7ac4e5a8055c5954b3462e0ddb419f] equalverify checksig\n"
     ]
    }
   ],
   "source": [
    "# bx fetch-tx --format json [previous tx id] \n",
    "\n",
    "# previous_output_script=\n",
    "\n",
    "previous_output_script=$(bx fetch-tx --format json $previous_txid \\\n",
    "| jq -r \".transaction.outputs[5].script\")\n",
    "echo $previous_output_script\n"
   ]
  },
  {
   "cell_type": "markdown",
   "metadata": {},
   "source": [
    "**Sign transaction with previous output script.**"
   ]
  },
  {
   "cell_type": "code",
   "execution_count": 11,
   "metadata": {},
   "outputs": [],
   "source": [
    "# bx input-sign [private key] \"previous output script\" [transaction template]\n",
    "\n",
    "# signature= \n",
    "\n",
    "signature=$(bx input-sign --sign_type all --index 0 $privatekey_44h_1h_1h_0_5 \"$previous_output_script\" $funding_tx)\n"
   ]
  },
  {
   "cell_type": "markdown",
   "metadata": {},
   "source": [
    "**Set the input script into the finalised transaction.**"
   ]
  },
  {
   "cell_type": "code",
   "execution_count": 12,
   "metadata": {},
   "outputs": [],
   "source": [
    "# bx input-set \"[signature] [public key point]\" [transaction template]\n",
    "\n",
    "# funding_tx=\n",
    "\n",
    "funding_tx=$(bx input-set --index 0 \"[$signature] [$publickey_44h_1h_1h_0_5]\" $funding_tx)\n"
   ]
  },
  {
   "cell_type": "code",
   "execution_count": 13,
   "metadata": {},
   "outputs": [
    {
     "name": "stdout",
     "output_type": "stream",
     "text": [
      "previous output not found\n"
     ]
    },
    {
     "ename": "",
     "evalue": "255",
     "output_type": "error",
     "traceback": []
    }
   ],
   "source": [
    "# Validate.\n",
    "\n",
    "bx validate-tx $funding_tx"
   ]
  },
  {
   "cell_type": "code",
   "execution_count": 14,
   "metadata": {},
   "outputs": [
    {
     "name": "stdout",
     "output_type": "stream",
     "text": [
      "625c3161f282a2c90d0710e1100cce3743beaeaf93c6dde39edcce13bc82daa1\n"
     ]
    }
   ],
   "source": [
    "#funding_txid=\n",
    "\n",
    "funding_txid=$(bx bitcoin256 $funding_tx)\n",
    "echo $funding_txid\n"
   ]
  },
  {
   "cell_type": "markdown",
   "metadata": {},
   "source": [
    "**Important:** Alice can only broadcast the funding transaction once commitment 0 has been signed by both parties, as in the following section. Otherwise, her funds could become unspendable without Bob's cooperation. "
   ]
  },
  {
   "cell_type": "markdown",
   "metadata": {},
   "source": [
    " ## 2) Commitment transactions `0a/0b`\n"
   ]
  },
  {
   "cell_type": "markdown",
   "metadata": {},
   "source": [
    "Alice transfers 50000 satoshi to Bob.\n",
    "\n",
    "### Alice's Commitment transaction `0a`\n",
    "\n"
   ]
  },
  {
   "cell_type": "markdown",
   "metadata": {},
   "source": [
    "#### Output Scripts\n",
    "* RSMC A\n",
    "* PKPKH B"
   ]
  },
  {
   "cell_type": "markdown",
   "metadata": {},
   "source": [
    "#### RSMC A\n",
    "* `IF`\n",
    "    * `[public key R]`\n",
    "* `ELSE`\n",
    "    * `[3-byte delay]`\n",
    "    * `checksequenceverify`\n",
    "    * `drop`\n",
    "    * `[public key A]`\n",
    "* `ENDIF`\n",
    "* `CHECKSIG`"
   ]
  },
  {
   "cell_type": "markdown",
   "metadata": {},
   "source": [
    "#### `Secret r = r_A + r_B`\n",
    "* Both Alice and Bob independently generate secrets `r_A` and `r_B`\n",
    "* Alice and Bob only exchange public keys `R_A` AND `R_B`\n",
    "* `public key R = R_A + R_B = r_A * G + r_B * G`"
   ]
  },
  {
   "cell_type": "markdown",
   "metadata": {},
   "source": [
    "#### Alice computes `public key R` by adding `R_B` to` r_A * G:`\n"
   ]
  },
  {
   "cell_type": "code",
   "execution_count": 15,
   "metadata": {},
   "outputs": [
    {
     "name": "stdout",
     "output_type": "stream",
     "text": [
      "038cd1701e7c0140f911db0d7d0c21286977bf8cb4f9c6f7eb2141bb70c68addcc\n"
     ]
    }
   ],
   "source": [
    "# publickey_R=\n",
    "\n",
    "publickey_R=$(bx ec-add $publickey_44h_1h_1h_0_6 $privatekey_44h_1h_1h_0_5)\n",
    "echo $publickey_R\n"
   ]
  },
  {
   "cell_type": "markdown",
   "metadata": {},
   "source": [
    "#### Encoding Output Scripts for Commitment `0a`"
   ]
  },
  {
   "cell_type": "code",
   "execution_count": 16,
   "metadata": {},
   "outputs": [],
   "source": [
    "# RSMC_A_output_script=\n",
    "\n",
    "RSMC_A_output_script=$(bx script-encode \"IF [$publickey_R] ELSE [050000] CHECKSEQUENCEVERIFY DROP [$publickey_44h_1h_1h_0_5] ENDIF CHECKSIG\")\n"
   ]
  },
  {
   "cell_type": "code",
   "execution_count": 17,
   "metadata": {},
   "outputs": [],
   "source": [
    "# P2PKH_B_output_script=\n",
    "\n",
    "P2PKH_B_output_script=$(bx script-encode \"DUP HASH160 [$publickeyhash_44h_1h_1h_0_6] EQUALVERIFY CHECKSIG\")\n"
   ]
  },
  {
   "cell_type": "markdown",
   "metadata": {},
   "source": [
    "#### Calculate output amount."
   ]
  },
  {
   "cell_type": "code",
   "execution_count": 18,
   "metadata": {},
   "outputs": [
    {
     "name": "stdout",
     "output_type": "stream",
     "text": [
      "319\n"
     ]
    }
   ],
   "source": [
    "# tx bytes: 4 + 1 + 1*(32+4+1+(1+73+73)+4) + 1 + 1*(8+1+(1+34+1+4+1+1+34+1+1)) + 1*(8+1+25) + 4 \n",
    "\n",
    "# (32+4+1+1+72+1+33+4)\n",
    "\n",
    "# tx_byte_count=\n",
    "\n",
    "tx_byte_count=$(expr 4 + 1 + 1 \\* 188 + 1 + 1 \\* 87 + 1 \\* 34 + 4)\n",
    "echo $tx_byte_count\n"
   ]
  },
  {
   "cell_type": "code",
   "execution_count": 20,
   "metadata": {},
   "outputs": [
    {
     "name": "stdout",
     "output_type": "stream",
     "text": [
      "490193\n"
     ]
    }
   ],
   "source": [
    "total_output_amount=$(expr $funding_output_amount - 2 \\* 400 - $tx_byte_count \\* 1)\n",
    "echo $total_output_amount\n",
    "\n",
    "#RSMC_A_output_amount=\n",
    "RSMA_A_output_amount=$(expr $total_output_amount - 50000)\n",
    "\n",
    "#P2PKH_B_output_amount=\n",
    "P2PKH_B_output_amount=50000\n"
   ]
  },
  {
   "cell_type": "markdown",
   "metadata": {},
   "source": [
    "**Encode Commitment `0a` for signing**"
   ]
  },
  {
   "cell_type": "code",
   "execution_count": 21,
   "metadata": {},
   "outputs": [
    {
     "name": "stdout",
     "output_type": "stream",
     "text": [
      "0100000001a1da82bc13cedc9ee3ddc693afaebe4337ce0c10e110070dc9a282f261315c620000000000ffffffff0281b70600000000004e6321038cd1701e7c0140f911db0d7d0c21286977bf8cb4f9c6f7eb2141bb70c68addcc6703050000b27521025d6ea3f5af51796062b6af01470e7b764f83e557c2212191fc55b9896505ae8468ac50c30000000000001976a914ad82a1640cf5b64aaa877e74e9824181882e513088ac00000000\n"
     ]
    }
   ],
   "source": [
    "# bx tx-encode \\\n",
    "# --input [previous tx id]:[index]:[sequence] \\\n",
    "# --output [output script]:[output amount]\n",
    "\n",
    "# tx_0a=\n",
    "\n",
    "tx_0a=$(bx tx-encode \\\n",
    "--input $funding_txid:0:4294967295 \\\n",
    "--output $RSMC_A_output_script:$RSMA_A_output_amount \\\n",
    "--output $P2PKH_B_output_script:$P2PKH_B_output_amount)\n",
    "\n",
    "echo $tx_0a"
   ]
  },
  {
   "cell_type": "markdown",
   "metadata": {},
   "source": [
    "**Sign commitment transaction `0a` by Alice & Bob**"
   ]
  },
  {
   "cell_type": "code",
   "execution_count": 22,
   "metadata": {},
   "outputs": [
    {
     "name": "stdout",
     "output_type": "stream",
     "text": [
      "2 [025d6ea3f5af51796062b6af01470e7b764f83e557c2212191fc55b9896505ae84] [036652acb7231efa990a5220c209d2bf05351fba53d0eb609fcaba4dee06983126] 2 checkmultisig\n"
     ]
    }
   ],
   "source": [
    "# bx fetch-tx --format json [previous tx id] \n",
    "\n",
    "# previous_output_script=\n",
    "\n",
    "previous_output_script=$(bx fetch-tx --format json $funding_txid \\\n",
    "| jq -r \".transaction.outputs[0].script\")\n",
    "echo $previous_output_script\n"
   ]
  },
  {
   "cell_type": "code",
   "execution_count": 23,
   "metadata": {},
   "outputs": [],
   "source": [
    "# bx input-sign [private key] \"previous output script\" [transaction template]\n",
    "\n",
    "# signature_a= \n",
    "# signature_b= \n",
    "\n",
    "signature_a=$(bx input-sign --sign_type all --index 0 $privatekey_44h_1h_1h_0_5 \"$previous_output_script\" $tx_0a)\n",
    "signature_b=$(bx input-sign --sign_type all --index 0 $privatekey_44h_1h_1h_0_6 \"$previous_output_script\" $tx_0a)\n"
   ]
  },
  {
   "cell_type": "code",
   "execution_count": null,
   "metadata": {},
   "outputs": [],
   "source": [
    "# bx input-set \"[signature] [public key point]\" [transaction template]\n",
    "\n",
    "# tx_0a=\n",
    "\n",
    "tx_0a=$(bx input-set --index 0 \"zero [$signature_a] [$signature_b]\" $tx_0a)\n",
    "echo $tx_0a\n"
   ]
  },
  {
   "cell_type": "code",
   "execution_count": null,
   "metadata": {},
   "outputs": [],
   "source": [
    "# tx_0a_txid=\n",
    "\n",
    "tx_0a_txid=$(bx bitcoin256 $tx_0a)\n"
   ]
  },
  {
   "cell_type": "code",
   "execution_count": null,
   "metadata": {},
   "outputs": [],
   "source": [
    "# Validate.\n",
    "\n",
    "bx validate-tx $tx_0a\n"
   ]
  },
  {
   "cell_type": "markdown",
   "metadata": {},
   "source": [
    "### Bob's commitment transaction `0b`\n",
    "* Omitted here for brevity's sake: Left to student to complete.\n",
    "* Follows same steps as Alice's commitment transaction `0a`"
   ]
  },
  {
   "cell_type": "markdown",
   "metadata": {},
   "source": [
    "<hr style=\"border: 0.5px dashed #000;\">\n",
    "\n",
    "\n",
    "## 2) Updating the channel\n",
    "<br>\n",
    "<img src=\"images/payment_channel_update.jpg\" alt=\"drawing\" style=\"\" width=\"700px\"/>"
   ]
  },
  {
   "cell_type": "markdown",
   "metadata": {},
   "source": [
    "Alice spends another 50000 to bob.\n",
    "\n",
    "### A. New commitment transaction `1a`/`1b` are created\n",
    "* Not shown \n",
    "* Follows previous section.\n"
   ]
  },
  {
   "cell_type": "markdown",
   "metadata": {},
   "source": [
    "### B. Alice reveals `r_A` to Bob\n",
    "* Since Alice is paying Bob, she must revoke her past commitment TX output. \n",
    "* Bob can now compute `r` = `r_A + r_B`"
   ]
  },
  {
   "cell_type": "code",
   "execution_count": null,
   "metadata": {},
   "outputs": [],
   "source": [
    "# secret_r=\n",
    "\n",
    "secret_r=$(bx ec-add-secrets $privatekey_44h_1h_1h_0_5 $privatekey_44h_1h_1h_0_6)\n",
    "echo $secret_r\n",
    "echo $publickey_R\n"
   ]
  },
  {
   "cell_type": "code",
   "execution_count": null,
   "metadata": {},
   "outputs": [],
   "source": [
    "# Verify computed secret r corresponds to public key R.\n",
    "\n",
    "bx ec-to-public $secret_r\n"
   ]
  },
  {
   "cell_type": "markdown",
   "metadata": {},
   "source": [
    "<hr style=\"border: 0.5px dashed #000;\">\n",
    "\n",
    "## 3) Alice broadcasts old state. Bob sweeps the channel.\n",
    "<br>\n",
    "<img src=\"images/payment_channel_penalty.jpg\" alt=\"drawing\" style=\"\" width=\"700px\"/>"
   ]
  },
  {
   "cell_type": "markdown",
   "metadata": {},
   "source": [
    "\n",
    "### A. Alice broadcasts commitment tx `0a`"
   ]
  },
  {
   "cell_type": "code",
   "execution_count": null,
   "metadata": {},
   "outputs": [],
   "source": [
    "echo $tx_0a\n",
    "bx send-tx $tx_0a\n"
   ]
  },
  {
   "cell_type": "markdown",
   "metadata": {},
   "source": [
    "### B. Bob sweeps funds from commitment tx `0a`"
   ]
  },
  {
   "cell_type": "markdown",
   "metadata": {},
   "source": [
    "#### Encode P2PKH output script"
   ]
  },
  {
   "cell_type": "code",
   "execution_count": null,
   "metadata": {},
   "outputs": [],
   "source": [
    "# Encode output spendable by Bob\n",
    "\n",
    "# penalty_output_script=\n",
    "\n",
    "penalty_output_script=$(bx script-encode \"DUP HASH160 [$publickeyhash_44h_1h_1h_0_6] EQUALVERIFY CHECKSIG\")\n"
   ]
  },
  {
   "cell_type": "markdown",
   "metadata": {},
   "source": [
    "#### Calculate output amount"
   ]
  },
  {
   "cell_type": "code",
   "execution_count": null,
   "metadata": {},
   "outputs": [],
   "source": [
    "# tx bytes: 4 + 1 + 1*(32+4+1+(1+73)+4) + 1*(32+4+1+(73+34)+4) + 1 + 1*(8+1+25) + 4 \n",
    "\n",
    "# tx_byte_count=\n",
    "\n",
    "tx_byte_count=$(expr 4 + 1 + 1 \\* 115 + 1 \\* 148 + 1 + 1 \\* 34 + 4)\n",
    "echo $tx_byte_count\n"
   ]
  },
  {
   "cell_type": "code",
   "execution_count": null,
   "metadata": {},
   "outputs": [],
   "source": [
    "# Output amount total of both inputs being swept.\n",
    "\n",
    "# penalty_output_amount=\n",
    "\n",
    "penalty_output_amount=$(expr $RSMA_A_output_amount + $P2PKH_B_output_amount - 1 \\* 400 - $tx_byte_count \\* 1)\n",
    "echo $penalty_output_amount\n"
   ]
  },
  {
   "cell_type": "markdown",
   "metadata": {},
   "source": [
    "#### Encode penalty transaction for signing."
   ]
  },
  {
   "cell_type": "code",
   "execution_count": null,
   "metadata": {},
   "outputs": [],
   "source": [
    "# bx tx-encode \\\n",
    "# --input [previous tx id]:[index]:[sequence] \\\n",
    "# --output [output script]:[output amount]\n",
    "\n",
    "# penalty_tx=\n",
    "\n",
    "penalty_tx=$(bx tx-encode \\\n",
    "--input $tx_0a_txid:0:4294967295 \\\n",
    "--input $tx_0a_txid:1:4294967295 \\\n",
    "--output $penalty_output_script:$penalty_output_amount)\n",
    "echo $penalty_tx\n"
   ]
  },
  {
   "cell_type": "markdown",
   "metadata": {},
   "source": [
    "#### Sign the transaction.\n"
   ]
  },
  {
   "cell_type": "markdown",
   "metadata": {},
   "source": [
    "* Fetch previous `RSMC_A output script` from `tx_0a` input `0`"
   ]
  },
  {
   "cell_type": "code",
   "execution_count": null,
   "metadata": {},
   "outputs": [],
   "source": [
    "# previous_RSMA_A_script=$(bx fetch-tx ... )\n",
    "\n",
    "previous_RSMA_A_script=$(bx fetch-tx -f json $tx_0a_txid \\\n",
    "| jq -r \".transaction.outputs[0].script\")\n",
    "echo $previous_RSMA_A_script\n"
   ]
  },
  {
   "cell_type": "markdown",
   "metadata": {},
   "source": [
    "* Fetch previous `P2PKH_B output script` from `tx_0a` input `1`"
   ]
  },
  {
   "cell_type": "code",
   "execution_count": null,
   "metadata": {},
   "outputs": [],
   "source": [
    "# previous_P2PKH_B_script=$(bx fetch-tx ... )\n",
    "\n",
    "previous_P2PKH_B_script=$(bx fetch-tx -f json $tx_0a_txid \\\n",
    "| jq -r \".transaction.outputs[1].script\")\n",
    "echo $previous_P2PKH_B_script\n"
   ]
  },
  {
   "cell_type": "code",
   "execution_count": null,
   "metadata": {},
   "outputs": [],
   "source": [
    "# signature_RSMC_A=\n",
    "\n",
    "signature_RSMC_A=$(bx input-sign --sign_type all --index 0 $secret_r \"$previous_RSMA_A_script\" $penalty_tx)\n"
   ]
  },
  {
   "cell_type": "code",
   "execution_count": null,
   "metadata": {},
   "outputs": [],
   "source": [
    "# signature_RSMC_B=\n",
    "\n",
    "signature_P2PKH_B=$(bx input-sign --sign_type all --index 1 $privatekey_44h_1h_1h_0_6 \"$previous_P2PKH_B_script\" $penalty_tx)\n"
   ]
  },
  {
   "cell_type": "markdown",
   "metadata": {},
   "source": [
    "**Set the input script into the finalised transaction.**"
   ]
  },
  {
   "cell_type": "markdown",
   "metadata": {},
   "source": [
    "Input script to spend RSMC A.\n",
    "* `[Sig RSMC R]`\n",
    "* `1`\n",
    "\n",
    "Input script to spend P2PKH B is\n",
    "* `[Sig P2PKH B]`\n",
    "* `[public key B]`\n"
   ]
  },
  {
   "cell_type": "code",
   "execution_count": null,
   "metadata": {},
   "outputs": [],
   "source": [
    "# bx input-set \"[signature] [public key point]\" [transaction template]\n",
    "\n",
    "# Set first input\n",
    "# penalty_tx=\n",
    "\n",
    "# Set second input\n",
    "# penalty_tx=\n",
    "\n",
    "penalty_tx=$(bx input-set --index 0 \"[$signature_RSMC_A] 1\" $penalty_tx)\n",
    "penalty_tx=$(bx input-set --index 1 \"[$signature_P2PKH_B] [$publickey_44h_1h_1h_0_6]\" $penalty_tx)\n"
   ]
  },
  {
   "cell_type": "code",
   "execution_count": null,
   "metadata": {},
   "outputs": [],
   "source": [
    "# Validate penalty tx.\n",
    "bx validate-tx $penalty_tx\n"
   ]
  }
 ],
 "metadata": {
  "kernelspec": {
   "display_name": "Bash",
   "language": "bash",
   "name": "bash"
  },
  "language_info": {
   "codemirror_mode": "shell",
   "file_extension": ".sh",
   "mimetype": "text/x-sh",
   "name": "bash"
  }
 },
 "nbformat": 4,
 "nbformat_minor": 2
}
