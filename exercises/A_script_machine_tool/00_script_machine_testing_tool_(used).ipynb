{
 "cells": [
  {
   "cell_type": "markdown",
   "metadata": {},
   "source": [
    "# Script Machine Debugging Tool (Libbitcoin c++)\n",
    "\n",
    "<br>\n",
    "<img src=\"images/script_evaluation_bip_16_141.jpg\" alt=\"drawing\" style=\"\" width=\"800px\"/>\n",
    "\n",
    "\n",
    "<hr style=\"border: 0.5px dashed #000;\">"
   ]
  },
  {
   "cell_type": "code",
   "execution_count": 2,
   "metadata": {},
   "outputs": [
    {
     "name": "stderr",
     "output_type": "stream",
     "text": [
      "In file included from input_line_14:1:\n",
      "\u001b[1m./supporting_scripts/script_machine.cpp:3:10: \u001b[0m\u001b[0;1;31merror: \u001b[0m\u001b[1mredefinition of 'run_script_on_program'\u001b[0m\n",
      "bc::code run_script_on_program(bc::machine::program& current_program,\n",
      "\u001b[0;1;32m         ^\n",
      "\u001b[0m\u001b[1m./supporting_scripts/script_machine.cpp:3:10: \u001b[0m\u001b[0;1;30mnote: \u001b[0mprevious definition is here\u001b[0m\n",
      "bc::code run_script_on_program(bc::machine::program& current_program,\n",
      "\u001b[0;1;32m         ^\n",
      "\u001b[0mIn file included from input_line_14:1:\n",
      "\u001b[1m./supporting_scripts/script_machine.cpp:91:10: \u001b[0m\u001b[0;1;31merror: \u001b[0m\u001b[1mredefinition of 'evaluate_in_out_p2sh_witness_runs'\u001b[0m\n",
      "bc::code evaluate_in_out_p2sh_witness_runs(const bc::chain::script\n",
      "\u001b[0;1;32m         ^\n",
      "\u001b[0m\u001b[1m./supporting_scripts/script_machine.cpp:91:10: \u001b[0m\u001b[0;1;30mnote: \u001b[0mprevious definition is here\u001b[0m\n",
      "bc::code evaluate_in_out_p2sh_witness_runs(const bc::chain::script\n",
      "\u001b[0;1;32m         ^\n",
      "\u001b[0m"
     ]
    },
    {
     "ename": "Interpreter Error",
     "evalue": "",
     "output_type": "error",
     "traceback": [
      "Interpreter Error: "
     ]
    }
   ],
   "source": [
    "// Compiler & linker information for c++ interpreter.\n",
    "#pragma cling add_include_path(\"/usr/local/include\")\n",
    "#pragma cling add_library_path(\"/usr/local/lib\")\n",
    "#pragma cling load(\"bitcoin\",\"secp256k1\",\"pthread\",\"boost_chrono-mt\",\"boost_date_time-mt\",\"boost_filesystem\",\"boost_iostreams-mt\",\"boost_locale-mt\",\"boost_log-mt\",\"boost_program_options-mt\",\"boost_regex-mt\",\"boost_system\",\"boost_thread-mt\")\n",
    "\n",
    "// Libbitcoin-System.\n",
    "#include <bitcoin/bitcoin.hpp> \n",
    "\n",
    "// Libbitcoin-Script machine helper.\n",
    "#include \"supporting_scripts/script_machine.cpp\""
   ]
  },
  {
   "cell_type": "markdown",
   "metadata": {},
   "source": [
    "### 1. Previous transaction output (UTXO)."
   ]
  },
  {
   "cell_type": "markdown",
   "metadata": {},
   "source": [
    "**Previous output script** (fetch by `txid` & `index`)"
   ]
  },
  {
   "cell_type": "code",
   "execution_count": 3,
   "metadata": {},
   "outputs": [
    {
     "name": "stdout",
     "output_type": "stream",
     "text": [
      "76a914a0aef4980069732dba8b51f668a504a95f37bda588ac\n"
     ]
    }
   ],
   "source": [
    "!bx fetch-tx 86ad635645920497c233cc33556463fa6258ab8f9c5f7d12748a6638216e3363 -f json | jq -r  \".transaction.outputs[8].script\" | bx script-encode\n"
   ]
  },
  {
   "cell_type": "code",
   "execution_count": 4,
   "metadata": {},
   "outputs": [],
   "source": [
    "auto previous_output_script_data = bc::to_chunk(\n",
    "  bc::base16_literal(\"76a914a0aef4980069732dba8b51f668a504a95f37bda588ac\"));\n",
    "bc::chain::script previous_output_script;\n",
    "previous_output_script.from_data(previous_output_script_data, false);\n"
   ]
  },
  {
   "cell_type": "markdown",
   "metadata": {},
   "source": [
    "**Previous output amount** (fetch by `txid` & `index`)"
   ]
  },
  {
   "cell_type": "code",
   "execution_count": 5,
   "metadata": {
    "scrolled": true
   },
   "outputs": [
    {
     "name": "stdout",
     "output_type": "stream",
     "text": [
      "499543\n"
     ]
    }
   ],
   "source": [
    "!bx fetch-tx 86ad635645920497c233cc33556463fa6258ab8f9c5f7d12748a6638216e3363 -f json | jq -r  \".transaction.outputs[8].value\"\n"
   ]
  },
  {
   "cell_type": "code",
   "execution_count": 6,
   "metadata": {},
   "outputs": [],
   "source": [
    "uint64_t previous_output_amount = 499543;\n"
   ]
  },
  {
   "cell_type": "markdown",
   "metadata": {},
   "source": [
    "### 2. Spending transaction."
   ]
  },
  {
   "cell_type": "code",
   "execution_count": 7,
   "metadata": {},
   "outputs": [
    {
     "name": "stdout",
     "output_type": "stream",
     "text": [
      "1"
     ]
    },
    {
     "data": {
      "text/plain": [
       "@0x105d85010"
      ]
     },
     "execution_count": 7,
     "metadata": {},
     "output_type": "execute_result"
    }
   ],
   "source": [
    "// Paste your raw transaction data.\n",
    "auto spending_transaction_data = bc::to_chunk(\n",
    "  bc::base16_literal(\"010000000163336e2138668a74127d5f9c8fab5862fa63645533cc33c2970492455663ad86080000006b48304502210093fee9cea2af3245f50f656fb29cef95faed4945b3a2b9fff841ce14cbd9d33402205d56f641944b62d10bb803e64384e7507f31999aba38e4e85c71892e98e2819e012103aab4421bb35035cc193ee4489039df8cb5a9b418a2f1d30e312f7b2cf59f6d67ffffffff01079d070000000000160014757d9e1576e8b890abdeba9971f7238ab9aa0a8a00000000\"));\n",
    "bc::chain::transaction spending_transaction;\n",
    "std::cout << spending_transaction.from_data(spending_transaction_data, true, true); // wire=true, witness=true\n"
   ]
  },
  {
   "cell_type": "markdown",
   "metadata": {},
   "source": [
    "**Index of spending input.**"
   ]
  },
  {
   "cell_type": "code",
   "execution_count": 8,
   "metadata": {},
   "outputs": [],
   "source": [
    "uint32_t input_index = 0;"
   ]
  },
  {
   "cell_type": "markdown",
   "metadata": {},
   "source": [
    "### 3. Evaluate input, output, p2sh and witness script runs."
   ]
  },
  {
   "cell_type": "markdown",
   "metadata": {},
   "source": [
    "Run following cell to evaluate the `previous output` | `input` script(s)."
   ]
  },
  {
   "cell_type": "code",
   "execution_count": 9,
   "metadata": {},
   "outputs": [
    {
     "name": "stdout",
     "output_type": "stream",
     "text": [
      "=========== Input script evaluation ===========\n",
      "\n",
      "> Operation: 0\n",
      "[304502210093fee9cea2af3245f50f656fb29cef95faed4945b3a2b9fff841ce14cbd9d33402205d56f641944b62d10bb803e64384e7507f31999aba38e4e85c71892e98e2819e01]\n",
      "\n",
      "> Stack after operation: 0\n",
      "[304502210093fee9cea2af3245f50f656fb29cef95faed4945b3a2b9fff841ce14cbd9d33402205d56f641944b62d10bb803e64384e7507f31999aba38e4e85c71892e98e2819e01]\n",
      "\n",
      ">> Operation: 1\n",
      "[03aab4421bb35035cc193ee4489039df8cb5a9b418a2f1d30e312f7b2cf59f6d67]\n",
      "\n",
      ">> Stack after operation: 1\n",
      "[03aab4421bb35035cc193ee4489039df8cb5a9b418a2f1d30e312f7b2cf59f6d67]\n",
      "[304502210093fee9cea2af3245f50f656fb29cef95faed4945b3a2b9fff841ce14cbd9d33402205d56f641944b62d10bb803e64384e7507f31999aba38e4e85c71892e98e2819e01]\n",
      "\n",
      "=========== Output script evaluation ==========\n",
      "\n",
      "> Operation: 0\n",
      "dup\n",
      "\n",
      "> Stack after operation: 0\n",
      "[03aab4421bb35035cc193ee4489039df8cb5a9b418a2f1d30e312f7b2cf59f6d67]\n",
      "[03aab4421bb35035cc193ee4489039df8cb5a9b418a2f1d30e312f7b2cf59f6d67]\n",
      "[304502210093fee9cea2af3245f50f656fb29cef95faed4945b3a2b9fff841ce14cbd9d33402205d56f641944b62d10bb803e64384e7507f31999aba38e4e85c71892e98e2819e01]\n",
      "\n",
      ">> Operation: 1\n",
      "hash160\n",
      "\n",
      ">> Stack after operation: 1\n",
      "[a0aef4980069732dba8b51f668a504a95f37bda5]\n",
      "[03aab4421bb35035cc193ee4489039df8cb5a9b418a2f1d30e312f7b2cf59f6d67]\n",
      "[304502210093fee9cea2af3245f50f656fb29cef95faed4945b3a2b9fff841ce14cbd9d33402205d56f641944b62d10bb803e64384e7507f31999aba38e4e85c71892e98e2819e01]\n",
      "\n",
      ">>> Operation: 2\n",
      "[a0aef4980069732dba8b51f668a504a95f37bda5]\n",
      "\n",
      ">>> Stack after operation: 2\n",
      "[a0aef4980069732dba8b51f668a504a95f37bda5]\n",
      "[a0aef4980069732dba8b51f668a504a95f37bda5]\n",
      "[03aab4421bb35035cc193ee4489039df8cb5a9b418a2f1d30e312f7b2cf59f6d67]\n",
      "[304502210093fee9cea2af3245f50f656fb29cef95faed4945b3a2b9fff841ce14cbd9d33402205d56f641944b62d10bb803e64384e7507f31999aba38e4e85c71892e98e2819e01]\n",
      "\n",
      ">>>> Operation: 3\n",
      "equalverify\n",
      "\n",
      ">>>> Stack after operation: 3\n",
      "[03aab4421bb35035cc193ee4489039df8cb5a9b418a2f1d30e312f7b2cf59f6d67]\n",
      "[304502210093fee9cea2af3245f50f656fb29cef95faed4945b3a2b9fff841ce14cbd9d33402205d56f641944b62d10bb803e64384e7507f31999aba38e4e85c71892e98e2819e01]\n",
      "\n",
      ">>>>> Operation: 4\n",
      "checksig\n",
      "\n",
      ">>>>> Stack after operation: 4\n",
      "[01]\n",
      "\n",
      "--------- Script evaluation complete ----------\n",
      "success\n"
     ]
    }
   ],
   "source": [
    "bc::code ec = evaluate_in_out_p2sh_witness_runs(previous_output_script, previous_output_amount,\n",
    "  spending_transaction, input_index, bc::machine::rule_fork::all_rules);\n",
    "std::cout << ec.message() << std::endl;\n"
   ]
  }
 ],
 "metadata": {
  "kernelspec": {
   "display_name": "C++11",
   "language": "C++11",
   "name": "xeus-cling-cpp11"
  },
  "language_info": {
   "codemirror_mode": "text/x-c++src",
   "file_extension": ".cpp",
   "mimetype": "text/x-c++src",
   "name": "c++",
   "version": "-std=c++11"
  }
 },
 "nbformat": 4,
 "nbformat_minor": 2
}
