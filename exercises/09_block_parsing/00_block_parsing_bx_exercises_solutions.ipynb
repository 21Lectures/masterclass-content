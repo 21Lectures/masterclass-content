{
 "cells": [
  {
   "cell_type": "markdown",
   "metadata": {},
   "source": [
    "# Block Parsing - BX Exercises"
   ]
  },
  {
   "cell_type": "markdown",
   "metadata": {},
   "source": [
    "<hr style=\"border: 0.5px dashed #000;\">\n",
    "\n",
    "## 1. Serialize the genesis block header"
   ]
  },
  {
   "cell_type": "markdown",
   "metadata": {},
   "source": [
    "### Request block header information from the genesis block"
   ]
  },
  {
   "cell_type": "code",
   "execution_count": null,
   "metadata": {},
   "outputs": [],
   "source": [
    "# bx fetch-header --height [height]\n",
    "bx fetch-header --height 0\n"
   ]
  },
  {
   "cell_type": "markdown",
   "metadata": {},
   "source": [
    "### Transform all header parts into serialised hex form (Part 1)\n",
    "\n",
    "* `Bits (from dec to hexle)`\n",
    "* `nonce (from dec to hexle)`\n",
    "* `Timestamp (from dec to hexle)`"
   ]
  },
  {
   "cell_type": "code",
   "execution_count": null,
   "metadata": {},
   "outputs": [],
   "source": [
    "# Use sfk tool:\n",
    "# sfk num [decimal number] -show hexle\n",
    "\n",
    "echo \"Bits:\"\n",
    "sfk num 486604799 -show hexle\n",
    "\n",
    "echo \"Nonce:\"\n",
    "sfk num 2083236893 -show hexle\n",
    "\n",
    "echo \"Timestamp:\"\n",
    "sfk num 1231006505 -show hexle\n"
   ]
  },
  {
   "cell_type": "markdown",
   "metadata": {},
   "source": [
    "### Transform all header parts into serialised hex form (Part 2)\n",
    "\n",
    "* `Merkle root (to little endian)`\n",
    "* `Previous block hash (to little endian)`\n"
   ]
  },
  {
   "cell_type": "markdown",
   "metadata": {},
   "source": [
    "* [Online hex endianess reversal tool](https://onlinehextools.com/reverse-hex-digits)"
   ]
  },
  {
   "cell_type": "code",
   "execution_count": null,
   "metadata": {},
   "outputs": [],
   "source": [
    "# https://onlinehextools.com/reverse-hex-digits\n",
    "# Or ...\n",
    "a=18dd438bb9571d2f7be12a8e58bc06efb84f4c6f7c914e5b805e9994766c84bf\n",
    "b=982051fd1e4ba744bbbe680e1fee14677ba1a3c3540bf7b1cdb606e857233e0e\n",
    "echo ${a:64:2}${a:62:2}${a:60:2}${a:58:2}${a:56:2}${a:54:2}${a:52:2}${a:50:2}${a:48:2}${a:46:2}${a:44:2}${a:42:2}${a:40:2}${a:38:2}${a:36:2}${a:34:2}${a:32:2}${a:30:2}${a:28:2}${a:26:2}${a:24:2}${a:22:2}${a:20:2}${a:18:2}${a:16:2}${a:14:2}${a:12:2}${a:10:2}${a:8:2}${a:6:2}${a:4:2}${a:2:2}${a:0:2}\n",
    "echo ${b:64:2}${b:62:2}${b:60:2}${b:58:2}${b:56:2}${b:54:2}${b:52:2}${b:50:2}${b:48:2}${b:46:2}${b:44:2}${b:42:2}${b:40:2}${b:38:2}${b:36:2}${b:34:2}${b:32:2}${b:30:2}${b:28:2}${b:26:2}${b:24:2}${b:22:2}${b:20:2}${b:18:2}${b:16:2}${b:14:2}${b:12:2}${b:10:2}${b:8:2}${b:6:2}${b:4:2}${b:2:2}${b:0:2}\n"
   ]
  },
  {
   "cell_type": "markdown",
   "metadata": {},
   "source": [
    "### Concatenate all parts of the header to final form."
   ]
  },
  {
   "cell_type": "code",
   "execution_count": null,
   "metadata": {},
   "outputs": [],
   "source": [
    "# var1= ...\n",
    "# var2= ...\n",
    "# var3= ...\n",
    "# echo $var0$var1$var1...\n",
    "\n",
    "version=01000000\n",
    "prev_hash=d61dcc0e13256adb725861971b4bae753859ee61e406392305a4fddc54b55721\n",
    "merkle_root=3ba3edfd7a7b12b27ac72c3e67768f617fc81bc3888a51323a9fb8aa4b1e5e4a\n",
    "timestamp=29AB5F49\n",
    "bits=FFFF001D\n",
    "nonce=1DAC2B7C\n",
    "\n",
    "echo $version$prev_hash$merkle_root$timestamp$bits$nonce "
   ]
  },
  {
   "cell_type": "markdown",
   "metadata": {},
   "source": [
    "## 2. Verify the genesis header is indeed organised in the blockchain\n",
    "\n",
    "* Where is the header committed to?\n",
    "* What form does this commitment have?"
   ]
  },
  {
   "cell_type": "code",
   "execution_count": null,
   "metadata": {},
   "outputs": [],
   "source": [
    "# Show header commitment location.\n",
    "bx fetch-header --height 1\n"
   ]
  },
  {
   "cell_type": "code",
   "execution_count": null,
   "metadata": {},
   "outputs": [],
   "source": [
    "# Derive header commitment from genesis header(80B)\n",
    "bx bitcoin256 0100000000000000000000000000000000000000000000000000000000000000000000003ba3edfd7a7b12b27ac72c3e67768f617fc81bc3888a51323a9fb8aa4b1e5e4a29AB5F49FFFF001D1DAC2B7C\n"
   ]
  },
  {
   "cell_type": "markdown",
   "metadata": {},
   "source": [
    "## 3. Demonstrate the block height commitment.\n",
    "\n",
    "* Coinbase TXID at blockheight 548'837: `ebeaf0c4be2fdea6b759b233c895d7cad0856a642fac44d4f7e67ad8d1e1e5b5`\n",
    "* Coinbase TXID at blockheight 548'823: `0bda48fc47764b24a15a4d0a796243447526764f9d50bcbd2df268ecd054d998`"
   ]
  },
  {
   "cell_type": "code",
   "execution_count": null,
   "metadata": {},
   "outputs": [],
   "source": [
    "# Get coinbase transaction.\n",
    "bx fetch-tx ebeaf0c4be2fdea6b759b233c895d7cad0856a642fac44d4f7e67ad8d1e1e5b5\n"
   ]
  },
  {
   "cell_type": "code",
   "execution_count": null,
   "metadata": {},
   "outputs": [],
   "source": [
    "# Remember to check Endianness.\n",
    "# Convert value to decimal:\n",
    "# sfk dec [hex]\n",
    "\n",
    "sfk dec 085fe5\n"
   ]
  },
  {
   "cell_type": "markdown",
   "metadata": {},
   "source": [
    "### Try converting the remainder of the input script into ascii/utf8\n",
    "* [Webtool](https://sites.google.com/site/nathanlexwww/tools/utf8-convert) for hex to utf-8 conversion"
   ]
  },
  {
   "cell_type": "code",
   "execution_count": null,
   "metadata": {},
   "outputs": [],
   "source": [
    "# echo [script] | bx script-encode\n",
    "echo \"[0cfddf5b] ver [4254432e434f4d2ffabe6d6d7774fea0d063067716a4e4565cb351f56ebd1e0da7f79716d9c3c703790dd326010000]\" \\\n",
    "| bx script-encode \n"
   ]
  },
  {
   "cell_type": "markdown",
   "metadata": {},
   "source": [
    "* Miner text at height 548'837: `\u0004\f",
    "ퟛb/BTC.COM/꾭mwtc\u0006w\u0016䤖\\㑵n힍緗\u0016كǃy`...\n",
    "* Miner text at height 548'823:  `\u0003ן\b\u001d",
    "/ViaBTC/Mined by 13910851095/,꾭m㚩h#Ϙ8\u0005\f",
    "kH㗡DMy㣞˓ݔ㖐ۈռ\u0004\u0010d숍⥥褍룒A\u0002`..."
   ]
  },
  {
   "cell_type": "markdown",
   "metadata": {},
   "source": [
    "## 4. Determine fees and subsidy of block.\n",
    "\n",
    "* At height `422108`, Coinbase TXID: `bf846c7694995e805b4e917c6f4c4fb8ef06bc588e2ae17b2f1d57b98b43dd18`\n",
    "* At height `312312`\n",
    "* At height `5124`"
   ]
  },
  {
   "cell_type": "code",
   "execution_count": null,
   "metadata": {},
   "outputs": [],
   "source": [
    "# Halvenings at given height\n",
    "expr 422108 / 210000\n"
   ]
  },
  {
   "cell_type": "code",
   "execution_count": null,
   "metadata": {},
   "outputs": [],
   "source": [
    "# Subsidy at given height\n",
    "expr 5000000000 / 2 / 2\n"
   ]
  },
  {
   "cell_type": "code",
   "execution_count": null,
   "metadata": {},
   "outputs": [],
   "source": [
    "# Compute fees from coinbase tx output amount.\n",
    "bx fetch-tx bf846c7694995e805b4e917c6f4c4fb8ef06bc588e2ae17b2f1d57b98b43dd18 -f json \\\n",
    "| jq \".transaction.outputs[0].value\"\n"
   ]
  },
  {
   "cell_type": "code",
   "execution_count": null,
   "metadata": {},
   "outputs": [],
   "source": [
    "expr 1266815487 - 1250000000\n"
   ]
  },
  {
   "cell_type": "markdown",
   "metadata": {},
   "source": [
    "## 4. POW: How many attempts are required for a valid header hash?\n",
    "\n",
    "* For the following heights:\n",
    "    * Genesis block\n",
    "    * Block at height `10000`\n",
    "    * Block at height `500000`\n",
    "* [Big hex/dec online calculator](https://defuse.ca/big-number-calculator.htm)"
   ]
  },
  {
   "cell_type": "code",
   "execution_count": null,
   "metadata": {},
   "outputs": [],
   "source": [
    "# Get bits from block at height.\n",
    "bx fetch-header --height 500000\n"
   ]
  },
  {
   "cell_type": "code",
   "execution_count": null,
   "metadata": {},
   "outputs": [],
   "source": [
    "# Convert decimal difficulty into hex\n",
    "bits_decimal=402691653\n",
    "bits_hex_le=$(sfk num $bits_decimal -show hexle)\n",
    "\n",
    "# Derive target.\n",
    "coefficient=${bits_hex_le:0:6}\n",
    "exponent_decimal=$(sfk dec ${bits_hex_le:6:2})\n",
    "hex_zeros=$(expr $exponent_decimal - 3)\n",
    "leading_null_bytes=$(expr 32 - 3 - $hex_zeros)\n",
    "\n",
    "# Print out target.\n",
    "for ((i=1;i<=$leading_null_bytes;i++)); do \n",
    "    printf \"00\"\n",
    "done\n",
    "printf $coefficient\n",
    "for ((i=1;i<=$hex_zeros;i++)); do \n",
    "    printf \"00\"\n",
    "done"
   ]
  },
  {
   "cell_type": "code",
   "execution_count": null,
   "metadata": {},
   "outputs": [],
   "source": [
    "# Compute attempts necessary to hash under target.\n",
    "# 0xFFFFFFFFFFFFFFFFFFFFFFFFFFFFFFFFFFFFFFFFFFFFFFFFFFFFFFFFFFFFFFFF/0X0000000000000000459600000000000000000000000000000000000000000000\n",
    "# Via online calculator: 67863804850939102655\n"
   ]
  },
  {
   "cell_type": "markdown",
   "metadata": {},
   "source": [
    "### How long would it take the following hardware to mine block at height 500k?\n",
    "* Intel(R) Core(TM) i3 CPU, M 350 @ 2.27GHz \n",
    "    * `1486742 (H/Sec)`\n",
    "\n",
    "* Intel(R) Xeon(R) CPU , E5530 @ 2.40GHz\n",
    "    * `7138070 (H/Sec)`\n",
    "\n",
    "* Bitmain Antminer S9 Bitcoin Miner\n",
    "    * `13.5 (TH/Sec)`  \n",
    "    \n",
    "* [Big hex/dec online calculator](https://defuse.ca/big-number-calculator.htm)"
   ]
  },
  {
   "cell_type": "code",
   "execution_count": null,
   "metadata": {},
   "outputs": [],
   "source": [
    "# Antminer S9:\n",
    "# Via online calculator: 67863804850939102655 / 13500000000000 / 3600 /24 = 58 Days\n"
   ]
  }
 ],
 "metadata": {
  "kernelspec": {
   "display_name": "Bash",
   "language": "bash",
   "name": "bash"
  },
  "language_info": {
   "codemirror_mode": "shell",
   "file_extension": ".sh",
   "mimetype": "text/x-sh",
   "name": "bash"
  }
 },
 "nbformat": 4,
 "nbformat_minor": 2
}
