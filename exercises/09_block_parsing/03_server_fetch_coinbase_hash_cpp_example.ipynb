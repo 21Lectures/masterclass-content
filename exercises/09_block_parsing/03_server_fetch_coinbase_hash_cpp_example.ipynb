{
 "cells": [
  {
   "cell_type": "markdown",
   "metadata": {},
   "source": [
    "# Querying Coinbase Transaction with Libbitcoin"
   ]
  },
  {
   "cell_type": "code",
   "execution_count": null,
   "metadata": {},
   "outputs": [],
   "source": [
    "// Compiler & linker information for c++ interpreter.\n",
    "#pragma cling add_include_path(\"/usr/local/include\",\"/usr/local/Cellar/zeromq/4.2.5/include\")\n",
    "#pragma cling add_library_path(\"/usr/local/lib\",\"/usr/local/Cellar/zeromq/4.2.5/lib\")\n",
    "#pragma cling load(\"bitcoin\",\"bitcoin-protocol\",\"zmq\",\"secp256k1\",\"pthread\",\"boost_chrono-mt\",\"boost_date_time-mt\",\"boost_filesystem\",\"boost_iostreams-mt\",\"boost_locale-mt\",\"boost_log-mt\",\"boost_program_options-mt\",\"boost_regex-mt\",\"boost_system\",\"boost_thread-mt\")\n",
    "\n",
    "// Required header files.\n",
    "#include <iostream>\n",
    "#include <string>\n",
    "#include <bitcoin/protocol.hpp> // Libbitcoin-Protocol"
   ]
  },
  {
   "cell_type": "markdown",
   "metadata": {},
   "source": [
    "## Fetch transaction hashes & coinbase transaction data\n",
    "* Server request for all block `tx_hashes` at `height`\n",
    "* Server request for coinbase data with txid: `tx_hashes[0]`"
   ]
  },
  {
   "cell_type": "code",
   "execution_count": 21,
   "metadata": {
    "scrolled": true
   },
   "outputs": [
    {
     "name": "stdout",
     "output_type": "stream",
     "text": [
      "Coinbase TXID: bf846c7694995e805b4e917c6f4c4fb8ef06bc588e2ae17b2f1d57b98b43dd18\n",
      "\n",
      "Raw coinbase transaction: 01000000010000000000000000000000000000000000000000000000000000000000000000ffffffff6403dc700637e4b883e5bda9e7a59ee4bb99e9b1bc12f4d4be6b4fec3398bab6fd2e81e7705d21d2f95f196911c8f3c6184b34adc902000000f09f909f0e4d696e656420627920636363363400000000000000000000000000000000000000000000000000cbc4010001ff11824b000000001976a914c825a1ecf2a6830c4401620c3a16f1995057c2ab88ac2c4aa338\n",
      "\n",
      "Block subsidy: 1250000000\n",
      "\n",
      "Block fees: 16815487\n",
      "\n"
     ]
    }
   ],
   "source": [
    "{\n",
    "    // Setup of zmq context & socket.\n",
    "    bc::protocol::zmq::context my_context(true); //started\n",
    "    bc::protocol::zmq::socket dealer_socket(\n",
    "        my_context, bc::protocol::zmq::socket::role::dealer);\n",
    "    bc::code ec;\n",
    "    bc::config::endpoint public_endpoint(\"tcp://mainnet1.libbitcoin.net:9091\");\n",
    "    ec = dealer_socket.connect(public_endpoint);\n",
    "\n",
    "    //--------------------------------------------------------------------------\n",
    "    // 1) Request block_tx_hashes.\n",
    "    //--------------------------------------------------------------------------\n",
    "\n",
    "    bc::protocol::zmq::message block_tx_hashes_request;\n",
    "\n",
    "    std::string block_tx_hashes_command =\n",
    "        \"blockchain.fetch_block_transaction_hashes\";\n",
    "    uint32_t message_id0(0);\n",
    "    uint32_t height(422108);\n",
    "\n",
    "    block_tx_hashes_request.enqueue(bc::to_chunk(block_tx_hashes_command));\n",
    "    block_tx_hashes_request.enqueue(bc::to_chunk(bc::to_little_endian(message_id0)));\n",
    "    block_tx_hashes_request.enqueue_little_endian(height);\n",
    "\n",
    "    if ((ec = block_tx_hashes_request.send(dealer_socket)))\n",
    "        {\n",
    "        std::cout << ec.message() << std::endl;\n",
    "        return 1;\n",
    "        }\n",
    "\n",
    "    std::vector<bc::hash_digest> tx_hashes;\n",
    "\n",
    "    bc::protocol::zmq::poller my_poller;\n",
    "    my_poller.add(dealer_socket); \n",
    "    auto dealer_socket_id = dealer_socket.id();\n",
    "    auto socket_ids = my_poller.wait(2000);\n",
    "\n",
    "    if (socket_ids.contains(dealer_socket_id))\n",
    "    {\n",
    "        bc::protocol::zmq::message server_response;\n",
    "        uint32_t my_message_id;\n",
    "        bc::data_chunk reply_payload;\n",
    "\n",
    "        server_response.receive(dealer_socket);\n",
    "        \n",
    "        std::string my_message_block_tx_hashes_command =\n",
    "            server_response.dequeue_text();\n",
    "        server_response.dequeue(my_message_id);\n",
    "        server_response.dequeue(reply_payload);\n",
    "\n",
    "        bc::data_source reply_byte_stream(reply_payload);\n",
    "        bc::istream_reader reply_byte_stream_reader(reply_byte_stream);\n",
    "\n",
    "        if ((ec = reply_byte_stream_reader.read_error_code())) {\n",
    "            std::cout << ec.message() << std::endl;\n",
    "            return 1;\n",
    "        }\n",
    "\n",
    "        while (!reply_byte_stream_reader.is_exhausted())\n",
    "        {\n",
    "            tx_hashes.push_back(reply_byte_stream_reader.read_hash());\n",
    "        }\n",
    "    }\n",
    "\n",
    "    else\n",
    "    {\n",
    "      std::cout << \"Request timed out...\" << std::endl;\n",
    "    }\n",
    "    \n",
    "    //--------------------------------------------------------------------------\n",
    "    // 2) Request coinbase data with txid tx_hashes[0].\n",
    "    //--------------------------------------------------------------------------\n",
    "\n",
    "    bc::protocol::zmq::message tx_request;\n",
    "    std::string tx_command = \"blockchain.fetch_transaction2\";\n",
    "    uint32_t message_id1(1);\n",
    "\n",
    "    tx_request.enqueue(bc::to_chunk(tx_command));\n",
    "    tx_request.enqueue(bc::to_chunk(bc::to_little_endian(message_id1)));\n",
    "    tx_request.enqueue(bc::to_chunk(tx_hashes[0]));\n",
    "\n",
    "    if ((ec = tx_request.send(dealer_socket)))\n",
    "    {\n",
    "        std::cout << ec.message() << std::endl;\n",
    "        return 1;\n",
    "    }\n",
    "\n",
    "    // Poll our socket.\n",
    "    socket_ids = my_poller.wait(5000);\n",
    "    if (socket_ids.contains(dealer_socket_id))\n",
    "    {\n",
    "        bc::protocol::zmq::message server_response;\n",
    "        uint32_t my_message_id;\n",
    "        bc::data_chunk reply_payload;\n",
    "\n",
    "        server_response.receive(dealer_socket);\n",
    "\n",
    "        std::string my_message_block_tx_hashes_command =\n",
    "            server_response.dequeue_text();\n",
    "        server_response.dequeue(my_message_id);\n",
    "        server_response.dequeue(reply_payload);\n",
    "\n",
    "        bc::data_source reply_byte_stream(reply_payload);\n",
    "        bc::istream_reader reply_byte_stream_reader(reply_byte_stream);\n",
    "\n",
    "        if ((ec = reply_byte_stream_reader.read_error_code())) {\n",
    "            std::cout << ec.message() << std::endl;\n",
    "            return 1;\n",
    "        }\n",
    "\n",
    "        bc::chain::transaction coinbase;\n",
    "        // wire=true, witness=true\n",
    "        coinbase.from_data(reply_byte_stream_reader, true, true);\n",
    "        \n",
    "        auto coinbase_txid = coinbase.hash();\n",
    "        std::reverse(std::begin(coinbase_txid), std::end(coinbase_txid));\n",
    "        \n",
    "        std::cout << \"Coinbase TXID: \"\n",
    "                  << bc::encode_base16(bc::to_chunk(coinbase_txid)) \n",
    "                  << \"\\n\" << std::endl;\n",
    "        \n",
    "        std::cout <<\"Raw coinbase transaction: \"\n",
    "                  << bc::encode_base16(coinbase.to_data(true, true)) \n",
    "                  << \"\\n\" << std::endl;\n",
    "\n",
    "        // Check fees and subsidy computation.\n",
    "        const auto subsidy = bc::chain::block::subsidy(height, true); // independent of coinbase.\n",
    "        const auto fees = coinbase.total_output_value() - subsidy;\n",
    "\n",
    "        std::cout << \"Block subsidy: \"\n",
    "                  << bc::encode_base10(subsidy) << \"\\n\" << std::endl;\n",
    "        std::cout << \"Block fees: \"\n",
    "                  << bc::encode_base10(fees) << \"\\n\" << std::endl;\n",
    "    }\n",
    "\n",
    "    else\n",
    "    {\n",
    "        std::cout << \"Request timed out...\" << std::endl;\n",
    "    }\n",
    "  \n",
    "} // End of jupyter cell scope."
   ]
  },
  {
   "cell_type": "markdown",
   "metadata": {},
   "source": [
    "### Coinbase transaction lookup with BX."
   ]
  },
  {
   "cell_type": "code",
   "execution_count": 1,
   "metadata": {},
   "outputs": [
    {
     "name": "stdout",
     "output_type": "stream",
     "text": [
      "object does not exist\n"
     ]
    }
   ],
   "source": [
    "!bx fetch-tx bf846c7694995e805b4e917c6f4c4fb8ef06bc588e2ae17b2f1d57b98b43dd18\n"
   ]
  },
  {
   "cell_type": "code",
   "execution_count": null,
   "metadata": {},
   "outputs": [],
   "source": [
    "!sfk dec 0670dc"
   ]
  }
 ],
 "metadata": {
  "kernelspec": {
   "display_name": "C++11",
   "language": "C++11",
   "name": "xeus-cling-cpp11"
  },
  "language_info": {
   "codemirror_mode": "text/x-c++src",
   "file_extension": ".cpp",
   "mimetype": "text/x-c++src",
   "name": "c++",
   "version": "-std=c++11"
  }
 },
 "nbformat": 4,
 "nbformat_minor": 2
}
