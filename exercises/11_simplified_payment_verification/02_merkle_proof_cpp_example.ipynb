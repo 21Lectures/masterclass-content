{
 "cells": [
  {
   "cell_type": "markdown",
   "metadata": {},
   "source": [
    "# Libbitcoin SPV Client: Validating TX Confirmation\n",
    "\n",
    "In this example, we demonstrate how to subscribe the SPV client can validate the confirmation of a transaction with a merkle proof.\n",
    "\n",
    "<br>\n",
    "<img src=\"images/spv_merkle_proof.jpg\" alt=\"drawing\" style=\"\" width=\"800px\"/>\n",
    "\n"
   ]
  },
  {
   "cell_type": "markdown",
   "metadata": {},
   "source": [
    "### Libbitcoin-System (C++) Setup"
   ]
  },
  {
   "cell_type": "code",
   "execution_count": 2,
   "metadata": {},
   "outputs": [],
   "source": [
    "// Compiler & linker information for c++ interpreter.\n",
    "#pragma cling add_include_path(\"/usr/local/include\",\"/usr/local/Cellar/zeromq/4.2.5/include\")\n",
    "#pragma cling add_library_path(\"/usr/local/lib\",\"/usr/local/Cellar/zeromq/4.2.5/lib\")\n",
    "#pragma cling load(\"bitcoin\",\"bitcoin-protocol\",\"zmq\",\"secp256k1\",\"pthread\",\"boost_chrono-mt\",\"boost_date_time-mt\",\"boost_filesystem\",\"boost_iostreams-mt\",\"boost_locale-mt\",\"boost_log-mt\",\"boost_program_options-mt\",\"boost_regex-mt\",\"boost_system\",\"boost_thread-mt\")\n",
    "\n",
    "// Libbitcoin-System\n",
    "// Libbitcoin-Protocol\n",
    "#include <bitcoin/bitcoin.hpp> \n",
    "#include <bitcoin/protocol.hpp> "
   ]
  },
  {
   "cell_type": "markdown",
   "metadata": {},
   "source": [
    "<hr style=\"border: 0.5px dashed #000;\">\n"
   ]
  },
  {
   "cell_type": "markdown",
   "metadata": {},
   "source": [
    "## 1) Transaction hash to be validated.\n",
    "\n",
    "* `TX hash` and `chain height` for which merkle proof is to be computed."
   ]
  },
  {
   "cell_type": "code",
   "execution_count": 3,
   "metadata": {},
   "outputs": [],
   "source": [
    "auto my_tx_hash = bc::base16_literal(\"8722a9a073fc4d7d27cf07540ddee2d4449f36d1470eddedb8bd8a70ded88fe3\");\n",
    "std::reverse(my_tx_hash.begin(), my_tx_hash.end());\n",
    "\n",
    "uint32_t my_tx_chain_height = 1412061;\n"
   ]
  },
  {
   "cell_type": "markdown",
   "metadata": {},
   "source": [
    "## 2) Request merkle root at relevant chain height.\n"
   ]
  },
  {
   "cell_type": "markdown",
   "metadata": {},
   "source": [
    "### 2.1) Setup ZMQ Socket.\n"
   ]
  },
  {
   "cell_type": "code",
   "execution_count": 4,
   "metadata": {},
   "outputs": [],
   "source": [
    "bc::protocol::zmq::context my_context(true); // true = started\n",
    "bc::protocol::zmq::socket my_requester(my_context,\n",
    "    bc::protocol::zmq::socket::role::requester);\n",
    "bc::config::endpoint public_endpoint(\"tcp://testnet1.libbitcoin.net:19091\");\n",
    "\n",
    "bc::code ec_socket;\n",
    "ec_socket = my_requester.connect(public_endpoint);\n"
   ]
  },
  {
   "cell_type": "markdown",
   "metadata": {},
   "source": [
    "### 2.2) Submit request / Receive requested header.\n",
    "\n",
    "* Header request message:\n",
    "    * `[-- \"blockchain.fetch_block_header\" --]`\n",
    "    * `[--------- 4-byte message id ---------]`\n",
    "    * `[--------- 4-byte chain height -------]`\n",
    "<br><br>\n",
    "\n",
    "* Reply message:\n",
    "    * `[------- \"blockchain.fetch_block_header\" ------]`\n",
    "    * `[----------- sent 4-byte message id -----------]`\n",
    "    * `[-- 4-byte error code | 80-byte block header --]`\n"
   ]
  },
  {
   "cell_type": "code",
   "execution_count": 5,
   "metadata": {},
   "outputs": [
    {
     "name": "stdout",
     "output_type": "stream",
     "text": [
      "Requested Merkle Root: 34ee2fe5c46532ef2d9ccde9ce2fe2cc296454f3861f54c87ee3939808877483\n"
     ]
    }
   ],
   "source": [
    "std::string command = \"blockchain.fetch_block_header\";\n",
    "uint32_t message_id(0);\n",
    "uint32_t requested_height(my_tx_chain_height);\n",
    "\n",
    "// Client request message.\n",
    "bc::protocol::zmq::message header_request;\n",
    "header_request.enqueue(bc::to_chunk(command));\n",
    "header_request.enqueue(bc::to_chunk(bc::to_little_endian(message_id)));\n",
    "header_request.enqueue(bc::to_chunk(bc::to_little_endian(requested_height)));\n",
    "\n",
    "// Server response message.\n",
    "bc::protocol::zmq::message server_response;\n",
    "std::string my_message_command;\n",
    "uint32_t my_message_id;  \n",
    "bc::data_chunk reply_payload; \n",
    "bc::code ec_reply;\n",
    "\n",
    "// Submit Query.\n",
    "//------------------------------------------------------------------------------\n",
    "ec_socket = header_request.send(my_requester);\n",
    "\n",
    "\n",
    "// Parse Server Reply.\n",
    "//------------------------------------------------------------------------------\n",
    "server_response.receive(my_requester); // Blocking until message available.\n",
    "\n",
    "my_message_command = server_response.dequeue_text();\n",
    "server_response.dequeue(my_message_id);\n",
    "server_response.dequeue(reply_payload);\n",
    "\n",
    "bc::data_source reply_byte_stream(reply_payload);\n",
    "bc::istream_reader reply_byte_stream_reader(reply_byte_stream);\n",
    "\n",
    "// Error Code\n",
    "ec_reply = reply_byte_stream_reader.read_error_code();\n",
    "\n",
    "// Header\n",
    "bc::chain::header requested_header;\n",
    "bc::data_chunk header_data;\n",
    "requested_header.from_data(reply_byte_stream_reader); // remaining bytes\n",
    "\n",
    "// Print out merkle root.\n",
    "auto requested_merkle_root = requested_header.merkle();\n",
    "std::cout << \"Requested Merkle Root: \"\n",
    "          << bc::encode_base16(bc::to_chunk(requested_merkle_root))\n",
    "          << std::endl;\n"
   ]
  },
  {
   "cell_type": "markdown",
   "metadata": {},
   "source": [
    "## 3) Validate merkle root from TX hash list at relevant chain height.\n",
    "\n"
   ]
  },
  {
   "cell_type": "markdown",
   "metadata": {},
   "source": [
    "### 3.1) Request TX hashes at relevant chain height.\n",
    "\n",
    "* TX hash list request message:\n",
    "    * `[-- \"blockchain.fetch_block_transaction_hashes\" --]`\n",
    "    * `[--------------- 4-byte message id ---------------]`\n",
    "    * `[--------------- 4-byte chain height -------------]`\n",
    "<br><br>\n",
    "\n",
    "* Reply message:\n",
    "    * `[--------- \"blockchain.fetch_block_transaction_hashes\" -------]`\n",
    "    * `[------------------ sent 4-byte message id -------------------]`\n",
    "    * `[-- 4-byte error code | TX hash 0 | TX hash 1 | TX hash ... --]`\n",
    "<br><br>\n",
    "* Use `bc::hash_list` for returned TX hashes.\n",
    "\n",
    "* **Validate that relevant TX hash is in the list of returned TX hashes.**   "
   ]
  },
  {
   "cell_type": "code",
   "execution_count": 6,
   "metadata": {},
   "outputs": [
    {
     "name": "stdout",
     "output_type": "stream",
     "text": [
      "TX hash found at block index: 763\n"
     ]
    }
   ],
   "source": [
    "command = \"blockchain.fetch_block_transaction_hashes\";\n",
    "message_id += 1;\n",
    "\n",
    "// Client request message.\n",
    "bc::protocol::zmq::message hash_list_request;\n",
    "hash_list_request.enqueue(bc::to_chunk(command));\n",
    "hash_list_request.enqueue(bc::to_chunk(bc::to_little_endian(message_id)));\n",
    "hash_list_request.enqueue(bc::to_chunk(bc::to_little_endian(my_tx_chain_height)));\n",
    "\n",
    "// Submit Query.\n",
    "//------------------------------------------------------------------------------\n",
    "ec_socket = hash_list_request.send(my_requester);\n",
    "\n",
    "// Parse Server Reply.\n",
    "//------------------------------------------------------------------------------\n",
    "server_response.receive(my_requester);\n",
    "\n",
    "bc::data_chunk reply_payload_;\n",
    "my_message_command = server_response.dequeue_text();\n",
    "server_response.dequeue(my_message_id);\n",
    "server_response.dequeue(reply_payload_);\n",
    "\n",
    "bc::data_source reply_byte_stream_(reply_payload_);\n",
    "bc::istream_reader reply_byte_stream_reader_(reply_byte_stream_);\n",
    "\n",
    "ec_reply = reply_byte_stream_reader_.read_error_code();\n",
    "\n",
    "// read out requested tx hashes.\n",
    "// create hash list:\n",
    "bc::hash_list returned_hash_list;\n",
    "uint32_t tx_block_index(0);\n",
    "bool tx_hash_found(false);\n",
    "\n",
    "while (!reply_byte_stream_reader_.is_exhausted())\n",
    "{\n",
    "    bc::hash_digest transaction_hash = reply_byte_stream_reader_.read_hash();\n",
    "    returned_hash_list.push_back(transaction_hash);\n",
    "\n",
    "    // If TX hash is inside, store state.\n",
    "    if (my_tx_hash == transaction_hash)\n",
    "    {\n",
    "        tx_hash_found = true;\n",
    "        std::cout << \"TX hash found at block index: \" << tx_block_index\n",
    "                  << std::endl;\n",
    "    }\n",
    "    tx_block_index += 1;\n",
    "}\n",
    "\n",
    "if (!tx_hash_found)\n",
    "{\n",
    "    std::cout << \"TX hash not found at height: \" << requested_height\n",
    "              << std::endl;\n",
    "    return 0;\n",
    "}\n"
   ]
  },
  {
   "cell_type": "markdown",
   "metadata": {},
   "source": [
    "### 3.2) Compute and validate merkle root."
   ]
  },
  {
   "cell_type": "code",
   "execution_count": 7,
   "metadata": {},
   "outputs": [
    {
     "name": "stdout",
     "output_type": "stream",
     "text": [
      "Computed Merkle Root: 34ee2fe5c46532ef2d9ccde9ce2fe2cc296454f3861f54c87ee3939808877483\n",
      "Merkle proof validated.\n"
     ]
    }
   ],
   "source": [
    "bc::hash_list update;\n",
    "auto merkle = returned_hash_list;\n",
    "\n",
    "// Initial capacity is half of the original list (clear doesn't reset).\n",
    "update.reserve((merkle.size() + 1) / 2);\n",
    "\n",
    "while (merkle.size() > 1)\n",
    "{\n",
    "    // If number of hashes is odd, duplicate last hash in the list.\n",
    "    if (merkle.size() % 2 != 0)\n",
    "        merkle.push_back(merkle.back());\n",
    "\n",
    "    for (auto it = merkle.begin(); it != merkle.end(); it += 2)\n",
    "        update.push_back(bc::bitcoin_hash(bc::build_chunk({ it[0], it[1] })));\n",
    "\n",
    "    std::swap(merkle, update);\n",
    "    update.clear();\n",
    "}\n",
    "\n",
    "std::cout << \"Computed Merkle Root: \"\n",
    "          << bc::encode_base16(bc::to_chunk(merkle.front())) << std::endl;\n",
    "\n",
    "if(requested_merkle_root == merkle.front())\n",
    "    std::cout << \"Merkle proof validated.\" << std::endl;\n"
   ]
  }
 ],
 "metadata": {
  "kernelspec": {
   "display_name": "C++11",
   "language": "C++11",
   "name": "xeus-cling-cpp11"
  },
  "language_info": {
   "codemirror_mode": "text/x-c++src",
   "file_extension": ".cpp",
   "mimetype": "text/x-c++src",
   "name": "c++",
   "version": "-std=c++11"
  }
 },
 "nbformat": 4,
 "nbformat_minor": 2
}
