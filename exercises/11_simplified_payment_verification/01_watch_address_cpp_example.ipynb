{
 "cells": [
  {
   "cell_type": "markdown",
   "metadata": {},
   "source": [
    "# Libbitcoin SPV Client: Watching a Wallet Address\n",
    "\n",
    "In this example, we demonstrate how to subscribe to server updates pertaining to a specific payment address.\n",
    "\n",
    "<br>\n",
    "<img src=\"images/spv_watch_tx.jpg\" alt=\"drawing\" style=\"\" width=\"800px\"/>\n"
   ]
  },
  {
   "cell_type": "markdown",
   "metadata": {},
   "source": [
    "### Libbitcoin-System (C++) Setup"
   ]
  },
  {
   "cell_type": "code",
   "execution_count": 3,
   "metadata": {},
   "outputs": [],
   "source": [
    "// Compiler & linker information for c++ interpreter.\n",
    "#pragma cling add_include_path(\"/usr/local/include\",\"/usr/local/Cellar/zeromq/4.2.5/include\")\n",
    "#pragma cling add_library_path(\"/usr/local/lib\",\"/usr/local/Cellar/zeromq/4.2.5/lib\")\n",
    "#pragma cling load(\"bitcoin\",\"bitcoin-protocol\",\"zmq\",\"secp256k1\",\"pthread\",\"boost_chrono-mt\",\"boost_date_time-mt\",\"boost_filesystem\",\"boost_iostreams-mt\",\"boost_locale-mt\",\"boost_log-mt\",\"boost_program_options-mt\",\"boost_regex-mt\",\"boost_system\",\"boost_thread-mt\")\n",
    "\n",
    "// Chrono for subscription intervals\n",
    "#include <chrono>\n",
    "\n",
    "// Libbitcoin-System\n",
    "// Libbitcoin-Protocol\n",
    "#include <bitcoin/bitcoin.hpp> \n",
    "#include <bitcoin/protocol.hpp> "
   ]
  },
  {
   "cell_type": "markdown",
   "metadata": {},
   "source": [
    "<hr style=\"border: 0.5px dashed #000;\">\n"
   ]
  },
  {
   "cell_type": "markdown",
   "metadata": {},
   "source": [
    "## 1) Wallet Public Key Hash "
   ]
  },
  {
   "cell_type": "markdown",
   "metadata": {},
   "source": [
    "### 1.1) Decode public key hash from wallet address."
   ]
  },
  {
   "cell_type": "code",
   "execution_count": 4,
   "metadata": {},
   "outputs": [
    {
     "name": "stdout",
     "output_type": "stream",
     "text": [
      "\"3271bdf25c28ec5733b3faac3c3adb2b6fd0d15c\"\n"
     ]
    }
   ],
   "source": [
    "!bx address-decode -f json mk7gLaQfT3kEuZ3fAo3SivRkPWYgkFDfjH | jq '.wrapper.payload'"
   ]
  },
  {
   "cell_type": "code",
   "execution_count": 5,
   "metadata": {},
   "outputs": [],
   "source": [
    "auto my_pubkey_hash = bc::to_chunk(bc::base16_literal(\n",
    "    \"3271bdf25c28ec5733b3faac3c3adb2b6fd0d15c\"));\n"
   ]
  },
  {
   "cell_type": "markdown",
   "metadata": {},
   "source": [
    "## 2) Setup ZMQ Socket."
   ]
  },
  {
   "cell_type": "code",
   "execution_count": 6,
   "metadata": {},
   "outputs": [],
   "source": [
    "bc::protocol::zmq::context my_context(true); //started\n",
    "bc::protocol::zmq::socket subscription_socket(\n",
    "    my_context, bc::protocol::zmq::socket::role::dealer);\n",
    "\n",
    "bc::code ec;\n",
    "bc::config::endpoint public_endpoint(\"tcp://testnet2.libbitcoin.net:19091\");\n",
    "ec = subscription_socket.connect(public_endpoint);"
   ]
  },
  {
   "cell_type": "markdown",
   "metadata": {},
   "source": [
    "## 3) Add ZMQ Poller.\n",
    "\n",
    "* Updates can arrive at any time\n",
    "* `socket.receive()` is blocking, so poller first checks if updates are queued."
   ]
  },
  {
   "cell_type": "code",
   "execution_count": 7,
   "metadata": {},
   "outputs": [],
   "source": [
    "// Adding our socket to our poller. Multiple Sockets can be added to poller.\n",
    "bc::protocol::zmq::poller my_poller;\n",
    "my_poller.add(subscription_socket);\n",
    "\n",
    "// Polling for a specific socket requires the socket_id.\n",
    "bc::protocol::zmq::identifier subscription_socket_id =\n",
    "    subscription_socket.id();\n"
   ]
  },
  {
   "cell_type": "markdown",
   "metadata": {},
   "source": [
    "## 4) Set Time for Subscription Renewal Intervals."
   ]
  },
  {
   "cell_type": "code",
   "execution_count": 8,
   "metadata": {},
   "outputs": [],
   "source": [
    "std::chrono::steady_clock::time_point next_subscribe_time = \n",
    "    std::chrono::steady_clock::now();\n",
    "\n",
    "// Rewewal period (depends on server config)\n",
    "auto renewal_period = std::chrono::minutes(1);\n"
   ]
  },
  {
   "cell_type": "markdown",
   "metadata": {},
   "source": [
    "## 5) Renew Address Subscription and Poll for Address Updates.\n",
    "\n",
    "* Address subscription request message:\n",
    "    * `[-- \"subscribe.address\" --]`\n",
    "    * `[--- 4-byte message id ---]`\n",
    "    * `[----- public key hash ---]`\n",
    "<br><br>\n",
    "\n",
    "* Address subscription confirmation message:\n",
    "    * `[---- \"subscribe.address\" ---]`\n",
    "    * `[-- sent 4-byte message id --]`\n",
    "    * `[----- 4-byte error code ----]`\n",
    "<br><br>\n",
    "\n",
    "* Address update reply message:\n",
    "    * `[-------------------------- \"notification.address\" -------------------------]`\n",
    "    * `[--------------------------- sent 4-byte message id ------------------------]`\n",
    "    * `[-- 4-byte error code | 2-byte sequence | 4-byte height | 32-byte tx hash --]`\n",
    "<br><br>\n",
    "\n",
    "* Main loop accomplishes two objectives:\n",
    "    * **Sends subscription renewal** on regular intervals.\n",
    "    * **Polls socket for new address updates.**\n",
    "\n"
   ]
  },
  {
   "cell_type": "code",
   "execution_count": null,
   "metadata": {},
   "outputs": [
    {
     "name": "stdout",
     "output_type": "stream",
     "text": [
      "Subscription confirmed\n",
      "---------------\n",
      "Subscription confirmed\n",
      "---------------\n",
      "Subscription confirmed\n",
      "---------------\n",
      "Subscription confirmed\n",
      "---------------\n",
      "Subscription confirmed\n",
      "---------------\n",
      "Subscription confirmed\n",
      "---------------\n",
      "Subscription confirmed\n",
      "---------------\n",
      "Subscription confirmed\n",
      "---------------\n",
      "Subscription confirmed\n",
      "---------------\n",
      "Subscription confirmed\n",
      "---------------\n",
      "Subscription confirmed\n",
      "---------------\n"
     ]
    }
   ],
   "source": [
    "while (true)\n",
    "{\n",
    "\n",
    "\n",
    "    // Subscription Renewals.\n",
    "    //----------------------------------------------------------------------\n",
    "\n",
    "    std::chrono::steady_clock::time_point now_time\n",
    "        = std::chrono::steady_clock::now();\n",
    "\n",
    "    if (now_time >= next_subscribe_time)\n",
    "    {\n",
    "        // Subcription request message.\n",
    "        bc::protocol::zmq::message my_request;\n",
    "        std::string command = \"subscribe.address\";\n",
    "        uint32_t message_id(0);\n",
    "        my_request.enqueue(bc::to_chunk(command));\n",
    "        my_request.enqueue(bc::to_chunk(\n",
    "              bc::to_little_endian(message_id)));\n",
    "        my_request.enqueue(my_pubkey_hash);\n",
    "        \n",
    "        // Socket send: Success/Failure\n",
    "        if ((ec = my_request.send(subscription_socket)))\n",
    "            {\n",
    "            std::cout << ec.message() << std::endl;\n",
    "            return 1;\n",
    "            }\n",
    "\n",
    "        // Set subscription rewewal period\n",
    "        next_subscribe_time += renewal_period;\n",
    "        message_id++;\n",
    "    }\n",
    "\n",
    "\n",
    "    // Polling Sockets for Subscription Confirmation / Updates.\n",
    "    //----------------------------------------------------------------------\n",
    "\n",
    "    bc::protocol::zmq::identifiers socket_ids = my_poller.wait(2000);\n",
    "\n",
    "    if (socket_ids.contains(subscription_socket_id))\n",
    "    {\n",
    "\n",
    "       bc::protocol::zmq::message server_response;\n",
    "       server_response.receive(subscription_socket);\n",
    "\n",
    "       // Frame 0: Read the response command.\n",
    "       std::string response_command = server_response.dequeue_text();\n",
    "       // Frame 1: Read the message id (No checks implemented).\n",
    "       uint32_t my_message_id;\n",
    "       server_response.dequeue(my_message_id);\n",
    "       // Frame 2: Read the payload.\n",
    "       bc::data_chunk reply_payload;\n",
    "       server_response.dequeue(reply_payload);\n",
    "\n",
    "       // Payload[:4]: Read out error code\n",
    "       bc::data_source reply_byte_stream(reply_payload);\n",
    "       bc::istream_reader reply_byte_stream_reader(reply_byte_stream);\n",
    "       bc::code message_ec = reply_byte_stream_reader.read_error_code();\n",
    "\n",
    "       // Terminate if response message error.\n",
    "       if (message_ec != bc::error::success )\n",
    "           {\n",
    "           std::cout << \"Response Error\" << std::endl;\n",
    "           std::cout << message_ec.message() << std::endl;\n",
    "           return 1;\n",
    "           }\n",
    "\n",
    "       if(response_command == \"subscribe.address\")\n",
    "           {\n",
    "           // subscription confirmed\n",
    "           std::cout << \"Subscription confirmed\" << std::endl\n",
    "                     << \"---------------\" << std::endl;\n",
    "           }\n",
    "\n",
    "       // Parse Update for block height & transaction hash\n",
    "       //------------------------------------------------------------------\n",
    "\n",
    "       else if(response_command == \"notification.address\")\n",
    "       {\n",
    "\n",
    "           // Update notification sequence.\n",
    "           // Not implemented: Update sequence check.\n",
    "           uint16_t update_sequence =\n",
    "               reply_byte_stream_reader.read_2_bytes_little_endian();\n",
    "\n",
    "           // Blockheight.\n",
    "           uint32_t height =\n",
    "               reply_byte_stream_reader.read_4_bytes_little_endian();\n",
    "\n",
    "           // Transaction hash (little endian).\n",
    "           // We use istream reader to reverse byte order.\n",
    "           auto tx_hash_little_endian =\n",
    "               reply_byte_stream_reader.read_bytes();\n",
    "           bc::data_source tx_hash_byte_stream(tx_hash_little_endian);\n",
    "           bc::istream_reader tx_hash_stream_reader(tx_hash_byte_stream);\n",
    "\n",
    "           auto tx_hash =\n",
    "               tx_hash_stream_reader.read_reverse<bc::hash_size>();\n",
    "\n",
    "           std::cout\n",
    "               << \"Update received\" << std::endl\n",
    "               << \"Notification sequence: \"\n",
    "               << update_sequence << std::endl\n",
    "               << \"Block height: \"\n",
    "               << height << std::endl\n",
    "               << \"Transaction hash: \"\n",
    "               << bc::encode_base16(bc::to_chunk(tx_hash)) << std::endl\n",
    "               << \"---------------\" << std::endl;\n",
    "        }\n",
    "    }\n",
    "}"
   ]
  },
  {
   "cell_type": "markdown",
   "metadata": {},
   "source": [
    "## 6) Verify with Libbitcoin-Explorer."
   ]
  },
  {
   "cell_type": "code",
   "execution_count": null,
   "metadata": {},
   "outputs": [],
   "source": [
    "!bx watch-address mk7gLaQfT3kEuZ3fAo3SivRkPWYgkFDfjH"
   ]
  }
 ],
 "metadata": {
  "kernelspec": {
   "display_name": "C++11",
   "language": "C++11",
   "name": "xeus-cling-cpp11"
  },
  "language_info": {
   "codemirror_mode": "text/x-c++src",
   "file_extension": ".cpp",
   "mimetype": "text/x-c++src",
   "name": "c++",
   "version": "-std=c++11"
  }
 },
 "nbformat": 4,
 "nbformat_minor": 2
}
